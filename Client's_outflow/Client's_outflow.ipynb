{
 "cells": [
  {
   "cell_type": "markdown",
   "metadata": {
    "toc": true
   },
   "source": [
    "<h1>Содержание<span class=\"tocSkip\"></span></h1>\n",
    "<div class=\"toc\"><ul class=\"toc-item\"><li><span><a href=\"#Подготовка-данных\" data-toc-modified-id=\"Подготовка-данных-1\"><span class=\"toc-item-num\">1&nbsp;&nbsp;</span>Подготовка данных</a></span></li><li><span><a href=\"#Исследование-задачи\" data-toc-modified-id=\"Исследование-задачи-2\"><span class=\"toc-item-num\">2&nbsp;&nbsp;</span>Исследование задачи</a></span><ul class=\"toc-item\"><li><span><a href=\"#Дерево-решений\" data-toc-modified-id=\"Дерево-решений-2.1\"><span class=\"toc-item-num\">2.1&nbsp;&nbsp;</span>Дерево решений</a></span></li><li><span><a href=\"#Случайный-лес\" data-toc-modified-id=\"Случайный-лес-2.2\"><span class=\"toc-item-num\">2.2&nbsp;&nbsp;</span>Случайный лес</a></span></li><li><span><a href=\"#Логистическая-регрессия\" data-toc-modified-id=\"Логистическая-регрессия-2.3\"><span class=\"toc-item-num\">2.3&nbsp;&nbsp;</span>Логистическая регрессия</a></span></li></ul></li><li><span><a href=\"#Борьба-с-дисбалансом\" data-toc-modified-id=\"Борьба-с-дисбалансом-3\"><span class=\"toc-item-num\">3&nbsp;&nbsp;</span>Борьба с дисбалансом</a></span><ul class=\"toc-item\"><li><span><a href=\"#Взвешивание-классов\" data-toc-modified-id=\"Взвешивание-классов-3.1\"><span class=\"toc-item-num\">3.1&nbsp;&nbsp;</span>Взвешивание классов</a></span></li><li><span><a href=\"#Увеличение-выборки\" data-toc-modified-id=\"Увеличение-выборки-3.2\"><span class=\"toc-item-num\">3.2&nbsp;&nbsp;</span>Увеличение выборки</a></span><ul class=\"toc-item\"><li><span><a href=\"#Логистическая-регрессия\" data-toc-modified-id=\"Логистическая-регрессия-3.2.1\"><span class=\"toc-item-num\">3.2.1&nbsp;&nbsp;</span>Логистическая регрессия</a></span></li><li><span><a href=\"#Дерево-решений\" data-toc-modified-id=\"Дерево-решений-3.2.2\"><span class=\"toc-item-num\">3.2.2&nbsp;&nbsp;</span>Дерево решений</a></span></li><li><span><a href=\"#Случайный-лес\" data-toc-modified-id=\"Случайный-лес-3.2.3\"><span class=\"toc-item-num\">3.2.3&nbsp;&nbsp;</span>Случайный лес</a></span></li></ul></li><li><span><a href=\"#Уменьшение-выборки\" data-toc-modified-id=\"Уменьшение-выборки-3.3\"><span class=\"toc-item-num\">3.3&nbsp;&nbsp;</span>Уменьшение выборки</a></span><ul class=\"toc-item\"><li><span><a href=\"#Логистическая-регрессия\" data-toc-modified-id=\"Логистическая-регрессия-3.3.1\"><span class=\"toc-item-num\">3.3.1&nbsp;&nbsp;</span>Логистическая регрессия</a></span></li><li><span><a href=\"#Дерево-решений\" data-toc-modified-id=\"Дерево-решений-3.3.2\"><span class=\"toc-item-num\">3.3.2&nbsp;&nbsp;</span>Дерево решений</a></span></li><li><span><a href=\"#Случайный-лес\" data-toc-modified-id=\"Случайный-лес-3.3.3\"><span class=\"toc-item-num\">3.3.3&nbsp;&nbsp;</span>Случайный лес</a></span></li></ul></li></ul></li><li><span><a href=\"#Тестирование-модели\" data-toc-modified-id=\"Тестирование-модели-4\"><span class=\"toc-item-num\">4&nbsp;&nbsp;</span>Тестирование модели</a></span></li><li><span><a href=\"#Чек-лист-готовности-проекта\" data-toc-modified-id=\"Чек-лист-готовности-проекта-5\"><span class=\"toc-item-num\">5&nbsp;&nbsp;</span>Чек-лист готовности проекта</a></span></li></ul></div>"
   ]
  },
  {
   "cell_type": "markdown",
   "metadata": {},
   "source": [
    "# Отток клиентов"
   ]
  },
  {
   "cell_type": "markdown",
   "metadata": {},
   "source": [
    "Из Банка стали уходить клиенты. Каждый месяц. Немного, но заметно. Банковские маркетологи посчитали: сохранять текущих клиентов дешевле, чем привлекать новых.\n",
    "\n",
    "Нужно спрогнозировать, уйдёт клиент из банка в ближайшее время или нет. Вам предоставлены исторические данные о поведении клиентов и расторжении договоров с банком. \n",
    "\n",
    "Постройте модель с предельно большим значением *F1*-меры. Чтобы сдать проект успешно, нужно довести метрику до 0.59. Проверьте *F1*-меру на тестовой выборке самостоятельно.\n",
    "\n",
    "Дополнительно измеряйте *AUC-ROC*, сравнивайте её значение с *F1*-мерой.\n"
   ]
  },
  {
   "cell_type": "markdown",
   "metadata": {},
   "source": [
    "## Подготовка данных"
   ]
  },
  {
   "cell_type": "code",
   "execution_count": 1,
   "metadata": {},
   "outputs": [],
   "source": [
    "import pandas as pd # импорт библиотек\n",
    "import matplotlib.pyplot as plt\n",
    "from sklearn.model_selection import train_test_split\n",
    "from sklearn.preprocessing import OrdinalEncoder\n",
    "from sklearn.preprocessing import StandardScaler\n",
    "from sklearn.metrics import confusion_matrix\n",
    "from sklearn.metrics import accuracy_score\n",
    "from sklearn.metrics import precision_score\n",
    "from sklearn.metrics import recall_score\n",
    "from sklearn.metrics import f1_score\n",
    "from sklearn.metrics import roc_curve\n",
    "from sklearn.metrics import roc_auc_score\n",
    "from sklearn.utils import shuffle\n",
    "from sklearn.tree import DecisionTreeClassifier\n",
    "from sklearn.ensemble import RandomForestClassifier\n",
    "from sklearn.linear_model import LogisticRegression"
   ]
  },
  {
   "cell_type": "code",
   "execution_count": 2,
   "metadata": {},
   "outputs": [],
   "source": [
    "try:    \n",
    "    data = pd.read_csv('/datasets/Churn.csv') # присвоим имя файлу\n",
    "except:\n",
    "    data = pd.read_csv('C:/Users/Елена/Downloads/Churn.csv')"
   ]
  },
  {
   "cell_type": "code",
   "execution_count": 3,
   "metadata": {},
   "outputs": [
    {
     "data": {
      "text/plain": [
       "(10000, 14)"
      ]
     },
     "execution_count": 3,
     "metadata": {},
     "output_type": "execute_result"
    }
   ],
   "source": [
    "data.shape # посмотрим его размер"
   ]
  },
  {
   "cell_type": "code",
   "execution_count": 4,
   "metadata": {
    "scrolled": false
   },
   "outputs": [
    {
     "name": "stdout",
     "output_type": "stream",
     "text": [
      "<class 'pandas.core.frame.DataFrame'>\n",
      "RangeIndex: 10000 entries, 0 to 9999\n",
      "Data columns (total 14 columns):\n",
      " #   Column           Non-Null Count  Dtype  \n",
      "---  ------           --------------  -----  \n",
      " 0   RowNumber        10000 non-null  int64  \n",
      " 1   CustomerId       10000 non-null  int64  \n",
      " 2   Surname          10000 non-null  object \n",
      " 3   CreditScore      10000 non-null  int64  \n",
      " 4   Geography        10000 non-null  object \n",
      " 5   Gender           10000 non-null  object \n",
      " 6   Age              10000 non-null  int64  \n",
      " 7   Tenure           9091 non-null   float64\n",
      " 8   Balance          10000 non-null  float64\n",
      " 9   NumOfProducts    10000 non-null  int64  \n",
      " 10  HasCrCard        10000 non-null  int64  \n",
      " 11  IsActiveMember   10000 non-null  int64  \n",
      " 12  EstimatedSalary  10000 non-null  float64\n",
      " 13  Exited           10000 non-null  int64  \n",
      "dtypes: float64(3), int64(8), object(3)\n",
      "memory usage: 1.1+ MB\n"
     ]
    }
   ],
   "source": [
    "data.info() # изучим информацию о содержимом в файле"
   ]
  },
  {
   "cell_type": "code",
   "execution_count": 5,
   "metadata": {
    "scrolled": true
   },
   "outputs": [
    {
     "data": {
      "text/html": [
       "<div>\n",
       "<style scoped>\n",
       "    .dataframe tbody tr th:only-of-type {\n",
       "        vertical-align: middle;\n",
       "    }\n",
       "\n",
       "    .dataframe tbody tr th {\n",
       "        vertical-align: top;\n",
       "    }\n",
       "\n",
       "    .dataframe thead th {\n",
       "        text-align: right;\n",
       "    }\n",
       "</style>\n",
       "<table border=\"1\" class=\"dataframe\">\n",
       "  <thead>\n",
       "    <tr style=\"text-align: right;\">\n",
       "      <th></th>\n",
       "      <th>RowNumber</th>\n",
       "      <th>CustomerId</th>\n",
       "      <th>Surname</th>\n",
       "      <th>CreditScore</th>\n",
       "      <th>Geography</th>\n",
       "      <th>Gender</th>\n",
       "      <th>Age</th>\n",
       "      <th>Tenure</th>\n",
       "      <th>Balance</th>\n",
       "      <th>NumOfProducts</th>\n",
       "      <th>HasCrCard</th>\n",
       "      <th>IsActiveMember</th>\n",
       "      <th>EstimatedSalary</th>\n",
       "      <th>Exited</th>\n",
       "    </tr>\n",
       "  </thead>\n",
       "  <tbody>\n",
       "    <tr>\n",
       "      <th>0</th>\n",
       "      <td>1</td>\n",
       "      <td>15634602</td>\n",
       "      <td>Hargrave</td>\n",
       "      <td>619</td>\n",
       "      <td>France</td>\n",
       "      <td>Female</td>\n",
       "      <td>42</td>\n",
       "      <td>2.0</td>\n",
       "      <td>0.00</td>\n",
       "      <td>1</td>\n",
       "      <td>1</td>\n",
       "      <td>1</td>\n",
       "      <td>101348.88</td>\n",
       "      <td>1</td>\n",
       "    </tr>\n",
       "    <tr>\n",
       "      <th>1</th>\n",
       "      <td>2</td>\n",
       "      <td>15647311</td>\n",
       "      <td>Hill</td>\n",
       "      <td>608</td>\n",
       "      <td>Spain</td>\n",
       "      <td>Female</td>\n",
       "      <td>41</td>\n",
       "      <td>1.0</td>\n",
       "      <td>83807.86</td>\n",
       "      <td>1</td>\n",
       "      <td>0</td>\n",
       "      <td>1</td>\n",
       "      <td>112542.58</td>\n",
       "      <td>0</td>\n",
       "    </tr>\n",
       "    <tr>\n",
       "      <th>2</th>\n",
       "      <td>3</td>\n",
       "      <td>15619304</td>\n",
       "      <td>Onio</td>\n",
       "      <td>502</td>\n",
       "      <td>France</td>\n",
       "      <td>Female</td>\n",
       "      <td>42</td>\n",
       "      <td>8.0</td>\n",
       "      <td>159660.80</td>\n",
       "      <td>3</td>\n",
       "      <td>1</td>\n",
       "      <td>0</td>\n",
       "      <td>113931.57</td>\n",
       "      <td>1</td>\n",
       "    </tr>\n",
       "    <tr>\n",
       "      <th>3</th>\n",
       "      <td>4</td>\n",
       "      <td>15701354</td>\n",
       "      <td>Boni</td>\n",
       "      <td>699</td>\n",
       "      <td>France</td>\n",
       "      <td>Female</td>\n",
       "      <td>39</td>\n",
       "      <td>1.0</td>\n",
       "      <td>0.00</td>\n",
       "      <td>2</td>\n",
       "      <td>0</td>\n",
       "      <td>0</td>\n",
       "      <td>93826.63</td>\n",
       "      <td>0</td>\n",
       "    </tr>\n",
       "    <tr>\n",
       "      <th>4</th>\n",
       "      <td>5</td>\n",
       "      <td>15737888</td>\n",
       "      <td>Mitchell</td>\n",
       "      <td>850</td>\n",
       "      <td>Spain</td>\n",
       "      <td>Female</td>\n",
       "      <td>43</td>\n",
       "      <td>2.0</td>\n",
       "      <td>125510.82</td>\n",
       "      <td>1</td>\n",
       "      <td>1</td>\n",
       "      <td>1</td>\n",
       "      <td>79084.10</td>\n",
       "      <td>0</td>\n",
       "    </tr>\n",
       "  </tbody>\n",
       "</table>\n",
       "</div>"
      ],
      "text/plain": [
       "   RowNumber  CustomerId   Surname  CreditScore Geography  Gender  Age  \\\n",
       "0          1    15634602  Hargrave          619    France  Female   42   \n",
       "1          2    15647311      Hill          608     Spain  Female   41   \n",
       "2          3    15619304      Onio          502    France  Female   42   \n",
       "3          4    15701354      Boni          699    France  Female   39   \n",
       "4          5    15737888  Mitchell          850     Spain  Female   43   \n",
       "\n",
       "   Tenure    Balance  NumOfProducts  HasCrCard  IsActiveMember  \\\n",
       "0     2.0       0.00              1          1               1   \n",
       "1     1.0   83807.86              1          0               1   \n",
       "2     8.0  159660.80              3          1               0   \n",
       "3     1.0       0.00              2          0               0   \n",
       "4     2.0  125510.82              1          1               1   \n",
       "\n",
       "   EstimatedSalary  Exited  \n",
       "0        101348.88       1  \n",
       "1        112542.58       0  \n",
       "2        113931.57       1  \n",
       "3         93826.63       0  \n",
       "4         79084.10       0  "
      ]
     },
     "execution_count": 5,
     "metadata": {},
     "output_type": "execute_result"
    }
   ],
   "source": [
    "data.head() # изучим первые пять строк файла"
   ]
  },
  {
   "cell_type": "markdown",
   "metadata": {},
   "source": [
    "Мы видим, что у нас пропуски в одном столбце с информацией по количеству лет, сколько человек является клиентом банка. Их надо будет заполнить, пропуски будут мешать нашей модели обучаться. Также есть столбцы с типом object, что будет мешать в последующем обучать модель. И еще нам для обучения вряд ли понадобятся фамилии и id клиентов, поэтому смело их удалим."
   ]
  },
  {
   "cell_type": "code",
   "execution_count": 6,
   "metadata": {},
   "outputs": [],
   "source": [
    "data = data.drop(['Surname','CustomerId'], axis=1)"
   ]
  },
  {
   "cell_type": "code",
   "execution_count": 7,
   "metadata": {},
   "outputs": [],
   "source": [
    "data = data.drop(['RowNumber'], axis=1)"
   ]
  },
  {
   "cell_type": "code",
   "execution_count": 8,
   "metadata": {
    "scrolled": false
   },
   "outputs": [
    {
     "data": {
      "text/html": [
       "<div>\n",
       "<style scoped>\n",
       "    .dataframe tbody tr th:only-of-type {\n",
       "        vertical-align: middle;\n",
       "    }\n",
       "\n",
       "    .dataframe tbody tr th {\n",
       "        vertical-align: top;\n",
       "    }\n",
       "\n",
       "    .dataframe thead th {\n",
       "        text-align: right;\n",
       "    }\n",
       "</style>\n",
       "<table border=\"1\" class=\"dataframe\">\n",
       "  <thead>\n",
       "    <tr style=\"text-align: right;\">\n",
       "      <th></th>\n",
       "      <th>CreditScore</th>\n",
       "      <th>Geography</th>\n",
       "      <th>Gender</th>\n",
       "      <th>Age</th>\n",
       "      <th>Tenure</th>\n",
       "      <th>Balance</th>\n",
       "      <th>NumOfProducts</th>\n",
       "      <th>HasCrCard</th>\n",
       "      <th>IsActiveMember</th>\n",
       "      <th>EstimatedSalary</th>\n",
       "      <th>Exited</th>\n",
       "    </tr>\n",
       "  </thead>\n",
       "  <tbody>\n",
       "    <tr>\n",
       "      <th>0</th>\n",
       "      <td>619</td>\n",
       "      <td>France</td>\n",
       "      <td>Female</td>\n",
       "      <td>42</td>\n",
       "      <td>2.0</td>\n",
       "      <td>0.00</td>\n",
       "      <td>1</td>\n",
       "      <td>1</td>\n",
       "      <td>1</td>\n",
       "      <td>101348.88</td>\n",
       "      <td>1</td>\n",
       "    </tr>\n",
       "    <tr>\n",
       "      <th>1</th>\n",
       "      <td>608</td>\n",
       "      <td>Spain</td>\n",
       "      <td>Female</td>\n",
       "      <td>41</td>\n",
       "      <td>1.0</td>\n",
       "      <td>83807.86</td>\n",
       "      <td>1</td>\n",
       "      <td>0</td>\n",
       "      <td>1</td>\n",
       "      <td>112542.58</td>\n",
       "      <td>0</td>\n",
       "    </tr>\n",
       "    <tr>\n",
       "      <th>2</th>\n",
       "      <td>502</td>\n",
       "      <td>France</td>\n",
       "      <td>Female</td>\n",
       "      <td>42</td>\n",
       "      <td>8.0</td>\n",
       "      <td>159660.80</td>\n",
       "      <td>3</td>\n",
       "      <td>1</td>\n",
       "      <td>0</td>\n",
       "      <td>113931.57</td>\n",
       "      <td>1</td>\n",
       "    </tr>\n",
       "    <tr>\n",
       "      <th>3</th>\n",
       "      <td>699</td>\n",
       "      <td>France</td>\n",
       "      <td>Female</td>\n",
       "      <td>39</td>\n",
       "      <td>1.0</td>\n",
       "      <td>0.00</td>\n",
       "      <td>2</td>\n",
       "      <td>0</td>\n",
       "      <td>0</td>\n",
       "      <td>93826.63</td>\n",
       "      <td>0</td>\n",
       "    </tr>\n",
       "    <tr>\n",
       "      <th>4</th>\n",
       "      <td>850</td>\n",
       "      <td>Spain</td>\n",
       "      <td>Female</td>\n",
       "      <td>43</td>\n",
       "      <td>2.0</td>\n",
       "      <td>125510.82</td>\n",
       "      <td>1</td>\n",
       "      <td>1</td>\n",
       "      <td>1</td>\n",
       "      <td>79084.10</td>\n",
       "      <td>0</td>\n",
       "    </tr>\n",
       "  </tbody>\n",
       "</table>\n",
       "</div>"
      ],
      "text/plain": [
       "   CreditScore Geography  Gender  Age  Tenure    Balance  NumOfProducts  \\\n",
       "0          619    France  Female   42     2.0       0.00              1   \n",
       "1          608     Spain  Female   41     1.0   83807.86              1   \n",
       "2          502    France  Female   42     8.0  159660.80              3   \n",
       "3          699    France  Female   39     1.0       0.00              2   \n",
       "4          850     Spain  Female   43     2.0  125510.82              1   \n",
       "\n",
       "   HasCrCard  IsActiveMember  EstimatedSalary  Exited  \n",
       "0          1               1        101348.88       1  \n",
       "1          0               1        112542.58       0  \n",
       "2          1               0        113931.57       1  \n",
       "3          0               0         93826.63       0  \n",
       "4          1               1         79084.10       0  "
      ]
     },
     "execution_count": 8,
     "metadata": {},
     "output_type": "execute_result"
    }
   ],
   "source": [
    "data.head()"
   ]
  },
  {
   "cell_type": "code",
   "execution_count": 9,
   "metadata": {
    "scrolled": true
   },
   "outputs": [
    {
     "data": {
      "text/html": [
       "<div>\n",
       "<style scoped>\n",
       "    .dataframe tbody tr th:only-of-type {\n",
       "        vertical-align: middle;\n",
       "    }\n",
       "\n",
       "    .dataframe tbody tr th {\n",
       "        vertical-align: top;\n",
       "    }\n",
       "\n",
       "    .dataframe thead th {\n",
       "        text-align: right;\n",
       "    }\n",
       "</style>\n",
       "<table border=\"1\" class=\"dataframe\">\n",
       "  <thead>\n",
       "    <tr style=\"text-align: right;\">\n",
       "      <th></th>\n",
       "      <th>CreditScore</th>\n",
       "      <th>Geography</th>\n",
       "      <th>Gender</th>\n",
       "      <th>Age</th>\n",
       "      <th>Tenure</th>\n",
       "      <th>Balance</th>\n",
       "      <th>NumOfProducts</th>\n",
       "      <th>HasCrCard</th>\n",
       "      <th>IsActiveMember</th>\n",
       "      <th>EstimatedSalary</th>\n",
       "      <th>Exited</th>\n",
       "    </tr>\n",
       "  </thead>\n",
       "  <tbody>\n",
       "    <tr>\n",
       "      <th>30</th>\n",
       "      <td>591</td>\n",
       "      <td>Spain</td>\n",
       "      <td>Female</td>\n",
       "      <td>39</td>\n",
       "      <td>NaN</td>\n",
       "      <td>0.00</td>\n",
       "      <td>3</td>\n",
       "      <td>1</td>\n",
       "      <td>0</td>\n",
       "      <td>140469.38</td>\n",
       "      <td>1</td>\n",
       "    </tr>\n",
       "    <tr>\n",
       "      <th>48</th>\n",
       "      <td>550</td>\n",
       "      <td>Germany</td>\n",
       "      <td>Male</td>\n",
       "      <td>38</td>\n",
       "      <td>NaN</td>\n",
       "      <td>103391.38</td>\n",
       "      <td>1</td>\n",
       "      <td>0</td>\n",
       "      <td>1</td>\n",
       "      <td>90878.13</td>\n",
       "      <td>0</td>\n",
       "    </tr>\n",
       "    <tr>\n",
       "      <th>51</th>\n",
       "      <td>585</td>\n",
       "      <td>Germany</td>\n",
       "      <td>Male</td>\n",
       "      <td>36</td>\n",
       "      <td>NaN</td>\n",
       "      <td>146050.97</td>\n",
       "      <td>2</td>\n",
       "      <td>0</td>\n",
       "      <td>0</td>\n",
       "      <td>86424.57</td>\n",
       "      <td>0</td>\n",
       "    </tr>\n",
       "    <tr>\n",
       "      <th>53</th>\n",
       "      <td>655</td>\n",
       "      <td>Germany</td>\n",
       "      <td>Male</td>\n",
       "      <td>41</td>\n",
       "      <td>NaN</td>\n",
       "      <td>125561.97</td>\n",
       "      <td>1</td>\n",
       "      <td>0</td>\n",
       "      <td>0</td>\n",
       "      <td>164040.94</td>\n",
       "      <td>1</td>\n",
       "    </tr>\n",
       "    <tr>\n",
       "      <th>60</th>\n",
       "      <td>742</td>\n",
       "      <td>Germany</td>\n",
       "      <td>Male</td>\n",
       "      <td>35</td>\n",
       "      <td>NaN</td>\n",
       "      <td>136857.00</td>\n",
       "      <td>1</td>\n",
       "      <td>0</td>\n",
       "      <td>0</td>\n",
       "      <td>84509.57</td>\n",
       "      <td>0</td>\n",
       "    </tr>\n",
       "    <tr>\n",
       "      <th>...</th>\n",
       "      <td>...</td>\n",
       "      <td>...</td>\n",
       "      <td>...</td>\n",
       "      <td>...</td>\n",
       "      <td>...</td>\n",
       "      <td>...</td>\n",
       "      <td>...</td>\n",
       "      <td>...</td>\n",
       "      <td>...</td>\n",
       "      <td>...</td>\n",
       "      <td>...</td>\n",
       "    </tr>\n",
       "    <tr>\n",
       "      <th>9944</th>\n",
       "      <td>744</td>\n",
       "      <td>Germany</td>\n",
       "      <td>Male</td>\n",
       "      <td>41</td>\n",
       "      <td>NaN</td>\n",
       "      <td>190409.34</td>\n",
       "      <td>2</td>\n",
       "      <td>1</td>\n",
       "      <td>1</td>\n",
       "      <td>138361.48</td>\n",
       "      <td>0</td>\n",
       "    </tr>\n",
       "    <tr>\n",
       "      <th>9956</th>\n",
       "      <td>520</td>\n",
       "      <td>France</td>\n",
       "      <td>Female</td>\n",
       "      <td>46</td>\n",
       "      <td>NaN</td>\n",
       "      <td>85216.61</td>\n",
       "      <td>1</td>\n",
       "      <td>1</td>\n",
       "      <td>0</td>\n",
       "      <td>117369.52</td>\n",
       "      <td>1</td>\n",
       "    </tr>\n",
       "    <tr>\n",
       "      <th>9964</th>\n",
       "      <td>479</td>\n",
       "      <td>France</td>\n",
       "      <td>Male</td>\n",
       "      <td>34</td>\n",
       "      <td>NaN</td>\n",
       "      <td>117593.48</td>\n",
       "      <td>2</td>\n",
       "      <td>0</td>\n",
       "      <td>0</td>\n",
       "      <td>113308.29</td>\n",
       "      <td>0</td>\n",
       "    </tr>\n",
       "    <tr>\n",
       "      <th>9985</th>\n",
       "      <td>659</td>\n",
       "      <td>France</td>\n",
       "      <td>Male</td>\n",
       "      <td>36</td>\n",
       "      <td>NaN</td>\n",
       "      <td>123841.49</td>\n",
       "      <td>2</td>\n",
       "      <td>1</td>\n",
       "      <td>0</td>\n",
       "      <td>96833.00</td>\n",
       "      <td>0</td>\n",
       "    </tr>\n",
       "    <tr>\n",
       "      <th>9999</th>\n",
       "      <td>792</td>\n",
       "      <td>France</td>\n",
       "      <td>Female</td>\n",
       "      <td>28</td>\n",
       "      <td>NaN</td>\n",
       "      <td>130142.79</td>\n",
       "      <td>1</td>\n",
       "      <td>1</td>\n",
       "      <td>0</td>\n",
       "      <td>38190.78</td>\n",
       "      <td>0</td>\n",
       "    </tr>\n",
       "  </tbody>\n",
       "</table>\n",
       "<p>909 rows × 11 columns</p>\n",
       "</div>"
      ],
      "text/plain": [
       "      CreditScore Geography  Gender  Age  Tenure    Balance  NumOfProducts  \\\n",
       "30            591     Spain  Female   39     NaN       0.00              3   \n",
       "48            550   Germany    Male   38     NaN  103391.38              1   \n",
       "51            585   Germany    Male   36     NaN  146050.97              2   \n",
       "53            655   Germany    Male   41     NaN  125561.97              1   \n",
       "60            742   Germany    Male   35     NaN  136857.00              1   \n",
       "...           ...       ...     ...  ...     ...        ...            ...   \n",
       "9944          744   Germany    Male   41     NaN  190409.34              2   \n",
       "9956          520    France  Female   46     NaN   85216.61              1   \n",
       "9964          479    France    Male   34     NaN  117593.48              2   \n",
       "9985          659    France    Male   36     NaN  123841.49              2   \n",
       "9999          792    France  Female   28     NaN  130142.79              1   \n",
       "\n",
       "      HasCrCard  IsActiveMember  EstimatedSalary  Exited  \n",
       "30            1               0        140469.38       1  \n",
       "48            0               1         90878.13       0  \n",
       "51            0               0         86424.57       0  \n",
       "53            0               0        164040.94       1  \n",
       "60            0               0         84509.57       0  \n",
       "...         ...             ...              ...     ...  \n",
       "9944          1               1        138361.48       0  \n",
       "9956          1               0        117369.52       1  \n",
       "9964          0               0        113308.29       0  \n",
       "9985          1               0         96833.00       0  \n",
       "9999          1               0         38190.78       0  \n",
       "\n",
       "[909 rows x 11 columns]"
      ]
     },
     "execution_count": 9,
     "metadata": {},
     "output_type": "execute_result"
    }
   ],
   "source": [
    "data.loc[data['Tenure'].isnull()] \n",
    "# посмотрим на строки с пропущенным значением в столбце Tenure"
   ]
  },
  {
   "cell_type": "code",
   "execution_count": 10,
   "metadata": {
    "scrolled": true
   },
   "outputs": [],
   "source": [
    "data['Tenure'] = data['Tenure'].fillna(data['Tenure'].median()) # заполним пропуски медианой"
   ]
  },
  {
   "cell_type": "code",
   "execution_count": 11,
   "metadata": {
    "scrolled": true
   },
   "outputs": [
    {
     "data": {
      "text/plain": [
       "0"
      ]
     },
     "execution_count": 11,
     "metadata": {},
     "output_type": "execute_result"
    }
   ],
   "source": [
    "data['Tenure'].isnull().sum() # проверка"
   ]
  },
  {
   "cell_type": "code",
   "execution_count": 12,
   "metadata": {},
   "outputs": [],
   "source": [
    "data = pd.get_dummies(data, drop_first=True) # убираем категориальные значения"
   ]
  },
  {
   "cell_type": "code",
   "execution_count": 13,
   "metadata": {
    "scrolled": false
   },
   "outputs": [
    {
     "data": {
      "text/html": [
       "<div>\n",
       "<style scoped>\n",
       "    .dataframe tbody tr th:only-of-type {\n",
       "        vertical-align: middle;\n",
       "    }\n",
       "\n",
       "    .dataframe tbody tr th {\n",
       "        vertical-align: top;\n",
       "    }\n",
       "\n",
       "    .dataframe thead th {\n",
       "        text-align: right;\n",
       "    }\n",
       "</style>\n",
       "<table border=\"1\" class=\"dataframe\">\n",
       "  <thead>\n",
       "    <tr style=\"text-align: right;\">\n",
       "      <th></th>\n",
       "      <th>CreditScore</th>\n",
       "      <th>Age</th>\n",
       "      <th>Tenure</th>\n",
       "      <th>Balance</th>\n",
       "      <th>NumOfProducts</th>\n",
       "      <th>HasCrCard</th>\n",
       "      <th>IsActiveMember</th>\n",
       "      <th>EstimatedSalary</th>\n",
       "      <th>Exited</th>\n",
       "      <th>Geography_Germany</th>\n",
       "      <th>Geography_Spain</th>\n",
       "      <th>Gender_Male</th>\n",
       "    </tr>\n",
       "  </thead>\n",
       "  <tbody>\n",
       "    <tr>\n",
       "      <th>0</th>\n",
       "      <td>619</td>\n",
       "      <td>42</td>\n",
       "      <td>2.0</td>\n",
       "      <td>0.00</td>\n",
       "      <td>1</td>\n",
       "      <td>1</td>\n",
       "      <td>1</td>\n",
       "      <td>101348.88</td>\n",
       "      <td>1</td>\n",
       "      <td>0</td>\n",
       "      <td>0</td>\n",
       "      <td>0</td>\n",
       "    </tr>\n",
       "    <tr>\n",
       "      <th>1</th>\n",
       "      <td>608</td>\n",
       "      <td>41</td>\n",
       "      <td>1.0</td>\n",
       "      <td>83807.86</td>\n",
       "      <td>1</td>\n",
       "      <td>0</td>\n",
       "      <td>1</td>\n",
       "      <td>112542.58</td>\n",
       "      <td>0</td>\n",
       "      <td>0</td>\n",
       "      <td>1</td>\n",
       "      <td>0</td>\n",
       "    </tr>\n",
       "    <tr>\n",
       "      <th>2</th>\n",
       "      <td>502</td>\n",
       "      <td>42</td>\n",
       "      <td>8.0</td>\n",
       "      <td>159660.80</td>\n",
       "      <td>3</td>\n",
       "      <td>1</td>\n",
       "      <td>0</td>\n",
       "      <td>113931.57</td>\n",
       "      <td>1</td>\n",
       "      <td>0</td>\n",
       "      <td>0</td>\n",
       "      <td>0</td>\n",
       "    </tr>\n",
       "    <tr>\n",
       "      <th>3</th>\n",
       "      <td>699</td>\n",
       "      <td>39</td>\n",
       "      <td>1.0</td>\n",
       "      <td>0.00</td>\n",
       "      <td>2</td>\n",
       "      <td>0</td>\n",
       "      <td>0</td>\n",
       "      <td>93826.63</td>\n",
       "      <td>0</td>\n",
       "      <td>0</td>\n",
       "      <td>0</td>\n",
       "      <td>0</td>\n",
       "    </tr>\n",
       "    <tr>\n",
       "      <th>4</th>\n",
       "      <td>850</td>\n",
       "      <td>43</td>\n",
       "      <td>2.0</td>\n",
       "      <td>125510.82</td>\n",
       "      <td>1</td>\n",
       "      <td>1</td>\n",
       "      <td>1</td>\n",
       "      <td>79084.10</td>\n",
       "      <td>0</td>\n",
       "      <td>0</td>\n",
       "      <td>1</td>\n",
       "      <td>0</td>\n",
       "    </tr>\n",
       "  </tbody>\n",
       "</table>\n",
       "</div>"
      ],
      "text/plain": [
       "   CreditScore  Age  Tenure    Balance  NumOfProducts  HasCrCard  \\\n",
       "0          619   42     2.0       0.00              1          1   \n",
       "1          608   41     1.0   83807.86              1          0   \n",
       "2          502   42     8.0  159660.80              3          1   \n",
       "3          699   39     1.0       0.00              2          0   \n",
       "4          850   43     2.0  125510.82              1          1   \n",
       "\n",
       "   IsActiveMember  EstimatedSalary  Exited  Geography_Germany  \\\n",
       "0               1        101348.88       1                  0   \n",
       "1               1        112542.58       0                  0   \n",
       "2               0        113931.57       1                  0   \n",
       "3               0         93826.63       0                  0   \n",
       "4               1         79084.10       0                  0   \n",
       "\n",
       "   Geography_Spain  Gender_Male  \n",
       "0                0            0  \n",
       "1                1            0  \n",
       "2                0            0  \n",
       "3                0            0  \n",
       "4                1            0  "
      ]
     },
     "execution_count": 13,
     "metadata": {},
     "output_type": "execute_result"
    }
   ],
   "source": [
    "data.head()"
   ]
  },
  {
   "cell_type": "code",
   "execution_count": 14,
   "metadata": {},
   "outputs": [],
   "source": [
    "features=data.drop('Exited', axis=1) # отбираем признаки и целевой признак\n",
    "target=data['Exited']"
   ]
  },
  {
   "cell_type": "code",
   "execution_count": 15,
   "metadata": {},
   "outputs": [],
   "source": [
    "features_train, features_valid, target_train, target_valid = train_test_split(features, target, test_size=0.20,random_state=45678)\n",
    "# делим признаки на обучающую и валидационную выборки"
   ]
  },
  {
   "cell_type": "code",
   "execution_count": 16,
   "metadata": {},
   "outputs": [],
   "source": [
    "features_train, features_test, target_train, target_test = train_test_split(features_train, target_train, test_size=0.25, random_state=45678)"
   ]
  },
  {
   "cell_type": "code",
   "execution_count": 17,
   "metadata": {},
   "outputs": [
    {
     "data": {
      "text/plain": [
       "((6000, 11), (6000,), (2000, 11), (2000,), (2000, 11), (2000,))"
      ]
     },
     "execution_count": 17,
     "metadata": {},
     "output_type": "execute_result"
    }
   ],
   "source": [
    "features_train.shape, target_train.shape, features_valid.shape, target_valid.shape, features_test.shape, target_test.shape\n",
    "# проверяем объемы"
   ]
  },
  {
   "cell_type": "markdown",
   "metadata": {},
   "source": [
    "Далее проведем масштабирование признаков, тк в данных очень большой разброс."
   ]
  },
  {
   "cell_type": "code",
   "execution_count": 18,
   "metadata": {},
   "outputs": [],
   "source": [
    "numeric = ['CreditScore','Age','Tenure','Balance','NumOfProducts','EstimatedSalary']\n",
    "# отбор названий колонок, которые будем масшабировать"
   ]
  },
  {
   "cell_type": "code",
   "execution_count": 19,
   "metadata": {},
   "outputs": [
    {
     "data": {
      "text/plain": [
       "StandardScaler()"
      ]
     },
     "execution_count": 19,
     "metadata": {},
     "output_type": "execute_result"
    }
   ],
   "source": [
    "scaler = StandardScaler() # стандартизируем признаки\n",
    "scaler.fit(features_train[numeric])"
   ]
  },
  {
   "cell_type": "code",
   "execution_count": 20,
   "metadata": {
    "scrolled": true
   },
   "outputs": [
    {
     "name": "stderr",
     "output_type": "stream",
     "text": [
      "C:\\ProgramData\\Anaconda3\\lib\\site-packages\\pandas\\core\\frame.py:3678: SettingWithCopyWarning: \n",
      "A value is trying to be set on a copy of a slice from a DataFrame.\n",
      "Try using .loc[row_indexer,col_indexer] = value instead\n",
      "\n",
      "See the caveats in the documentation: https://pandas.pydata.org/pandas-docs/stable/user_guide/indexing.html#returning-a-view-versus-a-copy\n",
      "  self[col] = igetitem(value, i)\n"
     ]
    }
   ],
   "source": [
    "features_train[numeric] = scaler.transform(features_train[numeric]) \n",
    "features_valid[numeric] = scaler.transform(features_valid[numeric])\n",
    "features_test[numeric] = scaler.transform(features_test[numeric])\n",
    "# стандартизируем признаки"
   ]
  },
  {
   "cell_type": "code",
   "execution_count": 21,
   "metadata": {
    "scrolled": true
   },
   "outputs": [
    {
     "data": {
      "text/html": [
       "<div>\n",
       "<style scoped>\n",
       "    .dataframe tbody tr th:only-of-type {\n",
       "        vertical-align: middle;\n",
       "    }\n",
       "\n",
       "    .dataframe tbody tr th {\n",
       "        vertical-align: top;\n",
       "    }\n",
       "\n",
       "    .dataframe thead th {\n",
       "        text-align: right;\n",
       "    }\n",
       "</style>\n",
       "<table border=\"1\" class=\"dataframe\">\n",
       "  <thead>\n",
       "    <tr style=\"text-align: right;\">\n",
       "      <th></th>\n",
       "      <th>CreditScore</th>\n",
       "      <th>Age</th>\n",
       "      <th>Tenure</th>\n",
       "      <th>Balance</th>\n",
       "      <th>NumOfProducts</th>\n",
       "      <th>HasCrCard</th>\n",
       "      <th>IsActiveMember</th>\n",
       "      <th>EstimatedSalary</th>\n",
       "      <th>Geography_Germany</th>\n",
       "      <th>Geography_Spain</th>\n",
       "      <th>Gender_Male</th>\n",
       "    </tr>\n",
       "  </thead>\n",
       "  <tbody>\n",
       "    <tr>\n",
       "      <th>4201</th>\n",
       "      <td>0.178886</td>\n",
       "      <td>0.684203</td>\n",
       "      <td>0.720568</td>\n",
       "      <td>1.357953</td>\n",
       "      <td>-0.901212</td>\n",
       "      <td>1</td>\n",
       "      <td>1</td>\n",
       "      <td>1.270953</td>\n",
       "      <td>1</td>\n",
       "      <td>0</td>\n",
       "      <td>0</td>\n",
       "    </tr>\n",
       "    <tr>\n",
       "      <th>2385</th>\n",
       "      <td>-0.285735</td>\n",
       "      <td>-1.140680</td>\n",
       "      <td>-0.364716</td>\n",
       "      <td>0.696972</td>\n",
       "      <td>-0.901212</td>\n",
       "      <td>0</td>\n",
       "      <td>0</td>\n",
       "      <td>0.733900</td>\n",
       "      <td>0</td>\n",
       "      <td>0</td>\n",
       "      <td>1</td>\n",
       "    </tr>\n",
       "    <tr>\n",
       "      <th>276</th>\n",
       "      <td>1.087477</td>\n",
       "      <td>2.220946</td>\n",
       "      <td>-0.726477</td>\n",
       "      <td>-1.231887</td>\n",
       "      <td>-0.901212</td>\n",
       "      <td>1</td>\n",
       "      <td>1</td>\n",
       "      <td>-1.543775</td>\n",
       "      <td>0</td>\n",
       "      <td>0</td>\n",
       "      <td>1</td>\n",
       "    </tr>\n",
       "    <tr>\n",
       "      <th>3848</th>\n",
       "      <td>-0.936204</td>\n",
       "      <td>0.203971</td>\n",
       "      <td>-0.364716</td>\n",
       "      <td>1.209518</td>\n",
       "      <td>-0.901212</td>\n",
       "      <td>0</td>\n",
       "      <td>0</td>\n",
       "      <td>-1.551068</td>\n",
       "      <td>1</td>\n",
       "      <td>0</td>\n",
       "      <td>1</td>\n",
       "    </tr>\n",
       "    <tr>\n",
       "      <th>9184</th>\n",
       "      <td>0.457658</td>\n",
       "      <td>1.644667</td>\n",
       "      <td>-0.364716</td>\n",
       "      <td>-1.231887</td>\n",
       "      <td>0.812119</td>\n",
       "      <td>1</td>\n",
       "      <td>0</td>\n",
       "      <td>-0.266508</td>\n",
       "      <td>0</td>\n",
       "      <td>1</td>\n",
       "      <td>0</td>\n",
       "    </tr>\n",
       "  </tbody>\n",
       "</table>\n",
       "</div>"
      ],
      "text/plain": [
       "      CreditScore       Age    Tenure   Balance  NumOfProducts  HasCrCard  \\\n",
       "4201     0.178886  0.684203  0.720568  1.357953      -0.901212          1   \n",
       "2385    -0.285735 -1.140680 -0.364716  0.696972      -0.901212          0   \n",
       "276      1.087477  2.220946 -0.726477 -1.231887      -0.901212          1   \n",
       "3848    -0.936204  0.203971 -0.364716  1.209518      -0.901212          0   \n",
       "9184     0.457658  1.644667 -0.364716 -1.231887       0.812119          1   \n",
       "\n",
       "      IsActiveMember  EstimatedSalary  Geography_Germany  Geography_Spain  \\\n",
       "4201               1         1.270953                  1                0   \n",
       "2385               0         0.733900                  0                0   \n",
       "276                1        -1.543775                  0                0   \n",
       "3848               0        -1.551068                  1                0   \n",
       "9184               0        -0.266508                  0                1   \n",
       "\n",
       "      Gender_Male  \n",
       "4201            0  \n",
       "2385            1  \n",
       "276             1  \n",
       "3848            1  \n",
       "9184            0  "
      ]
     },
     "execution_count": 21,
     "metadata": {},
     "output_type": "execute_result"
    }
   ],
   "source": [
    "features_train.head() # проверяем "
   ]
  },
  {
   "cell_type": "code",
   "execution_count": 22,
   "metadata": {
    "scrolled": true
   },
   "outputs": [
    {
     "data": {
      "text/plain": [
       "4201    0\n",
       "2385    0\n",
       "276     1\n",
       "3848    0\n",
       "9184    0\n",
       "Name: Exited, dtype: int64"
      ]
     },
     "execution_count": 22,
     "metadata": {},
     "output_type": "execute_result"
    }
   ],
   "source": [
    "target_train.head() # проверяем "
   ]
  },
  {
   "cell_type": "markdown",
   "metadata": {},
   "source": [
    "Кажется, все получилось. Можно переходить к обучению"
   ]
  },
  {
   "cell_type": "markdown",
   "metadata": {},
   "source": [
    "## Исследование задачи"
   ]
  },
  {
   "cell_type": "markdown",
   "metadata": {},
   "source": [
    "Обучим вначале без учета дисбаланса 3 модели - Дерево решений, Случайный лес и Логистическая регрессия"
   ]
  },
  {
   "cell_type": "markdown",
   "metadata": {},
   "source": [
    "### Дерево решений"
   ]
  },
  {
   "cell_type": "code",
   "execution_count": 23,
   "metadata": {
    "scrolled": true
   },
   "outputs": [
    {
     "name": "stdout",
     "output_type": "stream",
     "text": [
      "Матрица ошибок:\n",
      " [[1411  244]\n",
      " [ 165  180]] \n",
      "Полнота: 0.5217391304347826 \n",
      "Точность: 0.42452830188679247 \n",
      "F1-мера: 0.4681404421326398\n"
     ]
    }
   ],
   "source": [
    "model = DecisionTreeClassifier(random_state=54865) # обучаем модель\n",
    "model.fit(features_train,target_train)\n",
    "prediction = model.predict(features_valid)\n",
    "print('Матрица ошибок:\\n',confusion_matrix(target_valid, prediction), \n",
    "'\\nПолнота:', recall_score(target_valid, prediction),\n",
    "'\\nТочность:', precision_score(target_valid, prediction),\n",
    "'\\nF1-мера:', f1_score(target_valid, prediction))"
   ]
  },
  {
   "cell_type": "markdown",
   "metadata": {},
   "source": [
    "Модель достаточно часто ошибается, к сожалению - много ложноположительных и ложноотрицательных ответов."
   ]
  },
  {
   "cell_type": "markdown",
   "metadata": {},
   "source": [
    "Попробуем подобрать гиперпараметры"
   ]
  },
  {
   "cell_type": "code",
   "execution_count": 24,
   "metadata": {},
   "outputs": [
    {
     "name": "stdout",
     "output_type": "stream",
     "text": [
      "F1 лучшей модели 0.5579831932773109 при глубине дерева 7\n"
     ]
    }
   ],
   "source": [
    "best_depth = 0  # обучаем модель с подбором гиперпараметров\n",
    "best_f1 = 0\n",
    "for depth in range(1,50):\n",
    "    model = DecisionTreeClassifier(random_state=54865, max_depth=depth) \n",
    "    model.fit(features_train,target_train)\n",
    "    prediction = model.predict(features_valid)\n",
    "    f1 = f1_score(target_valid, prediction)\n",
    "    if f1 > best_f1:\n",
    "        best_f1=f1\n",
    "        best_depth=depth\n",
    "print('F1 лучшей модели', best_f1, 'при глубине дерева' ,best_depth)\n",
    "f1_DT_1 = best_f1"
   ]
  },
  {
   "cell_type": "code",
   "execution_count": 25,
   "metadata": {},
   "outputs": [
    {
     "data": {
      "text/plain": [
       "0.6871535531327991"
      ]
     },
     "execution_count": 25,
     "metadata": {},
     "output_type": "execute_result"
    }
   ],
   "source": [
    "probabilities_valid = model.predict_proba(features_valid)\n",
    "probabilities_one_valid = probabilities_valid[:,1]\n",
    "auc_roc = roc_auc_score(target_valid, probabilities_one_valid)\n",
    "auc_roc"
   ]
  },
  {
   "cell_type": "markdown",
   "metadata": {},
   "source": [
    "После подбора гиперпараметров значение F1 улучшилось. Уже радует)"
   ]
  },
  {
   "cell_type": "markdown",
   "metadata": {},
   "source": [
    "### Случайный лес"
   ]
  },
  {
   "cell_type": "code",
   "execution_count": 26,
   "metadata": {},
   "outputs": [
    {
     "name": "stdout",
     "output_type": "stream",
     "text": [
      "Матрица ошибок:\n",
      " [[1494  161]\n",
      " [ 172  173]] \n",
      "Полнота: 0.5014492753623189 \n",
      "Точность: 0.5179640718562875 \n",
      "F1-мера: 0.5095729013254786\n"
     ]
    }
   ],
   "source": [
    "model = RandomForestClassifier(random_state=45789, n_estimators=3) # обучаем модель\n",
    "model.fit(features_train, target_train)\n",
    "prediction = model.predict(features_valid)\n",
    "print('Матрица ошибок:\\n',confusion_matrix(target_valid, prediction), \n",
    "'\\nПолнота:', recall_score(target_valid, prediction),\n",
    "'\\nТочность:', precision_score(target_valid, prediction),\n",
    "'\\nF1-мера:', f1_score(target_valid, prediction))"
   ]
  },
  {
   "cell_type": "markdown",
   "metadata": {},
   "source": [
    "Матрица ошибок выглядит уже получше, чем у логистической регрессии. Подберем еще гиперпаметры"
   ]
  },
  {
   "cell_type": "code",
   "execution_count": 27,
   "metadata": {
    "scrolled": true
   },
   "outputs": [
    {
     "name": "stdout",
     "output_type": "stream",
     "text": [
      "F1 лучшей модели 0.6048109965635738 при глубине дерева 13 и количестве деревьев 33\n",
      "Wall time: 1min 25s\n"
     ]
    }
   ],
   "source": [
    "%%time \n",
    "best_depth = 0 # обучаем модель с подбором гиперпараметров\n",
    "best_est = 0\n",
    "best_f1 = 0\n",
    "for est in range(1,40):\n",
    "    for depth in range(1,20):\n",
    "        model = RandomForestClassifier(random_state=45789, n_estimators=est,\n",
    "                                      max_depth = depth)\n",
    "        model.fit(features_train, target_train)\n",
    "        prediction = model.predict(features_valid)\n",
    "        f1 = f1_score(target_valid, prediction)\n",
    "        if f1 > best_f1:\n",
    "            best_depth = depth\n",
    "            best_est = est\n",
    "            best_f1 = f1\n",
    "print('F1 лучшей модели', best_f1, 'при глубине дерева', best_depth, 'и количестве деревьев', best_est)\n",
    "f1_RF_1 = best_f1"
   ]
  },
  {
   "cell_type": "code",
   "execution_count": 28,
   "metadata": {},
   "outputs": [
    {
     "data": {
      "text/plain": [
       "0.8498086606243705"
      ]
     },
     "execution_count": 28,
     "metadata": {},
     "output_type": "execute_result"
    }
   ],
   "source": [
    "probabilities_valid = model.predict_proba(features_valid)\n",
    "probabilities_one_valid = probabilities_valid[:,1]\n",
    "auc_roc = roc_auc_score(target_valid, probabilities_one_valid)\n",
    "auc_roc"
   ]
  },
  {
   "cell_type": "markdown",
   "metadata": {},
   "source": [
    "И снова после подбора гиперпараметров значение F1 улучшилось."
   ]
  },
  {
   "cell_type": "markdown",
   "metadata": {},
   "source": [
    "### Логистическая регрессия"
   ]
  },
  {
   "cell_type": "code",
   "execution_count": 29,
   "metadata": {
    "scrolled": true
   },
   "outputs": [
    {
     "name": "stdout",
     "output_type": "stream",
     "text": [
      "Матрица ошибок:\n",
      " [[1577   78]\n",
      " [ 257   88]] \n",
      "Полнота: 0.25507246376811593 \n",
      "Точность: 0.5301204819277109 \n",
      "F1-мера: 0.34442270058708413\n"
     ]
    }
   ],
   "source": [
    "model = LogisticRegression(random_state = 45789, solver='liblinear')\n",
    "model.fit(features_train, target_train)\n",
    "prediction = model.predict(features_valid)\n",
    "print('Матрица ошибок:\\n',confusion_matrix(target_valid, prediction), \n",
    "'\\nПолнота:', recall_score(target_valid, prediction),\n",
    "'\\nТочность:', precision_score(target_valid, prediction),\n",
    "'\\nF1-мера:', f1_score(target_valid, prediction))\n",
    "f1_LR_1 = f1_score(target_valid, prediction)"
   ]
  },
  {
   "cell_type": "code",
   "execution_count": 30,
   "metadata": {},
   "outputs": [
    {
     "data": {
      "text/plain": [
       "0.7518717982398528"
      ]
     },
     "execution_count": 30,
     "metadata": {},
     "output_type": "execute_result"
    }
   ],
   "source": [
    "probabilities_valid = model.predict_proba(features_valid)\n",
    "probabilities_one_valid = probabilities_valid[:,1]\n",
    "auc_roc = roc_auc_score(target_valid, probabilities_one_valid)\n",
    "auc_roc"
   ]
  },
  {
   "cell_type": "markdown",
   "metadata": {},
   "source": [
    "Печальные результаты показывает данная модель, хуже предыдущих. На несбалансированных данных лучшей моделью оказалась модель случайный лес при глубине дерева 13 и количестве деревьев 33"
   ]
  },
  {
   "cell_type": "markdown",
   "metadata": {},
   "source": [
    "## Борьба с дисбалансом"
   ]
  },
  {
   "cell_type": "markdown",
   "metadata": {},
   "source": [
    "### Взвешивание классов"
   ]
  },
  {
   "cell_type": "code",
   "execution_count": 31,
   "metadata": {
    "scrolled": false
   },
   "outputs": [
    {
     "data": {
      "text/plain": [
       "0    0.7963\n",
       "1    0.2037\n",
       "Name: Exited, dtype: float64"
      ]
     },
     "execution_count": 31,
     "metadata": {},
     "output_type": "execute_result"
    }
   ],
   "source": [
    "target.value_counts(normalize=True) # изучение насколько сбалансированны у нас классы"
   ]
  },
  {
   "cell_type": "code",
   "execution_count": 32,
   "metadata": {
    "scrolled": true
   },
   "outputs": [
    {
     "data": {
      "text/plain": [
       "Text(0, 0.5, 'Количество')"
      ]
     },
     "execution_count": 32,
     "metadata": {},
     "output_type": "execute_result"
    },
    {
     "data": {
      "image/png": "[encoded data removed]",
      "text/plain": [
       "<Figure size 432x288 with 1 Axes>"
      ]
     },
     "metadata": {
      "needs_background": "light"
     },
     "output_type": "display_data"
    }
   ],
   "source": [
    "target.value_counts(normalize=True).plot(kind='bar')\n",
    "plt.title('Баланс классов')\n",
    "plt.xlabel('Класс')\n",
    "plt.ylabel('Количество')"
   ]
  },
  {
   "cell_type": "code",
   "execution_count": 33,
   "metadata": {
    "scrolled": false
   },
   "outputs": [
    {
     "name": "stdout",
     "output_type": "stream",
     "text": [
      "Матрица ошибок:\n",
      " [[1177  478]\n",
      " [ 114  231]] \n",
      "Полнота: 0.6695652173913044 \n",
      "Точность: 0.32581100141043723 \n",
      "F1-мера: 0.4383301707779886\n"
     ]
    }
   ],
   "source": [
    "model = LogisticRegression(random_state = 45789, solver='liblinear', \n",
    "                           class_weight = 'balanced')\n",
    "model.fit(features_train, target_train)\n",
    "prediction = model.predict(features_valid)\n",
    "print('Матрица ошибок:\\n',confusion_matrix(target_valid, prediction), \n",
    "'\\nПолнота:', recall_score(target_valid, prediction),\n",
    "'\\nТочность:', precision_score(target_valid, prediction),\n",
    "'\\nF1-мера:', f1_score(target_valid, prediction))\n",
    "f1_LR_2 = f1_score(target_valid, prediction)"
   ]
  },
  {
   "cell_type": "markdown",
   "metadata": {},
   "source": [
    "При применении параметра с балансировкой класса данная модель улучшилась, но не сильно."
   ]
  },
  {
   "cell_type": "code",
   "execution_count": 34,
   "metadata": {
    "scrolled": true
   },
   "outputs": [
    {
     "data": {
      "text/plain": [
       "0.7543605236656595"
      ]
     },
     "execution_count": 34,
     "metadata": {},
     "output_type": "execute_result"
    },
    {
     "data": {
      "image/png": "[encoded data removed]",
      "text/plain": [
       "<Figure size 432x288 with 1 Axes>"
      ]
     },
     "metadata": {
      "needs_background": "light"
     },
     "output_type": "display_data"
    }
   ],
   "source": [
    "probabilities_valid = model.predict_proba(features_valid) \n",
    "probabilities_one_valid = probabilities_valid[:,1]\n",
    "fpr, tpr, theresholds = roc_curve(target_valid, probabilities_one_valid)\n",
    "plt.plot(fpr, tpr)\n",
    "plt.title('ROC-кривая')\n",
    "plt.xlabel('fpr')\n",
    "plt.ylabel('tpr')\n",
    "auc_roc = roc_auc_score(target_valid, probabilities_one_valid)\n",
    "auc_roc"
   ]
  },
  {
   "cell_type": "code",
   "execution_count": 35,
   "metadata": {},
   "outputs": [
    {
     "name": "stdout",
     "output_type": "stream",
     "text": [
      "F1 лучшей модели 0.5365321701199564 при глубине дерева 7\n"
     ]
    }
   ],
   "source": [
    "best_depth = 0  # обучаем модель с подбором гиперпараметров\n",
    "best_f1 = 0\n",
    "for depth in range(1,50):\n",
    "    model = DecisionTreeClassifier(random_state=54865, max_depth=depth, class_weight='balanced') \n",
    "    model.fit(features_train,target_train)\n",
    "    prediction = model.predict(features_valid)\n",
    "    f1 = f1_score(target_valid, prediction)\n",
    "    if f1 > best_f1:\n",
    "        best_f1=f1\n",
    "        best_depth=depth\n",
    "print('F1 лучшей модели', best_f1, 'при глубине дерева' ,best_depth)\n",
    "f1_DT_2 = best_f1"
   ]
  },
  {
   "cell_type": "code",
   "execution_count": 36,
   "metadata": {},
   "outputs": [
    {
     "data": {
      "text/plain": [
       "0.7045492359560401"
      ]
     },
     "execution_count": 36,
     "metadata": {},
     "output_type": "execute_result"
    },
    {
     "data": {
      "image/png": "[encoded data removed]",
      "text/plain": [
       "<Figure size 432x288 with 1 Axes>"
      ]
     },
     "metadata": {
      "needs_background": "light"
     },
     "output_type": "display_data"
    }
   ],
   "source": [
    "probabilities_valid = model.predict_proba(features_valid) \n",
    "probabilities_one_valid = probabilities_valid[:,1]\n",
    "fpr, tpr, theresholds = roc_curve(target_valid, probabilities_one_valid)\n",
    "plt.plot(fpr, tpr)\n",
    "plt.title('ROC-кривая')\n",
    "plt.xlabel('fpr')\n",
    "plt.ylabel('tpr')\n",
    "auc_roc = roc_auc_score(target_valid, probabilities_one_valid)\n",
    "auc_roc"
   ]
  },
  {
   "cell_type": "code",
   "execution_count": 37,
   "metadata": {},
   "outputs": [
    {
     "name": "stdout",
     "output_type": "stream",
     "text": [
      "F1 лучшей модели 0.6100278551532033 при глубине дерева 11 и количестве деревьев 28\n",
      "Wall time: 1min 19s\n"
     ]
    }
   ],
   "source": [
    "%%time \n",
    "best_depth = 0 # обучаем модель с подбором гиперпараметров\n",
    "best_est = 0\n",
    "best_f1 = 0\n",
    "for est in range(1,40):\n",
    "    for depth in range(1,20):\n",
    "        model = RandomForestClassifier(random_state=45789, n_estimators=est,\n",
    "                                      max_depth = depth, class_weight='balanced')\n",
    "        model.fit(features_train, target_train)\n",
    "        prediction = model.predict(features_valid)\n",
    "        f1 = f1_score(target_valid, prediction)\n",
    "        if f1 > best_f1:\n",
    "            best_depth = depth\n",
    "            best_est = est\n",
    "            best_f1 = f1\n",
    "print('F1 лучшей модели', best_f1, 'при глубине дерева', best_depth, 'и количестве деревьев', best_est)\n",
    "f1_RF_2 = best_f1"
   ]
  },
  {
   "cell_type": "code",
   "execution_count": 38,
   "metadata": {
    "scrolled": true
   },
   "outputs": [
    {
     "data": {
      "text/plain": [
       "0.8622820613862253"
      ]
     },
     "execution_count": 38,
     "metadata": {},
     "output_type": "execute_result"
    },
    {
     "data": {
      "image/png": "[encoded data removed]",
      "text/plain": [
       "<Figure size 432x288 with 1 Axes>"
      ]
     },
     "metadata": {
      "needs_background": "light"
     },
     "output_type": "display_data"
    }
   ],
   "source": [
    "probabilities_valid = model.predict_proba(features_valid) \n",
    "probabilities_one_valid = probabilities_valid[:,1]\n",
    "fpr, tpr, theresholds = roc_curve(target_valid, probabilities_one_valid)\n",
    "plt.plot(fpr, tpr)\n",
    "plt.title('ROC-кривая')\n",
    "plt.xlabel('fpr')\n",
    "plt.ylabel('tpr')\n",
    "auc_roc = roc_auc_score(target_valid, probabilities_one_valid)\n",
    "auc_roc"
   ]
  },
  {
   "cell_type": "markdown",
   "metadata": {},
   "source": [
    "Стратегия взвешивания классов несильно улучшила качество моделей, а дерево решений даже слегка ухудшила:\n",
    "у Логистической регрессии метрика F1 до и после 0,344 и 0,438, соответственно, \n",
    "у Дерева Решений - 0,557 и 0,536\n",
    "у Случайного леса - 0,605 и 0,610"
   ]
  },
  {
   "cell_type": "markdown",
   "metadata": {},
   "source": [
    "### Увеличение выборки"
   ]
  },
  {
   "cell_type": "code",
   "execution_count": 39,
   "metadata": {},
   "outputs": [],
   "source": [
    "def upsample(features, target, repeat): # увеличим выборку\n",
    "    features_zero = features[target == 0]\n",
    "    features_one = features[target == 1]\n",
    "    target_zero = target[target == 0]\n",
    "    target_one = target[target == 1]\n",
    "    \n",
    "    features_upsampled = pd.concat([features_zero] + [features_one]*repeat)\n",
    "    target_upsampled = pd.concat([target_zero] + [target_one]*repeat)\n",
    "    \n",
    "    features_upsampled, target_upsampled = shuffle(features_upsampled, \n",
    "                                    target_upsampled, random_state=45789)\n",
    "    return features_upsampled, target_upsampled\n",
    "features_upsampled, target_upsampled = upsample(features_train, target_train, 3)"
   ]
  },
  {
   "cell_type": "code",
   "execution_count": 40,
   "metadata": {
    "scrolled": true
   },
   "outputs": [
    {
     "data": {
      "text/plain": [
       "((8558, 11),\n",
       " (8558,),\n",
       " 0    4721\n",
       " 1    3837\n",
       " Name: Exited, dtype: int64)"
      ]
     },
     "execution_count": 40,
     "metadata": {},
     "output_type": "execute_result"
    }
   ],
   "source": [
    "features_upsampled.shape, target_upsampled.shape, target_upsampled.value_counts()\n",
    "# посмотрим какой теперь объем у нашых данных"
   ]
  },
  {
   "cell_type": "markdown",
   "metadata": {},
   "source": [
    "#### Логистическая регрессия"
   ]
  },
  {
   "cell_type": "code",
   "execution_count": 41,
   "metadata": {},
   "outputs": [
    {
     "name": "stdout",
     "output_type": "stream",
     "text": [
      "F1-мера: 0.44111349036402575\n"
     ]
    }
   ],
   "source": [
    "model = LogisticRegression(random_state = 45789, solver='liblinear')\n",
    "model.fit(features_upsampled, target_upsampled)\n",
    "prediction = model.predict(features_valid)\n",
    "print('F1-мера:', f1_score(target_valid, prediction))\n",
    "f1_LR_3 = f1_score(target_valid, prediction)"
   ]
  },
  {
   "cell_type": "code",
   "execution_count": 42,
   "metadata": {
    "scrolled": true
   },
   "outputs": [
    {
     "data": {
      "text/plain": [
       "0.754003240071807"
      ]
     },
     "execution_count": 42,
     "metadata": {},
     "output_type": "execute_result"
    },
    {
     "data": {
      "image/png": "[encoded data removed]",
      "text/plain": [
       "<Figure size 432x288 with 1 Axes>"
      ]
     },
     "metadata": {
      "needs_background": "light"
     },
     "output_type": "display_data"
    }
   ],
   "source": [
    "probabilities_valid = model.predict_proba(features_valid)\n",
    "probabilities_one_valid = probabilities_valid[:,1]\n",
    "fpr, tpr, theresholds = roc_curve(target_valid, probabilities_one_valid)\n",
    "plt.plot(fpr, tpr)\n",
    "plt.title('ROC-кривая')\n",
    "plt.xlabel('fpr')\n",
    "plt.ylabel('tpr')\n",
    "auc_roc = roc_auc_score(target_valid, probabilities_one_valid)\n",
    "auc_roc"
   ]
  },
  {
   "cell_type": "markdown",
   "metadata": {},
   "source": [
    "#### Дерево решений"
   ]
  },
  {
   "cell_type": "code",
   "execution_count": 43,
   "metadata": {},
   "outputs": [
    {
     "name": "stdout",
     "output_type": "stream",
     "text": [
      "F1 лучшей модели 0.552132701421801 при глубине дерева 7\n"
     ]
    }
   ],
   "source": [
    "best_depth = 0 \n",
    "best_f1 = 0\n",
    "for depth in range(1,50):\n",
    "    model = DecisionTreeClassifier(random_state=54865, max_depth=depth) \n",
    "    model.fit(features_upsampled,target_upsampled)\n",
    "    prediction = model.predict(features_valid)\n",
    "    f1 = f1_score(target_valid, prediction)\n",
    "    if f1 > best_f1:\n",
    "        best_f1=f1\n",
    "        best_depth=depth\n",
    "print('F1 лучшей модели', best_f1, 'при глубине дерева' ,best_depth)\n",
    "f1_DT_3 = best_f1"
   ]
  },
  {
   "cell_type": "code",
   "execution_count": 44,
   "metadata": {},
   "outputs": [
    {
     "data": {
      "text/plain": [
       "0.6986339156705635"
      ]
     },
     "execution_count": 44,
     "metadata": {},
     "output_type": "execute_result"
    },
    {
     "data": {
      "image/png": "[encoded data removed]",
      "text/plain": [
       "<Figure size 432x288 with 1 Axes>"
      ]
     },
     "metadata": {
      "needs_background": "light"
     },
     "output_type": "display_data"
    }
   ],
   "source": [
    "probabilities_valid = model.predict_proba(features_valid)\n",
    "probabilities_one_valid = probabilities_valid[:,1]\n",
    "fpr, tpr, theresholds = roc_curve(target_valid, probabilities_one_valid)\n",
    "plt.plot(fpr, tpr)\n",
    "plt.title('ROC-кривая')\n",
    "plt.xlabel('fpr')\n",
    "plt.ylabel('tpr')\n",
    "auc_roc = roc_auc_score(target_valid, probabilities_one_valid)\n",
    "auc_roc"
   ]
  },
  {
   "cell_type": "markdown",
   "metadata": {},
   "source": [
    "#### Случайный лес"
   ]
  },
  {
   "cell_type": "code",
   "execution_count": 45,
   "metadata": {},
   "outputs": [
    {
     "name": "stdout",
     "output_type": "stream",
     "text": [
      "F1 лучшей модели 0.6048387096774193 при глубине дерева 12 и количестве деревьев 35\n",
      "Wall time: 1min 42s\n"
     ]
    }
   ],
   "source": [
    "%%time\n",
    "best_depth = 0\n",
    "best_est = 0\n",
    "best_f1 = 0\n",
    "for est in range(1,40):\n",
    "    for depth in range(1,20):\n",
    "        model = RandomForestClassifier(random_state=45789, n_estimators=est,\n",
    "                                      max_depth = depth)\n",
    "        model.fit(features_upsampled,target_upsampled)\n",
    "        prediction = model.predict(features_valid)\n",
    "        f1 = f1_score(target_valid, prediction)\n",
    "        if f1 > best_f1:\n",
    "            best_depth = depth\n",
    "            best_est = est\n",
    "            best_f1 = f1\n",
    "print('F1 лучшей модели', best_f1, 'при глубине дерева' ,best_depth, 'и количестве деревьев', best_est)\n",
    "f1_RF_3 = best_f1"
   ]
  },
  {
   "cell_type": "code",
   "execution_count": 46,
   "metadata": {
    "scrolled": true
   },
   "outputs": [
    {
     "data": {
      "text/plain": [
       "0.8454748456587416"
      ]
     },
     "execution_count": 46,
     "metadata": {},
     "output_type": "execute_result"
    },
    {
     "data": {
      "image/png": "[encoded data removed]",
      "text/plain": [
       "<Figure size 432x288 with 1 Axes>"
      ]
     },
     "metadata": {
      "needs_background": "light"
     },
     "output_type": "display_data"
    }
   ],
   "source": [
    "probabilities_valid = model.predict_proba(features_valid)\n",
    "probabilities_one_valid = probabilities_valid[:,1]\n",
    "fpr, tpr, theresholds = roc_curve(target_valid, probabilities_one_valid)\n",
    "plt.plot(fpr, tpr)\n",
    "plt.title('ROC-кривая')\n",
    "plt.xlabel('fpr')\n",
    "plt.ylabel('tpr')\n",
    "auc_roc = roc_auc_score(target_valid, probabilities_one_valid)\n",
    "auc_roc"
   ]
  },
  {
   "cell_type": "markdown",
   "metadata": {},
   "source": [
    "После увеличения выборки наилучшей моделью оказалась (с точки зрения показателя F1 и auc_roc) модель Случайный лес при глубине дерева 12 и количестве деревьев 35."
   ]
  },
  {
   "cell_type": "markdown",
   "metadata": {},
   "source": [
    "### Уменьшение выборки"
   ]
  },
  {
   "cell_type": "code",
   "execution_count": 47,
   "metadata": {},
   "outputs": [
    {
     "data": {
      "text/plain": [
       "((2695, 11),)"
      ]
     },
     "execution_count": 47,
     "metadata": {},
     "output_type": "execute_result"
    }
   ],
   "source": [
    "def downsample(features, target, fraction): # уменьшим выборку\n",
    "    features_zero = features[target == 0]\n",
    "    features_one = features[target == 1]\n",
    "    target_zero = target[target ==0]\n",
    "    target_one = target[target == 1]\n",
    "    \n",
    "    features_downsampled = pd.concat([features_zero.sample(frac=fraction,\n",
    "        random_state=45789)] + [features_one])\n",
    "    target_downsampled = pd.concat([target_zero.sample(frac=fraction,\n",
    "        random_state=45789)] + [target_one])\n",
    "    features_downsampled, target_downsampled = shuffle(features_downsampled, \n",
    "        target_downsampled, random_state = 45789)\n",
    "    return features_downsampled, target_downsampled \n",
    "features_downsampled, target_downsampled = downsample(features_train, target_train, 0.3)\n",
    "features_downsampled.shape, #### Дерево решений.shape, target_downsampled.value_counts()"
   ]
  },
  {
   "cell_type": "markdown",
   "metadata": {},
   "source": [
    "#### Логистическая регрессия"
   ]
  },
  {
   "cell_type": "code",
   "execution_count": 48,
   "metadata": {},
   "outputs": [
    {
     "name": "stdout",
     "output_type": "stream",
     "text": [
      "F1-мера: 0.4448818897637795\n"
     ]
    }
   ],
   "source": [
    "model = LogisticRegression(random_state = 45789, solver='liblinear')\n",
    "model.fit(features_downsampled, target_downsampled)\n",
    "prediction = model.predict(features_valid)\n",
    "print('F1-мера:', f1_score(target_valid, prediction))\n",
    "f1_LR_4 = f1_score(target_valid, prediction)"
   ]
  },
  {
   "cell_type": "code",
   "execution_count": 49,
   "metadata": {},
   "outputs": [
    {
     "data": {
      "text/plain": [
       "0.7523499277551557"
      ]
     },
     "execution_count": 49,
     "metadata": {},
     "output_type": "execute_result"
    },
    {
     "data": {
      "image/png": "[encoded data removed]",
      "text/plain": [
       "<Figure size 432x288 with 1 Axes>"
      ]
     },
     "metadata": {
      "needs_background": "light"
     },
     "output_type": "display_data"
    }
   ],
   "source": [
    "probabilities_valid = model.predict_proba(features_valid)\n",
    "probabilities_one_valid = probabilities_valid[:,1]\n",
    "fpr, tpr, theresholds = roc_curve(target_valid, probabilities_one_valid)\n",
    "plt.plot(fpr, tpr)\n",
    "plt.title('ROC-кривая')\n",
    "plt.xlabel('fpr')\n",
    "plt.ylabel('tpr')\n",
    "auc_roc = roc_auc_score(target_valid, probabilities_one_valid)\n",
    "auc_roc"
   ]
  },
  {
   "cell_type": "markdown",
   "metadata": {},
   "source": [
    "#### Дерево решений"
   ]
  },
  {
   "cell_type": "code",
   "execution_count": 50,
   "metadata": {},
   "outputs": [
    {
     "name": "stdout",
     "output_type": "stream",
     "text": [
      "F1 лучшей модели 0.5635103926096998 при глубине дерева 5\n"
     ]
    }
   ],
   "source": [
    "best_depth = 0 \n",
    "best_f1 = 0\n",
    "for depth in range(1,50):\n",
    "    model = DecisionTreeClassifier(random_state=54865, max_depth=depth) \n",
    "    model.fit(features_downsampled,target_downsampled)\n",
    "    prediction = model.predict(features_valid)\n",
    "    f1 = f1_score(target_valid, prediction)\n",
    "    if f1 > best_f1:\n",
    "        best_f1=f1\n",
    "        best_depth=depth\n",
    "print('F1 лучшей модели', best_f1, 'при глубине дерева' ,best_depth)\n",
    "f1_DT_4 = best_f1"
   ]
  },
  {
   "cell_type": "code",
   "execution_count": 51,
   "metadata": {},
   "outputs": [
    {
     "data": {
      "text/plain": [
       "0.6999737291475109"
      ]
     },
     "execution_count": 51,
     "metadata": {},
     "output_type": "execute_result"
    },
    {
     "data": {
      "image/png": "[encoded data removed]",
      "text/plain": [
       "<Figure size 432x288 with 1 Axes>"
      ]
     },
     "metadata": {
      "needs_background": "light"
     },
     "output_type": "display_data"
    }
   ],
   "source": [
    "probabilities_valid = model.predict_proba(features_valid)\n",
    "probabilities_one_valid = probabilities_valid[:,1]\n",
    "fpr, tpr, theresholds = roc_curve(target_valid, probabilities_one_valid)\n",
    "plt.plot(fpr, tpr)\n",
    "plt.title('ROC-кривая')\n",
    "plt.xlabel('fpr')\n",
    "plt.ylabel('tpr')\n",
    "auc_roc = roc_auc_score(target_valid, probabilities_one_valid)\n",
    "auc_roc"
   ]
  },
  {
   "cell_type": "markdown",
   "metadata": {},
   "source": [
    "#### Случайный лес"
   ]
  },
  {
   "cell_type": "code",
   "execution_count": 52,
   "metadata": {
    "scrolled": true
   },
   "outputs": [
    {
     "name": "stdout",
     "output_type": "stream",
     "text": [
      "F1 лучшей модели 0.5765765765765766 при глубине дерева 8 и количестве деревьев 34\n",
      "Wall time: 52.6 s\n"
     ]
    }
   ],
   "source": [
    "%%time\n",
    "best_depth = 0\n",
    "best_est = 0\n",
    "best_f1 = 0\n",
    "for est in range(1,40):\n",
    "    for depth in range(1,20):\n",
    "        model = RandomForestClassifier(random_state=45789, n_estimators=est,\n",
    "                                      max_depth = depth)\n",
    "        model.fit(features_downsampled,target_downsampled)\n",
    "        prediction = model.predict(features_valid)\n",
    "        f1 = f1_score(target_valid, prediction)\n",
    "        if f1 > best_f1:\n",
    "            best_depth = depth\n",
    "            best_est = est\n",
    "            best_f1 = f1\n",
    "print('F1 лучшей модели', best_f1, 'при глубине дерева' ,best_depth, 'и количестве деревьев', best_est)\n",
    "f1_RF_4 = best_f1"
   ]
  },
  {
   "cell_type": "code",
   "execution_count": 53,
   "metadata": {},
   "outputs": [
    {
     "data": {
      "text/plain": [
       "0.8497228425062394"
      ]
     },
     "execution_count": 53,
     "metadata": {},
     "output_type": "execute_result"
    },
    {
     "data": {
      "image/png": "[encoded data removed]",
      "text/plain": [
       "<Figure size 432x288 with 1 Axes>"
      ]
     },
     "metadata": {
      "needs_background": "light"
     },
     "output_type": "display_data"
    }
   ],
   "source": [
    "probabilities_valid = model.predict_proba(features_valid)\n",
    "probabilities_one_valid = probabilities_valid[:,1]\n",
    "fpr, tpr, theresholds = roc_curve(target_valid, probabilities_one_valid)\n",
    "plt.plot(fpr, tpr)\n",
    "plt.title('ROC-кривая')\n",
    "plt.xlabel('fpr')\n",
    "plt.ylabel('tpr')\n",
    "auc_roc = roc_auc_score(target_valid, probabilities_one_valid)\n",
    "auc_roc"
   ]
  },
  {
   "cell_type": "markdown",
   "metadata": {},
   "source": [
    "При уменьшении выборки модели тоже хорошо себя показали, лучшей все так же осталась модель Случайный лес. Но значение f1 чуть лучше у нее при увеличении выборки. На этом и остановимся."
   ]
  },
  {
   "cell_type": "markdown",
   "metadata": {},
   "source": [
    "<img src=\"https://upload.wikimedia.org/wikipedia/commons/b/ba/Warning_sign_4.0.png\" align=left width=44, heigth=33>\n",
    "<div class=\"alert alert-warning\">\n",
    "Нужно сделать раздел с промежуточными выводами.\n",
    "    \n",
    "Давай посмотрим на структуру проекта. Ты провела 10 экспериментов ( 1 + 3 + 3 + 3) с разными моделями и разными стратегиями борьбы с дисбалансом. Теперь нужно описать результат: какой алгоритм борьбы с дибалансом, с какой моделью и какими гиперпараметрами мы выбираем по оценкам на валидационном наборе?  \n",
    "    \n",
    "Я видел,что ты писала короткие пояснения, но для читателя, просматривающего твой проект \"по диагонали\" нужно сразу показать \"суть\", а это закономерный результат 50% усилий по проекту.\n",
    "</div>"
   ]
  },
  {
   "cell_type": "code",
   "execution_count": 54,
   "metadata": {},
   "outputs": [
    {
     "data": {
      "text/html": [
       "<div>\n",
       "<style scoped>\n",
       "    .dataframe tbody tr th:only-of-type {\n",
       "        vertical-align: middle;\n",
       "    }\n",
       "\n",
       "    .dataframe tbody tr th {\n",
       "        vertical-align: top;\n",
       "    }\n",
       "\n",
       "    .dataframe thead th {\n",
       "        text-align: right;\n",
       "    }\n",
       "</style>\n",
       "<table border=\"1\" class=\"dataframe\">\n",
       "  <thead>\n",
       "    <tr style=\"text-align: right;\">\n",
       "      <th></th>\n",
       "      <th>LogisticRegression</th>\n",
       "      <th>DecisionTree</th>\n",
       "      <th>RandomForest</th>\n",
       "    </tr>\n",
       "  </thead>\n",
       "  <tbody>\n",
       "    <tr>\n",
       "      <th>Unbalanced</th>\n",
       "      <td>0.344423</td>\n",
       "      <td>0.557983</td>\n",
       "      <td>0.604811</td>\n",
       "    </tr>\n",
       "    <tr>\n",
       "      <th>Balanced</th>\n",
       "      <td>0.438330</td>\n",
       "      <td>0.536532</td>\n",
       "      <td>0.610028</td>\n",
       "    </tr>\n",
       "    <tr>\n",
       "      <th>Upsample</th>\n",
       "      <td>0.441113</td>\n",
       "      <td>0.552133</td>\n",
       "      <td>0.604839</td>\n",
       "    </tr>\n",
       "    <tr>\n",
       "      <th>Downsample</th>\n",
       "      <td>0.444882</td>\n",
       "      <td>0.563510</td>\n",
       "      <td>0.576577</td>\n",
       "    </tr>\n",
       "  </tbody>\n",
       "</table>\n",
       "</div>"
      ],
      "text/plain": [
       "            LogisticRegression  DecisionTree  RandomForest\n",
       "Unbalanced            0.344423      0.557983      0.604811\n",
       "Balanced              0.438330      0.536532      0.610028\n",
       "Upsample              0.441113      0.552133      0.604839\n",
       "Downsample            0.444882      0.563510      0.576577"
      ]
     },
     "execution_count": 54,
     "metadata": {},
     "output_type": "execute_result"
    }
   ],
   "source": [
    "f1_LR = [f1_LR_1, f1_LR_2, f1_LR_3, f1_LR_4]\n",
    "f1_DT = [f1_DT_1,f1_DT_2,f1_DT_3,f1_DT_4]\n",
    "f1_RF = [f1_RF_1,f1_RF_2,f1_RF_3,f1_RF_4]\n",
    "\n",
    "compare = {'LogisticRegression': f1_LR, 'DecisionTree': f1_DT, 'RandomForest':f1_RF }\n",
    "\n",
    "compare_df = pd.DataFrame(compare, index=['Unbalanced','Balanced','Upsample','Downsample'])\n",
    "compare_df"
   ]
  },
  {
   "cell_type": "markdown",
   "metadata": {},
   "source": [
    "Подведем итоги нашей работы. Были проведены 12 экспериментов по обучению моделей на тестовых выборках и проверках их на валидационных данных. \n",
    "При обучении на тестовых данных до балансировки модели показывали не самые лучшие результаты, если судить по метрике f1. Так, у LG она была 0,344, у DT и RF 0,557 и 0,604, соответственно.\n",
    "После проведения процедуры взвешивания классов качество всех моделей улучшилось, у LG до 0,438, у DT - 0,536, RF - 0,61.\n",
    "Далее мы попробовали справиться с дисбалансом в наших данных - провели увеличение выборки. В таком случае наши модели показали - LG 0,441, у DT - 0,550, RF - 0,605. RF при подборе гиперпараметров (глубина - 28, кол-во деревьев 11) показала столько же, как и на несбалансированных данных при глубине - 13, кол-ве деревьев - 33).\n",
    "Следующим методом борьбы с дисбалансом у нас было уменьшение выборки. При таком варианте у нас получились следующие результаты: LG - 0,448, у DT - 0,56, RF - 0,5765.\n"
   ]
  },
  {
   "cell_type": "markdown",
   "metadata": {},
   "source": [
    "## Тестирование модели"
   ]
  },
  {
   "cell_type": "markdown",
   "metadata": {},
   "source": [
    "После подбора моделей в предыдущих пунктах лучшей себя проявила модель Случайный лес с количеством деревьев 35, глубиной дерева 12. На ней и проведем финальное тестирование и посмотрим на результат f1."
   ]
  },
  {
   "cell_type": "code",
   "execution_count": 55,
   "metadata": {},
   "outputs": [
    {
     "data": {
      "text/plain": [
       "0.6404761904761905"
      ]
     },
     "execution_count": 55,
     "metadata": {},
     "output_type": "execute_result"
    }
   ],
   "source": [
    "model = RandomForestClassifier(random_state=45789, n_estimators=35,\n",
    "                                      max_depth = 12)\n",
    "model.fit(features_upsampled,target_upsampled)\n",
    "prediction = model.predict(features_test)\n",
    "f1_score(target_test, prediction)"
   ]
  },
  {
   "cell_type": "code",
   "execution_count": 56,
   "metadata": {
    "scrolled": true
   },
   "outputs": [
    {
     "data": {
      "text/plain": [
       "0.860336175737797"
      ]
     },
     "execution_count": 56,
     "metadata": {},
     "output_type": "execute_result"
    },
    {
     "data": {
      "image/png": "[encoded data removed]",
      "text/plain": [
       "<Figure size 432x288 with 1 Axes>"
      ]
     },
     "metadata": {
      "needs_background": "light"
     },
     "output_type": "display_data"
    }
   ],
   "source": [
    "probabilities_test = model.predict_proba(features_test)\n",
    "probabilities_one_test = probabilities_test[:,1]\n",
    "fpr, tpr, theresholds = roc_curve(target_test, probabilities_one_test)\n",
    "plt.plot(fpr, tpr)\n",
    "plt.title('ROC-кривая')\n",
    "plt.xlabel('fpr')\n",
    "plt.ylabel('tpr')\n",
    "auc_roc = roc_auc_score(target_test, probabilities_one_test)\n",
    "auc_roc"
   ]
  },
  {
   "cell_type": "markdown",
   "metadata": {},
   "source": [
    "Данная модель показала хорошее значение f1 и очень высокое значение auc-roc, что говорит о хорошем качестве нашей модели. Конечно, она еще не идеальна, но уже может начать предсказывать уйдет клиент из банка или нет."
   ]
  }
 ],
 "metadata": {
  "ExecuteTimeLog": [
   {
    "duration": 363,
    "start_time": "2022-06-30T12:02:26.009Z"
   },
   {
    "duration": 57,
    "start_time": "2022-06-30T12:02:59.311Z"
   },
   {
    "duration": 7,
    "start_time": "2022-06-30T12:03:07.679Z"
   },
   {
    "duration": 13,
    "start_time": "2022-06-30T12:03:15.335Z"
   },
   {
    "duration": 14,
    "start_time": "2022-06-30T12:03:30.047Z"
   },
   {
    "duration": 458,
    "start_time": "2022-07-05T08:41:31.633Z"
   },
   {
    "duration": 65,
    "start_time": "2022-07-05T08:41:32.094Z"
   },
   {
    "duration": 21,
    "start_time": "2022-07-05T08:41:32.162Z"
   },
   {
    "duration": 31,
    "start_time": "2022-07-05T08:41:32.188Z"
   },
   {
    "duration": 24,
    "start_time": "2022-07-05T08:41:32.221Z"
   },
   {
    "duration": 80,
    "start_time": "2022-07-05T08:44:54.457Z"
   },
   {
    "duration": 5,
    "start_time": "2022-07-05T08:44:59.681Z"
   },
   {
    "duration": 412,
    "start_time": "2022-07-05T08:45:33.485Z"
   },
   {
    "duration": 31,
    "start_time": "2022-07-05T08:45:33.899Z"
   },
   {
    "duration": 9,
    "start_time": "2022-07-05T08:45:33.932Z"
   },
   {
    "duration": 33,
    "start_time": "2022-07-05T08:45:33.944Z"
   },
   {
    "duration": 20,
    "start_time": "2022-07-05T08:45:33.984Z"
   },
   {
    "duration": 85,
    "start_time": "2022-07-05T08:45:34.006Z"
   },
   {
    "duration": 0,
    "start_time": "2022-07-05T08:45:34.093Z"
   },
   {
    "duration": 7,
    "start_time": "2022-07-05T08:45:51.216Z"
   },
   {
    "duration": 12,
    "start_time": "2022-07-05T08:45:52.296Z"
   },
   {
    "duration": 9,
    "start_time": "2022-07-05T08:46:53.649Z"
   },
   {
    "duration": 6,
    "start_time": "2022-07-05T08:47:15.281Z"
   },
   {
    "duration": 21,
    "start_time": "2022-07-05T08:47:38.483Z"
   },
   {
    "duration": 10,
    "start_time": "2022-07-05T08:48:08.985Z"
   },
   {
    "duration": 5,
    "start_time": "2022-07-05T08:48:31.981Z"
   },
   {
    "duration": 4,
    "start_time": "2022-07-05T08:48:43.912Z"
   },
   {
    "duration": 6,
    "start_time": "2022-07-05T08:48:44.855Z"
   },
   {
    "duration": 774,
    "start_time": "2022-07-05T09:35:50.622Z"
   },
   {
    "duration": 5,
    "start_time": "2022-07-05T09:37:19.484Z"
   },
   {
    "duration": 12,
    "start_time": "2022-07-05T09:38:14.677Z"
   },
   {
    "duration": 15,
    "start_time": "2022-07-05T09:38:23.892Z"
   },
   {
    "duration": 21,
    "start_time": "2022-07-05T09:39:23.056Z"
   },
   {
    "duration": 1260,
    "start_time": "2022-07-05T09:39:51.485Z"
   },
   {
    "duration": 59,
    "start_time": "2022-07-05T09:39:52.748Z"
   },
   {
    "duration": 15,
    "start_time": "2022-07-05T09:39:52.813Z"
   },
   {
    "duration": 41,
    "start_time": "2022-07-05T09:39:52.831Z"
   },
   {
    "duration": 60,
    "start_time": "2022-07-05T09:39:52.879Z"
   },
   {
    "duration": 8,
    "start_time": "2022-07-05T09:39:52.941Z"
   },
   {
    "duration": 32,
    "start_time": "2022-07-05T09:39:52.952Z"
   },
   {
    "duration": 61,
    "start_time": "2022-07-05T09:39:52.985Z"
   },
   {
    "duration": 18,
    "start_time": "2022-07-05T09:39:53.048Z"
   },
   {
    "duration": 52,
    "start_time": "2022-07-05T09:39:53.067Z"
   },
   {
    "duration": 35,
    "start_time": "2022-07-05T09:39:53.121Z"
   },
   {
    "duration": 118,
    "start_time": "2022-07-05T09:39:53.158Z"
   },
   {
    "duration": 16,
    "start_time": "2022-07-05T09:41:53.322Z"
   },
   {
    "duration": 20,
    "start_time": "2022-07-05T09:42:07.618Z"
   },
   {
    "duration": 4,
    "start_time": "2022-07-05T09:42:27.754Z"
   },
   {
    "duration": 36,
    "start_time": "2022-07-05T09:42:33.296Z"
   },
   {
    "duration": 28,
    "start_time": "2022-07-05T09:43:15.925Z"
   },
   {
    "duration": 1240,
    "start_time": "2022-07-05T09:44:02.384Z"
   },
   {
    "duration": 33,
    "start_time": "2022-07-05T09:44:03.627Z"
   },
   {
    "duration": 11,
    "start_time": "2022-07-05T09:44:03.662Z"
   },
   {
    "duration": 48,
    "start_time": "2022-07-05T09:44:03.675Z"
   },
   {
    "duration": 16,
    "start_time": "2022-07-05T09:44:03.725Z"
   },
   {
    "duration": 5,
    "start_time": "2022-07-05T09:44:03.743Z"
   },
   {
    "duration": 26,
    "start_time": "2022-07-05T09:44:03.750Z"
   },
   {
    "duration": 44,
    "start_time": "2022-07-05T09:44:03.779Z"
   },
   {
    "duration": 4,
    "start_time": "2022-07-05T09:44:03.825Z"
   },
   {
    "duration": 6,
    "start_time": "2022-07-05T09:44:03.831Z"
   },
   {
    "duration": 35,
    "start_time": "2022-07-05T09:44:03.839Z"
   },
   {
    "duration": 18,
    "start_time": "2022-07-05T09:44:03.875Z"
   },
   {
    "duration": 20,
    "start_time": "2022-07-05T09:44:24.802Z"
   },
   {
    "duration": 128,
    "start_time": "2022-07-05T09:52:41.845Z"
   },
   {
    "duration": 11,
    "start_time": "2022-07-05T09:52:52.115Z"
   },
   {
    "duration": 7,
    "start_time": "2022-07-05T09:52:59.263Z"
   },
   {
    "duration": 23,
    "start_time": "2022-07-05T09:53:58.095Z"
   },
   {
    "duration": 23,
    "start_time": "2022-07-05T09:54:00.515Z"
   },
   {
    "duration": 24,
    "start_time": "2022-07-05T09:54:01.304Z"
   },
   {
    "duration": 8,
    "start_time": "2022-07-05T09:57:43.716Z"
   },
   {
    "duration": 8,
    "start_time": "2022-07-05T09:57:52.651Z"
   },
   {
    "duration": 6,
    "start_time": "2022-07-05T09:58:44.661Z"
   },
   {
    "duration": 8,
    "start_time": "2022-07-05T09:59:37.609Z"
   },
   {
    "duration": 7,
    "start_time": "2022-07-05T09:59:41.382Z"
   },
   {
    "duration": 10,
    "start_time": "2022-07-05T09:59:55.191Z"
   },
   {
    "duration": 13,
    "start_time": "2022-07-05T10:02:10.414Z"
   },
   {
    "duration": 9,
    "start_time": "2022-07-05T10:02:29.660Z"
   },
   {
    "duration": 1188,
    "start_time": "2022-07-05T10:02:35.294Z"
   },
   {
    "duration": 57,
    "start_time": "2022-07-05T10:02:36.486Z"
   },
   {
    "duration": 13,
    "start_time": "2022-07-05T10:02:36.547Z"
   },
   {
    "duration": 79,
    "start_time": "2022-07-05T10:02:36.562Z"
   },
   {
    "duration": 17,
    "start_time": "2022-07-05T10:02:36.642Z"
   },
   {
    "duration": 14,
    "start_time": "2022-07-05T10:02:36.661Z"
   },
   {
    "duration": 56,
    "start_time": "2022-07-05T10:02:36.677Z"
   },
   {
    "duration": 36,
    "start_time": "2022-07-05T10:02:36.734Z"
   },
   {
    "duration": 52,
    "start_time": "2022-07-05T10:02:36.772Z"
   },
   {
    "duration": 21,
    "start_time": "2022-07-05T10:02:36.826Z"
   },
   {
    "duration": 64,
    "start_time": "2022-07-05T10:02:36.849Z"
   },
   {
    "duration": 37,
    "start_time": "2022-07-05T10:02:36.915Z"
   },
   {
    "duration": 66,
    "start_time": "2022-07-05T10:02:36.954Z"
   },
   {
    "duration": 35,
    "start_time": "2022-07-05T10:02:37.021Z"
   },
   {
    "duration": 59,
    "start_time": "2022-07-05T10:02:37.058Z"
   },
   {
    "duration": 1636,
    "start_time": "2022-07-05T10:03:45.203Z"
   },
   {
    "duration": 13,
    "start_time": "2022-07-05T10:04:04.320Z"
   },
   {
    "duration": 22,
    "start_time": "2022-07-05T10:05:44.219Z"
   },
   {
    "duration": 15,
    "start_time": "2022-07-05T10:06:17.621Z"
   },
   {
    "duration": 13,
    "start_time": "2022-07-05T10:06:59.117Z"
   },
   {
    "duration": 1201,
    "start_time": "2022-07-05T10:07:16.394Z"
   },
   {
    "duration": 46,
    "start_time": "2022-07-05T10:07:17.599Z"
   },
   {
    "duration": 9,
    "start_time": "2022-07-05T10:07:17.647Z"
   },
   {
    "duration": 42,
    "start_time": "2022-07-05T10:07:17.659Z"
   },
   {
    "duration": 48,
    "start_time": "2022-07-05T10:07:17.703Z"
   },
   {
    "duration": 6,
    "start_time": "2022-07-05T10:07:17.753Z"
   },
   {
    "duration": 78,
    "start_time": "2022-07-05T10:07:17.761Z"
   },
   {
    "duration": 49,
    "start_time": "2022-07-05T10:07:17.841Z"
   },
   {
    "duration": 40,
    "start_time": "2022-07-05T10:07:17.892Z"
   },
   {
    "duration": 12,
    "start_time": "2022-07-05T10:07:17.934Z"
   },
   {
    "duration": 72,
    "start_time": "2022-07-05T10:07:17.948Z"
   },
   {
    "duration": 15,
    "start_time": "2022-07-05T10:07:18.023Z"
   },
   {
    "duration": 10,
    "start_time": "2022-07-05T10:07:18.040Z"
   },
   {
    "duration": 9,
    "start_time": "2022-07-05T10:07:18.051Z"
   },
   {
    "duration": 52,
    "start_time": "2022-07-05T10:07:18.062Z"
   },
   {
    "duration": 21,
    "start_time": "2022-07-05T10:07:18.117Z"
   },
   {
    "duration": 154,
    "start_time": "2022-07-05T10:07:18.140Z"
   },
   {
    "duration": 0,
    "start_time": "2022-07-05T10:07:18.296Z"
   },
   {
    "duration": 4,
    "start_time": "2022-07-05T10:09:37.668Z"
   },
   {
    "duration": 8,
    "start_time": "2022-07-05T10:09:38.514Z"
   },
   {
    "duration": 31,
    "start_time": "2022-07-05T10:09:39.195Z"
   },
   {
    "duration": 3,
    "start_time": "2022-07-05T10:09:55.219Z"
   },
   {
    "duration": 12,
    "start_time": "2022-07-05T10:14:00.819Z"
   },
   {
    "duration": 5,
    "start_time": "2022-07-05T10:14:32.950Z"
   },
   {
    "duration": 18,
    "start_time": "2022-07-05T10:14:41.270Z"
   },
   {
    "duration": 8,
    "start_time": "2022-07-05T10:15:12.709Z"
   },
   {
    "duration": 16,
    "start_time": "2022-07-05T10:15:55.988Z"
   },
   {
    "duration": 38,
    "start_time": "2022-07-05T10:16:11.571Z"
   },
   {
    "duration": 7,
    "start_time": "2022-07-05T10:16:14.731Z"
   },
   {
    "duration": 4,
    "start_time": "2022-07-05T10:16:15.738Z"
   },
   {
    "duration": 21,
    "start_time": "2022-07-05T10:16:16.695Z"
   },
   {
    "duration": 3,
    "start_time": "2022-07-05T10:18:57.731Z"
   },
   {
    "duration": 10,
    "start_time": "2022-07-05T10:22:54.612Z"
   },
   {
    "duration": 4,
    "start_time": "2022-07-05T10:22:59.802Z"
   },
   {
    "duration": 6,
    "start_time": "2022-07-05T10:32:56.028Z"
   },
   {
    "duration": 10,
    "start_time": "2022-07-05T10:45:40.417Z"
   },
   {
    "duration": 37,
    "start_time": "2022-07-05T10:45:45.506Z"
   },
   {
    "duration": 1176,
    "start_time": "2022-07-06T17:45:01.109Z"
   },
   {
    "duration": 64,
    "start_time": "2022-07-06T17:45:02.287Z"
   },
   {
    "duration": 13,
    "start_time": "2022-07-06T17:45:02.353Z"
   },
   {
    "duration": 21,
    "start_time": "2022-07-06T17:45:02.368Z"
   },
   {
    "duration": 32,
    "start_time": "2022-07-06T17:45:02.391Z"
   },
   {
    "duration": 4,
    "start_time": "2022-07-06T17:45:02.426Z"
   },
   {
    "duration": 15,
    "start_time": "2022-07-06T17:45:02.432Z"
   },
   {
    "duration": 22,
    "start_time": "2022-07-06T17:45:02.449Z"
   },
   {
    "duration": 4,
    "start_time": "2022-07-06T17:45:02.474Z"
   },
   {
    "duration": 6,
    "start_time": "2022-07-06T17:45:02.481Z"
   },
   {
    "duration": 23,
    "start_time": "2022-07-06T17:45:02.524Z"
   },
   {
    "duration": 13,
    "start_time": "2022-07-06T17:45:02.549Z"
   },
   {
    "duration": 17,
    "start_time": "2022-07-06T17:45:02.564Z"
   },
   {
    "duration": 11,
    "start_time": "2022-07-06T17:45:02.583Z"
   },
   {
    "duration": 27,
    "start_time": "2022-07-06T17:45:02.596Z"
   },
   {
    "duration": 20,
    "start_time": "2022-07-06T17:45:02.625Z"
   },
   {
    "duration": 26,
    "start_time": "2022-07-06T17:45:02.647Z"
   },
   {
    "duration": 9,
    "start_time": "2022-07-06T17:45:02.676Z"
   },
   {
    "duration": 7,
    "start_time": "2022-07-06T17:45:02.687Z"
   },
   {
    "duration": 36,
    "start_time": "2022-07-06T17:45:02.696Z"
   },
   {
    "duration": 114,
    "start_time": "2022-07-06T17:48:07.863Z"
   },
   {
    "duration": 20,
    "start_time": "2022-07-06T17:48:18.206Z"
   },
   {
    "duration": 1191,
    "start_time": "2022-07-06T17:49:04.927Z"
   },
   {
    "duration": 31,
    "start_time": "2022-07-06T17:49:06.122Z"
   },
   {
    "duration": 10,
    "start_time": "2022-07-06T17:49:06.155Z"
   },
   {
    "duration": 17,
    "start_time": "2022-07-06T17:49:06.168Z"
   },
   {
    "duration": 41,
    "start_time": "2022-07-06T17:49:06.187Z"
   },
   {
    "duration": 5,
    "start_time": "2022-07-06T17:49:06.230Z"
   },
   {
    "duration": 16,
    "start_time": "2022-07-06T17:49:06.237Z"
   },
   {
    "duration": 32,
    "start_time": "2022-07-06T17:49:06.255Z"
   },
   {
    "duration": 4,
    "start_time": "2022-07-06T17:49:06.289Z"
   },
   {
    "duration": 5,
    "start_time": "2022-07-06T17:49:06.323Z"
   },
   {
    "duration": 14,
    "start_time": "2022-07-06T17:49:06.330Z"
   },
   {
    "duration": 14,
    "start_time": "2022-07-06T17:49:06.346Z"
   },
   {
    "duration": 8,
    "start_time": "2022-07-06T17:49:06.362Z"
   },
   {
    "duration": 6,
    "start_time": "2022-07-06T17:49:06.372Z"
   },
   {
    "duration": 46,
    "start_time": "2022-07-06T17:49:06.380Z"
   },
   {
    "duration": 13,
    "start_time": "2022-07-06T17:49:06.428Z"
   },
   {
    "duration": 24,
    "start_time": "2022-07-06T17:49:06.444Z"
   },
   {
    "duration": 8,
    "start_time": "2022-07-06T17:49:06.470Z"
   },
   {
    "duration": 7,
    "start_time": "2022-07-06T17:49:06.480Z"
   },
   {
    "duration": 42,
    "start_time": "2022-07-06T17:49:06.489Z"
   },
   {
    "duration": 119,
    "start_time": "2022-07-06T17:49:06.534Z"
   },
   {
    "duration": 20,
    "start_time": "2022-07-06T17:49:58.662Z"
   },
   {
    "duration": 5,
    "start_time": "2022-07-06T17:52:27.848Z"
   },
   {
    "duration": 5,
    "start_time": "2022-07-06T17:52:30.493Z"
   },
   {
    "duration": 18,
    "start_time": "2022-07-06T17:52:38.677Z"
   },
   {
    "duration": 21,
    "start_time": "2022-07-06T17:53:12.878Z"
   },
   {
    "duration": 21,
    "start_time": "2022-07-06T17:54:03.235Z"
   },
   {
    "duration": 1086,
    "start_time": "2022-07-06T17:59:13.971Z"
   },
   {
    "duration": 30,
    "start_time": "2022-07-06T17:59:15.060Z"
   },
   {
    "duration": 9,
    "start_time": "2022-07-06T17:59:15.091Z"
   },
   {
    "duration": 22,
    "start_time": "2022-07-06T17:59:15.102Z"
   },
   {
    "duration": 16,
    "start_time": "2022-07-06T17:59:15.127Z"
   },
   {
    "duration": 5,
    "start_time": "2022-07-06T17:59:15.144Z"
   },
   {
    "duration": 14,
    "start_time": "2022-07-06T17:59:15.151Z"
   },
   {
    "duration": 21,
    "start_time": "2022-07-06T17:59:15.167Z"
   },
   {
    "duration": 34,
    "start_time": "2022-07-06T17:59:15.190Z"
   },
   {
    "duration": 7,
    "start_time": "2022-07-06T17:59:15.226Z"
   },
   {
    "duration": 15,
    "start_time": "2022-07-06T17:59:15.235Z"
   },
   {
    "duration": 12,
    "start_time": "2022-07-06T17:59:15.252Z"
   },
   {
    "duration": 8,
    "start_time": "2022-07-06T17:59:15.266Z"
   },
   {
    "duration": 5,
    "start_time": "2022-07-06T17:59:15.277Z"
   },
   {
    "duration": 7,
    "start_time": "2022-07-06T17:59:15.284Z"
   },
   {
    "duration": 10,
    "start_time": "2022-07-06T17:59:15.323Z"
   },
   {
    "duration": 11,
    "start_time": "2022-07-06T17:59:15.334Z"
   },
   {
    "duration": 18,
    "start_time": "2022-07-06T17:59:15.347Z"
   },
   {
    "duration": 5,
    "start_time": "2022-07-06T17:59:15.366Z"
   },
   {
    "duration": 16,
    "start_time": "2022-07-06T17:59:15.372Z"
   },
   {
    "duration": 144,
    "start_time": "2022-07-06T17:59:15.390Z"
   },
   {
    "duration": 1109,
    "start_time": "2022-07-06T18:00:31.140Z"
   },
   {
    "duration": 29,
    "start_time": "2022-07-06T18:00:32.251Z"
   },
   {
    "duration": 9,
    "start_time": "2022-07-06T18:00:32.281Z"
   },
   {
    "duration": 16,
    "start_time": "2022-07-06T18:00:32.292Z"
   },
   {
    "duration": 31,
    "start_time": "2022-07-06T18:00:32.310Z"
   },
   {
    "duration": 5,
    "start_time": "2022-07-06T18:00:32.343Z"
   },
   {
    "duration": 15,
    "start_time": "2022-07-06T18:00:32.349Z"
   },
   {
    "duration": 22,
    "start_time": "2022-07-06T18:00:32.366Z"
   },
   {
    "duration": 5,
    "start_time": "2022-07-06T18:00:32.390Z"
   },
   {
    "duration": 34,
    "start_time": "2022-07-06T18:00:32.398Z"
   },
   {
    "duration": 13,
    "start_time": "2022-07-06T18:00:32.434Z"
   },
   {
    "duration": 11,
    "start_time": "2022-07-06T18:00:32.449Z"
   },
   {
    "duration": 9,
    "start_time": "2022-07-06T18:00:32.462Z"
   },
   {
    "duration": 6,
    "start_time": "2022-07-06T18:00:32.472Z"
   },
   {
    "duration": 6,
    "start_time": "2022-07-06T18:00:32.479Z"
   },
   {
    "duration": 7,
    "start_time": "2022-07-06T18:00:32.487Z"
   },
   {
    "duration": 8,
    "start_time": "2022-07-06T18:00:32.496Z"
   },
   {
    "duration": 20,
    "start_time": "2022-07-06T18:00:32.506Z"
   },
   {
    "duration": 22,
    "start_time": "2022-07-06T18:00:32.528Z"
   },
   {
    "duration": 12,
    "start_time": "2022-07-06T18:00:32.552Z"
   },
   {
    "duration": 114,
    "start_time": "2022-07-06T18:00:32.566Z"
   },
   {
    "duration": 1098,
    "start_time": "2022-07-06T18:04:52.640Z"
   },
   {
    "duration": 28,
    "start_time": "2022-07-06T18:04:53.740Z"
   },
   {
    "duration": 10,
    "start_time": "2022-07-06T18:04:53.770Z"
   },
   {
    "duration": 19,
    "start_time": "2022-07-06T18:04:53.782Z"
   },
   {
    "duration": 22,
    "start_time": "2022-07-06T18:04:53.803Z"
   },
   {
    "duration": 6,
    "start_time": "2022-07-06T18:04:53.826Z"
   },
   {
    "duration": 14,
    "start_time": "2022-07-06T18:04:53.834Z"
   },
   {
    "duration": 24,
    "start_time": "2022-07-06T18:04:53.849Z"
   },
   {
    "duration": 6,
    "start_time": "2022-07-06T18:04:53.874Z"
   },
   {
    "duration": 4,
    "start_time": "2022-07-06T18:04:53.883Z"
   },
   {
    "duration": 44,
    "start_time": "2022-07-06T18:04:53.889Z"
   },
   {
    "duration": 14,
    "start_time": "2022-07-06T18:04:53.935Z"
   },
   {
    "duration": 6,
    "start_time": "2022-07-06T18:04:53.951Z"
   },
   {
    "duration": 7,
    "start_time": "2022-07-06T18:04:53.958Z"
   },
   {
    "duration": 4,
    "start_time": "2022-07-06T18:04:53.967Z"
   },
   {
    "duration": 11,
    "start_time": "2022-07-06T18:04:53.973Z"
   },
   {
    "duration": 52,
    "start_time": "2022-07-06T18:04:53.986Z"
   },
   {
    "duration": 7,
    "start_time": "2022-07-06T18:04:54.039Z"
   },
   {
    "duration": 6,
    "start_time": "2022-07-06T18:04:54.048Z"
   },
   {
    "duration": 14,
    "start_time": "2022-07-06T18:04:54.056Z"
   },
   {
    "duration": 126,
    "start_time": "2022-07-06T18:04:54.071Z"
   },
   {
    "duration": 1119,
    "start_time": "2022-07-07T06:58:03.120Z"
   },
   {
    "duration": 61,
    "start_time": "2022-07-07T06:58:04.241Z"
   },
   {
    "duration": 8,
    "start_time": "2022-07-07T06:58:04.303Z"
   },
   {
    "duration": 14,
    "start_time": "2022-07-07T06:58:04.314Z"
   },
   {
    "duration": 14,
    "start_time": "2022-07-07T06:58:04.330Z"
   },
   {
    "duration": 4,
    "start_time": "2022-07-07T06:58:04.346Z"
   },
   {
    "duration": 20,
    "start_time": "2022-07-07T06:58:04.352Z"
   },
   {
    "duration": 24,
    "start_time": "2022-07-07T06:58:04.374Z"
   },
   {
    "duration": 6,
    "start_time": "2022-07-07T06:58:04.400Z"
   },
   {
    "duration": 14,
    "start_time": "2022-07-07T06:58:04.408Z"
   },
   {
    "duration": 32,
    "start_time": "2022-07-07T06:58:04.423Z"
   },
   {
    "duration": 22,
    "start_time": "2022-07-07T06:58:04.457Z"
   },
   {
    "duration": 19,
    "start_time": "2022-07-07T06:58:04.481Z"
   },
   {
    "duration": 16,
    "start_time": "2022-07-07T06:58:04.502Z"
   },
   {
    "duration": 7,
    "start_time": "2022-07-07T06:58:04.520Z"
   },
   {
    "duration": 20,
    "start_time": "2022-07-07T06:58:04.529Z"
   },
   {
    "duration": 23,
    "start_time": "2022-07-07T06:58:04.551Z"
   },
   {
    "duration": 9,
    "start_time": "2022-07-07T06:58:04.576Z"
   },
   {
    "duration": 12,
    "start_time": "2022-07-07T06:58:04.587Z"
   },
   {
    "duration": 15,
    "start_time": "2022-07-07T06:58:04.600Z"
   },
   {
    "duration": 107,
    "start_time": "2022-07-07T06:58:04.616Z"
   },
   {
    "duration": 1049,
    "start_time": "2022-07-07T06:59:06.594Z"
   },
   {
    "duration": 33,
    "start_time": "2022-07-07T06:59:07.645Z"
   },
   {
    "duration": 8,
    "start_time": "2022-07-07T06:59:07.681Z"
   },
   {
    "duration": 16,
    "start_time": "2022-07-07T06:59:07.690Z"
   },
   {
    "duration": 14,
    "start_time": "2022-07-07T06:59:07.708Z"
   },
   {
    "duration": 4,
    "start_time": "2022-07-07T06:59:07.723Z"
   },
   {
    "duration": 18,
    "start_time": "2022-07-07T06:59:07.728Z"
   },
   {
    "duration": 25,
    "start_time": "2022-07-07T06:59:07.748Z"
   },
   {
    "duration": 5,
    "start_time": "2022-07-07T06:59:07.775Z"
   },
   {
    "duration": 5,
    "start_time": "2022-07-07T06:59:07.783Z"
   },
   {
    "duration": 4,
    "start_time": "2022-07-07T06:59:07.789Z"
   },
   {
    "duration": 13,
    "start_time": "2022-07-07T06:59:07.794Z"
   },
   {
    "duration": 6,
    "start_time": "2022-07-07T06:59:07.809Z"
   },
   {
    "duration": 27,
    "start_time": "2022-07-07T06:59:07.816Z"
   },
   {
    "duration": 3,
    "start_time": "2022-07-07T06:59:07.845Z"
   },
   {
    "duration": 9,
    "start_time": "2022-07-07T06:59:07.849Z"
   },
   {
    "duration": 7,
    "start_time": "2022-07-07T06:59:07.859Z"
   },
   {
    "duration": 10,
    "start_time": "2022-07-07T06:59:07.867Z"
   },
   {
    "duration": 10,
    "start_time": "2022-07-07T06:59:07.879Z"
   },
   {
    "duration": 12,
    "start_time": "2022-07-07T06:59:07.890Z"
   },
   {
    "duration": 112,
    "start_time": "2022-07-07T06:59:07.903Z"
   },
   {
    "duration": 1484,
    "start_time": "2022-07-07T06:59:36.157Z"
   },
   {
    "duration": 35,
    "start_time": "2022-07-07T06:59:37.644Z"
   },
   {
    "duration": 9,
    "start_time": "2022-07-07T06:59:37.681Z"
   },
   {
    "duration": 22,
    "start_time": "2022-07-07T06:59:37.695Z"
   },
   {
    "duration": 24,
    "start_time": "2022-07-07T06:59:37.719Z"
   },
   {
    "duration": 8,
    "start_time": "2022-07-07T06:59:37.745Z"
   },
   {
    "duration": 44,
    "start_time": "2022-07-07T06:59:37.754Z"
   },
   {
    "duration": 26,
    "start_time": "2022-07-07T06:59:37.799Z"
   },
   {
    "duration": 5,
    "start_time": "2022-07-07T06:59:37.827Z"
   },
   {
    "duration": 6,
    "start_time": "2022-07-07T06:59:37.834Z"
   },
   {
    "duration": 20,
    "start_time": "2022-07-07T06:59:37.841Z"
   },
   {
    "duration": 25,
    "start_time": "2022-07-07T06:59:37.862Z"
   },
   {
    "duration": 6,
    "start_time": "2022-07-07T06:59:37.889Z"
   },
   {
    "duration": 15,
    "start_time": "2022-07-07T06:59:37.898Z"
   },
   {
    "duration": 3,
    "start_time": "2022-07-07T06:59:37.915Z"
   },
   {
    "duration": 12,
    "start_time": "2022-07-07T06:59:37.919Z"
   },
   {
    "duration": 11,
    "start_time": "2022-07-07T06:59:37.933Z"
   },
   {
    "duration": 27,
    "start_time": "2022-07-07T06:59:37.946Z"
   },
   {
    "duration": 14,
    "start_time": "2022-07-07T06:59:37.975Z"
   },
   {
    "duration": 14,
    "start_time": "2022-07-07T06:59:37.991Z"
   },
   {
    "duration": 134,
    "start_time": "2022-07-07T06:59:38.007Z"
   },
   {
    "duration": 7,
    "start_time": "2022-07-07T07:00:58.509Z"
   },
   {
    "duration": 15,
    "start_time": "2022-07-07T07:00:59.467Z"
   },
   {
    "duration": 1123,
    "start_time": "2022-07-07T07:01:06.722Z"
   },
   {
    "duration": 30,
    "start_time": "2022-07-07T07:01:07.848Z"
   },
   {
    "duration": 8,
    "start_time": "2022-07-07T07:01:07.880Z"
   },
   {
    "duration": 13,
    "start_time": "2022-07-07T07:01:07.890Z"
   },
   {
    "duration": 16,
    "start_time": "2022-07-07T07:01:07.904Z"
   },
   {
    "duration": 4,
    "start_time": "2022-07-07T07:01:07.922Z"
   },
   {
    "duration": 23,
    "start_time": "2022-07-07T07:01:07.927Z"
   },
   {
    "duration": 29,
    "start_time": "2022-07-07T07:01:07.953Z"
   },
   {
    "duration": 5,
    "start_time": "2022-07-07T07:01:07.984Z"
   },
   {
    "duration": 4,
    "start_time": "2022-07-07T07:01:07.991Z"
   },
   {
    "duration": 12,
    "start_time": "2022-07-07T07:01:07.996Z"
   },
   {
    "duration": 39,
    "start_time": "2022-07-07T07:01:08.009Z"
   },
   {
    "duration": 8,
    "start_time": "2022-07-07T07:01:08.050Z"
   },
   {
    "duration": 9,
    "start_time": "2022-07-07T07:01:08.060Z"
   },
   {
    "duration": 8,
    "start_time": "2022-07-07T07:01:08.071Z"
   },
   {
    "duration": 5,
    "start_time": "2022-07-07T07:01:08.081Z"
   },
   {
    "duration": 6,
    "start_time": "2022-07-07T07:01:08.088Z"
   },
   {
    "duration": 16,
    "start_time": "2022-07-07T07:01:08.096Z"
   },
   {
    "duration": 4,
    "start_time": "2022-07-07T07:01:08.114Z"
   },
   {
    "duration": 28,
    "start_time": "2022-07-07T07:01:08.120Z"
   },
   {
    "duration": 108,
    "start_time": "2022-07-07T07:01:08.150Z"
   },
   {
    "duration": 14,
    "start_time": "2022-07-07T07:06:26.351Z"
   },
   {
    "duration": 923,
    "start_time": "2022-07-07T07:14:50.284Z"
   },
   {
    "duration": 27,
    "start_time": "2022-07-07T07:14:51.208Z"
   },
   {
    "duration": 8,
    "start_time": "2022-07-07T07:14:51.237Z"
   },
   {
    "duration": 14,
    "start_time": "2022-07-07T07:14:51.247Z"
   },
   {
    "duration": 14,
    "start_time": "2022-07-07T07:14:51.262Z"
   },
   {
    "duration": 4,
    "start_time": "2022-07-07T07:14:51.278Z"
   },
   {
    "duration": 13,
    "start_time": "2022-07-07T07:14:51.283Z"
   },
   {
    "duration": 20,
    "start_time": "2022-07-07T07:14:51.298Z"
   },
   {
    "duration": 25,
    "start_time": "2022-07-07T07:14:51.320Z"
   },
   {
    "duration": 8,
    "start_time": "2022-07-07T07:14:51.347Z"
   },
   {
    "duration": 15,
    "start_time": "2022-07-07T07:14:51.357Z"
   },
   {
    "duration": 11,
    "start_time": "2022-07-07T07:14:51.373Z"
   },
   {
    "duration": 18,
    "start_time": "2022-07-07T07:14:51.385Z"
   },
   {
    "duration": 8,
    "start_time": "2022-07-07T07:14:51.405Z"
   },
   {
    "duration": 5,
    "start_time": "2022-07-07T07:14:51.414Z"
   },
   {
    "duration": 6,
    "start_time": "2022-07-07T07:14:51.421Z"
   },
   {
    "duration": 10,
    "start_time": "2022-07-07T07:14:51.429Z"
   },
   {
    "duration": 7,
    "start_time": "2022-07-07T07:14:51.442Z"
   },
   {
    "duration": 7,
    "start_time": "2022-07-07T07:14:51.450Z"
   },
   {
    "duration": 27,
    "start_time": "2022-07-07T07:14:51.459Z"
   },
   {
    "duration": 7,
    "start_time": "2022-07-07T07:14:51.488Z"
   },
   {
    "duration": 58,
    "start_time": "2022-07-07T07:14:51.496Z"
   },
   {
    "duration": 948,
    "start_time": "2022-07-07T07:16:36.200Z"
   },
   {
    "duration": 26,
    "start_time": "2022-07-07T07:16:37.150Z"
   },
   {
    "duration": 8,
    "start_time": "2022-07-07T07:16:37.177Z"
   },
   {
    "duration": 14,
    "start_time": "2022-07-07T07:16:37.186Z"
   },
   {
    "duration": 14,
    "start_time": "2022-07-07T07:16:37.202Z"
   },
   {
    "duration": 4,
    "start_time": "2022-07-07T07:16:37.218Z"
   },
   {
    "duration": 24,
    "start_time": "2022-07-07T07:16:37.223Z"
   },
   {
    "duration": 18,
    "start_time": "2022-07-07T07:16:37.249Z"
   },
   {
    "duration": 4,
    "start_time": "2022-07-07T07:16:37.269Z"
   },
   {
    "duration": 5,
    "start_time": "2022-07-07T07:16:37.275Z"
   },
   {
    "duration": 12,
    "start_time": "2022-07-07T07:16:37.281Z"
   },
   {
    "duration": 10,
    "start_time": "2022-07-07T07:16:37.295Z"
   },
   {
    "duration": 40,
    "start_time": "2022-07-07T07:16:37.307Z"
   },
   {
    "duration": 7,
    "start_time": "2022-07-07T07:16:37.349Z"
   },
   {
    "duration": 6,
    "start_time": "2022-07-07T07:16:37.357Z"
   },
   {
    "duration": 12,
    "start_time": "2022-07-07T07:16:37.364Z"
   },
   {
    "duration": 14,
    "start_time": "2022-07-07T07:16:37.377Z"
   },
   {
    "duration": 6,
    "start_time": "2022-07-07T07:16:37.393Z"
   },
   {
    "duration": 6,
    "start_time": "2022-07-07T07:16:37.400Z"
   },
   {
    "duration": 44,
    "start_time": "2022-07-07T07:16:37.407Z"
   },
   {
    "duration": 6,
    "start_time": "2022-07-07T07:16:37.453Z"
   },
   {
    "duration": 64,
    "start_time": "2022-07-07T07:16:37.461Z"
   },
   {
    "duration": 49,
    "start_time": "2022-07-07T07:17:23.242Z"
   },
   {
    "duration": 54,
    "start_time": "2022-07-07T07:17:37.945Z"
   },
   {
    "duration": 56,
    "start_time": "2022-07-07T07:17:41.469Z"
   },
   {
    "duration": 59,
    "start_time": "2022-07-07T07:18:45.336Z"
   },
   {
    "duration": 49,
    "start_time": "2022-07-07T07:18:50.191Z"
   },
   {
    "duration": 51,
    "start_time": "2022-07-07T07:18:57.575Z"
   },
   {
    "duration": 53,
    "start_time": "2022-07-07T07:19:31.887Z"
   },
   {
    "duration": 56,
    "start_time": "2022-07-07T07:19:41.719Z"
   },
   {
    "duration": 199,
    "start_time": "2022-07-07T07:19:45.832Z"
   },
   {
    "duration": 51,
    "start_time": "2022-07-07T07:19:52.268Z"
   },
   {
    "duration": 54,
    "start_time": "2022-07-07T07:19:58.614Z"
   },
   {
    "duration": 59,
    "start_time": "2022-07-07T07:21:14.096Z"
   },
   {
    "duration": 49,
    "start_time": "2022-07-07T07:21:26.967Z"
   },
   {
    "duration": 50,
    "start_time": "2022-07-07T07:21:41.734Z"
   },
   {
    "duration": 55,
    "start_time": "2022-07-07T07:22:42.816Z"
   },
   {
    "duration": 61,
    "start_time": "2022-07-07T07:22:48.542Z"
   },
   {
    "duration": 53,
    "start_time": "2022-07-07T07:23:33.542Z"
   },
   {
    "duration": 1014,
    "start_time": "2022-07-07T07:26:04.802Z"
   },
   {
    "duration": 32,
    "start_time": "2022-07-07T07:26:05.818Z"
   },
   {
    "duration": 14,
    "start_time": "2022-07-07T07:26:05.852Z"
   },
   {
    "duration": 13,
    "start_time": "2022-07-07T07:26:05.869Z"
   },
   {
    "duration": 15,
    "start_time": "2022-07-07T07:26:05.884Z"
   },
   {
    "duration": 5,
    "start_time": "2022-07-07T07:26:05.900Z"
   },
   {
    "duration": 38,
    "start_time": "2022-07-07T07:26:05.906Z"
   },
   {
    "duration": 25,
    "start_time": "2022-07-07T07:26:05.945Z"
   },
   {
    "duration": 5,
    "start_time": "2022-07-07T07:26:05.972Z"
   },
   {
    "duration": 6,
    "start_time": "2022-07-07T07:26:05.979Z"
   },
   {
    "duration": 11,
    "start_time": "2022-07-07T07:26:05.987Z"
   },
   {
    "duration": 12,
    "start_time": "2022-07-07T07:26:06.000Z"
   },
   {
    "duration": 34,
    "start_time": "2022-07-07T07:26:06.014Z"
   },
   {
    "duration": 8,
    "start_time": "2022-07-07T07:26:06.050Z"
   },
   {
    "duration": 7,
    "start_time": "2022-07-07T07:26:06.060Z"
   },
   {
    "duration": 13,
    "start_time": "2022-07-07T07:26:06.068Z"
   },
   {
    "duration": 13,
    "start_time": "2022-07-07T07:26:06.083Z"
   },
   {
    "duration": 7,
    "start_time": "2022-07-07T07:26:06.097Z"
   },
   {
    "duration": 4,
    "start_time": "2022-07-07T07:26:06.106Z"
   },
   {
    "duration": 40,
    "start_time": "2022-07-07T07:26:06.112Z"
   },
   {
    "duration": 5,
    "start_time": "2022-07-07T07:26:06.154Z"
   },
   {
    "duration": 58,
    "start_time": "2022-07-07T07:26:06.161Z"
   },
   {
    "duration": 1845,
    "start_time": "2022-07-07T07:30:11.659Z"
   },
   {
    "duration": 1901,
    "start_time": "2022-07-07T07:30:32.275Z"
   },
   {
    "duration": 1855,
    "start_time": "2022-07-07T07:30:57.161Z"
   },
   {
    "duration": 1894,
    "start_time": "2022-07-07T07:32:13.594Z"
   },
   {
    "duration": 1880,
    "start_time": "2022-07-07T07:32:52.388Z"
   },
   {
    "duration": 1850,
    "start_time": "2022-07-07T07:32:56.722Z"
   },
   {
    "duration": 1952,
    "start_time": "2022-07-07T07:33:40.742Z"
   },
   {
    "duration": 31,
    "start_time": "2022-07-07T07:35:55.254Z"
   },
   {
    "duration": 38,
    "start_time": "2022-07-07T07:36:08.122Z"
   },
   {
    "duration": 89,
    "start_time": "2022-07-07T07:41:17.880Z"
   },
   {
    "duration": 941,
    "start_time": "2022-07-07T07:48:26.169Z"
   },
   {
    "duration": 27,
    "start_time": "2022-07-07T07:48:27.112Z"
   },
   {
    "duration": 8,
    "start_time": "2022-07-07T07:48:27.141Z"
   },
   {
    "duration": 13,
    "start_time": "2022-07-07T07:48:27.151Z"
   },
   {
    "duration": 13,
    "start_time": "2022-07-07T07:48:27.166Z"
   },
   {
    "duration": 4,
    "start_time": "2022-07-07T07:48:27.181Z"
   },
   {
    "duration": 16,
    "start_time": "2022-07-07T07:48:27.186Z"
   },
   {
    "duration": 42,
    "start_time": "2022-07-07T07:48:27.204Z"
   },
   {
    "duration": 4,
    "start_time": "2022-07-07T07:48:27.247Z"
   },
   {
    "duration": 5,
    "start_time": "2022-07-07T07:48:27.254Z"
   },
   {
    "duration": 14,
    "start_time": "2022-07-07T07:48:27.261Z"
   },
   {
    "duration": 12,
    "start_time": "2022-07-07T07:48:27.276Z"
   },
   {
    "duration": 6,
    "start_time": "2022-07-07T07:48:27.289Z"
   },
   {
    "duration": 7,
    "start_time": "2022-07-07T07:48:27.296Z"
   },
   {
    "duration": 39,
    "start_time": "2022-07-07T07:48:27.305Z"
   },
   {
    "duration": 14,
    "start_time": "2022-07-07T07:48:27.346Z"
   },
   {
    "duration": 14,
    "start_time": "2022-07-07T07:48:27.362Z"
   },
   {
    "duration": 9,
    "start_time": "2022-07-07T07:48:27.377Z"
   },
   {
    "duration": 9,
    "start_time": "2022-07-07T07:48:27.388Z"
   },
   {
    "duration": 31,
    "start_time": "2022-07-07T07:48:27.399Z"
   },
   {
    "duration": 12,
    "start_time": "2022-07-07T07:48:27.431Z"
   },
   {
    "duration": 54,
    "start_time": "2022-07-07T07:48:27.444Z"
   },
   {
    "duration": 2107,
    "start_time": "2022-07-07T07:48:27.500Z"
   },
   {
    "duration": 51,
    "start_time": "2022-07-07T07:48:29.609Z"
   },
   {
    "duration": 429247,
    "start_time": "2022-07-07T07:48:29.662Z"
   },
   {
    "duration": 90,
    "start_time": "2022-07-07T07:57:59.501Z"
   },
   {
    "duration": 35,
    "start_time": "2022-07-07T07:58:04.539Z"
   },
   {
    "duration": 34,
    "start_time": "2022-07-07T07:58:11.108Z"
   },
   {
    "duration": 72,
    "start_time": "2022-07-07T07:58:59.077Z"
   },
   {
    "duration": 5,
    "start_time": "2022-07-07T08:01:39.900Z"
   },
   {
    "duration": 3,
    "start_time": "2022-07-07T08:02:20.551Z"
   },
   {
    "duration": 37,
    "start_time": "2022-07-07T08:11:20.500Z"
   },
   {
    "duration": 25,
    "start_time": "2022-07-07T08:11:27.742Z"
   },
   {
    "duration": 19,
    "start_time": "2022-07-07T08:11:59.877Z"
   },
   {
    "duration": 72,
    "start_time": "2022-07-07T08:12:02.083Z"
   },
   {
    "duration": 96,
    "start_time": "2022-07-07T08:12:19.251Z"
   },
   {
    "duration": 4,
    "start_time": "2022-07-07T08:12:33.832Z"
   },
   {
    "duration": 6,
    "start_time": "2022-07-07T08:12:50.459Z"
   },
   {
    "duration": 6,
    "start_time": "2022-07-07T08:13:00.426Z"
   },
   {
    "duration": 16,
    "start_time": "2022-07-07T08:13:08.530Z"
   },
   {
    "duration": 5,
    "start_time": "2022-07-07T08:13:09.372Z"
   },
   {
    "duration": 50,
    "start_time": "2022-07-07T08:13:10.972Z"
   },
   {
    "duration": 13,
    "start_time": "2022-07-07T08:13:15.860Z"
   },
   {
    "duration": 5,
    "start_time": "2022-07-07T08:13:16.683Z"
   },
   {
    "duration": 53,
    "start_time": "2022-07-07T08:13:17.832Z"
   },
   {
    "duration": 14,
    "start_time": "2022-07-07T08:13:45.652Z"
   },
   {
    "duration": 5,
    "start_time": "2022-07-07T08:13:47.307Z"
   },
   {
    "duration": 95,
    "start_time": "2022-07-07T08:13:47.947Z"
   },
   {
    "duration": 16,
    "start_time": "2022-07-07T08:23:15.995Z"
   },
   {
    "duration": 15,
    "start_time": "2022-07-07T08:23:33.797Z"
   },
   {
    "duration": 16,
    "start_time": "2022-07-07T08:23:49.964Z"
   },
   {
    "duration": 19,
    "start_time": "2022-07-07T08:24:03.372Z"
   },
   {
    "duration": 20,
    "start_time": "2022-07-07T08:24:08.205Z"
   },
   {
    "duration": 13,
    "start_time": "2022-07-07T08:24:12.440Z"
   },
   {
    "duration": 14,
    "start_time": "2022-07-07T08:24:15.589Z"
   },
   {
    "duration": 19,
    "start_time": "2022-07-07T08:24:25.164Z"
   },
   {
    "duration": 17,
    "start_time": "2022-07-07T08:24:27.790Z"
   },
   {
    "duration": 100,
    "start_time": "2022-07-07T08:24:33.844Z"
   },
   {
    "duration": 20,
    "start_time": "2022-07-07T08:24:44.131Z"
   },
   {
    "duration": 15,
    "start_time": "2022-07-07T08:28:06.452Z"
   },
   {
    "duration": 7,
    "start_time": "2022-07-07T08:28:07.612Z"
   },
   {
    "duration": 100,
    "start_time": "2022-07-07T08:28:08.445Z"
   },
   {
    "duration": 14,
    "start_time": "2022-07-07T08:28:13.348Z"
   },
   {
    "duration": 8,
    "start_time": "2022-07-07T08:28:14.452Z"
   },
   {
    "duration": 43,
    "start_time": "2022-07-07T08:28:15.220Z"
   },
   {
    "duration": 13,
    "start_time": "2022-07-07T08:28:19.964Z"
   },
   {
    "duration": 7,
    "start_time": "2022-07-07T08:28:20.920Z"
   },
   {
    "duration": 57,
    "start_time": "2022-07-07T08:28:21.649Z"
   },
   {
    "duration": 1416,
    "start_time": "2022-07-07T08:28:43.476Z"
   },
   {
    "duration": 33,
    "start_time": "2022-07-07T08:28:44.894Z"
   },
   {
    "duration": 10,
    "start_time": "2022-07-07T08:28:44.929Z"
   },
   {
    "duration": 23,
    "start_time": "2022-07-07T08:28:44.945Z"
   },
   {
    "duration": 19,
    "start_time": "2022-07-07T08:28:44.970Z"
   },
   {
    "duration": 6,
    "start_time": "2022-07-07T08:28:44.990Z"
   },
   {
    "duration": 17,
    "start_time": "2022-07-07T08:28:44.998Z"
   },
   {
    "duration": 24,
    "start_time": "2022-07-07T08:28:45.042Z"
   },
   {
    "duration": 6,
    "start_time": "2022-07-07T08:28:45.069Z"
   },
   {
    "duration": 9,
    "start_time": "2022-07-07T08:28:45.079Z"
   },
   {
    "duration": 18,
    "start_time": "2022-07-07T08:28:45.091Z"
   },
   {
    "duration": 19,
    "start_time": "2022-07-07T08:28:45.143Z"
   },
   {
    "duration": 8,
    "start_time": "2022-07-07T08:28:45.164Z"
   },
   {
    "duration": 7,
    "start_time": "2022-07-07T08:28:45.174Z"
   },
   {
    "duration": 15,
    "start_time": "2022-07-07T08:28:45.184Z"
   },
   {
    "duration": 43,
    "start_time": "2022-07-07T08:28:45.201Z"
   },
   {
    "duration": 8,
    "start_time": "2022-07-07T08:28:45.246Z"
   },
   {
    "duration": 5,
    "start_time": "2022-07-07T08:28:45.256Z"
   },
   {
    "duration": 26,
    "start_time": "2022-07-07T08:28:45.263Z"
   },
   {
    "duration": 6,
    "start_time": "2022-07-07T08:28:45.291Z"
   },
   {
    "duration": 108,
    "start_time": "2022-07-07T08:28:45.299Z"
   },
   {
    "duration": 2481,
    "start_time": "2022-07-07T08:28:45.409Z"
   },
   {
    "duration": 55,
    "start_time": "2022-07-07T08:28:47.892Z"
   },
   {
    "duration": 117613,
    "start_time": "2022-07-07T08:28:47.950Z"
   },
   {
    "duration": 183,
    "start_time": "2022-07-07T08:30:45.565Z"
   },
   {
    "duration": 7,
    "start_time": "2022-07-07T08:30:45.750Z"
   },
   {
    "duration": 184,
    "start_time": "2022-07-07T08:30:45.759Z"
   },
   {
    "duration": 18,
    "start_time": "2022-07-07T08:30:45.948Z"
   },
   {
    "duration": 8,
    "start_time": "2022-07-07T08:30:45.969Z"
   },
   {
    "duration": 178,
    "start_time": "2022-07-07T08:30:45.979Z"
   },
   {
    "duration": 18,
    "start_time": "2022-07-07T08:30:46.243Z"
   },
   {
    "duration": 79,
    "start_time": "2022-07-07T08:30:46.264Z"
   },
   {
    "duration": 1219,
    "start_time": "2022-07-07T08:31:11.677Z"
   },
   {
    "duration": 33,
    "start_time": "2022-07-07T08:31:12.898Z"
   },
   {
    "duration": 12,
    "start_time": "2022-07-07T08:31:12.933Z"
   },
   {
    "duration": 16,
    "start_time": "2022-07-07T08:31:12.948Z"
   },
   {
    "duration": 17,
    "start_time": "2022-07-07T08:31:12.966Z"
   },
   {
    "duration": 4,
    "start_time": "2022-07-07T08:31:12.985Z"
   },
   {
    "duration": 17,
    "start_time": "2022-07-07T08:31:12.991Z"
   },
   {
    "duration": 23,
    "start_time": "2022-07-07T08:31:13.041Z"
   },
   {
    "duration": 5,
    "start_time": "2022-07-07T08:31:13.066Z"
   },
   {
    "duration": 5,
    "start_time": "2022-07-07T08:31:13.074Z"
   },
   {
    "duration": 14,
    "start_time": "2022-07-07T08:31:13.081Z"
   },
   {
    "duration": 14,
    "start_time": "2022-07-07T08:31:13.097Z"
   },
   {
    "duration": 6,
    "start_time": "2022-07-07T08:31:13.143Z"
   },
   {
    "duration": 4,
    "start_time": "2022-07-07T08:31:13.151Z"
   },
   {
    "duration": 19,
    "start_time": "2022-07-07T08:31:13.157Z"
   },
   {
    "duration": 21,
    "start_time": "2022-07-07T08:31:13.179Z"
   },
   {
    "duration": 8,
    "start_time": "2022-07-07T08:31:13.202Z"
   },
   {
    "duration": 33,
    "start_time": "2022-07-07T08:31:13.212Z"
   },
   {
    "duration": 24,
    "start_time": "2022-07-07T08:31:13.247Z"
   },
   {
    "duration": 12,
    "start_time": "2022-07-07T08:31:13.273Z"
   },
   {
    "duration": 106,
    "start_time": "2022-07-07T08:31:13.288Z"
   },
   {
    "duration": 2503,
    "start_time": "2022-07-07T08:31:13.396Z"
   },
   {
    "duration": 65,
    "start_time": "2022-07-07T08:31:15.902Z"
   },
   {
    "duration": 114505,
    "start_time": "2022-07-07T08:31:15.970Z"
   },
   {
    "duration": 166,
    "start_time": "2022-07-07T08:33:10.478Z"
   },
   {
    "duration": 8,
    "start_time": "2022-07-07T08:33:10.647Z"
   },
   {
    "duration": 285,
    "start_time": "2022-07-07T08:33:10.657Z"
   },
   {
    "duration": 15,
    "start_time": "2022-07-07T08:33:10.947Z"
   },
   {
    "duration": 6,
    "start_time": "2022-07-07T08:33:10.964Z"
   },
   {
    "duration": 80,
    "start_time": "2022-07-07T08:33:10.972Z"
   },
   {
    "duration": 3059,
    "start_time": "2022-07-07T08:33:11.054Z"
   },
   {
    "duration": 147953,
    "start_time": "2022-07-07T08:33:14.115Z"
   },
   {
    "duration": 20,
    "start_time": "2022-07-07T08:35:42.070Z"
   },
   {
    "duration": 57,
    "start_time": "2022-07-07T08:35:42.092Z"
   },
   {
    "duration": 1252,
    "start_time": "2022-07-07T08:35:42.151Z"
   },
   {
    "duration": 67077,
    "start_time": "2022-07-07T08:35:43.404Z"
   },
   {
    "duration": 4,
    "start_time": "2022-07-07T08:53:39.688Z"
   },
   {
    "duration": 127,
    "start_time": "2022-07-07T09:02:21.137Z"
   },
   {
    "duration": 40,
    "start_time": "2022-07-07T09:02:29.173Z"
   },
   {
    "duration": 28,
    "start_time": "2022-07-07T09:02:49.128Z"
   },
   {
    "duration": 37,
    "start_time": "2022-07-07T09:02:59.229Z"
   },
   {
    "duration": 36,
    "start_time": "2022-07-07T09:03:12.703Z"
   },
   {
    "duration": 389,
    "start_time": "2022-07-07T09:03:43.731Z"
   },
   {
    "duration": 203,
    "start_time": "2022-07-07T09:03:49.893Z"
   },
   {
    "duration": 192,
    "start_time": "2022-07-07T09:04:11.337Z"
   },
   {
    "duration": 260,
    "start_time": "2022-07-07T09:04:53.182Z"
   },
   {
    "duration": 1561,
    "start_time": "2022-07-07T09:12:30.375Z"
   },
   {
    "duration": 33,
    "start_time": "2022-07-07T09:12:31.939Z"
   },
   {
    "duration": 7,
    "start_time": "2022-07-07T09:12:31.974Z"
   },
   {
    "duration": 22,
    "start_time": "2022-07-07T09:12:31.984Z"
   },
   {
    "duration": 35,
    "start_time": "2022-07-07T09:12:32.008Z"
   },
   {
    "duration": 5,
    "start_time": "2022-07-07T09:12:32.045Z"
   },
   {
    "duration": 25,
    "start_time": "2022-07-07T09:12:32.053Z"
   },
   {
    "duration": 36,
    "start_time": "2022-07-07T09:12:32.080Z"
   },
   {
    "duration": 24,
    "start_time": "2022-07-07T09:12:32.119Z"
   },
   {
    "duration": 7,
    "start_time": "2022-07-07T09:12:32.147Z"
   },
   {
    "duration": 23,
    "start_time": "2022-07-07T09:12:32.156Z"
   },
   {
    "duration": 17,
    "start_time": "2022-07-07T09:12:32.181Z"
   },
   {
    "duration": 11,
    "start_time": "2022-07-07T09:12:32.201Z"
   },
   {
    "duration": 29,
    "start_time": "2022-07-07T09:12:32.214Z"
   },
   {
    "duration": 22,
    "start_time": "2022-07-07T09:12:32.246Z"
   },
   {
    "duration": 30,
    "start_time": "2022-07-07T09:12:32.270Z"
   },
   {
    "duration": 8,
    "start_time": "2022-07-07T09:12:32.302Z"
   },
   {
    "duration": 13,
    "start_time": "2022-07-07T09:12:32.312Z"
   },
   {
    "duration": 22,
    "start_time": "2022-07-07T09:12:32.328Z"
   },
   {
    "duration": 12,
    "start_time": "2022-07-07T09:12:32.352Z"
   },
   {
    "duration": 80,
    "start_time": "2022-07-07T09:12:32.366Z"
   },
   {
    "duration": 2463,
    "start_time": "2022-07-07T09:12:32.448Z"
   },
   {
    "duration": 63,
    "start_time": "2022-07-07T09:12:34.914Z"
   },
   {
    "duration": 114180,
    "start_time": "2022-07-07T09:12:34.978Z"
   },
   {
    "duration": 91,
    "start_time": "2022-07-07T09:14:29.160Z"
   },
   {
    "duration": 93,
    "start_time": "2022-07-07T09:14:29.253Z"
   },
   {
    "duration": 96,
    "start_time": "2022-07-07T09:14:29.348Z"
   },
   {
    "duration": 100,
    "start_time": "2022-07-07T09:14:29.448Z"
   },
   {
    "duration": 6,
    "start_time": "2022-07-07T09:14:29.551Z"
   },
   {
    "duration": 84,
    "start_time": "2022-07-07T09:14:29.560Z"
   },
   {
    "duration": 324,
    "start_time": "2022-07-07T09:14:29.646Z"
   },
   {
    "duration": 2885,
    "start_time": "2022-07-07T09:14:29.972Z"
   },
   {
    "duration": 218,
    "start_time": "2022-07-07T09:14:32.859Z"
   },
   {
    "duration": 147334,
    "start_time": "2022-07-07T09:14:33.079Z"
   },
   {
    "duration": 175,
    "start_time": "2022-07-07T09:17:00.415Z"
   },
   {
    "duration": 18,
    "start_time": "2022-07-07T09:17:00.592Z"
   },
   {
    "duration": 51,
    "start_time": "2022-07-07T09:17:00.612Z"
   },
   {
    "duration": 337,
    "start_time": "2022-07-07T09:17:00.744Z"
   },
   {
    "duration": 1214,
    "start_time": "2022-07-07T09:17:01.083Z"
   },
   {
    "duration": 131,
    "start_time": "2022-07-07T09:17:02.299Z"
   },
   {
    "duration": 67442,
    "start_time": "2022-07-07T09:17:02.432Z"
   },
   {
    "duration": 159,
    "start_time": "2022-07-07T09:18:09.876Z"
   },
   {
    "duration": 79,
    "start_time": "2022-07-07T09:24:18.273Z"
   },
   {
    "duration": 297,
    "start_time": "2022-07-07T09:24:19.159Z"
   },
   {
    "duration": 1464,
    "start_time": "2022-07-07T09:38:19.741Z"
   },
   {
    "duration": 33,
    "start_time": "2022-07-07T09:38:21.207Z"
   },
   {
    "duration": 7,
    "start_time": "2022-07-07T09:38:21.243Z"
   },
   {
    "duration": 24,
    "start_time": "2022-07-07T09:38:21.253Z"
   },
   {
    "duration": 19,
    "start_time": "2022-07-07T09:38:21.281Z"
   },
   {
    "duration": 41,
    "start_time": "2022-07-07T09:38:21.302Z"
   },
   {
    "duration": 28,
    "start_time": "2022-07-07T09:38:21.345Z"
   },
   {
    "duration": 26,
    "start_time": "2022-07-07T09:38:21.375Z"
   },
   {
    "duration": 7,
    "start_time": "2022-07-07T09:38:21.403Z"
   },
   {
    "duration": 34,
    "start_time": "2022-07-07T09:38:21.412Z"
   },
   {
    "duration": 42,
    "start_time": "2022-07-07T09:38:21.449Z"
   },
   {
    "duration": 15,
    "start_time": "2022-07-07T09:38:21.494Z"
   },
   {
    "duration": 35,
    "start_time": "2022-07-07T09:38:21.511Z"
   },
   {
    "duration": 19,
    "start_time": "2022-07-07T09:38:21.552Z"
   },
   {
    "duration": 28,
    "start_time": "2022-07-07T09:38:21.574Z"
   },
   {
    "duration": 50,
    "start_time": "2022-07-07T09:38:21.605Z"
   },
   {
    "duration": 8,
    "start_time": "2022-07-07T09:38:21.657Z"
   },
   {
    "duration": 13,
    "start_time": "2022-07-07T09:38:21.668Z"
   },
   {
    "duration": 18,
    "start_time": "2022-07-07T09:38:21.683Z"
   },
   {
    "duration": 17,
    "start_time": "2022-07-07T09:38:21.704Z"
   },
   {
    "duration": 89,
    "start_time": "2022-07-07T09:38:21.723Z"
   },
   {
    "duration": 2413,
    "start_time": "2022-07-07T09:38:21.814Z"
   },
   {
    "duration": 60,
    "start_time": "2022-07-07T09:38:24.229Z"
   },
   {
    "duration": 117298,
    "start_time": "2022-07-07T09:38:24.291Z"
   },
   {
    "duration": 163,
    "start_time": "2022-07-07T09:40:21.591Z"
   },
   {
    "duration": 88,
    "start_time": "2022-07-07T09:40:21.757Z"
   },
   {
    "duration": 197,
    "start_time": "2022-07-07T09:40:21.847Z"
   },
   {
    "duration": 356,
    "start_time": "2022-07-07T09:40:22.045Z"
   },
   {
    "duration": 18,
    "start_time": "2022-07-07T09:40:22.404Z"
   },
   {
    "duration": 21,
    "start_time": "2022-07-07T09:40:22.424Z"
   },
   {
    "duration": 106,
    "start_time": "2022-07-07T09:40:22.448Z"
   },
   {
    "duration": 465,
    "start_time": "2022-07-07T09:40:22.556Z"
   },
   {
    "duration": 2917,
    "start_time": "2022-07-07T09:40:23.023Z"
   },
   {
    "duration": 143,
    "start_time": "2022-07-07T09:40:25.942Z"
   },
   {
    "duration": 148779,
    "start_time": "2022-07-07T09:40:26.087Z"
   },
   {
    "duration": 160,
    "start_time": "2022-07-07T09:42:54.868Z"
   },
   {
    "duration": 32,
    "start_time": "2022-07-07T09:42:55.030Z"
   },
   {
    "duration": 82,
    "start_time": "2022-07-07T09:42:55.063Z"
   },
   {
    "duration": 401,
    "start_time": "2022-07-07T09:42:55.151Z"
   },
   {
    "duration": 1134,
    "start_time": "2022-07-07T09:42:55.554Z"
   },
   {
    "duration": 138,
    "start_time": "2022-07-07T09:42:56.692Z"
   },
   {
    "duration": 57201,
    "start_time": "2022-07-07T09:42:56.832Z"
   },
   {
    "duration": 135,
    "start_time": "2022-07-07T09:43:54.035Z"
   },
   {
    "duration": 140,
    "start_time": "2022-07-07T09:43:54.172Z"
   },
   {
    "duration": 1423,
    "start_time": "2022-07-09T10:20:44.075Z"
   },
   {
    "duration": 59,
    "start_time": "2022-07-09T10:20:47.149Z"
   },
   {
    "duration": 6,
    "start_time": "2022-07-09T10:20:58.780Z"
   },
   {
    "duration": 12,
    "start_time": "2022-07-09T10:21:00.083Z"
   },
   {
    "duration": 11,
    "start_time": "2022-07-09T10:21:04.230Z"
   },
   {
    "duration": 14,
    "start_time": "2022-07-09T10:26:07.781Z"
   },
   {
    "duration": 25,
    "start_time": "2022-07-09T10:27:14.311Z"
   },
   {
    "duration": 4,
    "start_time": "2022-07-09T10:27:33.458Z"
   },
   {
    "duration": 10,
    "start_time": "2022-07-09T10:28:02.851Z"
   },
   {
    "duration": 5,
    "start_time": "2022-07-09T10:28:04.806Z"
   },
   {
    "duration": 6,
    "start_time": "2022-07-09T10:28:05.971Z"
   },
   {
    "duration": 191,
    "start_time": "2022-07-09T10:28:22.578Z"
   },
   {
    "duration": 17,
    "start_time": "2022-07-09T10:28:28.437Z"
   },
   {
    "duration": 1423,
    "start_time": "2022-07-09T10:28:59.507Z"
   },
   {
    "duration": 31,
    "start_time": "2022-07-09T10:29:00.932Z"
   },
   {
    "duration": 5,
    "start_time": "2022-07-09T10:29:00.965Z"
   },
   {
    "duration": 20,
    "start_time": "2022-07-09T10:29:00.971Z"
   },
   {
    "duration": 15,
    "start_time": "2022-07-09T10:29:00.993Z"
   },
   {
    "duration": 15,
    "start_time": "2022-07-09T10:29:01.009Z"
   },
   {
    "duration": 22,
    "start_time": "2022-07-09T10:29:01.026Z"
   },
   {
    "duration": 34,
    "start_time": "2022-07-09T10:29:01.051Z"
   },
   {
    "duration": 5,
    "start_time": "2022-07-09T10:29:01.086Z"
   },
   {
    "duration": 27,
    "start_time": "2022-07-09T10:29:01.093Z"
   },
   {
    "duration": 25,
    "start_time": "2022-07-09T10:29:01.122Z"
   },
   {
    "duration": 16,
    "start_time": "2022-07-09T10:29:01.149Z"
   },
   {
    "duration": 191,
    "start_time": "2022-07-09T10:29:01.166Z"
   },
   {
    "duration": 0,
    "start_time": "2022-07-09T10:29:01.359Z"
   },
   {
    "duration": 0,
    "start_time": "2022-07-09T10:29:01.361Z"
   },
   {
    "duration": 0,
    "start_time": "2022-07-09T10:29:01.362Z"
   },
   {
    "duration": 0,
    "start_time": "2022-07-09T10:29:01.363Z"
   },
   {
    "duration": 0,
    "start_time": "2022-07-09T10:29:01.363Z"
   },
   {
    "duration": 0,
    "start_time": "2022-07-09T10:29:01.365Z"
   },
   {
    "duration": 0,
    "start_time": "2022-07-09T10:29:01.366Z"
   },
   {
    "duration": 1,
    "start_time": "2022-07-09T10:29:01.366Z"
   },
   {
    "duration": 0,
    "start_time": "2022-07-09T10:29:01.368Z"
   },
   {
    "duration": 0,
    "start_time": "2022-07-09T10:29:01.369Z"
   },
   {
    "duration": 0,
    "start_time": "2022-07-09T10:29:01.370Z"
   },
   {
    "duration": 1,
    "start_time": "2022-07-09T10:29:01.370Z"
   },
   {
    "duration": 0,
    "start_time": "2022-07-09T10:29:01.371Z"
   },
   {
    "duration": 0,
    "start_time": "2022-07-09T10:29:01.372Z"
   },
   {
    "duration": 0,
    "start_time": "2022-07-09T10:29:01.373Z"
   },
   {
    "duration": 0,
    "start_time": "2022-07-09T10:29:01.374Z"
   },
   {
    "duration": 0,
    "start_time": "2022-07-09T10:29:01.375Z"
   },
   {
    "duration": 0,
    "start_time": "2022-07-09T10:29:01.376Z"
   },
   {
    "duration": 0,
    "start_time": "2022-07-09T10:29:01.377Z"
   },
   {
    "duration": 0,
    "start_time": "2022-07-09T10:29:01.378Z"
   },
   {
    "duration": 0,
    "start_time": "2022-07-09T10:29:01.379Z"
   },
   {
    "duration": 0,
    "start_time": "2022-07-09T10:29:01.380Z"
   },
   {
    "duration": 0,
    "start_time": "2022-07-09T10:29:01.381Z"
   },
   {
    "duration": 0,
    "start_time": "2022-07-09T10:29:01.382Z"
   },
   {
    "duration": 0,
    "start_time": "2022-07-09T10:29:01.383Z"
   },
   {
    "duration": 0,
    "start_time": "2022-07-09T10:29:01.384Z"
   },
   {
    "duration": 0,
    "start_time": "2022-07-09T10:29:01.385Z"
   },
   {
    "duration": 0,
    "start_time": "2022-07-09T10:29:01.386Z"
   },
   {
    "duration": 0,
    "start_time": "2022-07-09T10:29:01.387Z"
   },
   {
    "duration": 0,
    "start_time": "2022-07-09T10:29:01.388Z"
   },
   {
    "duration": 0,
    "start_time": "2022-07-09T10:29:01.389Z"
   },
   {
    "duration": 6,
    "start_time": "2022-07-09T10:29:22.530Z"
   },
   {
    "duration": 12,
    "start_time": "2022-07-09T10:30:10.605Z"
   },
   {
    "duration": 4,
    "start_time": "2022-07-09T10:30:39.136Z"
   },
   {
    "duration": 3,
    "start_time": "2022-07-09T10:31:59.562Z"
   },
   {
    "duration": 8,
    "start_time": "2022-07-09T10:33:46.655Z"
   },
   {
    "duration": 14,
    "start_time": "2022-07-09T10:33:47.550Z"
   },
   {
    "duration": 6,
    "start_time": "2022-07-09T10:33:48.443Z"
   },
   {
    "duration": 5,
    "start_time": "2022-07-09T10:33:49.146Z"
   },
   {
    "duration": 11,
    "start_time": "2022-07-09T10:33:50.050Z"
   },
   {
    "duration": 4,
    "start_time": "2022-07-09T10:33:53.865Z"
   },
   {
    "duration": 66,
    "start_time": "2022-07-09T10:36:47.130Z"
   },
   {
    "duration": 2005,
    "start_time": "2022-07-09T10:37:58.874Z"
   },
   {
    "duration": 50,
    "start_time": "2022-07-09T10:45:17.136Z"
   },
   {
    "duration": 4,
    "start_time": "2022-07-09T10:45:18.234Z"
   },
   {
    "duration": 6,
    "start_time": "2022-07-09T10:46:33.872Z"
   },
   {
    "duration": 96177,
    "start_time": "2022-07-09T10:47:38.322Z"
   },
   {
    "duration": 90,
    "start_time": "2022-07-09T10:49:25.636Z"
   },
   {
    "duration": 5,
    "start_time": "2022-07-09T10:51:12.918Z"
   },
   {
    "duration": 96,
    "start_time": "2022-07-09T10:51:46.034Z"
   },
   {
    "duration": 249,
    "start_time": "2022-07-09T10:51:47.473Z"
   },
   {
    "duration": 292,
    "start_time": "2022-07-09T10:52:45.513Z"
   },
   {
    "duration": 410,
    "start_time": "2022-07-09T10:53:52.167Z"
   },
   {
    "duration": 284,
    "start_time": "2022-07-09T10:54:02.806Z"
   },
   {
    "duration": 279,
    "start_time": "2022-07-09T10:54:43.257Z"
   },
   {
    "duration": 267,
    "start_time": "2022-07-09T10:55:18.283Z"
   },
   {
    "duration": 12,
    "start_time": "2022-07-09T10:55:38.248Z"
   },
   {
    "duration": 5,
    "start_time": "2022-07-09T10:56:15.410Z"
   },
   {
    "duration": 72,
    "start_time": "2022-07-09T11:20:43.151Z"
   },
   {
    "duration": 306,
    "start_time": "2022-07-09T11:20:44.609Z"
   },
   {
    "duration": 290,
    "start_time": "2022-07-09T11:20:55.444Z"
   },
   {
    "duration": 13,
    "start_time": "2022-07-09T11:22:56.438Z"
   },
   {
    "duration": 5,
    "start_time": "2022-07-09T11:22:57.089Z"
   },
   {
    "duration": 45,
    "start_time": "2022-07-09T11:22:58.398Z"
   },
   {
    "duration": 2349,
    "start_time": "2022-07-09T11:23:02.087Z"
   },
   {
    "duration": 114,
    "start_time": "2022-07-09T11:23:06.580Z"
   },
   {
    "duration": 118318,
    "start_time": "2022-07-09T11:23:12.250Z"
   },
   {
    "duration": 144,
    "start_time": "2022-07-09T11:25:10.570Z"
   },
   {
    "duration": 14,
    "start_time": "2022-07-09T11:25:57.534Z"
   },
   {
    "duration": 25,
    "start_time": "2022-07-09T11:26:00.078Z"
   },
   {
    "duration": 318,
    "start_time": "2022-07-09T11:26:00.908Z"
   },
   {
    "duration": 980,
    "start_time": "2022-07-09T11:26:04.482Z"
   },
   {
    "duration": 116,
    "start_time": "2022-07-09T11:26:06.942Z"
   },
   {
    "duration": 54479,
    "start_time": "2022-07-09T11:26:09.968Z"
   },
   {
    "duration": 140,
    "start_time": "2022-07-09T11:27:30.469Z"
   },
   {
    "duration": 135,
    "start_time": "2022-07-09T11:27:48.067Z"
   },
   {
    "duration": 133,
    "start_time": "2022-07-09T11:30:24.822Z"
   },
   {
    "duration": 1390,
    "start_time": "2022-07-09T11:34:13.203Z"
   },
   {
    "duration": 30,
    "start_time": "2022-07-09T11:34:14.595Z"
   },
   {
    "duration": 6,
    "start_time": "2022-07-09T11:34:14.627Z"
   },
   {
    "duration": 24,
    "start_time": "2022-07-09T11:34:14.635Z"
   },
   {
    "duration": 17,
    "start_time": "2022-07-09T11:34:14.660Z"
   },
   {
    "duration": 8,
    "start_time": "2022-07-09T11:34:14.679Z"
   },
   {
    "duration": 19,
    "start_time": "2022-07-09T11:34:14.689Z"
   },
   {
    "duration": 29,
    "start_time": "2022-07-09T11:34:14.710Z"
   },
   {
    "duration": 11,
    "start_time": "2022-07-09T11:34:14.740Z"
   },
   {
    "duration": 6,
    "start_time": "2022-07-09T11:34:14.753Z"
   },
   {
    "duration": 12,
    "start_time": "2022-07-09T11:34:14.761Z"
   },
   {
    "duration": 12,
    "start_time": "2022-07-09T11:34:14.774Z"
   },
   {
    "duration": 6,
    "start_time": "2022-07-09T11:34:14.787Z"
   },
   {
    "duration": 3,
    "start_time": "2022-07-09T11:34:14.795Z"
   },
   {
    "duration": 10,
    "start_time": "2022-07-09T11:34:14.824Z"
   },
   {
    "duration": 20,
    "start_time": "2022-07-09T11:34:14.836Z"
   },
   {
    "duration": 6,
    "start_time": "2022-07-09T11:34:14.858Z"
   },
   {
    "duration": 15,
    "start_time": "2022-07-09T11:34:14.865Z"
   },
   {
    "duration": 23,
    "start_time": "2022-07-09T11:34:14.882Z"
   },
   {
    "duration": 10,
    "start_time": "2022-07-09T11:34:14.907Z"
   },
   {
    "duration": 62,
    "start_time": "2022-07-09T11:34:14.919Z"
   },
   {
    "duration": 2059,
    "start_time": "2022-07-09T11:34:14.983Z"
   },
   {
    "duration": 41,
    "start_time": "2022-07-09T11:34:17.044Z"
   },
   {
    "duration": 91921,
    "start_time": "2022-07-09T11:34:17.086Z"
   },
   {
    "duration": 116,
    "start_time": "2022-07-09T11:35:49.009Z"
   },
   {
    "duration": 97,
    "start_time": "2022-07-09T11:35:49.127Z"
   },
   {
    "duration": 101,
    "start_time": "2022-07-09T11:35:49.225Z"
   },
   {
    "duration": 402,
    "start_time": "2022-07-09T11:35:49.331Z"
   },
   {
    "duration": 12,
    "start_time": "2022-07-09T11:35:49.734Z"
   },
   {
    "duration": 9,
    "start_time": "2022-07-09T11:35:49.747Z"
   },
   {
    "duration": 68,
    "start_time": "2022-07-09T11:35:49.757Z"
   },
   {
    "duration": 436,
    "start_time": "2022-07-09T11:35:49.827Z"
   },
   {
    "duration": 2335,
    "start_time": "2022-07-09T11:35:50.264Z"
   },
   {
    "duration": 125,
    "start_time": "2022-07-09T11:35:52.600Z"
   },
   {
    "duration": 122712,
    "start_time": "2022-07-09T11:35:52.727Z"
   },
   {
    "duration": 154,
    "start_time": "2022-07-09T11:37:55.441Z"
   },
   {
    "duration": 14,
    "start_time": "2022-07-09T11:37:55.597Z"
   },
   {
    "duration": 38,
    "start_time": "2022-07-09T11:37:55.612Z"
   },
   {
    "duration": 321,
    "start_time": "2022-07-09T11:37:55.728Z"
   },
   {
    "duration": 990,
    "start_time": "2022-07-09T11:37:56.051Z"
   },
   {
    "duration": 143,
    "start_time": "2022-07-09T11:37:57.043Z"
   },
   {
    "duration": 56796,
    "start_time": "2022-07-09T11:37:57.188Z"
   },
   {
    "duration": 152,
    "start_time": "2022-07-09T11:38:53.985Z"
   },
   {
    "duration": 148,
    "start_time": "2022-07-09T11:38:54.139Z"
   },
   {
    "duration": 153,
    "start_time": "2022-07-09T11:38:54.288Z"
   },
   {
    "duration": 1555,
    "start_time": "2022-07-10T10:04:25.572Z"
   },
   {
    "duration": 79,
    "start_time": "2022-07-10T10:04:27.129Z"
   },
   {
    "duration": 6,
    "start_time": "2022-07-10T10:04:27.209Z"
   },
   {
    "duration": 15,
    "start_time": "2022-07-10T10:04:27.217Z"
   },
   {
    "duration": 14,
    "start_time": "2022-07-10T10:04:27.233Z"
   },
   {
    "duration": 3,
    "start_time": "2022-07-10T10:04:27.249Z"
   },
   {
    "duration": 6,
    "start_time": "2022-07-10T10:04:27.254Z"
   },
   {
    "duration": 13,
    "start_time": "2022-07-10T10:04:27.262Z"
   },
   {
    "duration": 18,
    "start_time": "2022-07-10T10:04:27.276Z"
   },
   {
    "duration": 4,
    "start_time": "2022-07-10T10:04:27.296Z"
   },
   {
    "duration": 5,
    "start_time": "2022-07-10T10:04:27.302Z"
   },
   {
    "duration": 13,
    "start_time": "2022-07-10T10:04:27.308Z"
   },
   {
    "duration": 11,
    "start_time": "2022-07-10T10:04:27.322Z"
   },
   {
    "duration": 28,
    "start_time": "2022-07-10T10:04:27.335Z"
   },
   {
    "duration": 6,
    "start_time": "2022-07-10T10:04:27.364Z"
   },
   {
    "duration": 115,
    "start_time": "2022-07-10T10:04:27.371Z"
   },
   {
    "duration": 0,
    "start_time": "2022-07-10T10:04:27.488Z"
   },
   {
    "duration": 0,
    "start_time": "2022-07-10T10:04:27.489Z"
   },
   {
    "duration": 0,
    "start_time": "2022-07-10T10:04:27.491Z"
   },
   {
    "duration": 0,
    "start_time": "2022-07-10T10:04:27.492Z"
   },
   {
    "duration": 0,
    "start_time": "2022-07-10T10:04:27.493Z"
   },
   {
    "duration": 0,
    "start_time": "2022-07-10T10:04:27.493Z"
   },
   {
    "duration": 0,
    "start_time": "2022-07-10T10:04:27.494Z"
   },
   {
    "duration": 0,
    "start_time": "2022-07-10T10:04:27.496Z"
   },
   {
    "duration": 0,
    "start_time": "2022-07-10T10:04:27.497Z"
   },
   {
    "duration": 0,
    "start_time": "2022-07-10T10:04:27.498Z"
   },
   {
    "duration": 0,
    "start_time": "2022-07-10T10:04:27.498Z"
   },
   {
    "duration": 0,
    "start_time": "2022-07-10T10:04:27.499Z"
   },
   {
    "duration": 0,
    "start_time": "2022-07-10T10:04:27.500Z"
   },
   {
    "duration": 0,
    "start_time": "2022-07-10T10:04:27.501Z"
   },
   {
    "duration": 0,
    "start_time": "2022-07-10T10:04:27.502Z"
   },
   {
    "duration": 0,
    "start_time": "2022-07-10T10:04:27.503Z"
   },
   {
    "duration": 0,
    "start_time": "2022-07-10T10:04:27.504Z"
   },
   {
    "duration": 0,
    "start_time": "2022-07-10T10:04:27.505Z"
   },
   {
    "duration": 0,
    "start_time": "2022-07-10T10:04:27.506Z"
   },
   {
    "duration": 0,
    "start_time": "2022-07-10T10:04:27.507Z"
   },
   {
    "duration": 0,
    "start_time": "2022-07-10T10:04:27.508Z"
   },
   {
    "duration": 0,
    "start_time": "2022-07-10T10:04:27.509Z"
   },
   {
    "duration": 0,
    "start_time": "2022-07-10T10:04:27.510Z"
   },
   {
    "duration": 0,
    "start_time": "2022-07-10T10:04:27.511Z"
   },
   {
    "duration": 0,
    "start_time": "2022-07-10T10:04:27.512Z"
   },
   {
    "duration": 0,
    "start_time": "2022-07-10T10:04:27.513Z"
   },
   {
    "duration": 0,
    "start_time": "2022-07-10T10:04:27.514Z"
   },
   {
    "duration": 0,
    "start_time": "2022-07-10T10:04:27.561Z"
   },
   {
    "duration": 0,
    "start_time": "2022-07-10T10:04:27.562Z"
   },
   {
    "duration": 0,
    "start_time": "2022-07-10T10:04:27.563Z"
   },
   {
    "duration": 0,
    "start_time": "2022-07-10T10:04:27.564Z"
   },
   {
    "duration": 0,
    "start_time": "2022-07-10T10:04:27.565Z"
   },
   {
    "duration": 0,
    "start_time": "2022-07-10T10:04:27.567Z"
   },
   {
    "duration": 0,
    "start_time": "2022-07-10T10:04:27.568Z"
   },
   {
    "duration": 0,
    "start_time": "2022-07-10T10:04:27.570Z"
   },
   {
    "duration": 0,
    "start_time": "2022-07-10T10:04:27.571Z"
   },
   {
    "duration": 0,
    "start_time": "2022-07-10T10:04:27.572Z"
   },
   {
    "duration": 0,
    "start_time": "2022-07-10T10:04:27.573Z"
   },
   {
    "duration": 0,
    "start_time": "2022-07-10T10:04:27.574Z"
   },
   {
    "duration": 7,
    "start_time": "2022-07-10T10:05:47.916Z"
   },
   {
    "duration": 4,
    "start_time": "2022-07-10T10:05:50.194Z"
   },
   {
    "duration": 3,
    "start_time": "2022-07-10T10:05:56.066Z"
   },
   {
    "duration": 12,
    "start_time": "2022-07-10T10:05:56.810Z"
   },
   {
    "duration": 25,
    "start_time": "2022-07-10T10:05:58.019Z"
   },
   {
    "duration": 12,
    "start_time": "2022-07-10T10:06:05.115Z"
   },
   {
    "duration": 5,
    "start_time": "2022-07-10T10:06:10.833Z"
   },
   {
    "duration": 42,
    "start_time": "2022-07-10T10:06:14.932Z"
   },
   {
    "duration": 1298,
    "start_time": "2022-07-10T10:06:35.418Z"
   },
   {
    "duration": 8,
    "start_time": "2022-07-10T10:06:41.545Z"
   },
   {
    "duration": 46,
    "start_time": "2022-07-10T10:07:16.290Z"
   },
   {
    "duration": 75836,
    "start_time": "2022-07-10T10:07:18.457Z"
   },
   {
    "duration": 26,
    "start_time": "2022-07-10T10:39:58.289Z"
   },
   {
    "duration": 117,
    "start_time": "2022-07-10T10:40:03.048Z"
   },
   {
    "duration": 27,
    "start_time": "2022-07-10T10:40:16.434Z"
   },
   {
    "duration": 7,
    "start_time": "2022-07-10T10:40:59.876Z"
   },
   {
    "duration": 118,
    "start_time": "2022-07-10T10:41:01.036Z"
   },
   {
    "duration": 7,
    "start_time": "2022-07-10T10:41:27.325Z"
   },
   {
    "duration": 162,
    "start_time": "2022-07-10T10:41:31.373Z"
   },
   {
    "duration": 96,
    "start_time": "2022-07-10T10:41:48.152Z"
   },
   {
    "duration": 124,
    "start_time": "2022-07-10T10:42:42.572Z"
   },
   {
    "duration": 59,
    "start_time": "2022-07-10T10:43:25.316Z"
   },
   {
    "duration": 279,
    "start_time": "2022-07-10T10:43:29.050Z"
   },
   {
    "duration": 1351,
    "start_time": "2022-07-10T10:44:14.894Z"
   },
   {
    "duration": 113,
    "start_time": "2022-07-10T10:44:18.522Z"
   },
   {
    "duration": 78923,
    "start_time": "2022-07-10T10:44:22.383Z"
   },
   {
    "duration": 137,
    "start_time": "2022-07-10T10:45:54.373Z"
   },
   {
    "duration": 12,
    "start_time": "2022-07-10T10:56:14.460Z"
   },
   {
    "duration": 6,
    "start_time": "2022-07-10T10:56:17.702Z"
   },
   {
    "duration": 13,
    "start_time": "2022-07-10T10:56:33.308Z"
   },
   {
    "duration": 6,
    "start_time": "2022-07-10T10:56:35.623Z"
   },
   {
    "duration": 12,
    "start_time": "2022-07-10T10:56:40.845Z"
   },
   {
    "duration": 5,
    "start_time": "2022-07-10T10:56:43.052Z"
   },
   {
    "duration": 32,
    "start_time": "2022-07-10T10:56:46.484Z"
   },
   {
    "duration": 309,
    "start_time": "2022-07-10T10:56:49.461Z"
   },
   {
    "duration": 1476,
    "start_time": "2022-07-10T10:56:53.036Z"
   },
   {
    "duration": 113,
    "start_time": "2022-07-10T10:56:56.632Z"
   },
   {
    "duration": 96783,
    "start_time": "2022-07-10T10:57:01.029Z"
   },
   {
    "duration": 137,
    "start_time": "2022-07-10T10:58:53.234Z"
   },
   {
    "duration": 13,
    "start_time": "2022-07-10T10:59:33.046Z"
   },
   {
    "duration": 20,
    "start_time": "2022-07-10T11:00:05.183Z"
   },
   {
    "duration": 286,
    "start_time": "2022-07-10T11:00:34.147Z"
   },
   {
    "duration": 671,
    "start_time": "2022-07-10T11:00:38.395Z"
   },
   {
    "duration": 112,
    "start_time": "2022-07-10T11:00:41.784Z"
   },
   {
    "duration": 48627,
    "start_time": "2022-07-10T11:00:48.325Z"
   },
   {
    "duration": 131,
    "start_time": "2022-07-10T11:04:56.927Z"
   },
   {
    "duration": 125,
    "start_time": "2022-07-10T11:09:46.773Z"
   },
   {
    "duration": 219,
    "start_time": "2022-07-10T11:09:48.603Z"
   },
   {
    "duration": 117,
    "start_time": "2022-07-10T11:10:57.026Z"
   },
   {
    "duration": 316,
    "start_time": "2022-07-10T11:11:07.756Z"
   },
   {
    "duration": 148,
    "start_time": "2022-07-10T11:11:14.505Z"
   },
   {
    "duration": 80,
    "start_time": "2022-07-10T11:13:25.991Z"
   },
   {
    "duration": 14,
    "start_time": "2022-07-10T11:28:09.688Z"
   },
   {
    "duration": 82,
    "start_time": "2022-07-10T11:28:18.422Z"
   },
   {
    "duration": 1360,
    "start_time": "2022-07-10T11:29:00.316Z"
   },
   {
    "duration": 32,
    "start_time": "2022-07-10T11:29:01.678Z"
   },
   {
    "duration": 6,
    "start_time": "2022-07-10T11:29:01.711Z"
   },
   {
    "duration": 38,
    "start_time": "2022-07-10T11:29:01.719Z"
   },
   {
    "duration": 31,
    "start_time": "2022-07-10T11:29:01.759Z"
   },
   {
    "duration": 26,
    "start_time": "2022-07-10T11:29:01.792Z"
   },
   {
    "duration": 50,
    "start_time": "2022-07-10T11:29:01.819Z"
   },
   {
    "duration": 41,
    "start_time": "2022-07-10T11:29:01.871Z"
   },
   {
    "duration": 31,
    "start_time": "2022-07-10T11:29:01.913Z"
   },
   {
    "duration": 44,
    "start_time": "2022-07-10T11:29:01.947Z"
   },
   {
    "duration": 16,
    "start_time": "2022-07-10T11:29:01.993Z"
   },
   {
    "duration": 40,
    "start_time": "2022-07-10T11:29:02.011Z"
   },
   {
    "duration": 33,
    "start_time": "2022-07-10T11:29:02.053Z"
   },
   {
    "duration": 36,
    "start_time": "2022-07-10T11:29:02.087Z"
   },
   {
    "duration": 33,
    "start_time": "2022-07-10T11:29:02.125Z"
   },
   {
    "duration": 28,
    "start_time": "2022-07-10T11:29:02.159Z"
   },
   {
    "duration": 35,
    "start_time": "2022-07-10T11:29:02.189Z"
   },
   {
    "duration": 29,
    "start_time": "2022-07-10T11:29:02.226Z"
   },
   {
    "duration": 31,
    "start_time": "2022-07-10T11:29:02.257Z"
   },
   {
    "duration": 42,
    "start_time": "2022-07-10T11:29:02.290Z"
   },
   {
    "duration": 26,
    "start_time": "2022-07-10T11:29:02.334Z"
   },
   {
    "duration": 34,
    "start_time": "2022-07-10T11:29:02.361Z"
   },
   {
    "duration": 63,
    "start_time": "2022-07-10T11:29:02.396Z"
   },
   {
    "duration": 1331,
    "start_time": "2022-07-10T11:29:02.461Z"
   },
   {
    "duration": 7,
    "start_time": "2022-07-10T11:29:03.793Z"
   },
   {
    "duration": 59,
    "start_time": "2022-07-10T11:29:03.801Z"
   },
   {
    "duration": 78690,
    "start_time": "2022-07-10T11:29:03.862Z"
   },
   {
    "duration": 26,
    "start_time": "2022-07-10T11:30:22.559Z"
   },
   {
    "duration": 175,
    "start_time": "2022-07-10T11:30:22.586Z"
   },
   {
    "duration": 11,
    "start_time": "2022-07-10T11:30:22.763Z"
   },
   {
    "duration": 190,
    "start_time": "2022-07-10T11:30:22.776Z"
   },
   {
    "duration": 137,
    "start_time": "2022-07-10T11:30:22.967Z"
   },
   {
    "duration": 61,
    "start_time": "2022-07-10T11:30:23.106Z"
   },
   {
    "duration": 444,
    "start_time": "2022-07-10T11:30:23.169Z"
   },
   {
    "duration": 1292,
    "start_time": "2022-07-10T11:30:23.615Z"
   },
   {
    "duration": 121,
    "start_time": "2022-07-10T11:30:24.908Z"
   },
   {
    "duration": 77380,
    "start_time": "2022-07-10T11:30:25.030Z"
   },
   {
    "duration": 145,
    "start_time": "2022-07-10T11:31:42.412Z"
   },
   {
    "duration": 10,
    "start_time": "2022-07-10T11:31:42.561Z"
   },
   {
    "duration": 31,
    "start_time": "2022-07-10T11:31:42.573Z"
   },
   {
    "duration": 58,
    "start_time": "2022-07-10T11:31:42.606Z"
   },
   {
    "duration": 340,
    "start_time": "2022-07-10T11:31:42.665Z"
   },
   {
    "duration": 1487,
    "start_time": "2022-07-10T11:31:43.007Z"
   },
   {
    "duration": 124,
    "start_time": "2022-07-10T11:31:44.495Z"
   },
   {
    "duration": 102865,
    "start_time": "2022-07-10T11:31:44.621Z"
   },
   {
    "duration": 146,
    "start_time": "2022-07-10T11:33:27.488Z"
   },
   {
    "duration": 25,
    "start_time": "2022-07-10T11:33:27.636Z"
   },
   {
    "duration": 106,
    "start_time": "2022-07-10T11:33:27.663Z"
   },
   {
    "duration": 406,
    "start_time": "2022-07-10T11:33:27.772Z"
   },
   {
    "duration": 713,
    "start_time": "2022-07-10T11:33:28.180Z"
   },
   {
    "duration": 132,
    "start_time": "2022-07-10T11:33:28.895Z"
   },
   {
    "duration": 53434,
    "start_time": "2022-07-10T11:33:29.029Z"
   },
   {
    "duration": 134,
    "start_time": "2022-07-10T11:34:22.464Z"
   },
   {
    "duration": 293,
    "start_time": "2022-07-10T11:34:22.600Z"
   },
   {
    "duration": 157,
    "start_time": "2022-07-10T11:34:22.895Z"
   }
  ],
  "kernelspec": {
   "display_name": "Python 3 (ipykernel)",
   "language": "python",
   "name": "python3"
  },
  "language_info": {
   "codemirror_mode": {
    "name": "ipython",
    "version": 3
   },
   "file_extension": ".py",
   "mimetype": "text/x-python",
   "name": "python",
   "nbconvert_exporter": "python",
   "pygments_lexer": "ipython3",
   "version": "3.9.7"
  },
  "toc": {
   "base_numbering": 1,
   "nav_menu": {},
   "number_sections": true,
   "sideBar": true,
   "skip_h1_title": true,
   "title_cell": "Содержание",
   "title_sidebar": "Contents",
   "toc_cell": true,
   "toc_position": {},
   "toc_section_display": true,
   "toc_window_display": true
  }
 },
 "nbformat": 4,
 "nbformat_minor": 2
}
