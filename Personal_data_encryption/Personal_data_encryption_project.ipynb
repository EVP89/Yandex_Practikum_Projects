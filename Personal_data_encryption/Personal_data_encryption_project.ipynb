{
 "cells": [
  {
   "cell_type": "markdown",
   "metadata": {
    "toc": true
   },
   "source": [
    "<h1>Содержание<span class=\"tocSkip\"></span></h1>\n",
    "<div class=\"toc\"><ul class=\"toc-item\"><li><span><a href=\"#Загрузка-данных\" data-toc-modified-id=\"Загрузка-данных-1\"><span class=\"toc-item-num\">1&nbsp;&nbsp;</span>Загрузка данных</a></span></li><li><span><a href=\"#Умножение-матриц\" data-toc-modified-id=\"Умножение-матриц-2\"><span class=\"toc-item-num\">2&nbsp;&nbsp;</span>Умножение матриц</a></span></li><li><span><a href=\"#Алгоритм-преобразования\" data-toc-modified-id=\"Алгоритм-преобразования-3\"><span class=\"toc-item-num\">3&nbsp;&nbsp;</span>Алгоритм преобразования</a></span></li><li><span><a href=\"#Проверка-алгоритма\" data-toc-modified-id=\"Проверка-алгоритма-4\"><span class=\"toc-item-num\">4&nbsp;&nbsp;</span>Проверка алгоритма</a></span></li><li><span><a href=\"#Чек-лист-проверки\" data-toc-modified-id=\"Чек-лист-проверки-5\"><span class=\"toc-item-num\">5&nbsp;&nbsp;</span>Чек-лист проверки</a></span></li></ul></div>"
   ]
  },
  {
   "cell_type": "markdown",
   "metadata": {},
   "source": [
    "# Защита персональных данных клиентов"
   ]
  },
  {
   "cell_type": "markdown",
   "metadata": {},
   "source": [
    "Нам нужно защитить данные клиентов страховой компании. Разработать такой метод преобразования данных, чтобы по ним было сложно восстановить персональную информацию. Обосновать корректность его работы.\n",
    "\n",
    "Нужно защитить данные, чтобы при преобразовании качество моделей машинного обучения не ухудшилось. Подбирать наилучшую модель не требуется."
   ]
  },
  {
   "cell_type": "markdown",
   "metadata": {},
   "source": [
    "## Загрузка данных"
   ]
  },
  {
   "cell_type": "code",
   "execution_count": 1,
   "metadata": {},
   "outputs": [],
   "source": [
    "import pandas as pd # импорт библиотек\n",
    "import numpy as np\n",
    "from sklearn.metrics import r2_score\n",
    "import seaborn as sns"
   ]
  },
  {
   "cell_type": "code",
   "execution_count": 2,
   "metadata": {},
   "outputs": [],
   "source": [
    "try: # открываем файл\n",
    "    data = pd.read_csv('/datasets/insurance.csv')\n",
    "except:\n",
    "    data = pd.read_csv('C:/Users/Елена/Downloads/insurance.csv')"
   ]
  },
  {
   "cell_type": "code",
   "execution_count": 3,
   "metadata": {
    "scrolled": true
   },
   "outputs": [
    {
     "data": {
      "text/html": [
       "<div>\n",
       "<style scoped>\n",
       "    .dataframe tbody tr th:only-of-type {\n",
       "        vertical-align: middle;\n",
       "    }\n",
       "\n",
       "    .dataframe tbody tr th {\n",
       "        vertical-align: top;\n",
       "    }\n",
       "\n",
       "    .dataframe thead th {\n",
       "        text-align: right;\n",
       "    }\n",
       "</style>\n",
       "<table border=\"1\" class=\"dataframe\">\n",
       "  <thead>\n",
       "    <tr style=\"text-align: right;\">\n",
       "      <th></th>\n",
       "      <th>Пол</th>\n",
       "      <th>Возраст</th>\n",
       "      <th>Зарплата</th>\n",
       "      <th>Члены семьи</th>\n",
       "      <th>Страховые выплаты</th>\n",
       "    </tr>\n",
       "  </thead>\n",
       "  <tbody>\n",
       "    <tr>\n",
       "      <th>0</th>\n",
       "      <td>1</td>\n",
       "      <td>41.0</td>\n",
       "      <td>49600.0</td>\n",
       "      <td>1</td>\n",
       "      <td>0</td>\n",
       "    </tr>\n",
       "    <tr>\n",
       "      <th>1</th>\n",
       "      <td>0</td>\n",
       "      <td>46.0</td>\n",
       "      <td>38000.0</td>\n",
       "      <td>1</td>\n",
       "      <td>1</td>\n",
       "    </tr>\n",
       "    <tr>\n",
       "      <th>2</th>\n",
       "      <td>0</td>\n",
       "      <td>29.0</td>\n",
       "      <td>21000.0</td>\n",
       "      <td>0</td>\n",
       "      <td>0</td>\n",
       "    </tr>\n",
       "    <tr>\n",
       "      <th>3</th>\n",
       "      <td>0</td>\n",
       "      <td>21.0</td>\n",
       "      <td>41700.0</td>\n",
       "      <td>2</td>\n",
       "      <td>0</td>\n",
       "    </tr>\n",
       "    <tr>\n",
       "      <th>4</th>\n",
       "      <td>1</td>\n",
       "      <td>28.0</td>\n",
       "      <td>26100.0</td>\n",
       "      <td>0</td>\n",
       "      <td>0</td>\n",
       "    </tr>\n",
       "  </tbody>\n",
       "</table>\n",
       "</div>"
      ],
      "text/plain": [
       "   Пол  Возраст  Зарплата  Члены семьи  Страховые выплаты\n",
       "0    1     41.0   49600.0            1                  0\n",
       "1    0     46.0   38000.0            1                  1\n",
       "2    0     29.0   21000.0            0                  0\n",
       "3    0     21.0   41700.0            2                  0\n",
       "4    1     28.0   26100.0            0                  0"
      ]
     },
     "execution_count": 3,
     "metadata": {},
     "output_type": "execute_result"
    }
   ],
   "source": [
    "data.head() # изучим файл"
   ]
  },
  {
   "cell_type": "code",
   "execution_count": 4,
   "metadata": {
    "scrolled": false
   },
   "outputs": [
    {
     "name": "stdout",
     "output_type": "stream",
     "text": [
      "<class 'pandas.core.frame.DataFrame'>\n",
      "RangeIndex: 5000 entries, 0 to 4999\n",
      "Data columns (total 5 columns):\n",
      " #   Column             Non-Null Count  Dtype  \n",
      "---  ------             --------------  -----  \n",
      " 0   Пол                5000 non-null   int64  \n",
      " 1   Возраст            5000 non-null   float64\n",
      " 2   Зарплата           5000 non-null   float64\n",
      " 3   Члены семьи        5000 non-null   int64  \n",
      " 4   Страховые выплаты  5000 non-null   int64  \n",
      "dtypes: float64(2), int64(3)\n",
      "memory usage: 195.4 KB\n"
     ]
    }
   ],
   "source": [
    "data.info() # изучим файл"
   ]
  },
  {
   "cell_type": "code",
   "execution_count": 5,
   "metadata": {},
   "outputs": [
    {
     "data": {
      "text/plain": [
       "0    4436\n",
       "1     423\n",
       "2     115\n",
       "3      18\n",
       "4       7\n",
       "5       1\n",
       "Name: Страховые выплаты, dtype: int64"
      ]
     },
     "execution_count": 5,
     "metadata": {},
     "output_type": "execute_result"
    }
   ],
   "source": [
    "data['Страховые выплаты'].value_counts()"
   ]
  },
  {
   "cell_type": "markdown",
   "metadata": {},
   "source": [
    "После изучения данных можно сделать вывод, что у нас отсутствуют пропущенные значения, все типы данных верные. Количество страховых выплат за последние 5 лет похоже на правду, выбивающихся значений нет."
   ]
  },
  {
   "cell_type": "code",
   "execution_count": 6,
   "metadata": {
    "scrolled": false
   },
   "outputs": [
    {
     "data": {
      "text/plain": [
       "<AxesSubplot:>"
      ]
     },
     "execution_count": 6,
     "metadata": {},
     "output_type": "execute_result"
    },
    {
     "data": {
      "image/png": "[encoded data removed]",
      "text/plain": [
       "<Figure size 432x288 with 2 Axes>"
      ]
     },
     "metadata": {
      "needs_background": "light"
     },
     "output_type": "display_data"
    }
   ],
   "source": [
    "sns.heatmap(data.corr(), annot = True,)"
   ]
  },
  {
   "cell_type": "markdown",
   "metadata": {},
   "source": [
    "Наибольшая взаимосвязь прослеживается между возрастом и количеством страховых выплат. Остальные значения, можно сказать, не зависят друг от друга."
   ]
  },
  {
   "cell_type": "code",
   "execution_count": 7,
   "metadata": {
    "scrolled": true
   },
   "outputs": [
    {
     "data": {
      "text/html": [
       "<div>\n",
       "<style scoped>\n",
       "    .dataframe tbody tr th:only-of-type {\n",
       "        vertical-align: middle;\n",
       "    }\n",
       "\n",
       "    .dataframe tbody tr th {\n",
       "        vertical-align: top;\n",
       "    }\n",
       "\n",
       "    .dataframe thead th {\n",
       "        text-align: right;\n",
       "    }\n",
       "</style>\n",
       "<table border=\"1\" class=\"dataframe\">\n",
       "  <thead>\n",
       "    <tr style=\"text-align: right;\">\n",
       "      <th></th>\n",
       "      <th>Пол</th>\n",
       "      <th>Возраст</th>\n",
       "      <th>Зарплата</th>\n",
       "      <th>Члены семьи</th>\n",
       "      <th>Страховые выплаты</th>\n",
       "    </tr>\n",
       "  </thead>\n",
       "  <tbody>\n",
       "    <tr>\n",
       "      <th>80</th>\n",
       "      <td>1</td>\n",
       "      <td>41.0</td>\n",
       "      <td>32700.0</td>\n",
       "      <td>0</td>\n",
       "      <td>0</td>\n",
       "    </tr>\n",
       "    <tr>\n",
       "      <th>159</th>\n",
       "      <td>1</td>\n",
       "      <td>19.0</td>\n",
       "      <td>64900.0</td>\n",
       "      <td>2</td>\n",
       "      <td>0</td>\n",
       "    </tr>\n",
       "    <tr>\n",
       "      <th>313</th>\n",
       "      <td>0</td>\n",
       "      <td>25.0</td>\n",
       "      <td>32700.0</td>\n",
       "      <td>1</td>\n",
       "      <td>0</td>\n",
       "    </tr>\n",
       "    <tr>\n",
       "      <th>392</th>\n",
       "      <td>1</td>\n",
       "      <td>43.0</td>\n",
       "      <td>32700.0</td>\n",
       "      <td>1</td>\n",
       "      <td>1</td>\n",
       "    </tr>\n",
       "    <tr>\n",
       "      <th>448</th>\n",
       "      <td>1</td>\n",
       "      <td>32.0</td>\n",
       "      <td>32700.0</td>\n",
       "      <td>2</td>\n",
       "      <td>0</td>\n",
       "    </tr>\n",
       "    <tr>\n",
       "      <th>772</th>\n",
       "      <td>1</td>\n",
       "      <td>20.0</td>\n",
       "      <td>65100.0</td>\n",
       "      <td>1</td>\n",
       "      <td>0</td>\n",
       "    </tr>\n",
       "    <tr>\n",
       "      <th>820</th>\n",
       "      <td>0</td>\n",
       "      <td>29.0</td>\n",
       "      <td>32200.0</td>\n",
       "      <td>2</td>\n",
       "      <td>0</td>\n",
       "    </tr>\n",
       "    <tr>\n",
       "      <th>872</th>\n",
       "      <td>0</td>\n",
       "      <td>23.0</td>\n",
       "      <td>32200.0</td>\n",
       "      <td>3</td>\n",
       "      <td>0</td>\n",
       "    </tr>\n",
       "    <tr>\n",
       "      <th>911</th>\n",
       "      <td>0</td>\n",
       "      <td>30.0</td>\n",
       "      <td>32200.0</td>\n",
       "      <td>0</td>\n",
       "      <td>0</td>\n",
       "    </tr>\n",
       "    <tr>\n",
       "      <th>963</th>\n",
       "      <td>1</td>\n",
       "      <td>20.0</td>\n",
       "      <td>64100.0</td>\n",
       "      <td>0</td>\n",
       "      <td>0</td>\n",
       "    </tr>\n",
       "    <tr>\n",
       "      <th>1020</th>\n",
       "      <td>1</td>\n",
       "      <td>36.0</td>\n",
       "      <td>32700.0</td>\n",
       "      <td>2</td>\n",
       "      <td>0</td>\n",
       "    </tr>\n",
       "    <tr>\n",
       "      <th>1078</th>\n",
       "      <td>0</td>\n",
       "      <td>34.0</td>\n",
       "      <td>32200.0</td>\n",
       "      <td>3</td>\n",
       "      <td>0</td>\n",
       "    </tr>\n",
       "    <tr>\n",
       "      <th>1336</th>\n",
       "      <td>1</td>\n",
       "      <td>19.0</td>\n",
       "      <td>32700.0</td>\n",
       "      <td>0</td>\n",
       "      <td>0</td>\n",
       "    </tr>\n",
       "    <tr>\n",
       "      <th>1485</th>\n",
       "      <td>1</td>\n",
       "      <td>41.0</td>\n",
       "      <td>32700.0</td>\n",
       "      <td>0</td>\n",
       "      <td>0</td>\n",
       "    </tr>\n",
       "    <tr>\n",
       "      <th>1486</th>\n",
       "      <td>1</td>\n",
       "      <td>50.0</td>\n",
       "      <td>32200.0</td>\n",
       "      <td>2</td>\n",
       "      <td>2</td>\n",
       "    </tr>\n",
       "    <tr>\n",
       "      <th>1847</th>\n",
       "      <td>1</td>\n",
       "      <td>31.0</td>\n",
       "      <td>32700.0</td>\n",
       "      <td>0</td>\n",
       "      <td>0</td>\n",
       "    </tr>\n",
       "    <tr>\n",
       "      <th>1981</th>\n",
       "      <td>0</td>\n",
       "      <td>21.0</td>\n",
       "      <td>32200.0</td>\n",
       "      <td>1</td>\n",
       "      <td>0</td>\n",
       "    </tr>\n",
       "    <tr>\n",
       "      <th>2191</th>\n",
       "      <td>1</td>\n",
       "      <td>22.0</td>\n",
       "      <td>32200.0</td>\n",
       "      <td>1</td>\n",
       "      <td>0</td>\n",
       "    </tr>\n",
       "    <tr>\n",
       "      <th>2287</th>\n",
       "      <td>1</td>\n",
       "      <td>40.0</td>\n",
       "      <td>32200.0</td>\n",
       "      <td>3</td>\n",
       "      <td>0</td>\n",
       "    </tr>\n",
       "    <tr>\n",
       "      <th>2342</th>\n",
       "      <td>1</td>\n",
       "      <td>25.0</td>\n",
       "      <td>32700.0</td>\n",
       "      <td>2</td>\n",
       "      <td>0</td>\n",
       "    </tr>\n",
       "    <tr>\n",
       "      <th>2385</th>\n",
       "      <td>1</td>\n",
       "      <td>36.0</td>\n",
       "      <td>32700.0</td>\n",
       "      <td>1</td>\n",
       "      <td>0</td>\n",
       "    </tr>\n",
       "    <tr>\n",
       "      <th>2439</th>\n",
       "      <td>1</td>\n",
       "      <td>44.0</td>\n",
       "      <td>32200.0</td>\n",
       "      <td>1</td>\n",
       "      <td>1</td>\n",
       "    </tr>\n",
       "    <tr>\n",
       "      <th>2443</th>\n",
       "      <td>1</td>\n",
       "      <td>25.0</td>\n",
       "      <td>32700.0</td>\n",
       "      <td>0</td>\n",
       "      <td>0</td>\n",
       "    </tr>\n",
       "    <tr>\n",
       "      <th>2805</th>\n",
       "      <td>0</td>\n",
       "      <td>47.0</td>\n",
       "      <td>32700.0</td>\n",
       "      <td>1</td>\n",
       "      <td>1</td>\n",
       "    </tr>\n",
       "    <tr>\n",
       "      <th>2994</th>\n",
       "      <td>1</td>\n",
       "      <td>29.0</td>\n",
       "      <td>32200.0</td>\n",
       "      <td>1</td>\n",
       "      <td>0</td>\n",
       "    </tr>\n",
       "    <tr>\n",
       "      <th>3063</th>\n",
       "      <td>0</td>\n",
       "      <td>24.0</td>\n",
       "      <td>64400.0</td>\n",
       "      <td>0</td>\n",
       "      <td>0</td>\n",
       "    </tr>\n",
       "    <tr>\n",
       "      <th>3139</th>\n",
       "      <td>1</td>\n",
       "      <td>43.0</td>\n",
       "      <td>32200.0</td>\n",
       "      <td>2</td>\n",
       "      <td>1</td>\n",
       "    </tr>\n",
       "    <tr>\n",
       "      <th>3352</th>\n",
       "      <td>1</td>\n",
       "      <td>23.0</td>\n",
       "      <td>32200.0</td>\n",
       "      <td>5</td>\n",
       "      <td>0</td>\n",
       "    </tr>\n",
       "    <tr>\n",
       "      <th>3466</th>\n",
       "      <td>0</td>\n",
       "      <td>22.0</td>\n",
       "      <td>32700.0</td>\n",
       "      <td>4</td>\n",
       "      <td>0</td>\n",
       "    </tr>\n",
       "    <tr>\n",
       "      <th>3499</th>\n",
       "      <td>1</td>\n",
       "      <td>22.0</td>\n",
       "      <td>65100.0</td>\n",
       "      <td>4</td>\n",
       "      <td>0</td>\n",
       "    </tr>\n",
       "    <tr>\n",
       "      <th>3614</th>\n",
       "      <td>1</td>\n",
       "      <td>24.0</td>\n",
       "      <td>32700.0</td>\n",
       "      <td>1</td>\n",
       "      <td>0</td>\n",
       "    </tr>\n",
       "    <tr>\n",
       "      <th>3717</th>\n",
       "      <td>0</td>\n",
       "      <td>34.0</td>\n",
       "      <td>32700.0</td>\n",
       "      <td>0</td>\n",
       "      <td>0</td>\n",
       "    </tr>\n",
       "    <tr>\n",
       "      <th>3788</th>\n",
       "      <td>0</td>\n",
       "      <td>46.0</td>\n",
       "      <td>32700.0</td>\n",
       "      <td>2</td>\n",
       "      <td>1</td>\n",
       "    </tr>\n",
       "    <tr>\n",
       "      <th>3824</th>\n",
       "      <td>1</td>\n",
       "      <td>37.0</td>\n",
       "      <td>32700.0</td>\n",
       "      <td>2</td>\n",
       "      <td>0</td>\n",
       "    </tr>\n",
       "    <tr>\n",
       "      <th>3938</th>\n",
       "      <td>1</td>\n",
       "      <td>23.0</td>\n",
       "      <td>32200.0</td>\n",
       "      <td>1</td>\n",
       "      <td>0</td>\n",
       "    </tr>\n",
       "    <tr>\n",
       "      <th>4182</th>\n",
       "      <td>0</td>\n",
       "      <td>27.0</td>\n",
       "      <td>32200.0</td>\n",
       "      <td>2</td>\n",
       "      <td>0</td>\n",
       "    </tr>\n",
       "    <tr>\n",
       "      <th>4520</th>\n",
       "      <td>0</td>\n",
       "      <td>18.0</td>\n",
       "      <td>32700.0</td>\n",
       "      <td>3</td>\n",
       "      <td>0</td>\n",
       "    </tr>\n",
       "    <tr>\n",
       "      <th>4833</th>\n",
       "      <td>0</td>\n",
       "      <td>24.0</td>\n",
       "      <td>32200.0</td>\n",
       "      <td>1</td>\n",
       "      <td>0</td>\n",
       "    </tr>\n",
       "    <tr>\n",
       "      <th>4935</th>\n",
       "      <td>1</td>\n",
       "      <td>19.0</td>\n",
       "      <td>32700.0</td>\n",
       "      <td>0</td>\n",
       "      <td>0</td>\n",
       "    </tr>\n",
       "    <tr>\n",
       "      <th>4998</th>\n",
       "      <td>1</td>\n",
       "      <td>22.0</td>\n",
       "      <td>32700.0</td>\n",
       "      <td>3</td>\n",
       "      <td>0</td>\n",
       "    </tr>\n",
       "  </tbody>\n",
       "</table>\n",
       "</div>"
      ],
      "text/plain": [
       "      Пол  Возраст  Зарплата  Члены семьи  Страховые выплаты\n",
       "80      1     41.0   32700.0            0                  0\n",
       "159     1     19.0   64900.0            2                  0\n",
       "313     0     25.0   32700.0            1                  0\n",
       "392     1     43.0   32700.0            1                  1\n",
       "448     1     32.0   32700.0            2                  0\n",
       "772     1     20.0   65100.0            1                  0\n",
       "820     0     29.0   32200.0            2                  0\n",
       "872     0     23.0   32200.0            3                  0\n",
       "911     0     30.0   32200.0            0                  0\n",
       "963     1     20.0   64100.0            0                  0\n",
       "1020    1     36.0   32700.0            2                  0\n",
       "1078    0     34.0   32200.0            3                  0\n",
       "1336    1     19.0   32700.0            0                  0\n",
       "1485    1     41.0   32700.0            0                  0\n",
       "1486    1     50.0   32200.0            2                  2\n",
       "1847    1     31.0   32700.0            0                  0\n",
       "1981    0     21.0   32200.0            1                  0\n",
       "2191    1     22.0   32200.0            1                  0\n",
       "2287    1     40.0   32200.0            3                  0\n",
       "2342    1     25.0   32700.0            2                  0\n",
       "2385    1     36.0   32700.0            1                  0\n",
       "2439    1     44.0   32200.0            1                  1\n",
       "2443    1     25.0   32700.0            0                  0\n",
       "2805    0     47.0   32700.0            1                  1\n",
       "2994    1     29.0   32200.0            1                  0\n",
       "3063    0     24.0   64400.0            0                  0\n",
       "3139    1     43.0   32200.0            2                  1\n",
       "3352    1     23.0   32200.0            5                  0\n",
       "3466    0     22.0   32700.0            4                  0\n",
       "3499    1     22.0   65100.0            4                  0\n",
       "3614    1     24.0   32700.0            1                  0\n",
       "3717    0     34.0   32700.0            0                  0\n",
       "3788    0     46.0   32700.0            2                  1\n",
       "3824    1     37.0   32700.0            2                  0\n",
       "3938    1     23.0   32200.0            1                  0\n",
       "4182    0     27.0   32200.0            2                  0\n",
       "4520    0     18.0   32700.0            3                  0\n",
       "4833    0     24.0   32200.0            1                  0\n",
       "4935    1     19.0   32700.0            0                  0\n",
       "4998    1     22.0   32700.0            3                  0"
      ]
     },
     "execution_count": 7,
     "metadata": {},
     "output_type": "execute_result"
    }
   ],
   "source": [
    "data.query('Зарплата % 1 > 0')"
   ]
  },
  {
   "cell_type": "code",
   "execution_count": 8,
   "metadata": {
    "scrolled": false
   },
   "outputs": [
    {
     "data": {
      "text/plain": [
       "False    4960\n",
       "True       40\n",
       "Name: Зарплата, dtype: int64"
      ]
     },
     "execution_count": 8,
     "metadata": {},
     "output_type": "execute_result"
    }
   ],
   "source": [
    "(data['Зарплата'] % 1 > 0).value_counts()"
   ]
  },
  {
   "cell_type": "code",
   "execution_count": 9,
   "metadata": {},
   "outputs": [
    {
     "data": {
      "text/html": [
       "<div>\n",
       "<style scoped>\n",
       "    .dataframe tbody tr th:only-of-type {\n",
       "        vertical-align: middle;\n",
       "    }\n",
       "\n",
       "    .dataframe tbody tr th {\n",
       "        vertical-align: top;\n",
       "    }\n",
       "\n",
       "    .dataframe thead th {\n",
       "        text-align: right;\n",
       "    }\n",
       "</style>\n",
       "<table border=\"1\" class=\"dataframe\">\n",
       "  <thead>\n",
       "    <tr style=\"text-align: right;\">\n",
       "      <th></th>\n",
       "      <th>Пол</th>\n",
       "      <th>Возраст</th>\n",
       "      <th>Зарплата</th>\n",
       "      <th>Члены семьи</th>\n",
       "      <th>Страховые выплаты</th>\n",
       "    </tr>\n",
       "  </thead>\n",
       "  <tbody>\n",
       "  </tbody>\n",
       "</table>\n",
       "</div>"
      ],
      "text/plain": [
       "Empty DataFrame\n",
       "Columns: [Пол, Возраст, Зарплата, Члены семьи, Страховые выплаты]\n",
       "Index: []"
      ]
     },
     "execution_count": 9,
     "metadata": {},
     "output_type": "execute_result"
    }
   ],
   "source": [
    "data.query('Возраст % 1 > 0')"
   ]
  },
  {
   "cell_type": "code",
   "execution_count": 10,
   "metadata": {
    "scrolled": true
   },
   "outputs": [
    {
     "data": {
      "text/plain": [
       "False    5000\n",
       "Name: Возраст, dtype: int64"
      ]
     },
     "execution_count": 10,
     "metadata": {},
     "output_type": "execute_result"
    }
   ],
   "source": [
    "(data['Возраст'] % 1 > 0).value_counts()"
   ]
  },
  {
   "cell_type": "code",
   "execution_count": 11,
   "metadata": {},
   "outputs": [],
   "source": [
    "data['Зарплата'] = data['Зарплата'].astype(int)\n",
    "data['Возраст'] = data['Возраст'].astype(int)"
   ]
  },
  {
   "cell_type": "code",
   "execution_count": 12,
   "metadata": {},
   "outputs": [
    {
     "name": "stdout",
     "output_type": "stream",
     "text": [
      "<class 'pandas.core.frame.DataFrame'>\n",
      "RangeIndex: 5000 entries, 0 to 4999\n",
      "Data columns (total 5 columns):\n",
      " #   Column             Non-Null Count  Dtype\n",
      "---  ------             --------------  -----\n",
      " 0   Пол                5000 non-null   int64\n",
      " 1   Возраст            5000 non-null   int32\n",
      " 2   Зарплата           5000 non-null   int32\n",
      " 3   Члены семьи        5000 non-null   int64\n",
      " 4   Страховые выплаты  5000 non-null   int64\n",
      "dtypes: int32(2), int64(3)\n",
      "memory usage: 156.4 KB\n"
     ]
    }
   ],
   "source": [
    "data.info()"
   ]
  },
  {
   "cell_type": "markdown",
   "metadata": {},
   "source": [
    "## Умножение матриц"
   ]
  },
  {
   "cell_type": "markdown",
   "metadata": {},
   "source": [
    "Обозначения:\n",
    "\n",
    "- $X$ — матрица признаков (нулевой столбец состоит из единиц)\n",
    "\n",
    "- $y$ — вектор целевого признака\n",
    "\n",
    "- $P$ — матрица, на которую умножаются признаки\n",
    "\n",
    "- $w$ — вектор весов линейной регрессии (нулевой элемент равен сдвигу)"
   ]
  },
  {
   "cell_type": "markdown",
   "metadata": {},
   "source": [
    "Предсказания:\n",
    "\n",
    "$$\n",
    "a = Xw\n",
    "$$\n",
    "\n",
    "Задача обучения:\n",
    "\n",
    "$$\n",
    "w = \\arg\\min_w MSE(Xw, y)\n",
    "$$\n",
    "\n",
    "Формула обучения:\n",
    "\n",
    "$$\n",
    "w = (X^T X)^{-1} X^T y\n",
    "$$"
   ]
  },
  {
   "cell_type": "markdown",
   "metadata": {},
   "source": [
    "**Ответ:** Если признаки умножить на обратимую матрицу, то качество линейной регрессии не изменится.\n",
    "\n",
    "**Обоснование:** Доказательство рассмотрим в виде решения уравнения, заменив в формуле предсказания w из формулы обучения и домножим матрицу признаков Х на Р, матрицу."
   ]
  },
  {
   "cell_type": "markdown",
   "metadata": {},
   "source": [
    "$$\n",
    "a = X P ((XP)^T XP)^{-1} (XP)^T y\n",
    "$$"
   ]
  },
  {
   "cell_type": "markdown",
   "metadata": {},
   "source": [
    "Х - прямоугольная матрица, P - квадратная матрица, значит ХР - прямоугольная матрица. Раскроем внутренние скобки по свойству транспонированной матрицы $\\displaystyle (AB)^{T}=B^{T}A^{T}$."
   ]
  },
  {
   "cell_type": "markdown",
   "metadata": {},
   "source": [
    "$$\n",
    "a = X P (P^T X^T X P)^{-1} (XP)^T y\n",
    "$$"
   ]
  },
  {
   "cell_type": "markdown",
   "metadata": {},
   "source": [
    "Затем внутри первых скобок перемножим транспонированную матрицу Х на матрицу Х. Таким образом мы получим квадратную матрицу."
   ]
  },
  {
   "cell_type": "markdown",
   "metadata": {},
   "source": [
    "$$\n",
    "a = X P (P^T (X^T Х) P)^{-1} (XP)^T y\n",
    "$$"
   ]
  },
  {
   "cell_type": "markdown",
   "metadata": {},
   "source": [
    "Теперь у нас внутри первых скобок все три матрицы квадратные и по свойству обратных матриц ${\\displaystyle (AB)^{-1}=B^{-1}A^{-1}}$ мы можем раскрыть первые скобки и сразу раскроем последние скобки"
   ]
  },
  {
   "cell_type": "markdown",
   "metadata": {},
   "source": [
    "$$\n",
    "a = X P P^{-1} (X^T Х)^{-1} (P^T)^{-1} P^T X^T y\n",
    "$$"
   ]
  },
  {
   "cell_type": "markdown",
   "metadata": {},
   "source": [
    "Обратная матрица — такая матрица $A^{-1}$, при умножении которой на исходную матрицу A получается единичная матрица E:\n",
    "\n",
    "$\\displaystyle AA^{-1}=A^{-1}A=E$ \n",
    "Поэтому можем в нашей формуле сократить $ P $ и $P^{-1}$, а так же $(P^T)^{-1}$ и $P^T$.\n",
    "Перепишем формулу после изменений:"
   ]
  },
  {
   "cell_type": "markdown",
   "metadata": {},
   "source": [
    "$$\n",
    "a = X (X^T Х)^{-1} X^T y = Xw\n",
    "$$"
   ]
  },
  {
   "cell_type": "markdown",
   "metadata": {},
   "source": [
    "Предсказания после умножения на обратимую матрицу равны предсказаниям до умножения. Чтд"
   ]
  },
  {
   "cell_type": "markdown",
   "metadata": {},
   "source": [
    "## Алгоритм преобразования"
   ]
  },
  {
   "cell_type": "markdown",
   "metadata": {},
   "source": [
    "**Алгоритм**\n",
    "\n",
    "Перейдем к алгоритму преобразования.\n",
    "Для него:\n",
    "1. Создадим ненулевую обратимую матрицу. Обратимой может быть только квадратная матрица.\n",
    "2. Размерность нашей матрицы будет совпадать с количеством столбцов в признаках.\n",
    "3. Умножим матрицу признаков на новую матрицу. (зашифруем таким образом персональные данные) \n",
    "4. Таким образом получим новую матрицу признаков, из которой нельзя будет понять персональные данные клиентов страховой компании."
   ]
  },
  {
   "cell_type": "markdown",
   "metadata": {},
   "source": [
    "**Обоснование**\n",
    "В предыдущем пункте мы доказали путем вычисления, что умножение признаков на обратимую матрицу не повлияет на качество линейной регрессии. Сейчас докажем это на примере. "
   ]
  },
  {
   "cell_type": "code",
   "execution_count": 13,
   "metadata": {
    "scrolled": true
   },
   "outputs": [
    {
     "data": {
      "text/plain": [
       "array([[1., 0., 0., 0.],\n",
       "       [0., 1., 0., 0.],\n",
       "       [0., 0., 1., 0.],\n",
       "       [0., 0., 0., 1.]])"
      ]
     },
     "execution_count": 13,
     "metadata": {},
     "output_type": "execute_result"
    }
   ],
   "source": [
    "e = np.eye(4,4)\n",
    "e"
   ]
  },
  {
   "cell_type": "code",
   "execution_count": 14,
   "metadata": {
    "scrolled": true
   },
   "outputs": [],
   "source": [
    "r = np.random.RandomState(42) # пишем функцию на получение случайной матрицы и проверяем ее на обратимость\n",
    "def new_features():\n",
    "    p = r.randint(1,100, size = (4, 4))\n",
    "    try:\n",
    "        p1 = np.linalg.inv(p)\n",
    "        p @ p1 == e\n",
    "        return p\n",
    "    except:\n",
    "        return new_features()"
   ]
  },
  {
   "cell_type": "code",
   "execution_count": 15,
   "metadata": {
    "scrolled": true
   },
   "outputs": [
    {
     "data": {
      "text/plain": [
       "array([[52, 93, 15, 72],\n",
       "       [61, 21, 83, 87],\n",
       "       [75, 75, 88, 24],\n",
       "       [ 3, 22, 53,  2]])"
      ]
     },
     "execution_count": 15,
     "metadata": {},
     "output_type": "execute_result"
    }
   ],
   "source": [
    "p = new_features() # получаем эту новую матрицу\n",
    "p"
   ]
  },
  {
   "cell_type": "code",
   "execution_count": 16,
   "metadata": {},
   "outputs": [
    {
     "data": {
      "text/plain": [
       "array([[ 1.,  0., -0.,  0.],\n",
       "       [-0.,  1.,  0., -0.],\n",
       "       [ 0.,  0.,  1., -0.],\n",
       "       [-0.,  0., -0.,  1.]])"
      ]
     },
     "execution_count": 16,
     "metadata": {},
     "output_type": "execute_result"
    }
   ],
   "source": [
    "p1 = np.linalg.inv(p)\n",
    "e = p @ p1 # проверяем, что свойство обратной матрицы о получении единичной в результате перемножения работает\n",
    "e.round()"
   ]
  },
  {
   "cell_type": "markdown",
   "metadata": {},
   "source": [
    "Матрицу создали, проверили, переходим к выделению признаков и целевого признака."
   ]
  },
  {
   "cell_type": "code",
   "execution_count": 17,
   "metadata": {},
   "outputs": [],
   "source": [
    "features = data.drop(['Страховые выплаты'], axis=1) # выделяем признаки и целевой признак в отдельные переменные\n",
    "target = data['Страховые выплаты']"
   ]
  },
  {
   "cell_type": "code",
   "execution_count": 18,
   "metadata": {
    "scrolled": false
   },
   "outputs": [
    {
     "data": {
      "text/html": [
       "<div>\n",
       "<style scoped>\n",
       "    .dataframe tbody tr th:only-of-type {\n",
       "        vertical-align: middle;\n",
       "    }\n",
       "\n",
       "    .dataframe tbody tr th {\n",
       "        vertical-align: top;\n",
       "    }\n",
       "\n",
       "    .dataframe thead th {\n",
       "        text-align: right;\n",
       "    }\n",
       "</style>\n",
       "<table border=\"1\" class=\"dataframe\">\n",
       "  <thead>\n",
       "    <tr style=\"text-align: right;\">\n",
       "      <th></th>\n",
       "      <th>Пол</th>\n",
       "      <th>Возраст</th>\n",
       "      <th>Зарплата</th>\n",
       "      <th>Члены семьи</th>\n",
       "    </tr>\n",
       "  </thead>\n",
       "  <tbody>\n",
       "    <tr>\n",
       "      <th>0</th>\n",
       "      <td>1</td>\n",
       "      <td>41</td>\n",
       "      <td>49600</td>\n",
       "      <td>1</td>\n",
       "    </tr>\n",
       "    <tr>\n",
       "      <th>1</th>\n",
       "      <td>0</td>\n",
       "      <td>46</td>\n",
       "      <td>38000</td>\n",
       "      <td>1</td>\n",
       "    </tr>\n",
       "    <tr>\n",
       "      <th>2</th>\n",
       "      <td>0</td>\n",
       "      <td>29</td>\n",
       "      <td>21000</td>\n",
       "      <td>0</td>\n",
       "    </tr>\n",
       "    <tr>\n",
       "      <th>3</th>\n",
       "      <td>0</td>\n",
       "      <td>21</td>\n",
       "      <td>41700</td>\n",
       "      <td>2</td>\n",
       "    </tr>\n",
       "    <tr>\n",
       "      <th>4</th>\n",
       "      <td>1</td>\n",
       "      <td>28</td>\n",
       "      <td>26100</td>\n",
       "      <td>0</td>\n",
       "    </tr>\n",
       "  </tbody>\n",
       "</table>\n",
       "</div>"
      ],
      "text/plain": [
       "   Пол  Возраст  Зарплата  Члены семьи\n",
       "0    1       41     49600            1\n",
       "1    0       46     38000            1\n",
       "2    0       29     21000            0\n",
       "3    0       21     41700            2\n",
       "4    1       28     26100            0"
      ]
     },
     "execution_count": 18,
     "metadata": {},
     "output_type": "execute_result"
    }
   ],
   "source": [
    "features.head() # проверка"
   ]
  },
  {
   "cell_type": "code",
   "execution_count": 19,
   "metadata": {},
   "outputs": [
    {
     "data": {
      "text/plain": [
       "0    0\n",
       "1    1\n",
       "2    0\n",
       "3    0\n",
       "4    0\n",
       "Name: Страховые выплаты, dtype: int64"
      ]
     },
     "execution_count": 19,
     "metadata": {},
     "output_type": "execute_result"
    }
   ],
   "source": [
    "target.head() # проверка"
   ]
  },
  {
   "cell_type": "code",
   "execution_count": 20,
   "metadata": {},
   "outputs": [
    {
     "data": {
      "text/html": [
       "<div>\n",
       "<style scoped>\n",
       "    .dataframe tbody tr th:only-of-type {\n",
       "        vertical-align: middle;\n",
       "    }\n",
       "\n",
       "    .dataframe tbody tr th {\n",
       "        vertical-align: top;\n",
       "    }\n",
       "\n",
       "    .dataframe thead th {\n",
       "        text-align: right;\n",
       "    }\n",
       "</style>\n",
       "<table border=\"1\" class=\"dataframe\">\n",
       "  <thead>\n",
       "    <tr style=\"text-align: right;\">\n",
       "      <th></th>\n",
       "      <th>0</th>\n",
       "      <th>1</th>\n",
       "      <th>2</th>\n",
       "      <th>3</th>\n",
       "    </tr>\n",
       "  </thead>\n",
       "  <tbody>\n",
       "    <tr>\n",
       "      <th>0</th>\n",
       "      <td>3722556</td>\n",
       "      <td>3720976</td>\n",
       "      <td>4368271</td>\n",
       "      <td>1194041</td>\n",
       "    </tr>\n",
       "    <tr>\n",
       "      <th>1</th>\n",
       "      <td>2852809</td>\n",
       "      <td>2850988</td>\n",
       "      <td>3347871</td>\n",
       "      <td>916004</td>\n",
       "    </tr>\n",
       "    <tr>\n",
       "      <th>2</th>\n",
       "      <td>1576769</td>\n",
       "      <td>1575609</td>\n",
       "      <td>1850407</td>\n",
       "      <td>506523</td>\n",
       "    </tr>\n",
       "    <tr>\n",
       "      <th>3</th>\n",
       "      <td>3128787</td>\n",
       "      <td>3127985</td>\n",
       "      <td>3671449</td>\n",
       "      <td>1002631</td>\n",
       "    </tr>\n",
       "    <tr>\n",
       "      <th>4</th>\n",
       "      <td>1959260</td>\n",
       "      <td>1958181</td>\n",
       "      <td>2299139</td>\n",
       "      <td>628908</td>\n",
       "    </tr>\n",
       "    <tr>\n",
       "      <th>...</th>\n",
       "      <td>...</td>\n",
       "      <td>...</td>\n",
       "      <td>...</td>\n",
       "      <td>...</td>\n",
       "    </tr>\n",
       "    <tr>\n",
       "      <th>4995</th>\n",
       "      <td>2679214</td>\n",
       "      <td>2678132</td>\n",
       "      <td>3144030</td>\n",
       "      <td>859240</td>\n",
       "    </tr>\n",
       "    <tr>\n",
       "      <th>4996</th>\n",
       "      <td>3932077</td>\n",
       "      <td>3930736</td>\n",
       "      <td>4614075</td>\n",
       "      <td>1260560</td>\n",
       "    </tr>\n",
       "    <tr>\n",
       "      <th>4997</th>\n",
       "      <td>2543726</td>\n",
       "      <td>2542964</td>\n",
       "      <td>2984966</td>\n",
       "      <td>815344</td>\n",
       "    </tr>\n",
       "    <tr>\n",
       "      <th>4998</th>\n",
       "      <td>2453903</td>\n",
       "      <td>2453121</td>\n",
       "      <td>2879600</td>\n",
       "      <td>786792</td>\n",
       "    </tr>\n",
       "    <tr>\n",
       "      <th>4999</th>\n",
       "      <td>3046763</td>\n",
       "      <td>3045703</td>\n",
       "      <td>3575192</td>\n",
       "      <td>976910</td>\n",
       "    </tr>\n",
       "  </tbody>\n",
       "</table>\n",
       "<p>5000 rows × 4 columns</p>\n",
       "</div>"
      ],
      "text/plain": [
       "            0        1        2        3\n",
       "0     3722556  3720976  4368271  1194041\n",
       "1     2852809  2850988  3347871   916004\n",
       "2     1576769  1575609  1850407   506523\n",
       "3     3128787  3127985  3671449  1002631\n",
       "4     1959260  1958181  2299139   628908\n",
       "...       ...      ...      ...      ...\n",
       "4995  2679214  2678132  3144030   859240\n",
       "4996  3932077  3930736  4614075  1260560\n",
       "4997  2543726  2542964  2984966   815344\n",
       "4998  2453903  2453121  2879600   786792\n",
       "4999  3046763  3045703  3575192   976910\n",
       "\n",
       "[5000 rows x 4 columns]"
      ]
     },
     "execution_count": 20,
     "metadata": {},
     "output_type": "execute_result"
    }
   ],
   "source": [
    "features_new = features @ p # умножаем матрицу признаков на квадратную матрицу и получаем новую матрицу признаков\n",
    "features_new"
   ]
  },
  {
   "cell_type": "markdown",
   "metadata": {},
   "source": [
    "## Проверка алгоритма"
   ]
  },
  {
   "cell_type": "markdown",
   "metadata": {},
   "source": [
    "Теперь, когда признаки подготовлены, можно перейти к обучению модели и проверке не изменилось ли ее качество"
   ]
  },
  {
   "cell_type": "code",
   "execution_count": 21,
   "metadata": {},
   "outputs": [
    {
     "name": "stdout",
     "output_type": "stream",
     "text": [
      "Качество метрики R2 на исходных данных 0.42494550308169177\n",
      "Качество метрики R2 на новых данных 0.4249455030816428\n"
     ]
    }
   ],
   "source": [
    "class LinearRegression: # обучение модели\n",
    "    def fit(self, train_features, train_target):\n",
    "        X = np.concatenate((np.ones((train_features.shape[0], 1)), train_features), axis=1)\n",
    "        y = train_target\n",
    "        w = np.linalg.inv(X.T.dot(X)).dot(X.T).dot(y)\n",
    "        self.w = w[1:]\n",
    "        self.w0 = w[0]\n",
    "        \n",
    "    def predict(self, test_features):\n",
    "        return test_features.dot(self.w) + self.w0\n",
    "    \n",
    "model = LinearRegression()\n",
    "model.fit(features, target)\n",
    "predictions = model.predict(features)\n",
    "print('Качество метрики R2 на исходных данных',r2_score(target, predictions))\n",
    "model.fit(features_new, target)\n",
    "predictions_new = model.predict(features_new)\n",
    "print('Качество метрики R2 на новых данных',r2_score(target, predictions_new))"
   ]
  },
  {
   "cell_type": "markdown",
   "metadata": {},
   "source": [
    "Теперь еще попробуем расшифровать данные и убедиться, что это и правда возможно при наличии ключа"
   ]
  },
  {
   "cell_type": "code",
   "execution_count": 22,
   "metadata": {},
   "outputs": [
    {
     "data": {
      "text/plain": [
       "(     0     1        2    3\n",
       " 0  1.0  41.0  49600.0  1.0\n",
       " 1  0.0  46.0  38000.0  1.0\n",
       " 2  0.0  29.0  21000.0 -0.0\n",
       " 3 -0.0  21.0  41700.0  2.0\n",
       " 4  1.0  28.0  26100.0 -0.0,\n",
       "    Пол  Возраст  Зарплата  Члены семьи\n",
       " 0    1       41     49600            1\n",
       " 1    0       46     38000            1\n",
       " 2    0       29     21000            0\n",
       " 3    0       21     41700            2\n",
       " 4    1       28     26100            0)"
      ]
     },
     "execution_count": 22,
     "metadata": {},
     "output_type": "execute_result"
    }
   ],
   "source": [
    "old_features = round(features_new.dot(np.linalg.inv(p))) # проверяем можем ли мы расшифровать наши данные обратно\n",
    "old_features.head(), features.head()"
   ]
  },
  {
   "cell_type": "markdown",
   "metadata": {},
   "source": [
    "Как мы видим, качество не изменилось. Мы доказали не только путем решения уравнения, но и на примере, что качество линейной регрессии не изменится, если признаки умножить на обратимую матрицу. \n",
    "Таким образом, получается отличный способ для страховой компании, как можно зашифровать персональные данные клиентов."
   ]
  }
 ],
 "metadata": {
  "ExecuteTimeLog": [
   {
    "duration": 387,
    "start_time": "2022-08-16T13:22:07.932Z"
   },
   {
    "duration": 130,
    "start_time": "2022-08-16T13:22:32.347Z"
   },
   {
    "duration": 17,
    "start_time": "2022-08-16T13:22:37.232Z"
   },
   {
    "duration": 12,
    "start_time": "2022-08-16T13:22:49.980Z"
   },
   {
    "duration": 68,
    "start_time": "2022-08-16T13:22:59.956Z"
   },
   {
    "duration": 4,
    "start_time": "2022-08-16T13:23:02.667Z"
   },
   {
    "duration": 376,
    "start_time": "2022-08-18T12:34:18.275Z"
   },
   {
    "duration": 72,
    "start_time": "2022-08-18T12:34:19.770Z"
   },
   {
    "duration": 16,
    "start_time": "2022-08-18T12:34:20.738Z"
   },
   {
    "duration": 11,
    "start_time": "2022-08-18T12:34:21.812Z"
   },
   {
    "duration": 61,
    "start_time": "2022-08-18T12:34:24.777Z"
   },
   {
    "duration": 3,
    "start_time": "2022-08-18T12:34:29.978Z"
   },
   {
    "duration": 4,
    "start_time": "2022-08-18T12:34:35.177Z"
   },
   {
    "duration": 3,
    "start_time": "2022-08-18T12:36:30.946Z"
   },
   {
    "duration": 4,
    "start_time": "2022-08-18T12:36:34.210Z"
   },
   {
    "duration": 3,
    "start_time": "2022-08-18T12:36:59.857Z"
   },
   {
    "duration": 6,
    "start_time": "2022-08-18T12:37:01.971Z"
   },
   {
    "duration": 3,
    "start_time": "2022-08-18T12:37:09.889Z"
   },
   {
    "duration": 4,
    "start_time": "2022-08-18T12:37:11.577Z"
   },
   {
    "duration": 3,
    "start_time": "2022-08-18T12:37:19.373Z"
   },
   {
    "duration": 5,
    "start_time": "2022-08-18T12:37:20.405Z"
   },
   {
    "duration": 344,
    "start_time": "2022-08-20T10:30:12.867Z"
   },
   {
    "duration": 82,
    "start_time": "2022-08-20T10:30:13.213Z"
   },
   {
    "duration": 15,
    "start_time": "2022-08-20T10:30:13.297Z"
   },
   {
    "duration": 24,
    "start_time": "2022-08-20T10:30:13.314Z"
   },
   {
    "duration": 66,
    "start_time": "2022-08-20T10:30:13.340Z"
   },
   {
    "duration": 0,
    "start_time": "2022-08-20T10:30:13.408Z"
   },
   {
    "duration": 469,
    "start_time": "2022-08-20T10:30:30.007Z"
   },
   {
    "duration": 3,
    "start_time": "2022-08-20T10:30:46.564Z"
   },
   {
    "duration": 3,
    "start_time": "2022-08-20T10:30:48.623Z"
   },
   {
    "duration": 5,
    "start_time": "2022-08-20T10:31:43.692Z"
   },
   {
    "duration": 4,
    "start_time": "2022-08-20T10:31:44.707Z"
   },
   {
    "duration": 3,
    "start_time": "2022-08-20T10:31:49.828Z"
   },
   {
    "duration": 4,
    "start_time": "2022-08-20T10:31:53.423Z"
   },
   {
    "duration": 6,
    "start_time": "2022-08-20T10:34:23.505Z"
   },
   {
    "duration": 4,
    "start_time": "2022-08-20T10:34:29.384Z"
   },
   {
    "duration": 4,
    "start_time": "2022-08-20T10:34:33.933Z"
   },
   {
    "duration": 4,
    "start_time": "2022-08-20T10:35:45.777Z"
   },
   {
    "duration": 3,
    "start_time": "2022-08-20T13:21:07.376Z"
   },
   {
    "duration": 4,
    "start_time": "2022-08-20T13:21:27.937Z"
   },
   {
    "duration": 6,
    "start_time": "2022-08-20T13:21:48.675Z"
   },
   {
    "duration": 4,
    "start_time": "2022-08-20T13:28:37.779Z"
   },
   {
    "duration": 5,
    "start_time": "2022-08-20T13:29:20.223Z"
   },
   {
    "duration": 88,
    "start_time": "2022-08-20T13:35:26.331Z"
   },
   {
    "duration": 664,
    "start_time": "2022-08-20T13:35:38.386Z"
   },
   {
    "duration": 9,
    "start_time": "2022-08-20T13:35:43.477Z"
   },
   {
    "duration": 4,
    "start_time": "2022-08-20T13:38:49.885Z"
   },
   {
    "duration": 7,
    "start_time": "2022-08-20T13:39:10.516Z"
   },
   {
    "duration": 93,
    "start_time": "2022-08-20T13:39:35.883Z"
   },
   {
    "duration": 63,
    "start_time": "2022-08-20T13:39:52.114Z"
   },
   {
    "duration": 62,
    "start_time": "2022-08-20T13:39:56.876Z"
   },
   {
    "duration": 5,
    "start_time": "2022-08-20T13:40:18.569Z"
   },
   {
    "duration": 55,
    "start_time": "2022-08-20T13:40:24.608Z"
   },
   {
    "duration": 7,
    "start_time": "2022-08-20T13:40:32.954Z"
   },
   {
    "duration": 4,
    "start_time": "2022-08-20T14:04:44.767Z"
   },
   {
    "duration": 12,
    "start_time": "2022-08-20T14:04:52.206Z"
   },
   {
    "duration": 11,
    "start_time": "2022-08-20T14:05:27.968Z"
   },
   {
    "duration": 6,
    "start_time": "2022-08-20T14:08:16.046Z"
   },
   {
    "duration": 5,
    "start_time": "2022-08-20T14:38:05.487Z"
   },
   {
    "duration": 4,
    "start_time": "2022-08-20T14:38:34.995Z"
   },
   {
    "duration": 3,
    "start_time": "2022-08-20T14:39:13.816Z"
   },
   {
    "duration": 3,
    "start_time": "2022-08-20T14:40:09.235Z"
   },
   {
    "duration": 4,
    "start_time": "2022-08-20T14:40:18.585Z"
   },
   {
    "duration": 8,
    "start_time": "2022-08-20T14:40:20.215Z"
   },
   {
    "duration": 7,
    "start_time": "2022-08-20T14:40:41.176Z"
   },
   {
    "duration": 4,
    "start_time": "2022-08-20T14:40:46.635Z"
   },
   {
    "duration": 11,
    "start_time": "2022-08-20T14:41:19.605Z"
   },
   {
    "duration": 71,
    "start_time": "2022-08-20T14:44:10.439Z"
   },
   {
    "duration": 11,
    "start_time": "2022-08-20T14:44:20.300Z"
   },
   {
    "duration": 7,
    "start_time": "2022-08-20T14:44:23.495Z"
   },
   {
    "duration": 1097,
    "start_time": "2022-08-20T14:48:52.081Z"
   },
   {
    "duration": 30,
    "start_time": "2022-08-20T14:48:53.179Z"
   },
   {
    "duration": 17,
    "start_time": "2022-08-20T14:48:53.210Z"
   },
   {
    "duration": 11,
    "start_time": "2022-08-20T14:48:53.229Z"
   },
   {
    "duration": 6,
    "start_time": "2022-08-20T14:48:53.241Z"
   },
   {
    "duration": 8,
    "start_time": "2022-08-20T14:48:53.249Z"
   },
   {
    "duration": 6,
    "start_time": "2022-08-20T14:48:53.259Z"
   },
   {
    "duration": 6,
    "start_time": "2022-08-20T14:48:53.310Z"
   },
   {
    "duration": 11,
    "start_time": "2022-08-20T14:48:53.318Z"
   },
   {
    "duration": 8,
    "start_time": "2022-08-20T14:48:53.411Z"
   },
   {
    "duration": 5,
    "start_time": "2022-08-20T14:48:53.421Z"
   },
   {
    "duration": 20,
    "start_time": "2022-08-20T14:48:53.427Z"
   },
   {
    "duration": 69,
    "start_time": "2022-08-20T14:48:53.448Z"
   },
   {
    "duration": 1189,
    "start_time": "2022-08-21T11:52:26.650Z"
   },
   {
    "duration": 88,
    "start_time": "2022-08-21T11:52:28.491Z"
   },
   {
    "duration": 16,
    "start_time": "2022-08-21T11:52:32.539Z"
   },
   {
    "duration": 12,
    "start_time": "2022-08-21T11:52:33.830Z"
   },
   {
    "duration": 6,
    "start_time": "2022-08-21T11:52:35.599Z"
   },
   {
    "duration": 99,
    "start_time": "2022-08-21T11:52:38.909Z"
   },
   {
    "duration": 13,
    "start_time": "2022-08-21T11:57:27.863Z"
   },
   {
    "duration": 5,
    "start_time": "2022-08-21T11:58:02.762Z"
   },
   {
    "duration": 14,
    "start_time": "2022-08-21T12:00:40.132Z"
   },
   {
    "duration": 7,
    "start_time": "2022-08-21T12:02:16.250Z"
   },
   {
    "duration": 33,
    "start_time": "2022-08-21T12:03:01.039Z"
   },
   {
    "duration": 8,
    "start_time": "2022-08-21T12:03:10.720Z"
   },
   {
    "duration": 7,
    "start_time": "2022-08-21T12:03:24.229Z"
   },
   {
    "duration": 5,
    "start_time": "2022-08-21T12:03:47.240Z"
   },
   {
    "duration": 16,
    "start_time": "2022-08-21T12:04:12.030Z"
   },
   {
    "duration": 8,
    "start_time": "2022-08-21T12:04:34.050Z"
   },
   {
    "duration": 23,
    "start_time": "2022-08-21T12:05:08.960Z"
   },
   {
    "duration": 24,
    "start_time": "2022-08-21T12:05:39.271Z"
   },
   {
    "duration": 20,
    "start_time": "2022-08-21T12:06:06.010Z"
   },
   {
    "duration": 18,
    "start_time": "2022-08-21T12:06:16.861Z"
   },
   {
    "duration": 20,
    "start_time": "2022-08-21T12:06:22.750Z"
   },
   {
    "duration": 7,
    "start_time": "2022-08-21T12:07:04.282Z"
   },
   {
    "duration": 6,
    "start_time": "2022-08-21T12:07:12.250Z"
   },
   {
    "duration": 11,
    "start_time": "2022-08-21T12:07:37.899Z"
   },
   {
    "duration": 14,
    "start_time": "2022-08-21T12:07:41.258Z"
   },
   {
    "duration": 5,
    "start_time": "2022-08-21T12:07:46.641Z"
   },
   {
    "duration": 4,
    "start_time": "2022-08-21T12:08:04.838Z"
   },
   {
    "duration": 660,
    "start_time": "2022-08-21T12:08:34.899Z"
   },
   {
    "duration": 687,
    "start_time": "2022-08-21T12:08:41.670Z"
   },
   {
    "duration": 7,
    "start_time": "2022-08-21T12:08:57.684Z"
   },
   {
    "duration": 11,
    "start_time": "2022-08-21T12:09:26.000Z"
   },
   {
    "duration": 10,
    "start_time": "2022-08-21T12:09:46.421Z"
   },
   {
    "duration": 20,
    "start_time": "2022-08-21T12:10:17.141Z"
   },
   {
    "duration": 27,
    "start_time": "2022-08-21T12:11:56.120Z"
   },
   {
    "duration": 26,
    "start_time": "2022-08-21T12:12:04.683Z"
   },
   {
    "duration": 25,
    "start_time": "2022-08-21T12:12:12.862Z"
   },
   {
    "duration": 8,
    "start_time": "2022-08-21T12:13:15.174Z"
   },
   {
    "duration": 9,
    "start_time": "2022-08-21T12:13:35.530Z"
   },
   {
    "duration": 8,
    "start_time": "2022-08-21T12:13:41.700Z"
   },
   {
    "duration": 6,
    "start_time": "2022-08-21T12:15:07.120Z"
   },
   {
    "duration": 9,
    "start_time": "2022-08-21T12:15:50.260Z"
   },
   {
    "duration": 28,
    "start_time": "2022-08-21T12:16:11.879Z"
   },
   {
    "duration": 33,
    "start_time": "2022-08-21T12:17:59.000Z"
   },
   {
    "duration": 10,
    "start_time": "2022-08-21T12:18:03.919Z"
   },
   {
    "duration": 10,
    "start_time": "2022-08-21T12:18:47.779Z"
   },
   {
    "duration": 7,
    "start_time": "2022-08-21T12:19:24.562Z"
   },
   {
    "duration": 11,
    "start_time": "2022-08-21T12:19:57.210Z"
   },
   {
    "duration": 8,
    "start_time": "2022-08-21T12:20:04.699Z"
   },
   {
    "duration": 7,
    "start_time": "2022-08-21T12:20:13.615Z"
   },
   {
    "duration": 11,
    "start_time": "2022-08-21T12:20:48.099Z"
   },
   {
    "duration": 12,
    "start_time": "2022-08-21T12:20:57.150Z"
   },
   {
    "duration": 5,
    "start_time": "2022-08-21T12:22:32.140Z"
   },
   {
    "duration": 12,
    "start_time": "2022-08-21T12:22:33.489Z"
   },
   {
    "duration": 992,
    "start_time": "2022-08-21T13:46:47.582Z"
   },
   {
    "duration": 71,
    "start_time": "2022-08-21T13:46:49.424Z"
   },
   {
    "duration": 15,
    "start_time": "2022-08-21T13:46:50.182Z"
   },
   {
    "duration": 11,
    "start_time": "2022-08-21T13:46:50.923Z"
   },
   {
    "duration": 5,
    "start_time": "2022-08-21T13:46:53.343Z"
   },
   {
    "duration": 10,
    "start_time": "2022-08-21T13:46:57.792Z"
   },
   {
    "duration": 16,
    "start_time": "2022-08-21T13:47:00.579Z"
   },
   {
    "duration": 7,
    "start_time": "2022-08-21T13:47:01.684Z"
   },
   {
    "duration": 7,
    "start_time": "2022-08-21T13:47:02.753Z"
   },
   {
    "duration": 6,
    "start_time": "2022-08-21T13:47:03.682Z"
   },
   {
    "duration": 4,
    "start_time": "2022-08-21T13:47:05.291Z"
   },
   {
    "duration": 10,
    "start_time": "2022-08-21T13:47:06.090Z"
   },
   {
    "duration": 93,
    "start_time": "2022-08-21T13:47:22.481Z"
   },
   {
    "duration": 50,
    "start_time": "2022-08-21T13:48:14.515Z"
   },
   {
    "duration": 3,
    "start_time": "2022-08-21T13:48:25.984Z"
   },
   {
    "duration": 8,
    "start_time": "2022-08-21T13:48:30.014Z"
   },
   {
    "duration": 225,
    "start_time": "2022-08-21T13:48:44.338Z"
   },
   {
    "duration": 250,
    "start_time": "2022-08-21T13:48:54.833Z"
   },
   {
    "duration": 9,
    "start_time": "2022-08-21T13:50:55.084Z"
   },
   {
    "duration": 9,
    "start_time": "2022-08-21T13:50:58.693Z"
   },
   {
    "duration": 9,
    "start_time": "2022-08-21T13:52:51.342Z"
   },
   {
    "duration": 248,
    "start_time": "2022-08-21T13:53:35.593Z"
   },
   {
    "duration": 8,
    "start_time": "2022-08-21T13:53:40.542Z"
   },
   {
    "duration": 4,
    "start_time": "2022-08-21T13:53:56.043Z"
   },
   {
    "duration": 4,
    "start_time": "2022-08-21T13:54:04.583Z"
   },
   {
    "duration": 5,
    "start_time": "2022-08-21T13:54:14.544Z"
   },
   {
    "duration": 3,
    "start_time": "2022-08-21T13:58:47.404Z"
   },
   {
    "duration": 4,
    "start_time": "2022-08-21T13:58:52.252Z"
   },
   {
    "duration": 61,
    "start_time": "2022-08-21T13:59:57.425Z"
   },
   {
    "duration": 48,
    "start_time": "2022-08-21T14:00:12.280Z"
   },
   {
    "duration": 4,
    "start_time": "2022-08-21T14:04:53.053Z"
   },
   {
    "duration": 5,
    "start_time": "2022-08-21T14:05:08.926Z"
   },
   {
    "duration": 10,
    "start_time": "2022-08-21T14:05:21.701Z"
   },
   {
    "duration": 47,
    "start_time": "2022-08-21T14:08:26.554Z"
   },
   {
    "duration": 3,
    "start_time": "2022-08-21T14:08:30.955Z"
   },
   {
    "duration": 3,
    "start_time": "2022-08-21T14:08:43.183Z"
   },
   {
    "duration": 3,
    "start_time": "2022-08-21T14:08:59.802Z"
   },
   {
    "duration": 3,
    "start_time": "2022-08-21T14:09:42.333Z"
   },
   {
    "duration": 3,
    "start_time": "2022-08-21T14:09:43.609Z"
   },
   {
    "duration": 950,
    "start_time": "2022-08-21T14:10:56.233Z"
   },
   {
    "duration": 27,
    "start_time": "2022-08-21T14:10:57.185Z"
   },
   {
    "duration": 14,
    "start_time": "2022-08-21T14:10:57.213Z"
   },
   {
    "duration": 10,
    "start_time": "2022-08-21T14:10:57.229Z"
   },
   {
    "duration": 4,
    "start_time": "2022-08-21T14:10:57.240Z"
   },
   {
    "duration": 13,
    "start_time": "2022-08-21T14:10:57.246Z"
   },
   {
    "duration": 15,
    "start_time": "2022-08-21T14:10:57.261Z"
   },
   {
    "duration": 5,
    "start_time": "2022-08-21T14:10:57.278Z"
   },
   {
    "duration": 18,
    "start_time": "2022-08-21T14:10:57.284Z"
   },
   {
    "duration": 8,
    "start_time": "2022-08-21T14:10:57.304Z"
   },
   {
    "duration": 4,
    "start_time": "2022-08-21T14:10:57.313Z"
   },
   {
    "duration": 12,
    "start_time": "2022-08-21T14:10:57.318Z"
   },
   {
    "duration": 5,
    "start_time": "2022-08-21T14:10:57.331Z"
   },
   {
    "duration": 4,
    "start_time": "2022-08-21T14:10:57.337Z"
   },
   {
    "duration": 5,
    "start_time": "2022-08-21T14:10:57.342Z"
   },
   {
    "duration": 4,
    "start_time": "2022-08-21T14:10:57.348Z"
   },
   {
    "duration": 117,
    "start_time": "2022-08-21T14:10:57.354Z"
   },
   {
    "duration": 0,
    "start_time": "2022-08-21T14:10:57.473Z"
   },
   {
    "duration": 0,
    "start_time": "2022-08-21T14:10:57.473Z"
   },
   {
    "duration": 0,
    "start_time": "2022-08-21T14:10:57.475Z"
   },
   {
    "duration": 0,
    "start_time": "2022-08-21T14:10:57.475Z"
   },
   {
    "duration": 0,
    "start_time": "2022-08-21T14:10:57.476Z"
   },
   {
    "duration": 0,
    "start_time": "2022-08-21T14:10:57.477Z"
   },
   {
    "duration": 51,
    "start_time": "2022-08-21T14:11:24.961Z"
   },
   {
    "duration": 8,
    "start_time": "2022-08-21T14:11:56.960Z"
   },
   {
    "duration": 8,
    "start_time": "2022-08-21T14:12:26.869Z"
   },
   {
    "duration": 3,
    "start_time": "2022-08-21T14:12:44.010Z"
   },
   {
    "duration": 12,
    "start_time": "2022-08-21T14:12:47.960Z"
   },
   {
    "duration": 3,
    "start_time": "2022-08-21T14:13:29.439Z"
   },
   {
    "duration": 7,
    "start_time": "2022-08-21T14:13:32.870Z"
   },
   {
    "duration": 4,
    "start_time": "2022-08-21T14:27:00.200Z"
   },
   {
    "duration": 7,
    "start_time": "2022-08-21T14:27:03.349Z"
   },
   {
    "duration": 65,
    "start_time": "2022-08-21T14:27:20.920Z"
   },
   {
    "duration": 4,
    "start_time": "2022-08-21T14:27:47.191Z"
   },
   {
    "duration": 6,
    "start_time": "2022-08-21T14:27:50.841Z"
   },
   {
    "duration": 53,
    "start_time": "2022-08-21T14:28:12.623Z"
   },
   {
    "duration": 5,
    "start_time": "2022-08-21T14:29:04.097Z"
   },
   {
    "duration": 7,
    "start_time": "2022-08-21T14:29:08.902Z"
   },
   {
    "duration": 4,
    "start_time": "2022-08-21T14:29:16.944Z"
   },
   {
    "duration": 3,
    "start_time": "2022-08-21T14:29:18.220Z"
   },
   {
    "duration": 6,
    "start_time": "2022-08-21T14:29:44.698Z"
   },
   {
    "duration": 2,
    "start_time": "2022-08-21T14:29:47.118Z"
   },
   {
    "duration": 2,
    "start_time": "2022-08-21T14:30:10.351Z"
   },
   {
    "duration": 959,
    "start_time": "2022-08-21T14:31:07.486Z"
   },
   {
    "duration": 28,
    "start_time": "2022-08-21T14:31:08.446Z"
   },
   {
    "duration": 16,
    "start_time": "2022-08-21T14:31:08.475Z"
   },
   {
    "duration": 14,
    "start_time": "2022-08-21T14:31:08.492Z"
   },
   {
    "duration": 12,
    "start_time": "2022-08-21T14:31:08.510Z"
   },
   {
    "duration": 33,
    "start_time": "2022-08-21T14:31:08.523Z"
   },
   {
    "duration": 22,
    "start_time": "2022-08-21T14:31:08.558Z"
   },
   {
    "duration": 15,
    "start_time": "2022-08-21T14:31:08.582Z"
   },
   {
    "duration": 15,
    "start_time": "2022-08-21T14:31:08.599Z"
   },
   {
    "duration": 22,
    "start_time": "2022-08-21T14:31:08.615Z"
   },
   {
    "duration": 12,
    "start_time": "2022-08-21T14:31:08.638Z"
   },
   {
    "duration": 30,
    "start_time": "2022-08-21T14:31:08.651Z"
   },
   {
    "duration": 18,
    "start_time": "2022-08-21T14:31:08.682Z"
   },
   {
    "duration": 11,
    "start_time": "2022-08-21T14:31:08.702Z"
   },
   {
    "duration": 22,
    "start_time": "2022-08-21T14:31:08.714Z"
   },
   {
    "duration": 15,
    "start_time": "2022-08-21T14:31:08.737Z"
   },
   {
    "duration": 12,
    "start_time": "2022-08-21T14:31:08.754Z"
   },
   {
    "duration": 238,
    "start_time": "2022-08-21T14:31:08.799Z"
   },
   {
    "duration": 0,
    "start_time": "2022-08-21T14:31:09.039Z"
   },
   {
    "duration": 0,
    "start_time": "2022-08-21T14:31:09.040Z"
   },
   {
    "duration": 0,
    "start_time": "2022-08-21T14:31:09.042Z"
   },
   {
    "duration": 0,
    "start_time": "2022-08-21T14:31:09.043Z"
   },
   {
    "duration": 0,
    "start_time": "2022-08-21T14:31:09.045Z"
   },
   {
    "duration": 975,
    "start_time": "2022-08-21T14:31:45.543Z"
   },
   {
    "duration": 27,
    "start_time": "2022-08-21T14:31:46.520Z"
   },
   {
    "duration": 14,
    "start_time": "2022-08-21T14:31:46.548Z"
   },
   {
    "duration": 10,
    "start_time": "2022-08-21T14:31:46.565Z"
   },
   {
    "duration": 5,
    "start_time": "2022-08-21T14:31:46.576Z"
   },
   {
    "duration": 17,
    "start_time": "2022-08-21T14:31:46.582Z"
   },
   {
    "duration": 16,
    "start_time": "2022-08-21T14:31:46.600Z"
   },
   {
    "duration": 5,
    "start_time": "2022-08-21T14:31:46.617Z"
   },
   {
    "duration": 7,
    "start_time": "2022-08-21T14:31:46.624Z"
   },
   {
    "duration": 5,
    "start_time": "2022-08-21T14:31:46.633Z"
   },
   {
    "duration": 3,
    "start_time": "2022-08-21T14:31:46.640Z"
   },
   {
    "duration": 11,
    "start_time": "2022-08-21T14:31:46.645Z"
   },
   {
    "duration": 40,
    "start_time": "2022-08-21T14:31:46.658Z"
   },
   {
    "duration": 2,
    "start_time": "2022-08-21T14:31:46.700Z"
   },
   {
    "duration": 6,
    "start_time": "2022-08-21T14:31:46.704Z"
   },
   {
    "duration": 10,
    "start_time": "2022-08-21T14:31:46.712Z"
   },
   {
    "duration": 7,
    "start_time": "2022-08-21T14:31:46.724Z"
   },
   {
    "duration": 2,
    "start_time": "2022-08-21T14:31:46.799Z"
   },
   {
    "duration": 7,
    "start_time": "2022-08-21T14:31:46.803Z"
   },
   {
    "duration": 87,
    "start_time": "2022-08-21T14:31:46.812Z"
   },
   {
    "duration": 4,
    "start_time": "2022-08-21T14:31:46.900Z"
   },
   {
    "duration": 121,
    "start_time": "2022-08-21T14:31:46.906Z"
   },
   {
    "duration": 0,
    "start_time": "2022-08-21T14:31:47.028Z"
   },
   {
    "duration": 6,
    "start_time": "2022-08-21T14:32:19.090Z"
   },
   {
    "duration": 10,
    "start_time": "2022-08-21T14:32:31.698Z"
   },
   {
    "duration": 2,
    "start_time": "2022-08-21T14:32:33.320Z"
   },
   {
    "duration": 9,
    "start_time": "2022-08-21T14:32:47.857Z"
   },
   {
    "duration": 13,
    "start_time": "2022-08-21T14:33:04.471Z"
   },
   {
    "duration": 5,
    "start_time": "2022-08-21T14:33:11.922Z"
   },
   {
    "duration": 3,
    "start_time": "2022-08-21T14:33:19.554Z"
   },
   {
    "duration": 5,
    "start_time": "2022-08-21T14:33:33.031Z"
   },
   {
    "duration": 7,
    "start_time": "2022-08-21T14:33:56.361Z"
   },
   {
    "duration": 3,
    "start_time": "2022-08-21T14:34:00.599Z"
   },
   {
    "duration": 5,
    "start_time": "2022-08-21T14:34:58.306Z"
   },
   {
    "duration": 6,
    "start_time": "2022-08-21T14:35:13.030Z"
   },
   {
    "duration": 2,
    "start_time": "2022-08-21T14:35:20.938Z"
   },
   {
    "duration": 1012,
    "start_time": "2022-08-21T14:35:27.684Z"
   },
   {
    "duration": 28,
    "start_time": "2022-08-21T14:35:28.698Z"
   },
   {
    "duration": 12,
    "start_time": "2022-08-21T14:35:28.727Z"
   },
   {
    "duration": 10,
    "start_time": "2022-08-21T14:35:28.741Z"
   },
   {
    "duration": 5,
    "start_time": "2022-08-21T14:35:28.752Z"
   },
   {
    "duration": 9,
    "start_time": "2022-08-21T14:35:28.758Z"
   },
   {
    "duration": 15,
    "start_time": "2022-08-21T14:35:28.769Z"
   },
   {
    "duration": 17,
    "start_time": "2022-08-21T14:35:28.785Z"
   },
   {
    "duration": 8,
    "start_time": "2022-08-21T14:35:28.803Z"
   },
   {
    "duration": 5,
    "start_time": "2022-08-21T14:35:28.813Z"
   },
   {
    "duration": 5,
    "start_time": "2022-08-21T14:35:28.820Z"
   },
   {
    "duration": 11,
    "start_time": "2022-08-21T14:35:28.826Z"
   },
   {
    "duration": 4,
    "start_time": "2022-08-21T14:35:28.839Z"
   },
   {
    "duration": 5,
    "start_time": "2022-08-21T14:35:28.846Z"
   },
   {
    "duration": 8,
    "start_time": "2022-08-21T14:35:28.853Z"
   },
   {
    "duration": 38,
    "start_time": "2022-08-21T14:35:28.863Z"
   },
   {
    "duration": 215,
    "start_time": "2022-08-21T14:35:28.903Z"
   },
   {
    "duration": 0,
    "start_time": "2022-08-21T14:35:29.120Z"
   },
   {
    "duration": 0,
    "start_time": "2022-08-21T14:35:29.121Z"
   },
   {
    "duration": 0,
    "start_time": "2022-08-21T14:35:29.122Z"
   },
   {
    "duration": 0,
    "start_time": "2022-08-21T14:35:29.123Z"
   },
   {
    "duration": 0,
    "start_time": "2022-08-21T14:35:29.124Z"
   },
   {
    "duration": 0,
    "start_time": "2022-08-21T14:35:29.125Z"
   },
   {
    "duration": 7,
    "start_time": "2022-08-21T14:37:31.634Z"
   },
   {
    "duration": 8,
    "start_time": "2022-08-21T14:38:04.042Z"
   },
   {
    "duration": 8,
    "start_time": "2022-08-21T14:38:13.365Z"
   },
   {
    "duration": 3,
    "start_time": "2022-08-21T14:38:33.982Z"
   },
   {
    "duration": 10,
    "start_time": "2022-08-21T14:38:37.753Z"
   },
   {
    "duration": 5,
    "start_time": "2022-08-21T14:38:41.398Z"
   },
   {
    "duration": 1063,
    "start_time": "2022-08-21T14:39:27.477Z"
   },
   {
    "duration": 27,
    "start_time": "2022-08-21T14:39:28.542Z"
   },
   {
    "duration": 14,
    "start_time": "2022-08-21T14:39:28.570Z"
   },
   {
    "duration": 9,
    "start_time": "2022-08-21T14:39:28.585Z"
   },
   {
    "duration": 5,
    "start_time": "2022-08-21T14:39:28.596Z"
   },
   {
    "duration": 11,
    "start_time": "2022-08-21T14:39:28.602Z"
   },
   {
    "duration": 16,
    "start_time": "2022-08-21T14:39:28.614Z"
   },
   {
    "duration": 5,
    "start_time": "2022-08-21T14:39:28.631Z"
   },
   {
    "duration": 8,
    "start_time": "2022-08-21T14:39:28.637Z"
   },
   {
    "duration": 5,
    "start_time": "2022-08-21T14:39:28.647Z"
   },
   {
    "duration": 3,
    "start_time": "2022-08-21T14:39:28.654Z"
   },
   {
    "duration": 43,
    "start_time": "2022-08-21T14:39:28.659Z"
   },
   {
    "duration": 4,
    "start_time": "2022-08-21T14:39:28.704Z"
   },
   {
    "duration": 2,
    "start_time": "2022-08-21T14:39:28.712Z"
   },
   {
    "duration": 5,
    "start_time": "2022-08-21T14:39:28.716Z"
   },
   {
    "duration": 4,
    "start_time": "2022-08-21T14:39:28.723Z"
   },
   {
    "duration": 8,
    "start_time": "2022-08-21T14:39:28.729Z"
   },
   {
    "duration": 60,
    "start_time": "2022-08-21T14:39:28.738Z"
   },
   {
    "duration": 5,
    "start_time": "2022-08-21T14:39:28.800Z"
   },
   {
    "duration": 101,
    "start_time": "2022-08-21T14:39:28.807Z"
   },
   {
    "duration": 6,
    "start_time": "2022-08-21T14:39:28.910Z"
   },
   {
    "duration": 8,
    "start_time": "2022-08-21T14:39:28.918Z"
   },
   {
    "duration": 81,
    "start_time": "2022-08-21T14:39:28.927Z"
   },
   {
    "duration": 103,
    "start_time": "2022-08-21T14:41:40.390Z"
   },
   {
    "duration": 3,
    "start_time": "2022-08-21T14:42:00.814Z"
   },
   {
    "duration": 12,
    "start_time": "2022-08-21T14:42:09.041Z"
   },
   {
    "duration": 15,
    "start_time": "2022-08-21T14:43:37.893Z"
   },
   {
    "duration": 12,
    "start_time": "2022-08-21T14:44:00.537Z"
   },
   {
    "duration": 975,
    "start_time": "2022-08-21T14:45:08.114Z"
   },
   {
    "duration": 27,
    "start_time": "2022-08-21T14:45:09.091Z"
   },
   {
    "duration": 14,
    "start_time": "2022-08-21T14:45:09.119Z"
   },
   {
    "duration": 10,
    "start_time": "2022-08-21T14:45:09.135Z"
   },
   {
    "duration": 8,
    "start_time": "2022-08-21T14:45:09.146Z"
   },
   {
    "duration": 9,
    "start_time": "2022-08-21T14:45:09.156Z"
   },
   {
    "duration": 16,
    "start_time": "2022-08-21T14:45:09.166Z"
   },
   {
    "duration": 18,
    "start_time": "2022-08-21T14:45:09.183Z"
   },
   {
    "duration": 9,
    "start_time": "2022-08-21T14:45:09.203Z"
   },
   {
    "duration": 6,
    "start_time": "2022-08-21T14:45:09.214Z"
   },
   {
    "duration": 3,
    "start_time": "2022-08-21T14:45:09.222Z"
   },
   {
    "duration": 12,
    "start_time": "2022-08-21T14:45:09.226Z"
   },
   {
    "duration": 1,
    "start_time": "2022-08-21T14:45:09.240Z"
   },
   {
    "duration": 6,
    "start_time": "2022-08-21T14:45:09.242Z"
   },
   {
    "duration": 4,
    "start_time": "2022-08-21T14:45:09.250Z"
   },
   {
    "duration": 4,
    "start_time": "2022-08-21T14:45:09.256Z"
   },
   {
    "duration": 7,
    "start_time": "2022-08-21T14:45:09.298Z"
   },
   {
    "duration": 6,
    "start_time": "2022-08-21T14:45:09.307Z"
   },
   {
    "duration": 84,
    "start_time": "2022-08-21T14:45:09.314Z"
   },
   {
    "duration": 7,
    "start_time": "2022-08-21T14:45:09.402Z"
   },
   {
    "duration": 5,
    "start_time": "2022-08-21T14:45:09.412Z"
   },
   {
    "duration": 9,
    "start_time": "2022-08-21T14:45:09.499Z"
   },
   {
    "duration": 16,
    "start_time": "2022-08-21T14:45:09.509Z"
   },
   {
    "duration": 175,
    "start_time": "2022-08-21T14:45:09.526Z"
   },
   {
    "duration": 4,
    "start_time": "2022-08-21T14:47:46.996Z"
   },
   {
    "duration": 8,
    "start_time": "2022-08-21T14:48:10.302Z"
   },
   {
    "duration": 11,
    "start_time": "2022-08-21T14:49:33.321Z"
   },
   {
    "duration": 974,
    "start_time": "2022-08-21T14:49:44.761Z"
   },
   {
    "duration": 28,
    "start_time": "2022-08-21T14:49:45.737Z"
   },
   {
    "duration": 14,
    "start_time": "2022-08-21T14:49:45.767Z"
   },
   {
    "duration": 11,
    "start_time": "2022-08-21T14:49:45.783Z"
   },
   {
    "duration": 6,
    "start_time": "2022-08-21T14:49:45.795Z"
   },
   {
    "duration": 18,
    "start_time": "2022-08-21T14:49:45.803Z"
   },
   {
    "duration": 26,
    "start_time": "2022-08-21T14:49:45.823Z"
   },
   {
    "duration": 17,
    "start_time": "2022-08-21T14:49:45.851Z"
   },
   {
    "duration": 17,
    "start_time": "2022-08-21T14:49:45.870Z"
   },
   {
    "duration": 7,
    "start_time": "2022-08-21T14:49:45.899Z"
   },
   {
    "duration": 8,
    "start_time": "2022-08-21T14:49:45.907Z"
   },
   {
    "duration": 14,
    "start_time": "2022-08-21T14:49:45.916Z"
   },
   {
    "duration": 3,
    "start_time": "2022-08-21T14:49:45.932Z"
   },
   {
    "duration": 7,
    "start_time": "2022-08-21T14:49:45.937Z"
   },
   {
    "duration": 6,
    "start_time": "2022-08-21T14:49:45.946Z"
   },
   {
    "duration": 12,
    "start_time": "2022-08-21T14:49:45.954Z"
   },
   {
    "duration": 34,
    "start_time": "2022-08-21T14:49:45.968Z"
   },
   {
    "duration": 7,
    "start_time": "2022-08-21T14:49:46.004Z"
   },
   {
    "duration": 89,
    "start_time": "2022-08-21T14:49:46.012Z"
   },
   {
    "duration": 11,
    "start_time": "2022-08-21T14:49:46.102Z"
   },
   {
    "duration": 6,
    "start_time": "2022-08-21T14:49:46.115Z"
   },
   {
    "duration": 15,
    "start_time": "2022-08-21T14:49:46.122Z"
   },
   {
    "duration": 10,
    "start_time": "2022-08-21T14:49:46.138Z"
   },
   {
    "duration": 112,
    "start_time": "2022-08-21T14:49:46.201Z"
   }
  ],
  "kernelspec": {
   "display_name": "Python 3 (ipykernel)",
   "language": "python",
   "name": "python3"
  },
  "language_info": {
   "codemirror_mode": {
    "name": "ipython",
    "version": 3
   },
   "file_extension": ".py",
   "mimetype": "text/x-python",
   "name": "python",
   "nbconvert_exporter": "python",
   "pygments_lexer": "ipython3",
   "version": "3.9.7"
  },
  "toc": {
   "base_numbering": 1,
   "nav_menu": {},
   "number_sections": true,
   "sideBar": true,
   "skip_h1_title": true,
   "title_cell": "Содержание",
   "title_sidebar": "Contents",
   "toc_cell": true,
   "toc_position": {},
   "toc_section_display": true,
   "toc_window_display": false
  }
 },
 "nbformat": 4,
 "nbformat_minor": 2
}
