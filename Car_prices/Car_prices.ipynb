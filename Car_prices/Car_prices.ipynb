{
 "cells": [
  {
   "cell_type": "markdown",
   "metadata": {},
   "source": [
    "# Определение стоимости автомобилей"
   ]
  },
  {
   "cell_type": "markdown",
   "metadata": {},
   "source": [
    "Сервис по продаже автомобилей с пробегом разрабатывает приложение для привлечения новых клиентов. В нём можно быстро узнать рыночную стоимость своего автомобиля. В нашем распоряжении исторические данные: технические характеристики, комплектации и цены автомобилей. Необходимо построить модель для определения стоимости. \n",
    "\n",
    "Заказчику важны:\n",
    "\n",
    "- качество предсказания;\n",
    "- скорость предсказания;\n",
    "- время обучения."
   ]
  },
  {
   "cell_type": "markdown",
   "metadata": {},
   "source": [
    "## Подготовка данных"
   ]
  },
  {
   "cell_type": "code",
   "execution_count": 1,
   "metadata": {},
   "outputs": [
    {
     "name": "stdout",
     "output_type": "stream",
     "text": [
      "Requirement already satisfied: catboost in c:\\programdata\\anaconda3\\lib\\site-packages (1.1.1)\n",
      "Requirement already satisfied: pandas>=0.24.0 in c:\\programdata\\anaconda3\\lib\\site-packages (from catboost) (1.3.4)\n",
      "Requirement already satisfied: numpy>=1.16.0 in c:\\programdata\\anaconda3\\lib\\site-packages (from catboost) (1.20.3)\n",
      "Requirement already satisfied: matplotlib in c:\\programdata\\anaconda3\\lib\\site-packages (from catboost) (3.4.3)\n",
      "Requirement already satisfied: scipy in c:\\programdata\\anaconda3\\lib\\site-packages (from catboost) (1.7.1)\n",
      "Requirement already satisfied: six in c:\\programdata\\anaconda3\\lib\\site-packages (from catboost) (1.16.0)\n",
      "Requirement already satisfied: graphviz in c:\\programdata\\anaconda3\\lib\\site-packages (from catboost) (0.20.1)\n",
      "Requirement already satisfied: plotly in c:\\programdata\\anaconda3\\lib\\site-packages (from catboost) (5.14.1)\n",
      "Requirement already satisfied: python-dateutil>=2.7.3 in c:\\programdata\\anaconda3\\lib\\site-packages (from pandas>=0.24.0->catboost) (2.8.2)\n",
      "Requirement already satisfied: pytz>=2017.3 in c:\\programdata\\anaconda3\\lib\\site-packages (from pandas>=0.24.0->catboost) (2021.3)\n",
      "Requirement already satisfied: kiwisolver>=1.0.1 in c:\\programdata\\anaconda3\\lib\\site-packages (from matplotlib->catboost) (1.3.1)\n",
      "Requirement already satisfied: pyparsing>=2.2.1 in c:\\programdata\\anaconda3\\lib\\site-packages (from matplotlib->catboost) (3.0.4)\n",
      "Requirement already satisfied: cycler>=0.10 in c:\\programdata\\anaconda3\\lib\\site-packages (from matplotlib->catboost) (0.10.0)\n",
      "Requirement already satisfied: pillow>=6.2.0 in c:\\programdata\\anaconda3\\lib\\site-packages (from matplotlib->catboost) (8.4.0)\n",
      "Requirement already satisfied: tenacity>=6.2.0 in c:\\programdata\\anaconda3\\lib\\site-packages (from plotly->catboost) (8.2.2)\n",
      "Requirement already satisfied: packaging in c:\\programdata\\anaconda3\\lib\\site-packages (from plotly->catboost) (21.0)\n",
      "Requirement already satisfied: xgboost in c:\\programdata\\anaconda3\\lib\\site-packages (1.7.5)\n",
      "Requirement already satisfied: scipy in c:\\programdata\\anaconda3\\lib\\site-packages (from xgboost) (1.7.1)\n",
      "Requirement already satisfied: numpy in c:\\programdata\\anaconda3\\lib\\site-packages (from xgboost) (1.20.3)\n",
      "Requirement already satisfied: lightgbm in c:\\programdata\\anaconda3\\lib\\site-packages (3.3.5)\n",
      "Requirement already satisfied: wheel in c:\\programdata\\anaconda3\\lib\\site-packages (from lightgbm) (0.37.0)\n",
      "Requirement already satisfied: scikit-learn!=0.22.0 in c:\\programdata\\anaconda3\\lib\\site-packages (from lightgbm) (0.24.2)\n",
      "Requirement already satisfied: scipy in c:\\programdata\\anaconda3\\lib\\site-packages (from lightgbm) (1.7.1)\n",
      "Requirement already satisfied: numpy in c:\\programdata\\anaconda3\\lib\\site-packages (from lightgbm) (1.20.3)\n",
      "Requirement already satisfied: joblib>=0.11 in c:\\programdata\\anaconda3\\lib\\site-packages (from scikit-learn!=0.22.0->lightgbm) (1.1.0)\n",
      "Requirement already satisfied: threadpoolctl>=2.0.0 in c:\\programdata\\anaconda3\\lib\\site-packages (from scikit-learn!=0.22.0->lightgbm) (2.2.0)\n"
     ]
    }
   ],
   "source": [
    "import pandas as pd # импорт библиотек\n",
    "import matplotlib.pyplot as plt\n",
    "import seaborn as sns\n",
    "from sklearn.preprocessing import OrdinalEncoder\n",
    "from sklearn.model_selection import train_test_split\n",
    "from sklearn.model_selection import GridSearchCV\n",
    "from sklearn.tree import DecisionTreeRegressor\n",
    "from sklearn.linear_model import LinearRegression\n",
    "!pip3 install catboost\n",
    "from catboost import CatBoostRegressor\n",
    "!pip3 install xgboost\n",
    "import xgboost as xgb\n",
    "!pip3 install lightgbm\n",
    "import lightgbm as lgb\n",
    "from sklearn.metrics import mean_squared_error\n",
    "from sklearn.metrics import make_scorer\n",
    "from datetime import datetime"
   ]
  },
  {
   "cell_type": "code",
   "execution_count": 2,
   "metadata": {},
   "outputs": [],
   "source": [
    "try:\n",
    "    data = pd.read_csv('/datasets/autos.csv') # присвоим имя переменной файлу\n",
    "except:\n",
    "    data = pd.read_csv('C:/Users/Елена/Downloads/autos.csv')"
   ]
  },
  {
   "cell_type": "code",
   "execution_count": 3,
   "metadata": {
    "scrolled": false
   },
   "outputs": [
    {
     "name": "stdout",
     "output_type": "stream",
     "text": [
      "<class 'pandas.core.frame.DataFrame'>\n",
      "RangeIndex: 354369 entries, 0 to 354368\n",
      "Data columns (total 16 columns):\n",
      " #   Column             Non-Null Count   Dtype \n",
      "---  ------             --------------   ----- \n",
      " 0   DateCrawled        354369 non-null  object\n",
      " 1   Price              354369 non-null  int64 \n",
      " 2   VehicleType        316879 non-null  object\n",
      " 3   RegistrationYear   354369 non-null  int64 \n",
      " 4   Gearbox            334536 non-null  object\n",
      " 5   Power              354369 non-null  int64 \n",
      " 6   Model              334664 non-null  object\n",
      " 7   Kilometer          354369 non-null  int64 \n",
      " 8   RegistrationMonth  354369 non-null  int64 \n",
      " 9   FuelType           321474 non-null  object\n",
      " 10  Brand              354369 non-null  object\n",
      " 11  NotRepaired        283215 non-null  object\n",
      " 12  DateCreated        354369 non-null  object\n",
      " 13  NumberOfPictures   354369 non-null  int64 \n",
      " 14  PostalCode         354369 non-null  int64 \n",
      " 15  LastSeen           354369 non-null  object\n",
      "dtypes: int64(7), object(9)\n",
      "memory usage: 43.3+ MB\n"
     ]
    }
   ],
   "source": [
    "data.info() # посмотрим на содержание, тип файлов, пропуски"
   ]
  },
  {
   "cell_type": "code",
   "execution_count": 4,
   "metadata": {
    "scrolled": false
   },
   "outputs": [
    {
     "data": {
      "text/html": [
       "<div>\n",
       "<style scoped>\n",
       "    .dataframe tbody tr th:only-of-type {\n",
       "        vertical-align: middle;\n",
       "    }\n",
       "\n",
       "    .dataframe tbody tr th {\n",
       "        vertical-align: top;\n",
       "    }\n",
       "\n",
       "    .dataframe thead th {\n",
       "        text-align: right;\n",
       "    }\n",
       "</style>\n",
       "<table border=\"1\" class=\"dataframe\">\n",
       "  <thead>\n",
       "    <tr style=\"text-align: right;\">\n",
       "      <th></th>\n",
       "      <th>DateCrawled</th>\n",
       "      <th>Price</th>\n",
       "      <th>VehicleType</th>\n",
       "      <th>RegistrationYear</th>\n",
       "      <th>Gearbox</th>\n",
       "      <th>Power</th>\n",
       "      <th>Model</th>\n",
       "      <th>Kilometer</th>\n",
       "      <th>RegistrationMonth</th>\n",
       "      <th>FuelType</th>\n",
       "      <th>Brand</th>\n",
       "      <th>NotRepaired</th>\n",
       "      <th>DateCreated</th>\n",
       "      <th>NumberOfPictures</th>\n",
       "      <th>PostalCode</th>\n",
       "      <th>LastSeen</th>\n",
       "    </tr>\n",
       "  </thead>\n",
       "  <tbody>\n",
       "    <tr>\n",
       "      <th>0</th>\n",
       "      <td>2016-03-24 11:52:17</td>\n",
       "      <td>480</td>\n",
       "      <td>NaN</td>\n",
       "      <td>1993</td>\n",
       "      <td>manual</td>\n",
       "      <td>0</td>\n",
       "      <td>golf</td>\n",
       "      <td>150000</td>\n",
       "      <td>0</td>\n",
       "      <td>petrol</td>\n",
       "      <td>volkswagen</td>\n",
       "      <td>NaN</td>\n",
       "      <td>2016-03-24 00:00:00</td>\n",
       "      <td>0</td>\n",
       "      <td>70435</td>\n",
       "      <td>2016-04-07 03:16:57</td>\n",
       "    </tr>\n",
       "    <tr>\n",
       "      <th>1</th>\n",
       "      <td>2016-03-24 10:58:45</td>\n",
       "      <td>18300</td>\n",
       "      <td>coupe</td>\n",
       "      <td>2011</td>\n",
       "      <td>manual</td>\n",
       "      <td>190</td>\n",
       "      <td>NaN</td>\n",
       "      <td>125000</td>\n",
       "      <td>5</td>\n",
       "      <td>gasoline</td>\n",
       "      <td>audi</td>\n",
       "      <td>yes</td>\n",
       "      <td>2016-03-24 00:00:00</td>\n",
       "      <td>0</td>\n",
       "      <td>66954</td>\n",
       "      <td>2016-04-07 01:46:50</td>\n",
       "    </tr>\n",
       "    <tr>\n",
       "      <th>2</th>\n",
       "      <td>2016-03-14 12:52:21</td>\n",
       "      <td>9800</td>\n",
       "      <td>suv</td>\n",
       "      <td>2004</td>\n",
       "      <td>auto</td>\n",
       "      <td>163</td>\n",
       "      <td>grand</td>\n",
       "      <td>125000</td>\n",
       "      <td>8</td>\n",
       "      <td>gasoline</td>\n",
       "      <td>jeep</td>\n",
       "      <td>NaN</td>\n",
       "      <td>2016-03-14 00:00:00</td>\n",
       "      <td>0</td>\n",
       "      <td>90480</td>\n",
       "      <td>2016-04-05 12:47:46</td>\n",
       "    </tr>\n",
       "    <tr>\n",
       "      <th>3</th>\n",
       "      <td>2016-03-17 16:54:04</td>\n",
       "      <td>1500</td>\n",
       "      <td>small</td>\n",
       "      <td>2001</td>\n",
       "      <td>manual</td>\n",
       "      <td>75</td>\n",
       "      <td>golf</td>\n",
       "      <td>150000</td>\n",
       "      <td>6</td>\n",
       "      <td>petrol</td>\n",
       "      <td>volkswagen</td>\n",
       "      <td>no</td>\n",
       "      <td>2016-03-17 00:00:00</td>\n",
       "      <td>0</td>\n",
       "      <td>91074</td>\n",
       "      <td>2016-03-17 17:40:17</td>\n",
       "    </tr>\n",
       "    <tr>\n",
       "      <th>4</th>\n",
       "      <td>2016-03-31 17:25:20</td>\n",
       "      <td>3600</td>\n",
       "      <td>small</td>\n",
       "      <td>2008</td>\n",
       "      <td>manual</td>\n",
       "      <td>69</td>\n",
       "      <td>fabia</td>\n",
       "      <td>90000</td>\n",
       "      <td>7</td>\n",
       "      <td>gasoline</td>\n",
       "      <td>skoda</td>\n",
       "      <td>no</td>\n",
       "      <td>2016-03-31 00:00:00</td>\n",
       "      <td>0</td>\n",
       "      <td>60437</td>\n",
       "      <td>2016-04-06 10:17:21</td>\n",
       "    </tr>\n",
       "  </tbody>\n",
       "</table>\n",
       "</div>"
      ],
      "text/plain": [
       "           DateCrawled  Price VehicleType  RegistrationYear Gearbox  Power  \\\n",
       "0  2016-03-24 11:52:17    480         NaN              1993  manual      0   \n",
       "1  2016-03-24 10:58:45  18300       coupe              2011  manual    190   \n",
       "2  2016-03-14 12:52:21   9800         suv              2004    auto    163   \n",
       "3  2016-03-17 16:54:04   1500       small              2001  manual     75   \n",
       "4  2016-03-31 17:25:20   3600       small              2008  manual     69   \n",
       "\n",
       "   Model  Kilometer  RegistrationMonth  FuelType       Brand NotRepaired  \\\n",
       "0   golf     150000                  0    petrol  volkswagen         NaN   \n",
       "1    NaN     125000                  5  gasoline        audi         yes   \n",
       "2  grand     125000                  8  gasoline        jeep         NaN   \n",
       "3   golf     150000                  6    petrol  volkswagen          no   \n",
       "4  fabia      90000                  7  gasoline       skoda          no   \n",
       "\n",
       "           DateCreated  NumberOfPictures  PostalCode             LastSeen  \n",
       "0  2016-03-24 00:00:00                 0       70435  2016-04-07 03:16:57  \n",
       "1  2016-03-24 00:00:00                 0       66954  2016-04-07 01:46:50  \n",
       "2  2016-03-14 00:00:00                 0       90480  2016-04-05 12:47:46  \n",
       "3  2016-03-17 00:00:00                 0       91074  2016-03-17 17:40:17  \n",
       "4  2016-03-31 00:00:00                 0       60437  2016-04-06 10:17:21  "
      ]
     },
     "execution_count": 4,
     "metadata": {},
     "output_type": "execute_result"
    }
   ],
   "source": [
    "data.head() # посмотрим на первые неск строк"
   ]
  },
  {
   "cell_type": "markdown",
   "metadata": {},
   "source": [
    "Для визуализации построим таблицу, в которой укажем количество пропусков и их процент от общего количества"
   ]
  },
  {
   "cell_type": "code",
   "execution_count": 5,
   "metadata": {
    "scrolled": false
   },
   "outputs": [
    {
     "data": {
      "text/html": [
       "<div>\n",
       "<style scoped>\n",
       "    .dataframe tbody tr th:only-of-type {\n",
       "        vertical-align: middle;\n",
       "    }\n",
       "\n",
       "    .dataframe tbody tr th {\n",
       "        vertical-align: top;\n",
       "    }\n",
       "\n",
       "    .dataframe thead th {\n",
       "        text-align: right;\n",
       "    }\n",
       "</style>\n",
       "<table border=\"1\" class=\"dataframe\">\n",
       "  <thead>\n",
       "    <tr style=\"text-align: right;\">\n",
       "      <th></th>\n",
       "      <th>Количество пропусков</th>\n",
       "      <th>Процент пропусков</th>\n",
       "    </tr>\n",
       "  </thead>\n",
       "  <tbody>\n",
       "    <tr>\n",
       "      <th>DateCrawled</th>\n",
       "      <td>0</td>\n",
       "      <td>0.00</td>\n",
       "    </tr>\n",
       "    <tr>\n",
       "      <th>Price</th>\n",
       "      <td>0</td>\n",
       "      <td>0.00</td>\n",
       "    </tr>\n",
       "    <tr>\n",
       "      <th>VehicleType</th>\n",
       "      <td>37490</td>\n",
       "      <td>10.58</td>\n",
       "    </tr>\n",
       "    <tr>\n",
       "      <th>RegistrationYear</th>\n",
       "      <td>0</td>\n",
       "      <td>0.00</td>\n",
       "    </tr>\n",
       "    <tr>\n",
       "      <th>Gearbox</th>\n",
       "      <td>19833</td>\n",
       "      <td>5.60</td>\n",
       "    </tr>\n",
       "    <tr>\n",
       "      <th>Power</th>\n",
       "      <td>0</td>\n",
       "      <td>0.00</td>\n",
       "    </tr>\n",
       "    <tr>\n",
       "      <th>Model</th>\n",
       "      <td>19705</td>\n",
       "      <td>5.56</td>\n",
       "    </tr>\n",
       "    <tr>\n",
       "      <th>Kilometer</th>\n",
       "      <td>0</td>\n",
       "      <td>0.00</td>\n",
       "    </tr>\n",
       "    <tr>\n",
       "      <th>RegistrationMonth</th>\n",
       "      <td>0</td>\n",
       "      <td>0.00</td>\n",
       "    </tr>\n",
       "    <tr>\n",
       "      <th>FuelType</th>\n",
       "      <td>32895</td>\n",
       "      <td>9.28</td>\n",
       "    </tr>\n",
       "    <tr>\n",
       "      <th>Brand</th>\n",
       "      <td>0</td>\n",
       "      <td>0.00</td>\n",
       "    </tr>\n",
       "    <tr>\n",
       "      <th>NotRepaired</th>\n",
       "      <td>71154</td>\n",
       "      <td>20.08</td>\n",
       "    </tr>\n",
       "    <tr>\n",
       "      <th>DateCreated</th>\n",
       "      <td>0</td>\n",
       "      <td>0.00</td>\n",
       "    </tr>\n",
       "    <tr>\n",
       "      <th>NumberOfPictures</th>\n",
       "      <td>0</td>\n",
       "      <td>0.00</td>\n",
       "    </tr>\n",
       "    <tr>\n",
       "      <th>PostalCode</th>\n",
       "      <td>0</td>\n",
       "      <td>0.00</td>\n",
       "    </tr>\n",
       "    <tr>\n",
       "      <th>LastSeen</th>\n",
       "      <td>0</td>\n",
       "      <td>0.00</td>\n",
       "    </tr>\n",
       "  </tbody>\n",
       "</table>\n",
       "</div>"
      ],
      "text/plain": [
       "                   Количество пропусков  Процент пропусков\n",
       "DateCrawled                           0               0.00\n",
       "Price                                 0               0.00\n",
       "VehicleType                       37490              10.58\n",
       "RegistrationYear                      0               0.00\n",
       "Gearbox                           19833               5.60\n",
       "Power                                 0               0.00\n",
       "Model                             19705               5.56\n",
       "Kilometer                             0               0.00\n",
       "RegistrationMonth                     0               0.00\n",
       "FuelType                          32895               9.28\n",
       "Brand                                 0               0.00\n",
       "NotRepaired                       71154              20.08\n",
       "DateCreated                           0               0.00\n",
       "NumberOfPictures                      0               0.00\n",
       "PostalCode                            0               0.00\n",
       "LastSeen                              0               0.00"
      ]
     },
     "execution_count": 5,
     "metadata": {},
     "output_type": "execute_result"
    }
   ],
   "source": [
    "columns_list = data.columns\n",
    "\n",
    "quantity = data[columns_list].isna().sum()\n",
    "pers = round((data[columns_list].isna().sum()/len(data[columns_list])*100),2)\n",
    "dat = {'Количество пропусков': quantity, 'Процент пропусков': pers}\n",
    "df = pd.DataFrame(dat, index=data.columns)\n",
    "df"
   ]
  },
  {
   "cell_type": "markdown",
   "metadata": {},
   "source": [
    "Посмотрим на уникальные значения в каждом столбце"
   ]
  },
  {
   "cell_type": "code",
   "execution_count": 6,
   "metadata": {
    "scrolled": true
   },
   "outputs": [
    {
     "name": "stdout",
     "output_type": "stream",
     "text": [
      "---\n",
      "DateCrawled ['2016-03-05 14:06:22' '2016-03-05 14:06:23' '2016-03-05 14:06:24' ...\n",
      " '2016-04-07 14:36:55' '2016-04-07 14:36:56' '2016-04-07 14:36:58']\n",
      "---\n",
      "Price [    0     1     2 ... 19998 19999 20000]\n",
      "---\n",
      "VehicleType ['bus' 'convertible' 'coupe' 'other' 'sedan' 'small' 'suv' 'wagon' nan]\n",
      "---\n",
      "RegistrationYear [1000 1001 1039 1111 1200 1234 1253 1255 1300 1400 1500 1600 1602 1688\n",
      " 1800 1910 1915 1919 1920 1923 1925 1927 1928 1929 1930 1931 1932 1933\n",
      " 1934 1935 1936 1937 1938 1940 1941 1942 1943 1944 1945 1946 1947 1948\n",
      " 1949 1950 1951 1952 1953 1954 1955 1956 1957 1958 1959 1960 1961 1962\n",
      " 1963 1964 1965 1966 1967 1968 1969 1970 1971 1972 1973 1974 1975 1976\n",
      " 1977 1978 1979 1980 1981 1982 1983 1984 1985 1986 1987 1988 1989 1990\n",
      " 1991 1992 1993 1994 1995 1996 1997 1998 1999 2000 2001 2002 2003 2004\n",
      " 2005 2006 2007 2008 2009 2010 2011 2012 2013 2014 2015 2016 2017 2018\n",
      " 2019 2066 2200 2222 2290 2500 2800 2900 3000 3200 3500 3700 3800 4000\n",
      " 4100 4500 4800 5000 5300 5555 5600 5900 5911 6000 6500 7000 7100 7500\n",
      " 7800 8000 8200 8455 8500 8888 9000 9229 9450 9996 9999]\n",
      "---\n",
      "Gearbox ['auto' 'manual' nan]\n",
      "---\n",
      "Power [    0     1     2     3     4     5     6     7     8     9    10    11\n",
      "    12    13    14    15    16    17    18    19    20    21    22    23\n",
      "    24    25    26    27    28    29    30    31    32    33    34    35\n",
      "    36    37    38    39    40    41    42    43    44    45    46    47\n",
      "    48    49    50    51    52    53    54    55    56    57    58    59\n",
      "    60    61    62    63    64    65    66    67    68    69    70    71\n",
      "    72    73    74    75    76    77    78    79    80    81    82    83\n",
      "    84    85    86    87    88    89    90    91    92    93    94    95\n",
      "    96    97    98    99   100   101   102   103   104   105   106   107\n",
      "   108   109   110   111   112   113   114   115   116   117   118   119\n",
      "   120   121   122   123   124   125   126   127   128   129   130   131\n",
      "   132   133   134   135   136   137   138   139   140   141   142   143\n",
      "   144   145   146   147   148   149   150   151   152   153   154   155\n",
      "   156   157   158   159   160   161   162   163   164   165   166   167\n",
      "   168   169   170   171   172   173   174   175   176   177   178   179\n",
      "   180   181   182   183   184   185   186   187   188   189   190   191\n",
      "   192   193   194   195   196   197   198   199   200   201   202   203\n",
      "   204   205   206   207   208   209   210   211   212   213   214   215\n",
      "   216   217   218   219   220   221   222   223   224   225   226   227\n",
      "   228   229   230   231   232   233   234   235   236   237   238   239\n",
      "   240   241   242   243   244   245   246   247   248   249   250   251\n",
      "   252   253   254   255   256   257   258   259   260   261   262   264\n",
      "   265   266   267   268   269   270   271   272   273   274   275   276\n",
      "   277   278   279   280   281   282   283   284   285   286   287   288\n",
      "   289   290   292   293   294   295   296   297   298   299   300   301\n",
      "   303   304   305   306   307   308   309   310   311   313   314   315\n",
      "   316   317   318   320   321   322   323   324   325   326   327   328\n",
      "   329   330   331   332   333   334   335   336   337   338   339   340\n",
      "   341   343   344   345   346   347   348   349   350   351   352   353\n",
      "   354   355   356   357   358   360   361   362   363   364   365   367\n",
      "   368   370   371   374   375   376   377   379   380   381   382   385\n",
      "   386   387   388   390   392   394   396   398   399   400   401   402\n",
      "   405   408   409   411   416   420   421   425   426   428   430   431\n",
      "   435   440   442   445   449   450   454   457   459   460   475   476\n",
      "   485   487   489   490   500   504   505   507   508   510   514   515\n",
      "   517   519   520   521   525   530   540   541   544   550   551   553\n",
      "   560   572   574   579   580   584   585   599   600   601   602   603\n",
      "   604   606   607   610   612   620   640   645   650   651   671   678\n",
      "   682   685   696   700   702   703   732   743   750   751   754   771\n",
      "   776   800   805   808   850   851   871   900   901   902   903   907\n",
      "   909   923   950   952   953   960   998   999  1000  1001  1002  1003\n",
      "  1004  1005  1011  1012  1016  1017  1021  1024  1054  1055  1056  1062\n",
      "  1079  1082  1090  1100  1102  1103  1105  1111  1115  1120  1149  1151\n",
      "  1158  1160  1162  1164  1199  1200  1202  1221  1223  1230  1239  1240\n",
      "  1241  1250  1252  1256  1275  1288  1299  1300  1312  1317  1324  1339\n",
      "  1351  1360  1362  1363  1367  1390  1394  1398  1399  1400  1401  1403\n",
      "  1405  1416  1432  1433  1436  1500  1501  1502  1503  1506  1521  1548\n",
      "  1595  1596  1597  1598  1600  1625  1631  1653  1659  1689  1700  1701\n",
      "  1703  1704  1707  1753  1771  1779  1780  1781  1783  1793  1796  1799\n",
      "  1800  1801  1870  1895  1896  1900  1910  1920  1922  1933  1937  1968\n",
      "  1986  1988  1992  1993  1995  1998  1999  2000  2004  2005  2007  2009\n",
      "  2016  2017  2018  2172  2200  2201  2331  2340  2389  2402  2461  2598\n",
      "  2729  2789  2792  2799  3000  3199  3454  3500  3750  4400  4507  4700\n",
      "  5000  5411  5420  5575  5809  5815  5867  6006  6010  6011  6012  6018\n",
      "  6045  6062  6226  6512  6920  7508  7511  7512  7515  7518  7529  7544\n",
      "  8011  8259  8404  8500  9000  9007  9010  9011  9012  9013  9710 10000\n",
      " 10110 10218 10311 10317 10520 10522 10710 10910 10912 11011 11025 11111\n",
      " 11509 11530 11635 12012 12510 12512 12684 13616 13636 14009 15001 15016\n",
      " 15017 15020 15033 16011 16051 16311 16312 17011 17019 17410 17700 17932\n",
      " 19208 19211 19312 20000]\n",
      "---\n",
      "Model ['100' '145' '147' '156' '159' '1_reihe' '1er' '200' '2_reihe' '300c'\n",
      " '3_reihe' '3er' '4_reihe' '500' '5_reihe' '5er' '601' '6_reihe' '6er'\n",
      " '7er' '80' '850' '90' '900' '9000' '911' 'a1' 'a2' 'a3' 'a4' 'a5' 'a6'\n",
      " 'a8' 'a_klasse' 'accord' 'agila' 'alhambra' 'almera' 'altea' 'amarok'\n",
      " 'antara' 'arosa' 'astra' 'auris' 'avensis' 'aveo' 'aygo' 'b_klasse'\n",
      " 'b_max' 'beetle' 'berlingo' 'bora' 'boxster' 'bravo' 'c1' 'c2' 'c3' 'c4'\n",
      " 'c5' 'c_klasse' 'c_max' 'c_reihe' 'caddy' 'calibra' 'captiva' 'carisma'\n",
      " 'carnival' 'cayenne' 'cc' 'ceed' 'charade' 'cherokee' 'citigo' 'civic'\n",
      " 'cl' 'clio' 'clk' 'clubman' 'colt' 'combo' 'cooper' 'cordoba' 'corolla'\n",
      " 'corsa' 'cr_reihe' 'croma' 'crossfire' 'cuore' 'cx_reihe' 'defender'\n",
      " 'delta' 'discovery' 'doblo' 'ducato' 'duster' 'e_klasse' 'elefantino'\n",
      " 'eos' 'escort' 'espace' 'exeo' 'fabia' 'fiesta' 'focus' 'forester'\n",
      " 'forfour' 'fortwo' 'fox' 'freelander' 'fusion' 'g_klasse' 'galant'\n",
      " 'galaxy' 'getz' 'gl' 'glk' 'golf' 'grand' 'i3' 'i_reihe' 'ibiza'\n",
      " 'impreza' 'insignia' 'jazz' 'jetta' 'jimny' 'juke' 'justy' 'ka' 'kadett'\n",
      " 'kaefer' 'kalina' 'kalos' 'kangoo' 'kappa' 'kuga' 'laguna' 'lancer'\n",
      " 'lanos' 'legacy' 'leon' 'lodgy' 'logan' 'lupo' 'lybra' 'm_klasse'\n",
      " 'm_reihe' 'materia' 'matiz' 'megane' 'meriva' 'micra' 'mii' 'modus'\n",
      " 'mondeo' 'move' 'musa' 'mustang' 'mx_reihe' 'navara' 'niva' 'note'\n",
      " 'nubira' 'octavia' 'omega' 'one' 'other' 'outlander' 'pajero' 'panda'\n",
      " 'passat' 'phaeton' 'picanto' 'polo' 'primera' 'ptcruiser' 'punto' 'q3'\n",
      " 'q5' 'q7' 'qashqai' 'r19' 'range_rover' 'range_rover_evoque'\n",
      " 'range_rover_sport' 'rangerover' 'rav' 'rio' 'roadster' 'roomster'\n",
      " 'rx_reihe' 's60' 's_klasse' 's_max' 's_type' 'samara' 'sandero' 'santa'\n",
      " 'scenic' 'scirocco' 'seicento' 'serie_1' 'serie_2' 'serie_3' 'sharan'\n",
      " 'signum' 'sirion' 'sl' 'slk' 'sorento' 'spark' 'spider' 'sportage'\n",
      " 'sprinter' 'stilo' 'superb' 'swift' 'terios' 'tigra' 'tiguan' 'toledo'\n",
      " 'touareg' 'touran' 'transit' 'transporter' 'tt' 'tucson' 'twingo' 'up'\n",
      " 'v40' 'v50' 'v60' 'v70' 'v_klasse' 'vectra' 'verso' 'viano' 'vito'\n",
      " 'vivaro' 'voyager' 'wrangler' 'x_reihe' 'x_trail' 'x_type' 'xc_reihe'\n",
      " 'yaris' 'yeti' 'ypsilon' 'z_reihe' 'zafira' nan]\n",
      "---\n",
      "Kilometer [  5000  10000  20000  30000  40000  50000  60000  70000  80000  90000\n",
      " 100000 125000 150000]\n",
      "---\n",
      "RegistrationMonth [ 0  1  2  3  4  5  6  7  8  9 10 11 12]\n",
      "---\n",
      "FuelType ['cng' 'electric' 'gasoline' 'hybrid' 'lpg' 'other' 'petrol' nan]\n",
      "---\n",
      "Brand ['alfa_romeo' 'audi' 'bmw' 'chevrolet' 'chrysler' 'citroen' 'dacia'\n",
      " 'daewoo' 'daihatsu' 'fiat' 'ford' 'honda' 'hyundai' 'jaguar' 'jeep' 'kia'\n",
      " 'lada' 'lancia' 'land_rover' 'mazda' 'mercedes_benz' 'mini' 'mitsubishi'\n",
      " 'nissan' 'opel' 'peugeot' 'porsche' 'renault' 'rover' 'saab' 'seat'\n",
      " 'skoda' 'smart' 'sonstige_autos' 'subaru' 'suzuki' 'toyota' 'trabant'\n",
      " 'volkswagen' 'volvo']\n",
      "---\n",
      "NotRepaired ['no' 'yes' nan]\n",
      "---\n"
     ]
    },
    {
     "name": "stdout",
     "output_type": "stream",
     "text": [
      "DateCreated ['2014-03-10 00:00:00' '2015-03-20 00:00:00' '2015-06-18 00:00:00'\n",
      " '2015-08-07 00:00:00' '2015-08-10 00:00:00' '2015-09-04 00:00:00'\n",
      " '2015-09-09 00:00:00' '2015-11-02 00:00:00' '2015-11-08 00:00:00'\n",
      " '2015-11-10 00:00:00' '2015-11-12 00:00:00' '2015-11-17 00:00:00'\n",
      " '2015-11-23 00:00:00' '2015-11-24 00:00:00' '2015-12-05 00:00:00'\n",
      " '2015-12-06 00:00:00' '2015-12-17 00:00:00' '2015-12-27 00:00:00'\n",
      " '2015-12-30 00:00:00' '2016-01-02 00:00:00' '2016-01-03 00:00:00'\n",
      " '2016-01-06 00:00:00' '2016-01-07 00:00:00' '2016-01-08 00:00:00'\n",
      " '2016-01-10 00:00:00' '2016-01-13 00:00:00' '2016-01-15 00:00:00'\n",
      " '2016-01-16 00:00:00' '2016-01-17 00:00:00' '2016-01-18 00:00:00'\n",
      " '2016-01-19 00:00:00' '2016-01-20 00:00:00' '2016-01-22 00:00:00'\n",
      " '2016-01-23 00:00:00' '2016-01-24 00:00:00' '2016-01-25 00:00:00'\n",
      " '2016-01-26 00:00:00' '2016-01-27 00:00:00' '2016-01-28 00:00:00'\n",
      " '2016-01-29 00:00:00' '2016-01-30 00:00:00' '2016-01-31 00:00:00'\n",
      " '2016-02-01 00:00:00' '2016-02-02 00:00:00' '2016-02-03 00:00:00'\n",
      " '2016-02-04 00:00:00' '2016-02-05 00:00:00' '2016-02-06 00:00:00'\n",
      " '2016-02-07 00:00:00' '2016-02-08 00:00:00' '2016-02-09 00:00:00'\n",
      " '2016-02-10 00:00:00' '2016-02-11 00:00:00' '2016-02-12 00:00:00'\n",
      " '2016-02-13 00:00:00' '2016-02-14 00:00:00' '2016-02-15 00:00:00'\n",
      " '2016-02-16 00:00:00' '2016-02-17 00:00:00' '2016-02-18 00:00:00'\n",
      " '2016-02-19 00:00:00' '2016-02-20 00:00:00' '2016-02-21 00:00:00'\n",
      " '2016-02-22 00:00:00' '2016-02-23 00:00:00' '2016-02-24 00:00:00'\n",
      " '2016-02-25 00:00:00' '2016-02-26 00:00:00' '2016-02-27 00:00:00'\n",
      " '2016-02-28 00:00:00' '2016-02-29 00:00:00' '2016-03-01 00:00:00'\n",
      " '2016-03-02 00:00:00' '2016-03-03 00:00:00' '2016-03-04 00:00:00'\n",
      " '2016-03-05 00:00:00' '2016-03-06 00:00:00' '2016-03-07 00:00:00'\n",
      " '2016-03-08 00:00:00' '2016-03-09 00:00:00' '2016-03-10 00:00:00'\n",
      " '2016-03-11 00:00:00' '2016-03-12 00:00:00' '2016-03-13 00:00:00'\n",
      " '2016-03-14 00:00:00' '2016-03-15 00:00:00' '2016-03-16 00:00:00'\n",
      " '2016-03-17 00:00:00' '2016-03-18 00:00:00' '2016-03-19 00:00:00'\n",
      " '2016-03-20 00:00:00' '2016-03-21 00:00:00' '2016-03-22 00:00:00'\n",
      " '2016-03-23 00:00:00' '2016-03-24 00:00:00' '2016-03-25 00:00:00'\n",
      " '2016-03-26 00:00:00' '2016-03-27 00:00:00' '2016-03-28 00:00:00'\n",
      " '2016-03-29 00:00:00' '2016-03-30 00:00:00' '2016-03-31 00:00:00'\n",
      " '2016-04-01 00:00:00' '2016-04-02 00:00:00' '2016-04-03 00:00:00'\n",
      " '2016-04-04 00:00:00' '2016-04-05 00:00:00' '2016-04-06 00:00:00'\n",
      " '2016-04-07 00:00:00']\n",
      "---\n",
      "NumberOfPictures [0]\n",
      "---\n",
      "PostalCode [ 1067  1068  1069 ... 99994 99996 99998]\n",
      "---\n",
      "LastSeen ['2016-03-05 14:15:08' '2016-03-05 14:15:16' '2016-03-05 14:15:39' ...\n",
      " '2016-04-07 14:58:49' '2016-04-07 14:58:50' '2016-04-07 14:58:51']\n"
     ]
    }
   ],
   "source": [
    "for colm in columns_list:\n",
    "    print('---')\n",
    "    print(colm, data[colm].sort_values().unique())"
   ]
  },
  {
   "cell_type": "markdown",
   "metadata": {},
   "source": [
    "Построим ящик с усами и диаграммы для столбцов, которые содержат цифровые значения и которые имеют для нас значение. Не будем строить ящик с усами для почтового индекса, к примеру."
   ]
  },
  {
   "cell_type": "code",
   "execution_count": 7,
   "metadata": {
    "scrolled": true
   },
   "outputs": [
    {
     "name": "stdout",
     "output_type": "stream",
     "text": [
      "---\n",
      "AxesSubplot(0.125,0.125;0.775x0.755)\n",
      "---\n",
      "AxesSubplot(0.125,0.125;0.775x0.755)\n",
      "---\n",
      "AxesSubplot(0.125,0.125;0.775x0.755)\n",
      "---\n",
      "AxesSubplot(0.125,0.125;0.775x0.755)\n"
     ]
    },
    {
     "data": {
      "image/png": "[encoded data removed]",
      "text/plain": [
       "<Figure size 864x864 with 1 Axes>"
      ]
     },
     "metadata": {
      "needs_background": "light"
     },
     "output_type": "display_data"
    }
   ],
   "source": [
    "columns_list1 = ['Price', 'RegistrationYear', 'Power', 'Kilometer']\n",
    "for colm in (columns_list1):\n",
    "    print('---')\n",
    "    print(data.boxplot(columns_list1, figsize=(12,12)))"
   ]
  },
  {
   "cell_type": "code",
   "execution_count": 8,
   "metadata": {
    "scrolled": true
   },
   "outputs": [
    {
     "data": {
      "image/png": "[encoded data removed]",
      "text/plain": [
       "<Figure size 576x360 with 1 Axes>"
      ]
     },
     "metadata": {
      "needs_background": "light"
     },
     "output_type": "display_data"
    },
    {
     "data": {
      "image/png": "[encoded data removed]",
      "text/plain": [
       "<Figure size 576x360 with 1 Axes>"
      ]
     },
     "metadata": {
      "needs_background": "light"
     },
     "output_type": "display_data"
    },
    {
     "data": {
      "image/png": "[encoded data removed]",
      "text/plain": [
       "<Figure size 576x360 with 1 Axes>"
      ]
     },
     "metadata": {
      "needs_background": "light"
     },
     "output_type": "display_data"
    },
    {
     "data": {
      "image/png": "[encoded data removed]",
      "text/plain": [
       "<Figure size 576x360 with 1 Axes>"
      ]
     },
     "metadata": {
      "needs_background": "light"
     },
     "output_type": "display_data"
    }
   ],
   "source": [
    "columns_df = pd.DataFrame(data, columns=['Price', 'RegistrationYear', 'Power', 'Kilometer'])\n",
    "for_range = pd.Series([(0,20000),(1900,2100),(0,8000),(5000,150000)])\n",
    "for_bins = pd.Series([50, 5, 5, 60])\n",
    "for col,ran,bins in zip(columns_df,for_range, for_bins):\n",
    "    columns_df.hist(col, bins = bins, range = ran ,figsize=(8,5))"
   ]
  },
  {
   "cell_type": "markdown",
   "metadata": {},
   "source": [
    "Отдельно еще раз выведем минимальные и максимальные значения для интересующих нас столбцов."
   ]
  },
  {
   "cell_type": "code",
   "execution_count": 9,
   "metadata": {
    "scrolled": false
   },
   "outputs": [
    {
     "name": "stdout",
     "output_type": "stream",
     "text": [
      "---\n",
      "Price 0 20000\n",
      "---\n",
      "RegistrationYear 1000 9999\n",
      "---\n",
      "Power 0 20000\n",
      "---\n",
      "Kilometer 5000 150000\n"
     ]
    }
   ],
   "source": [
    "columns_list1 = ['Price', 'RegistrationYear', 'Power', 'Kilometer']\n",
    "for colm in columns_list1:\n",
    "    print('---')\n",
    "    print(colm, data[colm].min(), data[colm].max())"
   ]
  },
  {
   "cell_type": "markdown",
   "metadata": {},
   "source": [
    "Посмотрим есть ли у нас дубликаты"
   ]
  },
  {
   "cell_type": "code",
   "execution_count": 10,
   "metadata": {},
   "outputs": [
    {
     "data": {
      "text/plain": [
       "4"
      ]
     },
     "execution_count": 10,
     "metadata": {},
     "output_type": "execute_result"
    }
   ],
   "source": [
    "data.duplicated().sum()"
   ]
  },
  {
   "cell_type": "markdown",
   "metadata": {},
   "source": [
    "Кажется странным Мощность равная 0, посмотрим на эти строки."
   ]
  },
  {
   "cell_type": "code",
   "execution_count": 11,
   "metadata": {},
   "outputs": [
    {
     "data": {
      "text/html": [
       "<div>\n",
       "<style scoped>\n",
       "    .dataframe tbody tr th:only-of-type {\n",
       "        vertical-align: middle;\n",
       "    }\n",
       "\n",
       "    .dataframe tbody tr th {\n",
       "        vertical-align: top;\n",
       "    }\n",
       "\n",
       "    .dataframe thead th {\n",
       "        text-align: right;\n",
       "    }\n",
       "</style>\n",
       "<table border=\"1\" class=\"dataframe\">\n",
       "  <thead>\n",
       "    <tr style=\"text-align: right;\">\n",
       "      <th></th>\n",
       "      <th>DateCrawled</th>\n",
       "      <th>Price</th>\n",
       "      <th>VehicleType</th>\n",
       "      <th>RegistrationYear</th>\n",
       "      <th>Gearbox</th>\n",
       "      <th>Power</th>\n",
       "      <th>Model</th>\n",
       "      <th>Kilometer</th>\n",
       "      <th>RegistrationMonth</th>\n",
       "      <th>FuelType</th>\n",
       "      <th>Brand</th>\n",
       "      <th>NotRepaired</th>\n",
       "      <th>DateCreated</th>\n",
       "      <th>NumberOfPictures</th>\n",
       "      <th>PostalCode</th>\n",
       "      <th>LastSeen</th>\n",
       "    </tr>\n",
       "  </thead>\n",
       "  <tbody>\n",
       "    <tr>\n",
       "      <th>0</th>\n",
       "      <td>2016-03-24 11:52:17</td>\n",
       "      <td>480</td>\n",
       "      <td>NaN</td>\n",
       "      <td>1993</td>\n",
       "      <td>manual</td>\n",
       "      <td>0</td>\n",
       "      <td>golf</td>\n",
       "      <td>150000</td>\n",
       "      <td>0</td>\n",
       "      <td>petrol</td>\n",
       "      <td>volkswagen</td>\n",
       "      <td>NaN</td>\n",
       "      <td>2016-03-24 00:00:00</td>\n",
       "      <td>0</td>\n",
       "      <td>70435</td>\n",
       "      <td>2016-04-07 03:16:57</td>\n",
       "    </tr>\n",
       "    <tr>\n",
       "      <th>15</th>\n",
       "      <td>2016-03-11 21:39:15</td>\n",
       "      <td>450</td>\n",
       "      <td>small</td>\n",
       "      <td>1910</td>\n",
       "      <td>NaN</td>\n",
       "      <td>0</td>\n",
       "      <td>ka</td>\n",
       "      <td>5000</td>\n",
       "      <td>0</td>\n",
       "      <td>petrol</td>\n",
       "      <td>ford</td>\n",
       "      <td>NaN</td>\n",
       "      <td>2016-03-11 00:00:00</td>\n",
       "      <td>0</td>\n",
       "      <td>24148</td>\n",
       "      <td>2016-03-19 08:46:47</td>\n",
       "    </tr>\n",
       "    <tr>\n",
       "      <th>32</th>\n",
       "      <td>2016-03-15 20:59:01</td>\n",
       "      <td>245</td>\n",
       "      <td>sedan</td>\n",
       "      <td>1994</td>\n",
       "      <td>NaN</td>\n",
       "      <td>0</td>\n",
       "      <td>golf</td>\n",
       "      <td>150000</td>\n",
       "      <td>2</td>\n",
       "      <td>petrol</td>\n",
       "      <td>volkswagen</td>\n",
       "      <td>no</td>\n",
       "      <td>2016-03-15 00:00:00</td>\n",
       "      <td>0</td>\n",
       "      <td>44145</td>\n",
       "      <td>2016-03-17 18:17:43</td>\n",
       "    </tr>\n",
       "    <tr>\n",
       "      <th>37</th>\n",
       "      <td>2016-03-28 17:50:15</td>\n",
       "      <td>1500</td>\n",
       "      <td>NaN</td>\n",
       "      <td>2016</td>\n",
       "      <td>NaN</td>\n",
       "      <td>0</td>\n",
       "      <td>kangoo</td>\n",
       "      <td>150000</td>\n",
       "      <td>1</td>\n",
       "      <td>gasoline</td>\n",
       "      <td>renault</td>\n",
       "      <td>no</td>\n",
       "      <td>2016-03-28 00:00:00</td>\n",
       "      <td>0</td>\n",
       "      <td>46483</td>\n",
       "      <td>2016-03-30 09:18:02</td>\n",
       "    </tr>\n",
       "    <tr>\n",
       "      <th>40</th>\n",
       "      <td>2016-03-26 22:06:17</td>\n",
       "      <td>0</td>\n",
       "      <td>NaN</td>\n",
       "      <td>1990</td>\n",
       "      <td>NaN</td>\n",
       "      <td>0</td>\n",
       "      <td>corsa</td>\n",
       "      <td>150000</td>\n",
       "      <td>1</td>\n",
       "      <td>petrol</td>\n",
       "      <td>opel</td>\n",
       "      <td>NaN</td>\n",
       "      <td>2016-03-26 00:00:00</td>\n",
       "      <td>0</td>\n",
       "      <td>56412</td>\n",
       "      <td>2016-03-27 17:43:34</td>\n",
       "    </tr>\n",
       "    <tr>\n",
       "      <th>...</th>\n",
       "      <td>...</td>\n",
       "      <td>...</td>\n",
       "      <td>...</td>\n",
       "      <td>...</td>\n",
       "      <td>...</td>\n",
       "      <td>...</td>\n",
       "      <td>...</td>\n",
       "      <td>...</td>\n",
       "      <td>...</td>\n",
       "      <td>...</td>\n",
       "      <td>...</td>\n",
       "      <td>...</td>\n",
       "      <td>...</td>\n",
       "      <td>...</td>\n",
       "      <td>...</td>\n",
       "      <td>...</td>\n",
       "    </tr>\n",
       "    <tr>\n",
       "      <th>354338</th>\n",
       "      <td>2016-03-31 19:52:33</td>\n",
       "      <td>180</td>\n",
       "      <td>NaN</td>\n",
       "      <td>1995</td>\n",
       "      <td>NaN</td>\n",
       "      <td>0</td>\n",
       "      <td>NaN</td>\n",
       "      <td>125000</td>\n",
       "      <td>3</td>\n",
       "      <td>petrol</td>\n",
       "      <td>opel</td>\n",
       "      <td>NaN</td>\n",
       "      <td>2016-03-31 00:00:00</td>\n",
       "      <td>0</td>\n",
       "      <td>41470</td>\n",
       "      <td>2016-04-06 14:18:04</td>\n",
       "    </tr>\n",
       "    <tr>\n",
       "      <th>354346</th>\n",
       "      <td>2016-03-07 17:06:35</td>\n",
       "      <td>2600</td>\n",
       "      <td>NaN</td>\n",
       "      <td>2005</td>\n",
       "      <td>auto</td>\n",
       "      <td>0</td>\n",
       "      <td>c_klasse</td>\n",
       "      <td>150000</td>\n",
       "      <td>9</td>\n",
       "      <td>NaN</td>\n",
       "      <td>mercedes_benz</td>\n",
       "      <td>NaN</td>\n",
       "      <td>2016-03-07 00:00:00</td>\n",
       "      <td>0</td>\n",
       "      <td>61169</td>\n",
       "      <td>2016-03-08 21:28:38</td>\n",
       "    </tr>\n",
       "    <tr>\n",
       "      <th>354363</th>\n",
       "      <td>2016-03-27 20:36:20</td>\n",
       "      <td>1150</td>\n",
       "      <td>bus</td>\n",
       "      <td>2000</td>\n",
       "      <td>manual</td>\n",
       "      <td>0</td>\n",
       "      <td>zafira</td>\n",
       "      <td>150000</td>\n",
       "      <td>3</td>\n",
       "      <td>petrol</td>\n",
       "      <td>opel</td>\n",
       "      <td>no</td>\n",
       "      <td>2016-03-27 00:00:00</td>\n",
       "      <td>0</td>\n",
       "      <td>26624</td>\n",
       "      <td>2016-03-29 10:17:23</td>\n",
       "    </tr>\n",
       "    <tr>\n",
       "      <th>354364</th>\n",
       "      <td>2016-03-21 09:50:58</td>\n",
       "      <td>0</td>\n",
       "      <td>NaN</td>\n",
       "      <td>2005</td>\n",
       "      <td>manual</td>\n",
       "      <td>0</td>\n",
       "      <td>colt</td>\n",
       "      <td>150000</td>\n",
       "      <td>7</td>\n",
       "      <td>petrol</td>\n",
       "      <td>mitsubishi</td>\n",
       "      <td>yes</td>\n",
       "      <td>2016-03-21 00:00:00</td>\n",
       "      <td>0</td>\n",
       "      <td>2694</td>\n",
       "      <td>2016-03-21 10:42:49</td>\n",
       "    </tr>\n",
       "    <tr>\n",
       "      <th>354365</th>\n",
       "      <td>2016-03-14 17:48:27</td>\n",
       "      <td>2200</td>\n",
       "      <td>NaN</td>\n",
       "      <td>2005</td>\n",
       "      <td>NaN</td>\n",
       "      <td>0</td>\n",
       "      <td>NaN</td>\n",
       "      <td>20000</td>\n",
       "      <td>1</td>\n",
       "      <td>NaN</td>\n",
       "      <td>sonstige_autos</td>\n",
       "      <td>NaN</td>\n",
       "      <td>2016-03-14 00:00:00</td>\n",
       "      <td>0</td>\n",
       "      <td>39576</td>\n",
       "      <td>2016-04-06 00:46:52</td>\n",
       "    </tr>\n",
       "  </tbody>\n",
       "</table>\n",
       "<p>40225 rows × 16 columns</p>\n",
       "</div>"
      ],
      "text/plain": [
       "                DateCrawled  Price VehicleType  RegistrationYear Gearbox  \\\n",
       "0       2016-03-24 11:52:17    480         NaN              1993  manual   \n",
       "15      2016-03-11 21:39:15    450       small              1910     NaN   \n",
       "32      2016-03-15 20:59:01    245       sedan              1994     NaN   \n",
       "37      2016-03-28 17:50:15   1500         NaN              2016     NaN   \n",
       "40      2016-03-26 22:06:17      0         NaN              1990     NaN   \n",
       "...                     ...    ...         ...               ...     ...   \n",
       "354338  2016-03-31 19:52:33    180         NaN              1995     NaN   \n",
       "354346  2016-03-07 17:06:35   2600         NaN              2005    auto   \n",
       "354363  2016-03-27 20:36:20   1150         bus              2000  manual   \n",
       "354364  2016-03-21 09:50:58      0         NaN              2005  manual   \n",
       "354365  2016-03-14 17:48:27   2200         NaN              2005     NaN   \n",
       "\n",
       "        Power     Model  Kilometer  RegistrationMonth  FuelType  \\\n",
       "0           0      golf     150000                  0    petrol   \n",
       "15          0        ka       5000                  0    petrol   \n",
       "32          0      golf     150000                  2    petrol   \n",
       "37          0    kangoo     150000                  1  gasoline   \n",
       "40          0     corsa     150000                  1    petrol   \n",
       "...       ...       ...        ...                ...       ...   \n",
       "354338      0       NaN     125000                  3    petrol   \n",
       "354346      0  c_klasse     150000                  9       NaN   \n",
       "354363      0    zafira     150000                  3    petrol   \n",
       "354364      0      colt     150000                  7    petrol   \n",
       "354365      0       NaN      20000                  1       NaN   \n",
       "\n",
       "                 Brand NotRepaired          DateCreated  NumberOfPictures  \\\n",
       "0           volkswagen         NaN  2016-03-24 00:00:00                 0   \n",
       "15                ford         NaN  2016-03-11 00:00:00                 0   \n",
       "32          volkswagen          no  2016-03-15 00:00:00                 0   \n",
       "37             renault          no  2016-03-28 00:00:00                 0   \n",
       "40                opel         NaN  2016-03-26 00:00:00                 0   \n",
       "...                ...         ...                  ...               ...   \n",
       "354338            opel         NaN  2016-03-31 00:00:00                 0   \n",
       "354346   mercedes_benz         NaN  2016-03-07 00:00:00                 0   \n",
       "354363            opel          no  2016-03-27 00:00:00                 0   \n",
       "354364      mitsubishi         yes  2016-03-21 00:00:00                 0   \n",
       "354365  sonstige_autos         NaN  2016-03-14 00:00:00                 0   \n",
       "\n",
       "        PostalCode             LastSeen  \n",
       "0            70435  2016-04-07 03:16:57  \n",
       "15           24148  2016-03-19 08:46:47  \n",
       "32           44145  2016-03-17 18:17:43  \n",
       "37           46483  2016-03-30 09:18:02  \n",
       "40           56412  2016-03-27 17:43:34  \n",
       "...            ...                  ...  \n",
       "354338       41470  2016-04-06 14:18:04  \n",
       "354346       61169  2016-03-08 21:28:38  \n",
       "354363       26624  2016-03-29 10:17:23  \n",
       "354364        2694  2016-03-21 10:42:49  \n",
       "354365       39576  2016-04-06 00:46:52  \n",
       "\n",
       "[40225 rows x 16 columns]"
      ]
     },
     "execution_count": 11,
     "metadata": {},
     "output_type": "execute_result"
    }
   ],
   "source": [
    "data.loc[data['Power'] == 0]"
   ]
  },
  {
   "cell_type": "markdown",
   "metadata": {},
   "source": [
    "Выводы, которые можно сделать после анализа данных:\n",
    "1. Мы можем удалить столбцы \"PostalCode\", \"DateCrawled\", \"RegistrationMonth\", \"LastSeen\" — дата скачивания анкеты из базы, \n",
    "месяц регистрации автомобиля, дата создания анкеты, дата последней активности пользователя - эти данные точно не влияют на цену и, соответственно, только помешают обучению модели\n",
    "2. Столбец \"NumberOfPictures\" тоже придется удалить, тк он пустой, во всех объявлениях отсутствуют фотографии.\n",
    "3. Много пропусков в столбце \"NotRepaired\", была ли машина в ремонте. Смею предположить, что если значение не заполнено, то \"по умолчанию\" - не была в ремонте. Поэтому далее заполним пропуск в этой графе на значение \"нет\".\n",
    "4. Много странных значений в столбце с годом регистрации - от 1000 до 9999. Отберем для обучения только объявления с реальными значениями от 1910 до 2019 года. Хотя и 1910, возможно, рано.\n",
    "5. Не будем удалять строки с мощностью 0, их достаточно много.\n",
    "6. Достаточно много пропусков в Модели, Типе топлива, кузова и коробки передач. Заполним пропуски на заглушки, чтобы не терять так много данных\n",
    "7. Удалим значения с выбивающейся ценой - с нулем значением и более 14 тыс (по ящику с усами)\n",
    "8. Так же ориентируясь на гистограммы и ящик с усами удалим выбивающиеся значения по километражу и мощности.\n",
    "9. Конечно удалим дубликаты"
   ]
  },
  {
   "cell_type": "code",
   "execution_count": 12,
   "metadata": {},
   "outputs": [],
   "source": [
    "# удаляем ненужные столбцы\n",
    "data = data.drop(['DateCrawled','PostalCode','LastSeen','NumberOfPictures','DateCreated','RegistrationMonth'], axis=1) "
   ]
  },
  {
   "cell_type": "code",
   "execution_count": 13,
   "metadata": {
    "scrolled": true
   },
   "outputs": [],
   "source": [
    "# заполняем пропуски\n",
    "data['NotRepaired'] = data['NotRepaired'].fillna('no')"
   ]
  },
  {
   "cell_type": "code",
   "execution_count": 14,
   "metadata": {},
   "outputs": [],
   "source": [
    "# заполняем пропуски\n",
    "data[['Model', 'VehicleType','FuelType','Gearbox']] = data[['Model', \n",
    "                                                                    'VehicleType','FuelType','Gearbox']].fillna('Unknown')"
   ]
  },
  {
   "cell_type": "code",
   "execution_count": 15,
   "metadata": {
    "scrolled": true
   },
   "outputs": [],
   "source": [
    "# удаляем дубликаты\n",
    "data = data.drop_duplicates()"
   ]
  },
  {
   "cell_type": "code",
   "execution_count": 16,
   "metadata": {},
   "outputs": [],
   "source": [
    "# делаем копию и убираем выбивающиеся значения уже на копии файла\n",
    "data_new = data.copy()\n",
    "data_new = data_new.query('Price < 14000 & Price > 0 & RegistrationYear <= 2016 & RegistrationYear >= 1910 & Power < 15000 & Kilometer > 9000')"
   ]
  },
  {
   "cell_type": "markdown",
   "metadata": {},
   "source": [
    "Посмотрим еще раз на ящик с усами на новых данных"
   ]
  },
  {
   "cell_type": "code",
   "execution_count": 17,
   "metadata": {
    "scrolled": false
   },
   "outputs": [
    {
     "name": "stdout",
     "output_type": "stream",
     "text": [
      "AxesSubplot(0.125,0.125;0.775x0.755)\n",
      "AxesSubplot(0.125,0.125;0.775x0.755)\n",
      "AxesSubplot(0.125,0.125;0.775x0.755)\n"
     ]
    },
    {
     "data": {
      "image/png": "[encoded data removed]",
      "text/plain": [
       "<Figure size 864x864 with 1 Axes>"
      ]
     },
     "metadata": {
      "needs_background": "light"
     },
     "output_type": "display_data"
    }
   ],
   "source": [
    "columns_list1 = ['Price', 'RegistrationYear', 'Power']\n",
    "for colm in (columns_list1):\n",
    "    print(data_new.boxplot(columns_list1, figsize=(12,12)))"
   ]
  },
  {
   "cell_type": "code",
   "execution_count": 18,
   "metadata": {
    "scrolled": false
   },
   "outputs": [
    {
     "data": {
      "text/plain": [
       "'Доля удаленных значений составляет: 14.50%'"
      ]
     },
     "execution_count": 18,
     "metadata": {},
     "output_type": "execute_result"
    }
   ],
   "source": [
    "'Доля удаленных значений составляет: {:.2%}'.format((len(data['Price'])-len(data_new['Price']))/len((data['Price'])))"
   ]
  },
  {
   "cell_type": "markdown",
   "metadata": {},
   "source": [
    "Удалили чуть около 15% от общего количества данных, можно работать дальше"
   ]
  },
  {
   "cell_type": "markdown",
   "metadata": {},
   "source": [
    "Для правильного обучения всех моделей уберем категориальные значения"
   ]
  },
  {
   "cell_type": "code",
   "execution_count": 19,
   "metadata": {},
   "outputs": [],
   "source": [
    "ordinal_columns = ['VehicleType','Brand','Gearbox','NotRepaired','Model','FuelType']\n",
    "encoder = OrdinalEncoder()\n",
    "data_new[ordinal_columns] = encoder.fit_transform(data_new[ordinal_columns])"
   ]
  },
  {
   "cell_type": "code",
   "execution_count": 20,
   "metadata": {},
   "outputs": [],
   "source": [
    "features = data_new.drop('Price', axis=1) # выделим признаки и целевой признак в отдельные переменные\n",
    "target = data_new['Price']"
   ]
  },
  {
   "cell_type": "code",
   "execution_count": 21,
   "metadata": {},
   "outputs": [],
   "source": [
    "# создадим обучающую, валидационную и тестовую выборки\n",
    "features_train, features_valid, target_train, target_valid = train_test_split(features, target, test_size = 0.20, \n",
    "                                                                              random_state = 42)\n",
    "features_train, features_test, target_train, target_test = train_test_split(features_train, target_train, test_size = 0.25, \n",
    "                                                                              random_state = 42)"
   ]
  },
  {
   "cell_type": "code",
   "execution_count": 22,
   "metadata": {
    "scrolled": true
   },
   "outputs": [
    {
     "data": {
      "text/plain": [
       "((155097, 9), (155097,), (51700, 9), (51700,), (51700, 9), (51700,))"
      ]
     },
     "execution_count": 22,
     "metadata": {},
     "output_type": "execute_result"
    }
   ],
   "source": [
    "# изучим их объем\n",
    "features_train.shape, target_train.shape, features_valid.shape, target_valid.shape, features_test.shape, target_test.shape"
   ]
  },
  {
   "cell_type": "markdown",
   "metadata": {},
   "source": [
    "## Обучение моделей"
   ]
  },
  {
   "cell_type": "markdown",
   "metadata": {},
   "source": [
    "### Дерево решений"
   ]
  },
  {
   "cell_type": "markdown",
   "metadata": {},
   "source": [
    "Принимать решение о лучшей модели мы будем на основе времени обучений и предсказания и на основе метрики rmse. Поэтому напишем функции для расчета rmse"
   ]
  },
  {
   "cell_type": "code",
   "execution_count": 23,
   "metadata": {},
   "outputs": [],
   "source": [
    "def rmse(targ, pred):\n",
    "    return mean_squared_error(targ, pred) ** 0.5\n",
    "\n",
    "rmse_scorer = make_scorer(rmse, greater_is_better=False)"
   ]
  },
  {
   "cell_type": "code",
   "execution_count": 24,
   "metadata": {},
   "outputs": [
    {
     "name": "stdout",
     "output_type": "stream",
     "text": [
      "DecisionTreeRegressor(max_depth=13, random_state=42) -1640.036478326463\n",
      "0:00:20.173507 0:00:00.039407\n",
      "Wall time: 20.2 s\n"
     ]
    }
   ],
   "source": [
    "%%time \n",
    "start_time_1 = datetime.now()\n",
    "\n",
    "# используем функционал gridsearch для автоматического поиска параметров\n",
    "\n",
    "parametrs = {'max_depth': range(10,20)}\n",
    "grid = GridSearchCV(DecisionTreeRegressor(random_state=42), parametrs, cv=5, scoring=rmse_scorer)\n",
    "\n",
    "grid.fit(features_train, target_train)\n",
    "end_time_1 = datetime.now()\n",
    "\n",
    "start_time_2 = datetime.now()\n",
    "predictions = grid.predict(features_train)\n",
    "print(grid.best_estimator_,\n",
    "       grid.best_score_)\n",
    "\n",
    "rmse_1 = - grid.best_score_\n",
    "\n",
    "end_time_2 = datetime.now()\n",
    "time_1_1 = end_time_1 - start_time_1\n",
    "time_1_2 = end_time_2 - start_time_2\n",
    "print(time_1_1, time_1_2)"
   ]
  },
  {
   "cell_type": "markdown",
   "metadata": {},
   "source": [
    "### XGBoost "
   ]
  },
  {
   "cell_type": "code",
   "execution_count": 25,
   "metadata": {},
   "outputs": [
    {
     "name": "stdout",
     "output_type": "stream",
     "text": [
      "1388.2957962138041\n",
      "XGBRegressor(base_score=None, booster=None, callbacks=None,\n",
      "             colsample_bylevel=None, colsample_bynode=None,\n",
      "             colsample_bytree=None, early_stopping_rounds=None,\n",
      "             enable_categorical=False, eval_metric=None, feature_types=None,\n",
      "             gamma=None, gpu_id=None, grow_policy=None, importance_type=None,\n",
      "             interaction_constraints=None, learning_rate=None, max_bin=None,\n",
      "             max_cat_threshold=None, max_cat_to_onehot=None,\n",
      "             max_delta_step=None, max_depth=None, max_leaves=None,\n",
      "             min_child_weight=None, missing=nan, monotone_constraints=None,\n",
      "             n_estimators=100, n_jobs=None, num_parallel_tree=None,\n",
      "             predictor=None, random_state=None, ...)\n",
      "0:00:03.690004 0:00:00.029431\n",
      "Wall time: 3.72 s\n"
     ]
    }
   ],
   "source": [
    "%%time\n",
    "\n",
    "start_time_1 = datetime.now()\n",
    "\n",
    "model = xgb.XGBRegressor()\n",
    "model.fit(features_train, target_train)\n",
    "\n",
    "end_time_1 = datetime.now()\n",
    "\n",
    "start_time_2 = datetime.now()\n",
    "predictions = model.predict(features_valid)\n",
    "rmse_2 = rmse(target_valid, predictions)\n",
    "\n",
    "end_time_2 = datetime.now()\n",
    "time_2_1 = end_time_1 - start_time_1\n",
    "time_2_2 = end_time_2 - start_time_2\n",
    "\n",
    "print(rmse_2); \n",
    "print(model)\n",
    "print(time_2_1, time_2_2)"
   ]
  },
  {
   "cell_type": "markdown",
   "metadata": {},
   "source": [
    "### CatBoost"
   ]
  },
  {
   "cell_type": "code",
   "execution_count": 26,
   "metadata": {},
   "outputs": [
    {
     "name": "stdout",
     "output_type": "stream",
     "text": [
      "Learning rate set to 0.5\n",
      "0:\tlearn: 2516.6816047\ttotal: 189ms\tremaining: 9.25s\n",
      "10:\tlearn: 1606.9821488\ttotal: 391ms\tremaining: 1.39s\n",
      "20:\tlearn: 1530.1348202\ttotal: 546ms\tremaining: 755ms\n",
      "30:\tlearn: 1485.7742212\ttotal: 715ms\tremaining: 438ms\n",
      "40:\tlearn: 1461.6687384\ttotal: 867ms\tremaining: 190ms\n",
      "49:\tlearn: 1441.0794476\ttotal: 1s\tremaining: 0us\n",
      "1467.0096127064253\n",
      "0:00:01.125323 0:00:00.026930\n",
      "Wall time: 1.15 s\n"
     ]
    }
   ],
   "source": [
    "%%time\n",
    "\n",
    "start_time_1 = datetime.now()\n",
    "model = CatBoostRegressor(loss_function=\"RMSE\", iterations=50)\n",
    "model.fit(features_train, target_train, verbose=10)\n",
    "end_time_1 = datetime.now()\n",
    "\n",
    "start_time_2 = datetime.now()\n",
    "predictions = model.predict(features_valid)\n",
    "rmse_3 = rmse(target_valid, predictions)\n",
    "\n",
    "end_time_2 = datetime.now()\n",
    "\n",
    "time_3_1 = end_time_1 - start_time_1\n",
    "time_3_2 = end_time_2 - start_time_2\n",
    "\n",
    "print(rmse_3)\n",
    "print(time_3_1,time_3_2)"
   ]
  },
  {
   "cell_type": "markdown",
   "metadata": {},
   "source": [
    "### LightGBM "
   ]
  },
  {
   "cell_type": "code",
   "execution_count": 27,
   "metadata": {},
   "outputs": [
    {
     "name": "stdout",
     "output_type": "stream",
     "text": [
      "1477.9323736171473\n",
      "0:00:00.484537 0:00:00.033908\n",
      "LGBMRegressor(learning_rate=1.05, n_estimators=50, num_leaves=51,\n",
      "              objective='regression')\n",
      "Wall time: 519 ms\n"
     ]
    }
   ],
   "source": [
    "%%time\n",
    "\n",
    "start_time_1 = datetime.now()\n",
    "\n",
    "model = lgb.LGBMRegressor(objective='regression',num_leaves=51,learning_rate=1.05,n_estimators=50)\n",
    "model.fit(features_train, target_train)\n",
    "end_time_1 = datetime.now()\n",
    "\n",
    "start_time_2 = datetime.now()\n",
    "predictions = model.predict(features_valid)\n",
    "rmse_4 = rmse(target_valid, predictions)\n",
    "\n",
    "end_time_2 = datetime.now()\n",
    "\n",
    "time_4_1 = end_time_1 - start_time_1\n",
    "time_4_2 = end_time_2 - start_time_2\n",
    "\n",
    "print(rmse_4)\n",
    "print(time_4_1, time_4_2)\n",
    "print(model)"
   ]
  },
  {
   "cell_type": "markdown",
   "metadata": {},
   "source": [
    "### Линейная регрессия "
   ]
  },
  {
   "cell_type": "code",
   "execution_count": 28,
   "metadata": {},
   "outputs": [
    {
     "name": "stdout",
     "output_type": "stream",
     "text": [
      "2887.4819052460284\n",
      "0:00:00.046409 0:00:00.003990\n",
      "Wall time: 52.4 ms\n"
     ]
    }
   ],
   "source": [
    "%%time\n",
    "\n",
    "start_time_1 = datetime.now()\n",
    "model = LinearRegression()  # обучаем модель\n",
    "model.fit(features_train,target_train)\n",
    "end_time_1 = datetime.now()\n",
    "\n",
    "start_time_2 = datetime.now()\n",
    "predictions = model.predict(features_valid)\n",
    "rmse_5 = rmse(target_valid, predictions)\n",
    "\n",
    "end_time_2 = datetime.now()\n",
    "time_5_1 = end_time_1 - start_time_1\n",
    "time_5_2 = end_time_2 - start_time_2\n",
    "\n",
    "print(rmse_5)\n",
    "print(time_5_1,time_5_2)"
   ]
  },
  {
   "cell_type": "markdown",
   "metadata": {},
   "source": [
    "## Анализ моделей"
   ]
  },
  {
   "cell_type": "code",
   "execution_count": 29,
   "metadata": {},
   "outputs": [
    {
     "data": {
      "text/html": [
       "<div>\n",
       "<style scoped>\n",
       "    .dataframe tbody tr th:only-of-type {\n",
       "        vertical-align: middle;\n",
       "    }\n",
       "\n",
       "    .dataframe tbody tr th {\n",
       "        vertical-align: top;\n",
       "    }\n",
       "\n",
       "    .dataframe thead th {\n",
       "        text-align: right;\n",
       "    }\n",
       "</style>\n",
       "<table border=\"1\" class=\"dataframe\">\n",
       "  <thead>\n",
       "    <tr style=\"text-align: right;\">\n",
       "      <th></th>\n",
       "      <th>RMSE</th>\n",
       "      <th>Время обучения</th>\n",
       "      <th>Время предсказания</th>\n",
       "    </tr>\n",
       "  </thead>\n",
       "  <tbody>\n",
       "    <tr>\n",
       "      <th>DTR</th>\n",
       "      <td>1640.036478</td>\n",
       "      <td>0 days 00:00:20.173507</td>\n",
       "      <td>0 days 00:00:00.039407</td>\n",
       "    </tr>\n",
       "    <tr>\n",
       "      <th>XGBoost</th>\n",
       "      <td>1388.295796</td>\n",
       "      <td>0 days 00:00:03.690004</td>\n",
       "      <td>0 days 00:00:00.029431</td>\n",
       "    </tr>\n",
       "    <tr>\n",
       "      <th>CatBoost</th>\n",
       "      <td>1467.009613</td>\n",
       "      <td>0 days 00:00:01.125323</td>\n",
       "      <td>0 days 00:00:00.026930</td>\n",
       "    </tr>\n",
       "    <tr>\n",
       "      <th>LightGBM</th>\n",
       "      <td>1477.932374</td>\n",
       "      <td>0 days 00:00:00.484537</td>\n",
       "      <td>0 days 00:00:00.033908</td>\n",
       "    </tr>\n",
       "    <tr>\n",
       "      <th>Линейная регрессия</th>\n",
       "      <td>2887.481905</td>\n",
       "      <td>0 days 00:00:00.046409</td>\n",
       "      <td>0 days 00:00:00.003990</td>\n",
       "    </tr>\n",
       "  </tbody>\n",
       "</table>\n",
       "</div>"
      ],
      "text/plain": [
       "                           RMSE         Время обучения     Время предсказания\n",
       "DTR                 1640.036478 0 days 00:00:20.173507 0 days 00:00:00.039407\n",
       "XGBoost             1388.295796 0 days 00:00:03.690004 0 days 00:00:00.029431\n",
       "CatBoost            1467.009613 0 days 00:00:01.125323 0 days 00:00:00.026930\n",
       "LightGBM            1477.932374 0 days 00:00:00.484537 0 days 00:00:00.033908\n",
       "Линейная регрессия  2887.481905 0 days 00:00:00.046409 0 days 00:00:00.003990"
      ]
     },
     "execution_count": 29,
     "metadata": {},
     "output_type": "execute_result"
    }
   ],
   "source": [
    "rmse_list = [rmse_1, rmse_2, rmse_3, rmse_4, rmse_5]\n",
    "time_list_1 = [time_1_1,time_2_1,time_3_1,time_4_1,time_5_1]\n",
    "time_list_2 = [time_1_2,time_2_2,time_3_2,time_4_2,time_5_2]\n",
    "\n",
    "compare = {'RMSE': rmse_list, 'Время обучения': time_list_1, 'Время предсказания':time_list_2 }\n",
    "\n",
    "compare_df = pd.DataFrame(compare, index=['DTR','XGBoost','CatBoost','LightGBM', 'Линейная регрессия'])\n",
    "compare_df"
   ]
  },
  {
   "cell_type": "markdown",
   "metadata": {},
   "source": [
    "Из таблицы видно, что самым быстрым оказалась модель Линейная реграссия, но у нее самое плохое качество, самое лучшее качество по метрике rmse у XGBoost. На ней и остановимся для проверки на тестовой выборке."
   ]
  },
  {
   "cell_type": "code",
   "execution_count": 30,
   "metadata": {
    "scrolled": true
   },
   "outputs": [
    {
     "name": "stdout",
     "output_type": "stream",
     "text": [
      "1390.5390067935841\n",
      "Wall time: 3.53 s\n"
     ]
    }
   ],
   "source": [
    "%%time\n",
    "model = xgb.XGBRegressor()\n",
    "model.fit(features_train, target_train)\n",
    "predictions = model.predict(features_test)\n",
    "rmse_3 = rmse(target_test, predictions)\n",
    "print(rmse_3)"
   ]
  },
  {
   "cell_type": "markdown",
   "metadata": {},
   "source": [
    "На тестовой выборке качество осталось почти неизменным! И по скорости обучения и предсказания модель все так же показывает быстрый результат"
   ]
  },
  {
   "cell_type": "markdown",
   "metadata": {},
   "source": [
    "Вывод.\n",
    "1. Мы провели анализ данных объявлений сервиса по продаже автомобилей с пробегом. В ходе предобработки данных мы изучили их состав, удалили редкие, выбивающиеся значения, поставили заглушки в пропуски, где не смогли заполнить иными подходящими данными, удалили дубликаты и ненужные столбцы, которые могли помешать модели обучаться.\n",
    "2. Затем мы рассмотрели 5 моделей обучения, две из которых не бустинг, а Дерево Решений с подбором гиперпараметров через GridSearch и Линейная регрессия\n",
    "3. Изучили скорость обучения моделей и качество метрики по rmse.\n",
    "4. Выбрали таким образом наиболее подходящую модель и проверили ее работу на тестовой выборке."
   ]
  }
 ],
 "metadata": {
  "ExecuteTimeLog": [
   {
    "duration": 378,
    "start_time": "2022-08-23T18:58:13.628Z"
   },
   {
    "duration": 2976,
    "start_time": "2022-08-23T18:58:31.617Z"
   },
   {
    "duration": 18,
    "start_time": "2022-08-23T18:58:51.196Z"
   },
   {
    "duration": 137,
    "start_time": "2022-08-23T18:59:20.904Z"
   },
   {
    "duration": 46,
    "start_time": "2022-08-23T19:18:20.805Z"
   },
   {
    "duration": 442,
    "start_time": "2022-08-24T07:57:55.274Z"
   },
   {
    "duration": 3072,
    "start_time": "2022-08-24T07:57:55.718Z"
   },
   {
    "duration": 124,
    "start_time": "2022-08-24T07:57:58.792Z"
   },
   {
    "duration": 22,
    "start_time": "2022-08-24T07:57:58.919Z"
   },
   {
    "duration": 64,
    "start_time": "2022-08-24T07:57:58.943Z"
   },
   {
    "duration": 180,
    "start_time": "2022-08-24T07:59:08.581Z"
   },
   {
    "duration": 171,
    "start_time": "2022-08-24T07:59:53.454Z"
   },
   {
    "duration": 270,
    "start_time": "2022-08-24T08:00:23.853Z"
   },
   {
    "duration": 69,
    "start_time": "2022-08-24T08:00:45.977Z"
   },
   {
    "duration": 12,
    "start_time": "2022-08-24T08:01:01.156Z"
   },
   {
    "duration": 9,
    "start_time": "2022-08-24T08:01:06.144Z"
   },
   {
    "duration": 231,
    "start_time": "2022-08-24T08:01:10.606Z"
   },
   {
    "duration": 174,
    "start_time": "2022-08-24T08:02:03.923Z"
   },
   {
    "duration": 222,
    "start_time": "2022-08-24T08:02:42.623Z"
   },
   {
    "duration": 227,
    "start_time": "2022-08-24T08:02:53.024Z"
   },
   {
    "duration": 56,
    "start_time": "2022-08-24T08:07:44.404Z"
   },
   {
    "duration": 20,
    "start_time": "2022-08-24T08:08:25.793Z"
   },
   {
    "duration": 29,
    "start_time": "2022-08-24T08:08:31.422Z"
   },
   {
    "duration": 26,
    "start_time": "2022-08-24T08:08:53.652Z"
   },
   {
    "duration": 320,
    "start_time": "2022-08-24T08:09:10.254Z"
   },
   {
    "duration": 28,
    "start_time": "2022-08-24T08:19:08.666Z"
   },
   {
    "duration": 12,
    "start_time": "2022-08-24T08:19:29.744Z"
   },
   {
    "duration": 25,
    "start_time": "2022-08-24T08:19:33.262Z"
   },
   {
    "duration": 112,
    "start_time": "2022-08-24T08:19:44.399Z"
   },
   {
    "duration": 47,
    "start_time": "2022-08-24T08:21:32.386Z"
   },
   {
    "duration": 108,
    "start_time": "2022-08-24T08:21:52.457Z"
   },
   {
    "duration": 33,
    "start_time": "2022-08-24T08:22:49.213Z"
   },
   {
    "duration": 179,
    "start_time": "2022-08-24T08:22:53.486Z"
   },
   {
    "duration": 9,
    "start_time": "2022-08-24T08:23:09.065Z"
   },
   {
    "duration": 21,
    "start_time": "2022-08-24T08:23:12.026Z"
   },
   {
    "duration": 127,
    "start_time": "2022-08-24T08:23:14.014Z"
   },
   {
    "duration": 20,
    "start_time": "2022-08-24T08:23:45.446Z"
   },
   {
    "duration": 119,
    "start_time": "2022-08-24T08:23:47.407Z"
   },
   {
    "duration": 109,
    "start_time": "2022-08-24T08:34:33.378Z"
   },
   {
    "duration": 134,
    "start_time": "2022-08-24T09:01:23.433Z"
   },
   {
    "duration": 449,
    "start_time": "2022-08-24T09:03:27.842Z"
   },
   {
    "duration": 930,
    "start_time": "2022-08-24T09:03:28.294Z"
   },
   {
    "duration": 122,
    "start_time": "2022-08-24T09:03:29.226Z"
   },
   {
    "duration": 31,
    "start_time": "2022-08-24T09:03:29.350Z"
   },
   {
    "duration": 31,
    "start_time": "2022-08-24T09:03:29.384Z"
   },
   {
    "duration": 64,
    "start_time": "2022-08-24T09:03:29.417Z"
   },
   {
    "duration": 3,
    "start_time": "2022-08-24T09:03:29.483Z"
   },
   {
    "duration": 134,
    "start_time": "2022-08-24T09:03:29.488Z"
   },
   {
    "duration": 257,
    "start_time": "2022-08-24T09:03:29.624Z"
   },
   {
    "duration": 0,
    "start_time": "2022-08-24T09:03:29.884Z"
   },
   {
    "duration": 27,
    "start_time": "2022-08-24T09:09:59.142Z"
   },
   {
    "duration": 129,
    "start_time": "2022-08-24T09:10:00.290Z"
   },
   {
    "duration": 97,
    "start_time": "2022-08-24T09:10:30.762Z"
   },
   {
    "duration": 117,
    "start_time": "2022-08-24T09:11:55.359Z"
   },
   {
    "duration": 107,
    "start_time": "2022-08-24T09:12:13.141Z"
   },
   {
    "duration": 111,
    "start_time": "2022-08-24T09:12:23.010Z"
   },
   {
    "duration": 112,
    "start_time": "2022-08-24T09:12:48.129Z"
   },
   {
    "duration": 113,
    "start_time": "2022-08-24T09:12:53.901Z"
   },
   {
    "duration": 96,
    "start_time": "2022-08-24T09:13:03.511Z"
   },
   {
    "duration": 43,
    "start_time": "2022-08-24T09:13:23.731Z"
   },
   {
    "duration": 257,
    "start_time": "2022-08-24T09:13:41.212Z"
   },
   {
    "duration": 118,
    "start_time": "2022-08-24T09:13:49.852Z"
   },
   {
    "duration": 12,
    "start_time": "2022-08-24T10:20:13.037Z"
   },
   {
    "duration": 16,
    "start_time": "2022-08-24T10:20:26.720Z"
   },
   {
    "duration": 102,
    "start_time": "2022-08-24T10:21:34.099Z"
   },
   {
    "duration": 809,
    "start_time": "2022-08-24T10:21:37.721Z"
   },
   {
    "duration": 26,
    "start_time": "2022-08-24T10:21:56.109Z"
   },
   {
    "duration": 33,
    "start_time": "2022-08-24T10:22:06.890Z"
   },
   {
    "duration": 23,
    "start_time": "2022-08-24T10:22:58.411Z"
   },
   {
    "duration": 33,
    "start_time": "2022-08-24T10:23:11.861Z"
   },
   {
    "duration": 79,
    "start_time": "2022-08-24T10:24:28.700Z"
   },
   {
    "duration": 86,
    "start_time": "2022-08-24T10:24:33.675Z"
   },
   {
    "duration": 29,
    "start_time": "2022-08-24T10:24:38.872Z"
   },
   {
    "duration": 30,
    "start_time": "2022-08-24T10:27:59.749Z"
   },
   {
    "duration": 31,
    "start_time": "2022-08-24T10:28:19.132Z"
   },
   {
    "duration": 26,
    "start_time": "2022-08-24T10:28:31.029Z"
   },
   {
    "duration": 1526,
    "start_time": "2022-08-24T10:29:10.982Z"
   },
   {
    "duration": 1360,
    "start_time": "2022-08-24T10:29:30.239Z"
   },
   {
    "duration": 412,
    "start_time": "2022-08-24T10:29:50.205Z"
   },
   {
    "duration": 998,
    "start_time": "2022-08-24T10:29:50.619Z"
   },
   {
    "duration": 150,
    "start_time": "2022-08-24T10:29:51.619Z"
   },
   {
    "duration": 23,
    "start_time": "2022-08-24T10:29:51.781Z"
   },
   {
    "duration": 36,
    "start_time": "2022-08-24T10:29:51.805Z"
   },
   {
    "duration": 64,
    "start_time": "2022-08-24T10:29:51.843Z"
   },
   {
    "duration": 27,
    "start_time": "2022-08-24T10:29:51.909Z"
   },
   {
    "duration": 171,
    "start_time": "2022-08-24T10:29:51.938Z"
   },
   {
    "duration": 117,
    "start_time": "2022-08-24T10:29:52.111Z"
   },
   {
    "duration": 1413,
    "start_time": "2022-08-24T10:29:52.230Z"
   },
   {
    "duration": 1528,
    "start_time": "2022-08-24T10:30:06.763Z"
   },
   {
    "duration": 24,
    "start_time": "2022-08-24T10:30:14.642Z"
   },
   {
    "duration": 33,
    "start_time": "2022-08-24T10:30:25.156Z"
   },
   {
    "duration": 36,
    "start_time": "2022-08-24T10:30:29.576Z"
   },
   {
    "duration": 8,
    "start_time": "2022-08-24T10:30:39.690Z"
   },
   {
    "duration": 43,
    "start_time": "2022-08-24T10:30:45.048Z"
   },
   {
    "duration": 31,
    "start_time": "2022-08-24T10:30:54.787Z"
   },
   {
    "duration": 44,
    "start_time": "2022-08-24T10:31:04.240Z"
   },
   {
    "duration": 1632,
    "start_time": "2022-08-24T10:31:35.194Z"
   },
   {
    "duration": 50,
    "start_time": "2022-08-24T10:31:41.495Z"
   },
   {
    "duration": 29,
    "start_time": "2022-08-24T10:32:02.553Z"
   },
   {
    "duration": 34,
    "start_time": "2022-08-24T10:32:10.502Z"
   },
   {
    "duration": 26,
    "start_time": "2022-08-24T10:32:24.913Z"
   },
   {
    "duration": 25,
    "start_time": "2022-08-24T10:32:35.633Z"
   },
   {
    "duration": 456,
    "start_time": "2022-08-24T10:32:43.038Z"
   },
   {
    "duration": 1078,
    "start_time": "2022-08-24T10:32:43.497Z"
   },
   {
    "duration": 150,
    "start_time": "2022-08-24T10:32:44.577Z"
   },
   {
    "duration": 46,
    "start_time": "2022-08-24T10:32:44.730Z"
   },
   {
    "duration": 44,
    "start_time": "2022-08-24T10:32:44.781Z"
   },
   {
    "duration": 88,
    "start_time": "2022-08-24T10:32:44.827Z"
   },
   {
    "duration": 28,
    "start_time": "2022-08-24T10:32:44.917Z"
   },
   {
    "duration": 166,
    "start_time": "2022-08-24T10:32:44.947Z"
   },
   {
    "duration": 114,
    "start_time": "2022-08-24T10:32:45.115Z"
   },
   {
    "duration": 25,
    "start_time": "2022-08-24T10:32:45.231Z"
   },
   {
    "duration": 62,
    "start_time": "2022-08-24T10:33:56.227Z"
   },
   {
    "duration": 420,
    "start_time": "2022-08-24T10:36:01.410Z"
   },
   {
    "duration": 988,
    "start_time": "2022-08-24T10:36:01.832Z"
   },
   {
    "duration": 133,
    "start_time": "2022-08-24T10:36:02.822Z"
   },
   {
    "duration": 26,
    "start_time": "2022-08-24T10:36:02.968Z"
   },
   {
    "duration": 41,
    "start_time": "2022-08-24T10:36:02.996Z"
   },
   {
    "duration": 65,
    "start_time": "2022-08-24T10:36:03.039Z"
   },
   {
    "duration": 3,
    "start_time": "2022-08-24T10:36:03.106Z"
   },
   {
    "duration": 146,
    "start_time": "2022-08-24T10:36:03.110Z"
   },
   {
    "duration": 366,
    "start_time": "2022-08-24T10:36:03.259Z"
   },
   {
    "duration": 0,
    "start_time": "2022-08-24T10:36:03.629Z"
   },
   {
    "duration": 71,
    "start_time": "2022-08-24T10:36:25.629Z"
   },
   {
    "duration": 130,
    "start_time": "2022-08-24T10:36:42.267Z"
   },
   {
    "duration": 124,
    "start_time": "2022-08-24T10:36:45.886Z"
   },
   {
    "duration": 35,
    "start_time": "2022-08-24T10:36:52.480Z"
   },
   {
    "duration": 121,
    "start_time": "2022-08-24T10:36:54.426Z"
   },
   {
    "duration": 478,
    "start_time": "2022-08-24T10:37:35.868Z"
   },
   {
    "duration": 1181,
    "start_time": "2022-08-24T10:37:36.349Z"
   },
   {
    "duration": 162,
    "start_time": "2022-08-24T10:37:37.532Z"
   },
   {
    "duration": 22,
    "start_time": "2022-08-24T10:37:37.698Z"
   },
   {
    "duration": 49,
    "start_time": "2022-08-24T10:37:37.722Z"
   },
   {
    "duration": 69,
    "start_time": "2022-08-24T10:37:37.773Z"
   },
   {
    "duration": 2,
    "start_time": "2022-08-24T10:37:37.844Z"
   },
   {
    "duration": 244,
    "start_time": "2022-08-24T10:37:37.849Z"
   },
   {
    "duration": 3,
    "start_time": "2022-08-24T10:37:38.094Z"
   },
   {
    "duration": 55,
    "start_time": "2022-08-24T10:37:38.100Z"
   },
   {
    "duration": 110,
    "start_time": "2022-08-24T10:37:45.383Z"
   },
   {
    "duration": 17,
    "start_time": "2022-08-24T10:38:13.530Z"
   },
   {
    "duration": 33,
    "start_time": "2022-08-24T10:38:40.903Z"
   },
   {
    "duration": 137,
    "start_time": "2022-08-24T10:38:42.496Z"
   },
   {
    "duration": 424,
    "start_time": "2022-08-24T10:39:03.507Z"
   },
   {
    "duration": 1054,
    "start_time": "2022-08-24T10:39:03.934Z"
   },
   {
    "duration": 144,
    "start_time": "2022-08-24T10:39:04.990Z"
   },
   {
    "duration": 47,
    "start_time": "2022-08-24T10:39:05.136Z"
   },
   {
    "duration": 31,
    "start_time": "2022-08-24T10:39:05.186Z"
   },
   {
    "duration": 64,
    "start_time": "2022-08-24T10:39:05.219Z"
   },
   {
    "duration": 31,
    "start_time": "2022-08-24T10:39:05.285Z"
   },
   {
    "duration": 158,
    "start_time": "2022-08-24T10:39:05.318Z"
   },
   {
    "duration": 7,
    "start_time": "2022-08-24T10:39:05.478Z"
   },
   {
    "duration": 39,
    "start_time": "2022-08-24T10:39:05.487Z"
   },
   {
    "duration": 75,
    "start_time": "2022-08-24T10:41:56.757Z"
   },
   {
    "duration": 22,
    "start_time": "2022-08-24T10:42:26.928Z"
   },
   {
    "duration": 138,
    "start_time": "2022-08-24T10:42:41.066Z"
   },
   {
    "duration": 114,
    "start_time": "2022-08-24T10:42:57.296Z"
   },
   {
    "duration": 43,
    "start_time": "2022-08-24T10:43:00.507Z"
   },
   {
    "duration": 122,
    "start_time": "2022-08-24T10:43:02.789Z"
   },
   {
    "duration": 45,
    "start_time": "2022-08-24T10:43:32.816Z"
   },
   {
    "duration": 141,
    "start_time": "2022-08-24T10:43:35.747Z"
   },
   {
    "duration": 53,
    "start_time": "2022-08-24T10:44:28.898Z"
   },
   {
    "duration": 130,
    "start_time": "2022-08-24T10:44:30.619Z"
   },
   {
    "duration": 112,
    "start_time": "2022-08-24T10:45:26.082Z"
   },
   {
    "duration": 87,
    "start_time": "2022-08-24T10:45:45.050Z"
   },
   {
    "duration": 46,
    "start_time": "2022-08-24T10:45:51.199Z"
   },
   {
    "duration": 44,
    "start_time": "2022-08-24T10:45:56.082Z"
   },
   {
    "duration": 120,
    "start_time": "2022-08-24T10:45:58.407Z"
   },
   {
    "duration": 208,
    "start_time": "2022-08-24T10:46:21.537Z"
   },
   {
    "duration": 142,
    "start_time": "2022-08-24T10:46:23.716Z"
   },
   {
    "duration": 425,
    "start_time": "2022-08-24T10:46:29.401Z"
   },
   {
    "duration": 1056,
    "start_time": "2022-08-24T10:46:29.828Z"
   },
   {
    "duration": 136,
    "start_time": "2022-08-24T10:46:30.886Z"
   },
   {
    "duration": 22,
    "start_time": "2022-08-24T10:46:31.025Z"
   },
   {
    "duration": 60,
    "start_time": "2022-08-24T10:46:31.050Z"
   },
   {
    "duration": 71,
    "start_time": "2022-08-24T10:46:31.112Z"
   },
   {
    "duration": 28,
    "start_time": "2022-08-24T10:46:31.185Z"
   },
   {
    "duration": 151,
    "start_time": "2022-08-24T10:46:31.214Z"
   },
   {
    "duration": 12,
    "start_time": "2022-08-24T10:46:31.367Z"
   },
   {
    "duration": 244,
    "start_time": "2022-08-24T10:46:31.381Z"
   },
   {
    "duration": 134,
    "start_time": "2022-08-24T10:46:31.627Z"
   },
   {
    "duration": 56,
    "start_time": "2022-08-24T13:20:34.374Z"
   },
   {
    "duration": 399,
    "start_time": "2022-08-24T13:20:43.218Z"
   },
   {
    "duration": 2893,
    "start_time": "2022-08-24T13:20:43.619Z"
   },
   {
    "duration": 129,
    "start_time": "2022-08-24T13:20:46.514Z"
   },
   {
    "duration": 18,
    "start_time": "2022-08-24T13:20:46.645Z"
   },
   {
    "duration": 37,
    "start_time": "2022-08-24T13:20:46.664Z"
   },
   {
    "duration": 46,
    "start_time": "2022-08-24T13:20:46.703Z"
   },
   {
    "duration": 21,
    "start_time": "2022-08-24T13:20:46.750Z"
   },
   {
    "duration": 127,
    "start_time": "2022-08-24T13:20:46.793Z"
   },
   {
    "duration": 2,
    "start_time": "2022-08-24T13:20:46.922Z"
   },
   {
    "duration": 47,
    "start_time": "2022-08-24T13:20:46.926Z"
   },
   {
    "duration": 126,
    "start_time": "2022-08-24T13:20:46.992Z"
   },
   {
    "duration": 198,
    "start_time": "2022-08-24T13:21:35.991Z"
   },
   {
    "duration": 115,
    "start_time": "2022-08-24T13:21:38.948Z"
   },
   {
    "duration": 216,
    "start_time": "2022-08-24T13:21:56.290Z"
   },
   {
    "duration": 109,
    "start_time": "2022-08-24T13:21:59.080Z"
   },
   {
    "duration": 172,
    "start_time": "2022-08-24T13:22:04.260Z"
   },
   {
    "duration": 95,
    "start_time": "2022-08-24T13:22:09.898Z"
   },
   {
    "duration": 212,
    "start_time": "2022-08-24T13:22:18.598Z"
   },
   {
    "duration": 38,
    "start_time": "2022-08-24T13:25:00.239Z"
   },
   {
    "duration": 23,
    "start_time": "2022-08-24T13:25:08.480Z"
   },
   {
    "duration": 422,
    "start_time": "2022-08-24T13:25:24.656Z"
   },
   {
    "duration": 881,
    "start_time": "2022-08-24T13:25:25.080Z"
   },
   {
    "duration": 138,
    "start_time": "2022-08-24T13:25:25.962Z"
   },
   {
    "duration": 19,
    "start_time": "2022-08-24T13:25:26.102Z"
   },
   {
    "duration": 35,
    "start_time": "2022-08-24T13:25:26.123Z"
   },
   {
    "duration": 67,
    "start_time": "2022-08-24T13:25:26.160Z"
   },
   {
    "duration": 2,
    "start_time": "2022-08-24T13:25:26.228Z"
   },
   {
    "duration": 132,
    "start_time": "2022-08-24T13:25:26.232Z"
   },
   {
    "duration": 3,
    "start_time": "2022-08-24T13:25:26.367Z"
   },
   {
    "duration": 101,
    "start_time": "2022-08-24T13:25:26.377Z"
   },
   {
    "duration": 121,
    "start_time": "2022-08-24T13:25:26.480Z"
   },
   {
    "duration": 66,
    "start_time": "2022-08-24T13:26:04.648Z"
   },
   {
    "duration": 105,
    "start_time": "2022-08-24T13:26:06.514Z"
   },
   {
    "duration": 100,
    "start_time": "2022-08-24T13:26:22.718Z"
   },
   {
    "duration": 94,
    "start_time": "2022-08-24T13:26:27.552Z"
   },
   {
    "duration": 82,
    "start_time": "2022-08-24T13:26:32.469Z"
   },
   {
    "duration": 60,
    "start_time": "2022-08-24T13:26:43.298Z"
   },
   {
    "duration": 26,
    "start_time": "2022-08-24T13:27:02.039Z"
   },
   {
    "duration": 28,
    "start_time": "2022-08-24T13:27:12.541Z"
   },
   {
    "duration": 25,
    "start_time": "2022-08-24T13:27:16.403Z"
   },
   {
    "duration": 24,
    "start_time": "2022-08-24T13:27:23.368Z"
   },
   {
    "duration": 57,
    "start_time": "2022-08-24T13:27:33.509Z"
   },
   {
    "duration": 84,
    "start_time": "2022-08-24T13:27:38.716Z"
   },
   {
    "duration": 25,
    "start_time": "2022-08-24T13:27:40.669Z"
   },
   {
    "duration": 84,
    "start_time": "2022-08-24T13:27:46.972Z"
   },
   {
    "duration": 24,
    "start_time": "2022-08-24T13:27:47.832Z"
   },
   {
    "duration": 21,
    "start_time": "2022-08-24T13:29:28.685Z"
   },
   {
    "duration": 3253,
    "start_time": "2022-08-24T13:33:31.735Z"
   },
   {
    "duration": 23,
    "start_time": "2022-08-24T13:33:46.430Z"
   },
   {
    "duration": 24,
    "start_time": "2022-08-24T13:34:28.649Z"
   },
   {
    "duration": 108,
    "start_time": "2022-08-24T13:34:34.431Z"
   },
   {
    "duration": 21,
    "start_time": "2022-08-24T13:37:04.577Z"
   },
   {
    "duration": 23,
    "start_time": "2022-08-24T13:37:09.269Z"
   },
   {
    "duration": 161,
    "start_time": "2022-08-24T13:39:12.849Z"
   },
   {
    "duration": 24,
    "start_time": "2022-08-24T13:39:55.246Z"
   },
   {
    "duration": 189,
    "start_time": "2022-08-24T13:40:03.129Z"
   },
   {
    "duration": 191,
    "start_time": "2022-08-24T13:40:46.649Z"
   },
   {
    "duration": 431,
    "start_time": "2022-08-24T13:55:40.771Z"
   },
   {
    "duration": 836,
    "start_time": "2022-08-24T13:55:41.204Z"
   },
   {
    "duration": 138,
    "start_time": "2022-08-24T13:55:42.042Z"
   },
   {
    "duration": 25,
    "start_time": "2022-08-24T13:55:42.182Z"
   },
   {
    "duration": 35,
    "start_time": "2022-08-24T13:55:42.209Z"
   },
   {
    "duration": 59,
    "start_time": "2022-08-24T13:55:42.246Z"
   },
   {
    "duration": 32,
    "start_time": "2022-08-24T13:55:42.307Z"
   },
   {
    "duration": 149,
    "start_time": "2022-08-24T13:55:42.341Z"
   },
   {
    "duration": 3,
    "start_time": "2022-08-24T13:55:42.492Z"
   },
   {
    "duration": 27,
    "start_time": "2022-08-24T13:55:42.497Z"
   },
   {
    "duration": 3224,
    "start_time": "2022-08-24T13:55:42.526Z"
   },
   {
    "duration": 24,
    "start_time": "2022-08-24T13:55:45.752Z"
   },
   {
    "duration": 435,
    "start_time": "2022-08-24T15:00:49.505Z"
   },
   {
    "duration": 918,
    "start_time": "2022-08-24T15:00:49.943Z"
   },
   {
    "duration": 161,
    "start_time": "2022-08-24T15:00:50.863Z"
   },
   {
    "duration": 20,
    "start_time": "2022-08-24T15:00:51.027Z"
   },
   {
    "duration": 59,
    "start_time": "2022-08-24T15:00:51.049Z"
   },
   {
    "duration": 47,
    "start_time": "2022-08-24T15:00:51.110Z"
   },
   {
    "duration": 47,
    "start_time": "2022-08-24T15:00:51.159Z"
   },
   {
    "duration": 144,
    "start_time": "2022-08-24T15:00:51.208Z"
   },
   {
    "duration": 2,
    "start_time": "2022-08-24T15:00:51.354Z"
   },
   {
    "duration": 39,
    "start_time": "2022-08-24T15:00:51.360Z"
   },
   {
    "duration": 3398,
    "start_time": "2022-08-24T15:00:51.401Z"
   },
   {
    "duration": 26,
    "start_time": "2022-08-24T15:00:54.805Z"
   },
   {
    "duration": 12,
    "start_time": "2022-08-24T15:00:54.833Z"
   },
   {
    "duration": 30,
    "start_time": "2022-08-24T15:00:54.847Z"
   },
   {
    "duration": 31,
    "start_time": "2022-08-24T15:00:54.879Z"
   },
   {
    "duration": 128,
    "start_time": "2022-08-24T15:00:54.912Z"
   },
   {
    "duration": 4,
    "start_time": "2022-08-24T15:01:04.119Z"
   },
   {
    "duration": 3,
    "start_time": "2022-08-24T15:01:10.799Z"
   },
   {
    "duration": 3,
    "start_time": "2022-08-24T15:01:17.239Z"
   },
   {
    "duration": 7,
    "start_time": "2022-08-24T15:01:23.777Z"
   },
   {
    "duration": 105,
    "start_time": "2022-08-24T15:01:55.068Z"
   },
   {
    "duration": 45,
    "start_time": "2022-08-24T15:02:00.140Z"
   },
   {
    "duration": 6083,
    "start_time": "2022-08-24T15:02:27.549Z"
   },
   {
    "duration": 45,
    "start_time": "2022-08-24T15:02:52.749Z"
   },
   {
    "duration": 6133,
    "start_time": "2022-08-24T15:03:00.061Z"
   },
   {
    "duration": 44,
    "start_time": "2022-08-24T15:03:07.949Z"
   },
   {
    "duration": 44,
    "start_time": "2022-08-24T15:03:13.530Z"
   },
   {
    "duration": 105,
    "start_time": "2022-08-24T15:03:18.268Z"
   },
   {
    "duration": 5851,
    "start_time": "2022-08-24T15:03:20.588Z"
   },
   {
    "duration": 6765,
    "start_time": "2022-08-24T16:08:53.628Z"
   },
   {
    "duration": 7414,
    "start_time": "2022-08-24T16:18:37.560Z"
   },
   {
    "duration": 44,
    "start_time": "2022-08-24T16:18:50.230Z"
   },
   {
    "duration": 69,
    "start_time": "2022-08-24T16:19:08.150Z"
   },
   {
    "duration": 1364,
    "start_time": "2022-08-24T16:19:21.227Z"
   },
   {
    "duration": 8080,
    "start_time": "2022-08-24T16:19:35.590Z"
   },
   {
    "duration": 8095,
    "start_time": "2022-08-24T16:19:58.050Z"
   },
   {
    "duration": 7842,
    "start_time": "2022-08-24T16:20:12.418Z"
   },
   {
    "duration": 7705,
    "start_time": "2022-08-24T16:20:22.808Z"
   },
   {
    "duration": 8131,
    "start_time": "2022-08-24T16:20:52.408Z"
   },
   {
    "duration": 1107,
    "start_time": "2022-08-24T16:21:02.462Z"
   },
   {
    "duration": 760,
    "start_time": "2022-08-24T16:21:08.328Z"
   },
   {
    "duration": 7956,
    "start_time": "2022-08-24T16:21:12.436Z"
   },
   {
    "duration": 841,
    "start_time": "2022-08-24T16:21:24.349Z"
   },
   {
    "duration": 849,
    "start_time": "2022-08-24T16:21:34.509Z"
   },
   {
    "duration": 7830,
    "start_time": "2022-08-24T16:21:39.118Z"
   },
   {
    "duration": 39,
    "start_time": "2022-08-24T17:25:45.667Z"
   },
   {
    "duration": 12,
    "start_time": "2022-08-24T17:25:50.874Z"
   },
   {
    "duration": 36,
    "start_time": "2022-08-24T17:25:59.965Z"
   },
   {
    "duration": 112,
    "start_time": "2022-08-24T17:28:10.117Z"
   },
   {
    "duration": 105,
    "start_time": "2022-08-24T17:28:31.264Z"
   },
   {
    "duration": 62,
    "start_time": "2022-08-24T17:28:42.326Z"
   },
   {
    "duration": 21,
    "start_time": "2022-08-24T17:28:53.605Z"
   },
   {
    "duration": 3,
    "start_time": "2022-08-24T17:29:19.907Z"
   },
   {
    "duration": 6,
    "start_time": "2022-08-24T17:29:28.134Z"
   },
   {
    "duration": 248,
    "start_time": "2022-08-24T17:30:51.674Z"
   },
   {
    "duration": 81,
    "start_time": "2022-08-24T17:31:45.227Z"
   },
   {
    "duration": 11,
    "start_time": "2022-08-24T17:32:05.376Z"
   },
   {
    "duration": 111,
    "start_time": "2022-08-24T17:33:15.984Z"
   },
   {
    "duration": 104,
    "start_time": "2022-08-24T17:33:50.515Z"
   },
   {
    "duration": 199,
    "start_time": "2022-08-24T17:34:39.894Z"
   },
   {
    "duration": 1912,
    "start_time": "2022-08-24T17:35:03.577Z"
   },
   {
    "duration": 197,
    "start_time": "2022-08-24T17:35:18.674Z"
   },
   {
    "duration": 7,
    "start_time": "2022-08-24T17:36:06.084Z"
   },
   {
    "duration": 24,
    "start_time": "2022-08-24T17:36:10.495Z"
   },
   {
    "duration": 89,
    "start_time": "2022-08-24T17:37:28.997Z"
   },
   {
    "duration": 180,
    "start_time": "2022-08-24T17:37:50.652Z"
   },
   {
    "duration": 86,
    "start_time": "2022-08-24T17:38:00.191Z"
   },
   {
    "duration": 66,
    "start_time": "2022-08-24T17:38:03.214Z"
   },
   {
    "duration": 120,
    "start_time": "2022-08-24T17:38:48.370Z"
   },
   {
    "duration": 99,
    "start_time": "2022-08-24T17:39:14.046Z"
   },
   {
    "duration": 101,
    "start_time": "2022-08-24T17:39:33.605Z"
   },
   {
    "duration": 182,
    "start_time": "2022-08-24T17:39:46.625Z"
   },
   {
    "duration": 127,
    "start_time": "2022-08-24T17:40:58.713Z"
   },
   {
    "duration": 124,
    "start_time": "2022-08-24T17:41:02.852Z"
   },
   {
    "duration": 233,
    "start_time": "2022-08-24T17:41:10.263Z"
   },
   {
    "duration": 2501,
    "start_time": "2022-08-24T17:41:16.685Z"
   },
   {
    "duration": 108,
    "start_time": "2022-08-24T17:42:08.084Z"
   },
   {
    "duration": 75,
    "start_time": "2022-08-24T17:42:19.215Z"
   },
   {
    "duration": 81,
    "start_time": "2022-08-24T17:42:31.777Z"
   },
   {
    "duration": 2928,
    "start_time": "2022-08-24T17:42:35.865Z"
   },
   {
    "duration": 12,
    "start_time": "2022-08-24T17:43:19.937Z"
   },
   {
    "duration": 233,
    "start_time": "2022-08-24T17:44:31.275Z"
   },
   {
    "duration": 2268,
    "start_time": "2022-08-24T17:44:53.355Z"
   },
   {
    "duration": 409,
    "start_time": "2022-08-24T17:46:12.120Z"
   },
   {
    "duration": 952,
    "start_time": "2022-08-24T17:46:12.531Z"
   },
   {
    "duration": 183,
    "start_time": "2022-08-24T17:46:13.484Z"
   },
   {
    "duration": 36,
    "start_time": "2022-08-24T17:46:13.669Z"
   },
   {
    "duration": 328,
    "start_time": "2022-08-24T17:46:13.708Z"
   },
   {
    "duration": 3987,
    "start_time": "2022-08-24T17:46:14.038Z"
   },
   {
    "duration": 32,
    "start_time": "2022-08-24T17:46:18.027Z"
   },
   {
    "duration": 46,
    "start_time": "2022-08-24T17:46:18.061Z"
   },
   {
    "duration": 58,
    "start_time": "2022-08-24T17:46:18.109Z"
   },
   {
    "duration": 60,
    "start_time": "2022-08-24T17:46:18.169Z"
   },
   {
    "duration": 3,
    "start_time": "2022-08-24T17:46:18.231Z"
   },
   {
    "duration": 164,
    "start_time": "2022-08-24T17:46:18.236Z"
   },
   {
    "duration": 3,
    "start_time": "2022-08-24T17:46:18.403Z"
   },
   {
    "duration": 46,
    "start_time": "2022-08-24T17:46:18.409Z"
   },
   {
    "duration": 3,
    "start_time": "2022-08-24T17:46:18.457Z"
   },
   {
    "duration": 6,
    "start_time": "2022-08-24T17:46:18.461Z"
   },
   {
    "duration": 4,
    "start_time": "2022-08-24T17:46:18.469Z"
   },
   {
    "duration": 7,
    "start_time": "2022-08-24T17:46:18.474Z"
   },
   {
    "duration": 34,
    "start_time": "2022-08-24T17:46:18.483Z"
   },
   {
    "duration": 24,
    "start_time": "2022-08-24T17:46:18.519Z"
   },
   {
    "duration": 140,
    "start_time": "2022-08-24T17:46:18.545Z"
   },
   {
    "duration": 23,
    "start_time": "2022-08-24T17:49:49.630Z"
   },
   {
    "duration": 75,
    "start_time": "2022-08-24T17:50:03.968Z"
   },
   {
    "duration": 74,
    "start_time": "2022-08-24T17:50:36.505Z"
   },
   {
    "duration": 333,
    "start_time": "2022-08-24T17:50:44.540Z"
   },
   {
    "duration": 10,
    "start_time": "2022-08-24T17:50:53.720Z"
   },
   {
    "duration": 8,
    "start_time": "2022-08-24T17:51:08.479Z"
   },
   {
    "duration": 9,
    "start_time": "2022-08-24T17:51:19.770Z"
   },
   {
    "duration": 8,
    "start_time": "2022-08-24T17:51:39.979Z"
   },
   {
    "duration": 7348,
    "start_time": "2022-08-24T17:51:56.390Z"
   },
   {
    "duration": 6876,
    "start_time": "2022-08-24T17:52:13.468Z"
   },
   {
    "duration": 430,
    "start_time": "2022-08-24T17:54:46.688Z"
   },
   {
    "duration": 905,
    "start_time": "2022-08-24T17:54:47.121Z"
   },
   {
    "duration": 197,
    "start_time": "2022-08-24T17:54:48.029Z"
   },
   {
    "duration": 23,
    "start_time": "2022-08-24T17:54:48.228Z"
   },
   {
    "duration": 329,
    "start_time": "2022-08-24T17:54:48.254Z"
   },
   {
    "duration": 3893,
    "start_time": "2022-08-24T17:54:48.593Z"
   },
   {
    "duration": 34,
    "start_time": "2022-08-24T17:54:52.487Z"
   },
   {
    "duration": 26,
    "start_time": "2022-08-24T17:54:52.523Z"
   },
   {
    "duration": 49,
    "start_time": "2022-08-24T17:54:52.550Z"
   },
   {
    "duration": 47,
    "start_time": "2022-08-24T17:54:52.601Z"
   },
   {
    "duration": 25,
    "start_time": "2022-08-24T17:54:52.649Z"
   },
   {
    "duration": 159,
    "start_time": "2022-08-24T17:54:52.675Z"
   },
   {
    "duration": 3,
    "start_time": "2022-08-24T17:54:52.836Z"
   },
   {
    "duration": 26,
    "start_time": "2022-08-24T17:54:52.843Z"
   },
   {
    "duration": 22,
    "start_time": "2022-08-24T17:54:52.871Z"
   },
   {
    "duration": 396,
    "start_time": "2022-08-24T17:54:52.895Z"
   },
   {
    "duration": 7007,
    "start_time": "2022-08-24T17:54:53.294Z"
   },
   {
    "duration": 0,
    "start_time": "2022-08-24T17:55:00.304Z"
   },
   {
    "duration": 0,
    "start_time": "2022-08-24T17:55:00.306Z"
   },
   {
    "duration": 0,
    "start_time": "2022-08-24T17:55:00.308Z"
   },
   {
    "duration": 0,
    "start_time": "2022-08-24T17:55:00.309Z"
   },
   {
    "duration": 424,
    "start_time": "2022-08-24T17:59:17.957Z"
   },
   {
    "duration": 907,
    "start_time": "2022-08-24T17:59:18.384Z"
   },
   {
    "duration": 147,
    "start_time": "2022-08-24T17:59:19.293Z"
   },
   {
    "duration": 17,
    "start_time": "2022-08-24T17:59:19.442Z"
   },
   {
    "duration": 335,
    "start_time": "2022-08-24T17:59:19.461Z"
   },
   {
    "duration": 3941,
    "start_time": "2022-08-24T17:59:19.799Z"
   },
   {
    "duration": 57,
    "start_time": "2022-08-24T18:07:14.177Z"
   },
   {
    "duration": 658,
    "start_time": "2022-08-24T18:07:28.561Z"
   },
   {
    "duration": 3410,
    "start_time": "2022-08-24T18:07:29.221Z"
   },
   {
    "duration": 141,
    "start_time": "2022-08-24T18:07:32.633Z"
   },
   {
    "duration": 27,
    "start_time": "2022-08-24T18:07:32.776Z"
   },
   {
    "duration": 322,
    "start_time": "2022-08-24T18:07:32.805Z"
   },
   {
    "duration": 93,
    "start_time": "2022-08-24T18:07:33.129Z"
   },
   {
    "duration": 0,
    "start_time": "2022-08-24T18:07:33.224Z"
   },
   {
    "duration": 0,
    "start_time": "2022-08-24T18:07:33.226Z"
   },
   {
    "duration": 0,
    "start_time": "2022-08-24T18:07:33.228Z"
   },
   {
    "duration": 0,
    "start_time": "2022-08-24T18:07:33.229Z"
   },
   {
    "duration": 0,
    "start_time": "2022-08-24T18:07:33.231Z"
   },
   {
    "duration": 0,
    "start_time": "2022-08-24T18:07:33.232Z"
   },
   {
    "duration": 0,
    "start_time": "2022-08-24T18:07:33.234Z"
   },
   {
    "duration": 0,
    "start_time": "2022-08-24T18:07:33.235Z"
   },
   {
    "duration": 0,
    "start_time": "2022-08-24T18:07:33.237Z"
   },
   {
    "duration": 0,
    "start_time": "2022-08-24T18:07:33.238Z"
   },
   {
    "duration": 0,
    "start_time": "2022-08-24T18:07:33.240Z"
   },
   {
    "duration": 0,
    "start_time": "2022-08-24T18:07:33.241Z"
   },
   {
    "duration": 0,
    "start_time": "2022-08-24T18:07:33.243Z"
   },
   {
    "duration": 0,
    "start_time": "2022-08-24T18:07:33.244Z"
   },
   {
    "duration": 0,
    "start_time": "2022-08-24T18:07:33.245Z"
   },
   {
    "duration": 0,
    "start_time": "2022-08-24T18:07:33.247Z"
   },
   {
    "duration": 0,
    "start_time": "2022-08-24T18:07:33.250Z"
   },
   {
    "duration": 5,
    "start_time": "2022-08-24T18:07:39.191Z"
   },
   {
    "duration": 59,
    "start_time": "2022-08-24T18:25:41.373Z"
   },
   {
    "duration": 682,
    "start_time": "2022-08-24T18:26:03.410Z"
   },
   {
    "duration": 3338,
    "start_time": "2022-08-24T18:26:04.095Z"
   },
   {
    "duration": 142,
    "start_time": "2022-08-24T18:26:07.434Z"
   },
   {
    "duration": 23,
    "start_time": "2022-08-24T18:26:07.578Z"
   },
   {
    "duration": 322,
    "start_time": "2022-08-24T18:26:07.603Z"
   },
   {
    "duration": 4,
    "start_time": "2022-08-24T18:26:07.927Z"
   },
   {
    "duration": 3895,
    "start_time": "2022-08-24T18:26:07.933Z"
   },
   {
    "duration": 22,
    "start_time": "2022-08-24T18:26:11.830Z"
   },
   {
    "duration": 83,
    "start_time": "2022-08-24T18:26:11.854Z"
   },
   {
    "duration": 0,
    "start_time": "2022-08-24T18:26:11.939Z"
   },
   {
    "duration": 0,
    "start_time": "2022-08-24T18:26:11.940Z"
   },
   {
    "duration": 0,
    "start_time": "2022-08-24T18:26:11.941Z"
   },
   {
    "duration": 0,
    "start_time": "2022-08-24T18:26:11.943Z"
   },
   {
    "duration": 0,
    "start_time": "2022-08-24T18:26:11.944Z"
   },
   {
    "duration": 0,
    "start_time": "2022-08-24T18:26:11.945Z"
   },
   {
    "duration": 0,
    "start_time": "2022-08-24T18:26:11.946Z"
   },
   {
    "duration": 0,
    "start_time": "2022-08-24T18:26:11.947Z"
   },
   {
    "duration": 0,
    "start_time": "2022-08-24T18:26:11.949Z"
   },
   {
    "duration": 0,
    "start_time": "2022-08-24T18:26:11.949Z"
   },
   {
    "duration": 0,
    "start_time": "2022-08-24T18:26:11.950Z"
   },
   {
    "duration": 0,
    "start_time": "2022-08-24T18:26:11.952Z"
   },
   {
    "duration": 0,
    "start_time": "2022-08-24T18:26:11.953Z"
   },
   {
    "duration": 1,
    "start_time": "2022-08-24T18:26:11.953Z"
   },
   {
    "duration": 2141,
    "start_time": "2022-08-24T18:26:18.078Z"
   },
   {
    "duration": 752,
    "start_time": "2022-08-27T09:08:03.517Z"
   },
   {
    "duration": 3109,
    "start_time": "2022-08-27T09:08:04.271Z"
   },
   {
    "duration": 103,
    "start_time": "2022-08-27T09:08:07.382Z"
   },
   {
    "duration": 22,
    "start_time": "2022-08-27T09:08:07.487Z"
   },
   {
    "duration": 229,
    "start_time": "2022-08-27T09:08:07.512Z"
   },
   {
    "duration": 4,
    "start_time": "2022-08-27T09:08:07.742Z"
   },
   {
    "duration": 3013,
    "start_time": "2022-08-27T09:08:07.747Z"
   },
   {
    "duration": 23,
    "start_time": "2022-08-27T09:08:10.761Z"
   },
   {
    "duration": 80,
    "start_time": "2022-08-27T09:08:10.785Z"
   },
   {
    "duration": 0,
    "start_time": "2022-08-27T09:08:10.866Z"
   },
   {
    "duration": 0,
    "start_time": "2022-08-27T09:08:10.868Z"
   },
   {
    "duration": 0,
    "start_time": "2022-08-27T09:08:10.868Z"
   },
   {
    "duration": 0,
    "start_time": "2022-08-27T09:08:10.869Z"
   },
   {
    "duration": 0,
    "start_time": "2022-08-27T09:08:10.871Z"
   },
   {
    "duration": 0,
    "start_time": "2022-08-27T09:08:10.872Z"
   },
   {
    "duration": 0,
    "start_time": "2022-08-27T09:08:10.873Z"
   },
   {
    "duration": 0,
    "start_time": "2022-08-27T09:08:10.873Z"
   },
   {
    "duration": 0,
    "start_time": "2022-08-27T09:08:10.874Z"
   },
   {
    "duration": 0,
    "start_time": "2022-08-27T09:08:10.875Z"
   },
   {
    "duration": 1,
    "start_time": "2022-08-27T09:08:10.876Z"
   },
   {
    "duration": 0,
    "start_time": "2022-08-27T09:08:10.877Z"
   },
   {
    "duration": 0,
    "start_time": "2022-08-27T09:08:10.878Z"
   },
   {
    "duration": 0,
    "start_time": "2022-08-27T09:08:10.879Z"
   },
   {
    "duration": 148,
    "start_time": "2022-08-27T09:08:57.563Z"
   },
   {
    "duration": 185,
    "start_time": "2022-08-27T09:09:05.306Z"
   },
   {
    "duration": 165,
    "start_time": "2022-08-27T09:09:20.117Z"
   },
   {
    "duration": 279,
    "start_time": "2022-08-27T09:09:38.633Z"
   },
   {
    "duration": 235,
    "start_time": "2022-08-27T09:09:44.538Z"
   },
   {
    "duration": 245,
    "start_time": "2022-08-27T09:10:11.658Z"
   },
   {
    "duration": 140,
    "start_time": "2022-08-27T09:10:21.933Z"
   },
   {
    "duration": 149,
    "start_time": "2022-08-27T09:10:36.474Z"
   },
   {
    "duration": 330,
    "start_time": "2022-08-27T09:10:40.138Z"
   },
   {
    "duration": 122,
    "start_time": "2022-08-27T09:10:45.745Z"
   },
   {
    "duration": 190,
    "start_time": "2022-08-27T09:11:14.925Z"
   },
   {
    "duration": 132,
    "start_time": "2022-08-27T09:11:26.134Z"
   },
   {
    "duration": 10,
    "start_time": "2022-08-27T09:11:58.724Z"
   },
   {
    "duration": 329,
    "start_time": "2022-08-27T09:12:11.221Z"
   },
   {
    "duration": 152,
    "start_time": "2022-08-27T09:12:47.904Z"
   },
   {
    "duration": 184,
    "start_time": "2022-08-27T09:12:58.845Z"
   },
   {
    "duration": 150,
    "start_time": "2022-08-27T09:13:03.044Z"
   },
   {
    "duration": 134,
    "start_time": "2022-08-27T09:13:06.196Z"
   },
   {
    "duration": 131,
    "start_time": "2022-08-27T09:13:19.034Z"
   },
   {
    "duration": 120,
    "start_time": "2022-08-27T09:13:25.417Z"
   },
   {
    "duration": 100,
    "start_time": "2022-08-27T09:13:38.273Z"
   },
   {
    "duration": 124,
    "start_time": "2022-08-27T09:13:46.244Z"
   },
   {
    "duration": 135,
    "start_time": "2022-08-27T09:14:12.396Z"
   },
   {
    "duration": 1178,
    "start_time": "2022-08-27T09:14:24.564Z"
   },
   {
    "duration": 496,
    "start_time": "2022-08-27T09:14:49.354Z"
   },
   {
    "duration": 384,
    "start_time": "2022-08-27T09:15:10.166Z"
   },
   {
    "duration": 168,
    "start_time": "2022-08-27T09:15:18.253Z"
   },
   {
    "duration": 382,
    "start_time": "2022-08-27T09:15:32.797Z"
   },
   {
    "duration": 1443,
    "start_time": "2022-08-27T09:17:51.450Z"
   },
   {
    "duration": 196,
    "start_time": "2022-08-27T09:18:02.265Z"
   },
   {
    "duration": 1207,
    "start_time": "2022-08-27T09:18:24.051Z"
   },
   {
    "duration": 8,
    "start_time": "2022-08-27T09:21:17.775Z"
   },
   {
    "duration": 8,
    "start_time": "2022-08-27T09:21:38.304Z"
   },
   {
    "duration": 8,
    "start_time": "2022-08-27T09:21:44.887Z"
   },
   {
    "duration": 846,
    "start_time": "2022-08-27T09:22:39.013Z"
   },
   {
    "duration": 823,
    "start_time": "2022-08-27T09:23:05.087Z"
   },
   {
    "duration": 679,
    "start_time": "2022-08-27T09:23:44.577Z"
   },
   {
    "duration": 206,
    "start_time": "2022-08-27T09:24:37.258Z"
   },
   {
    "duration": 4970,
    "start_time": "2022-08-27T09:24:48.637Z"
   },
   {
    "duration": 4309,
    "start_time": "2022-08-27T09:25:00.305Z"
   },
   {
    "duration": 675,
    "start_time": "2022-08-27T09:25:41.326Z"
   },
   {
    "duration": 3,
    "start_time": "2022-08-27T09:26:54.046Z"
   },
   {
    "duration": 1195,
    "start_time": "2022-08-27T09:26:56.486Z"
   },
   {
    "duration": 11,
    "start_time": "2022-08-27T09:27:29.628Z"
   },
   {
    "duration": 135,
    "start_time": "2022-08-27T09:27:42.787Z"
   },
   {
    "duration": 3,
    "start_time": "2022-08-27T09:27:50.364Z"
   },
   {
    "duration": 1110,
    "start_time": "2022-08-27T09:27:53.294Z"
   },
   {
    "duration": 1140,
    "start_time": "2022-08-27T09:29:35.296Z"
   },
   {
    "duration": 923,
    "start_time": "2022-08-27T09:31:46.054Z"
   },
   {
    "duration": 22,
    "start_time": "2022-08-27T09:32:35.575Z"
   },
   {
    "duration": 731,
    "start_time": "2022-08-27T09:32:36.935Z"
   },
   {
    "duration": 32,
    "start_time": "2022-08-27T09:33:07.895Z"
   },
   {
    "duration": 715,
    "start_time": "2022-08-27T09:33:10.061Z"
   },
   {
    "duration": 9,
    "start_time": "2022-08-27T09:33:21.896Z"
   },
   {
    "duration": 27,
    "start_time": "2022-08-27T09:33:50.749Z"
   },
   {
    "duration": 75,
    "start_time": "2022-08-27T09:34:36.676Z"
   },
   {
    "duration": 23,
    "start_time": "2022-08-27T09:34:40.075Z"
   },
   {
    "duration": 88,
    "start_time": "2022-08-27T09:34:58.755Z"
   },
   {
    "duration": 505,
    "start_time": "2022-08-27T09:35:05.595Z"
   },
   {
    "duration": 24,
    "start_time": "2022-08-27T09:35:10.269Z"
   },
   {
    "duration": 23,
    "start_time": "2022-08-27T09:35:16.926Z"
   },
   {
    "duration": 23,
    "start_time": "2022-08-27T09:35:50.255Z"
   },
   {
    "duration": 22,
    "start_time": "2022-08-27T09:35:58.072Z"
   },
   {
    "duration": 28,
    "start_time": "2022-08-27T09:36:46.466Z"
   },
   {
    "duration": 8,
    "start_time": "2022-08-27T09:36:55.188Z"
   },
   {
    "duration": 791,
    "start_time": "2022-08-27T09:37:04.876Z"
   },
   {
    "duration": 653,
    "start_time": "2022-08-27T09:37:18.456Z"
   },
   {
    "duration": 30,
    "start_time": "2022-08-27T09:37:54.669Z"
   },
   {
    "duration": 654,
    "start_time": "2022-08-27T09:37:57.557Z"
   },
   {
    "duration": 853,
    "start_time": "2022-08-27T09:38:05.828Z"
   },
   {
    "duration": 798,
    "start_time": "2022-08-27T09:38:16.025Z"
   },
   {
    "duration": 73,
    "start_time": "2022-08-27T09:39:56.358Z"
   },
   {
    "duration": 1482,
    "start_time": "2022-08-27T09:40:05.647Z"
   },
   {
    "duration": 492,
    "start_time": "2022-08-27T09:40:12.904Z"
   },
   {
    "duration": 8,
    "start_time": "2022-08-27T09:40:32.266Z"
   },
   {
    "duration": 98,
    "start_time": "2022-08-27T09:40:43.796Z"
   },
   {
    "duration": 254,
    "start_time": "2022-08-27T09:41:08.459Z"
   },
   {
    "duration": 1182,
    "start_time": "2022-08-27T09:41:26.542Z"
   },
   {
    "duration": 509,
    "start_time": "2022-08-27T09:43:50.156Z"
   },
   {
    "duration": 1228,
    "start_time": "2022-08-27T09:44:00.806Z"
   },
   {
    "duration": 272,
    "start_time": "2022-08-27T09:44:51.046Z"
   },
   {
    "duration": 152,
    "start_time": "2022-08-27T09:47:31.246Z"
   },
   {
    "duration": 111,
    "start_time": "2022-08-27T09:48:16.779Z"
   },
   {
    "duration": 38,
    "start_time": "2022-08-27T09:48:39.367Z"
   },
   {
    "duration": 9,
    "start_time": "2022-08-27T09:48:53.767Z"
   },
   {
    "duration": 10,
    "start_time": "2022-08-27T09:49:00.785Z"
   },
   {
    "duration": 9,
    "start_time": "2022-08-27T09:49:34.937Z"
   },
   {
    "duration": 8,
    "start_time": "2022-08-27T09:50:05.796Z"
   },
   {
    "duration": 75,
    "start_time": "2022-08-27T09:50:21.624Z"
   },
   {
    "duration": 94,
    "start_time": "2022-08-27T09:50:27.165Z"
   },
   {
    "duration": 1322,
    "start_time": "2022-08-27T09:50:31.354Z"
   },
   {
    "duration": 9,
    "start_time": "2022-08-27T09:51:17.715Z"
   },
   {
    "duration": 9,
    "start_time": "2022-08-27T09:51:21.777Z"
   },
   {
    "duration": 118,
    "start_time": "2022-08-27T09:51:32.798Z"
   },
   {
    "duration": 116,
    "start_time": "2022-08-27T09:51:58.398Z"
   },
   {
    "duration": 223,
    "start_time": "2022-08-27T09:52:16.348Z"
   },
   {
    "duration": 109,
    "start_time": "2022-08-27T10:51:14.151Z"
   },
   {
    "duration": 105,
    "start_time": "2022-08-27T10:51:17.963Z"
   },
   {
    "duration": 136,
    "start_time": "2022-08-27T10:51:25.493Z"
   },
   {
    "duration": 4752,
    "start_time": "2022-08-27T10:51:38.933Z"
   },
   {
    "duration": 4461,
    "start_time": "2022-08-27T10:51:57.393Z"
   },
   {
    "duration": 27,
    "start_time": "2022-08-27T10:53:20.221Z"
   },
   {
    "duration": 2617,
    "start_time": "2022-08-27T10:54:28.171Z"
   },
   {
    "duration": 28,
    "start_time": "2022-08-27T10:54:52.157Z"
   },
   {
    "duration": 2374,
    "start_time": "2022-08-27T10:54:54.921Z"
   },
   {
    "duration": 2256,
    "start_time": "2022-08-27T10:55:19.534Z"
   },
   {
    "duration": 29,
    "start_time": "2022-08-27T10:55:35.320Z"
   },
   {
    "duration": 4,
    "start_time": "2022-08-27T10:57:30.525Z"
   },
   {
    "duration": 5,
    "start_time": "2022-08-27T10:58:07.276Z"
   },
   {
    "duration": 4,
    "start_time": "2022-08-27T10:58:19.013Z"
   },
   {
    "duration": 5,
    "start_time": "2022-08-27T10:58:30.372Z"
   },
   {
    "duration": 40,
    "start_time": "2022-08-27T10:58:45.172Z"
   },
   {
    "duration": 29,
    "start_time": "2022-08-27T10:59:53.342Z"
   },
   {
    "duration": 27,
    "start_time": "2022-08-27T11:00:50.290Z"
   },
   {
    "duration": 35,
    "start_time": "2022-08-27T11:00:54.051Z"
   },
   {
    "duration": 21,
    "start_time": "2022-08-27T11:01:52.532Z"
   },
   {
    "duration": 23,
    "start_time": "2022-08-27T11:02:17.132Z"
   },
   {
    "duration": 28,
    "start_time": "2022-08-27T11:02:19.792Z"
   },
   {
    "duration": 29,
    "start_time": "2022-08-27T11:02:34.050Z"
   },
   {
    "duration": 14,
    "start_time": "2022-08-27T11:03:13.592Z"
   },
   {
    "duration": 5,
    "start_time": "2022-08-27T11:03:17.402Z"
   },
   {
    "duration": 13,
    "start_time": "2022-08-27T11:03:19.559Z"
   },
   {
    "duration": 1114,
    "start_time": "2022-08-27T11:03:48.082Z"
   },
   {
    "duration": 860,
    "start_time": "2022-08-27T11:03:49.198Z"
   },
   {
    "duration": 138,
    "start_time": "2022-08-27T11:03:50.060Z"
   },
   {
    "duration": 19,
    "start_time": "2022-08-27T11:03:50.206Z"
   },
   {
    "duration": 256,
    "start_time": "2022-08-27T11:03:50.229Z"
   },
   {
    "duration": 20,
    "start_time": "2022-08-27T11:03:50.487Z"
   },
   {
    "duration": 3245,
    "start_time": "2022-08-27T11:03:50.510Z"
   },
   {
    "duration": 23,
    "start_time": "2022-08-27T11:03:53.757Z"
   },
   {
    "duration": 4515,
    "start_time": "2022-08-27T11:03:53.781Z"
   },
   {
    "duration": 29,
    "start_time": "2022-08-27T11:03:58.297Z"
   },
   {
    "duration": 7,
    "start_time": "2022-08-27T11:03:58.327Z"
   },
   {
    "duration": 29,
    "start_time": "2022-08-27T11:03:58.335Z"
   },
   {
    "duration": 819,
    "start_time": "2022-08-27T11:03:58.366Z"
   },
   {
    "duration": 2261,
    "start_time": "2022-08-27T11:03:59.187Z"
   },
   {
    "duration": 17,
    "start_time": "2022-08-27T11:04:01.450Z"
   },
   {
    "duration": 8,
    "start_time": "2022-08-27T11:04:01.468Z"
   },
   {
    "duration": 56,
    "start_time": "2022-08-27T11:04:01.478Z"
   },
   {
    "duration": 31,
    "start_time": "2022-08-27T11:04:01.536Z"
   },
   {
    "duration": 73,
    "start_time": "2022-08-27T11:04:01.569Z"
   },
   {
    "duration": 0,
    "start_time": "2022-08-27T11:04:01.644Z"
   },
   {
    "duration": 0,
    "start_time": "2022-08-27T11:04:01.645Z"
   },
   {
    "duration": 0,
    "start_time": "2022-08-27T11:04:01.646Z"
   },
   {
    "duration": 0,
    "start_time": "2022-08-27T11:04:01.647Z"
   },
   {
    "duration": 0,
    "start_time": "2022-08-27T11:04:01.648Z"
   },
   {
    "duration": 0,
    "start_time": "2022-08-27T11:04:01.649Z"
   },
   {
    "duration": 0,
    "start_time": "2022-08-27T11:04:01.650Z"
   },
   {
    "duration": 0,
    "start_time": "2022-08-27T11:04:01.652Z"
   },
   {
    "duration": 0,
    "start_time": "2022-08-27T11:04:01.653Z"
   },
   {
    "duration": 0,
    "start_time": "2022-08-27T11:04:01.655Z"
   },
   {
    "duration": 0,
    "start_time": "2022-08-27T11:04:01.656Z"
   },
   {
    "duration": 0,
    "start_time": "2022-08-27T11:04:01.658Z"
   },
   {
    "duration": 16,
    "start_time": "2022-08-27T11:04:11.918Z"
   },
   {
    "duration": 14,
    "start_time": "2022-08-27T11:04:15.178Z"
   },
   {
    "duration": 107,
    "start_time": "2022-08-27T11:04:19.313Z"
   },
   {
    "duration": 37,
    "start_time": "2022-08-27T11:04:50.674Z"
   },
   {
    "duration": 16,
    "start_time": "2022-08-27T11:05:05.030Z"
   },
   {
    "duration": 146,
    "start_time": "2022-08-27T11:05:30.460Z"
   },
   {
    "duration": 1008,
    "start_time": "2022-08-27T11:05:51.953Z"
   },
   {
    "duration": 712,
    "start_time": "2022-08-27T11:05:52.963Z"
   },
   {
    "duration": 100,
    "start_time": "2022-08-27T11:05:53.676Z"
   },
   {
    "duration": 16,
    "start_time": "2022-08-27T11:05:53.777Z"
   },
   {
    "duration": 222,
    "start_time": "2022-08-27T11:05:53.795Z"
   },
   {
    "duration": 4,
    "start_time": "2022-08-27T11:05:54.018Z"
   },
   {
    "duration": 2945,
    "start_time": "2022-08-27T11:05:54.024Z"
   },
   {
    "duration": 20,
    "start_time": "2022-08-27T11:05:56.971Z"
   },
   {
    "duration": 4168,
    "start_time": "2022-08-27T11:05:56.993Z"
   },
   {
    "duration": 23,
    "start_time": "2022-08-27T11:06:01.162Z"
   },
   {
    "duration": 22,
    "start_time": "2022-08-27T11:06:01.186Z"
   },
   {
    "duration": 31,
    "start_time": "2022-08-27T11:06:01.210Z"
   },
   {
    "duration": 667,
    "start_time": "2022-08-27T11:06:01.242Z"
   },
   {
    "duration": 2162,
    "start_time": "2022-08-27T11:06:01.912Z"
   },
   {
    "duration": 17,
    "start_time": "2022-08-27T11:06:04.076Z"
   },
   {
    "duration": 4,
    "start_time": "2022-08-27T11:06:04.105Z"
   },
   {
    "duration": 28,
    "start_time": "2022-08-27T11:06:04.110Z"
   },
   {
    "duration": 33,
    "start_time": "2022-08-27T11:06:04.140Z"
   },
   {
    "duration": 73,
    "start_time": "2022-08-27T11:06:04.175Z"
   },
   {
    "duration": 0,
    "start_time": "2022-08-27T11:06:04.250Z"
   },
   {
    "duration": 0,
    "start_time": "2022-08-27T11:06:04.252Z"
   },
   {
    "duration": 0,
    "start_time": "2022-08-27T11:06:04.253Z"
   },
   {
    "duration": 0,
    "start_time": "2022-08-27T11:06:04.255Z"
   },
   {
    "duration": 0,
    "start_time": "2022-08-27T11:06:04.256Z"
   },
   {
    "duration": 0,
    "start_time": "2022-08-27T11:06:04.258Z"
   },
   {
    "duration": 0,
    "start_time": "2022-08-27T11:06:04.259Z"
   },
   {
    "duration": 0,
    "start_time": "2022-08-27T11:06:04.260Z"
   },
   {
    "duration": 0,
    "start_time": "2022-08-27T11:06:04.261Z"
   },
   {
    "duration": 0,
    "start_time": "2022-08-27T11:06:04.263Z"
   },
   {
    "duration": 0,
    "start_time": "2022-08-27T11:06:04.264Z"
   },
   {
    "duration": 0,
    "start_time": "2022-08-27T11:06:04.265Z"
   },
   {
    "duration": 14,
    "start_time": "2022-08-27T11:06:14.523Z"
   },
   {
    "duration": 200,
    "start_time": "2022-08-27T11:06:40.661Z"
   },
   {
    "duration": 9,
    "start_time": "2022-08-27T11:06:58.651Z"
   },
   {
    "duration": 17,
    "start_time": "2022-08-27T11:07:05.180Z"
   },
   {
    "duration": 16,
    "start_time": "2022-08-27T11:07:18.003Z"
   },
   {
    "duration": 13,
    "start_time": "2022-08-27T11:07:27.083Z"
   },
   {
    "duration": 76,
    "start_time": "2022-08-27T11:07:38.643Z"
   },
   {
    "duration": 16,
    "start_time": "2022-08-27T11:07:41.314Z"
   },
   {
    "duration": 79,
    "start_time": "2022-08-27T11:07:45.944Z"
   },
   {
    "duration": 16,
    "start_time": "2022-08-27T11:07:48.601Z"
   },
   {
    "duration": 18,
    "start_time": "2022-08-27T11:07:51.214Z"
   },
   {
    "duration": 33,
    "start_time": "2022-08-27T11:07:58.372Z"
   },
   {
    "duration": 1152,
    "start_time": "2022-08-27T11:08:21.125Z"
   },
   {
    "duration": 711,
    "start_time": "2022-08-27T11:08:22.279Z"
   },
   {
    "duration": 104,
    "start_time": "2022-08-27T11:08:22.991Z"
   },
   {
    "duration": 21,
    "start_time": "2022-08-27T11:08:23.105Z"
   },
   {
    "duration": 223,
    "start_time": "2022-08-27T11:08:23.128Z"
   },
   {
    "duration": 4,
    "start_time": "2022-08-27T11:08:23.353Z"
   },
   {
    "duration": 3407,
    "start_time": "2022-08-27T11:08:23.358Z"
   },
   {
    "duration": 25,
    "start_time": "2022-08-27T11:08:26.767Z"
   },
   {
    "duration": 5225,
    "start_time": "2022-08-27T11:08:26.793Z"
   },
   {
    "duration": 27,
    "start_time": "2022-08-27T11:08:32.021Z"
   },
   {
    "duration": 9,
    "start_time": "2022-08-27T11:08:32.050Z"
   },
   {
    "duration": 61,
    "start_time": "2022-08-27T11:08:32.060Z"
   },
   {
    "duration": 852,
    "start_time": "2022-08-27T11:08:32.123Z"
   },
   {
    "duration": 2448,
    "start_time": "2022-08-27T11:08:32.977Z"
   },
   {
    "duration": 19,
    "start_time": "2022-08-27T11:08:35.426Z"
   },
   {
    "duration": 5,
    "start_time": "2022-08-27T11:08:35.447Z"
   },
   {
    "duration": 60,
    "start_time": "2022-08-27T11:08:35.453Z"
   },
   {
    "duration": 44,
    "start_time": "2022-08-27T11:08:35.515Z"
   },
   {
    "duration": 25,
    "start_time": "2022-08-27T11:08:35.561Z"
   },
   {
    "duration": 35,
    "start_time": "2022-08-27T11:08:35.588Z"
   },
   {
    "duration": 211,
    "start_time": "2022-08-27T11:08:35.625Z"
   },
   {
    "duration": 0,
    "start_time": "2022-08-27T11:08:35.838Z"
   },
   {
    "duration": 0,
    "start_time": "2022-08-27T11:08:35.840Z"
   },
   {
    "duration": 0,
    "start_time": "2022-08-27T11:08:35.841Z"
   },
   {
    "duration": 0,
    "start_time": "2022-08-27T11:08:35.843Z"
   },
   {
    "duration": 0,
    "start_time": "2022-08-27T11:08:35.844Z"
   },
   {
    "duration": 0,
    "start_time": "2022-08-27T11:08:35.845Z"
   },
   {
    "duration": 0,
    "start_time": "2022-08-27T11:08:35.847Z"
   },
   {
    "duration": 0,
    "start_time": "2022-08-27T11:08:35.848Z"
   },
   {
    "duration": 0,
    "start_time": "2022-08-27T11:08:35.849Z"
   },
   {
    "duration": 0,
    "start_time": "2022-08-27T11:08:35.850Z"
   },
   {
    "duration": 0,
    "start_time": "2022-08-27T11:08:35.851Z"
   },
   {
    "duration": 65,
    "start_time": "2022-08-27T11:09:14.116Z"
   },
   {
    "duration": 19,
    "start_time": "2022-08-27T11:09:19.426Z"
   },
   {
    "duration": 5,
    "start_time": "2022-08-27T11:09:24.142Z"
   },
   {
    "duration": 43,
    "start_time": "2022-08-27T11:09:31.205Z"
   },
   {
    "duration": 48,
    "start_time": "2022-08-27T11:09:34.333Z"
   },
   {
    "duration": 25,
    "start_time": "2022-08-27T11:09:38.023Z"
   },
   {
    "duration": 38,
    "start_time": "2022-08-27T11:09:39.993Z"
   },
   {
    "duration": 38,
    "start_time": "2022-08-27T11:10:07.222Z"
   },
   {
    "duration": 103,
    "start_time": "2022-08-27T11:10:35.315Z"
   },
   {
    "duration": 88,
    "start_time": "2022-08-27T11:10:38.232Z"
   },
   {
    "duration": 81,
    "start_time": "2022-08-27T11:10:45.892Z"
   },
   {
    "duration": 164,
    "start_time": "2022-08-27T11:10:57.357Z"
   },
   {
    "duration": 10,
    "start_time": "2022-08-27T11:11:04.376Z"
   },
   {
    "duration": 181,
    "start_time": "2022-08-27T11:11:14.512Z"
   },
   {
    "duration": 18,
    "start_time": "2022-08-27T11:11:28.584Z"
   },
   {
    "duration": 55,
    "start_time": "2022-08-27T11:11:36.086Z"
   },
   {
    "duration": 21,
    "start_time": "2022-08-27T11:11:53.402Z"
   },
   {
    "duration": 2788,
    "start_time": "2022-08-27T11:12:08.072Z"
   },
   {
    "duration": 2829,
    "start_time": "2022-08-27T11:12:14.022Z"
   },
   {
    "duration": 2537,
    "start_time": "2022-08-27T11:12:18.405Z"
   },
   {
    "duration": 129,
    "start_time": "2022-08-27T11:12:31.777Z"
   },
   {
    "duration": 22,
    "start_time": "2022-08-27T11:13:06.285Z"
   },
   {
    "duration": 84,
    "start_time": "2022-08-27T11:13:10.543Z"
   },
   {
    "duration": 2542,
    "start_time": "2022-08-27T11:13:15.264Z"
   },
   {
    "duration": 77,
    "start_time": "2022-08-27T11:13:19.506Z"
   },
   {
    "duration": 2465,
    "start_time": "2022-08-27T11:14:18.772Z"
   },
   {
    "duration": 77,
    "start_time": "2022-08-27T11:14:21.866Z"
   },
   {
    "duration": 2535,
    "start_time": "2022-08-27T11:14:42.214Z"
   },
   {
    "duration": 74,
    "start_time": "2022-08-27T11:14:45.415Z"
   },
   {
    "duration": 3,
    "start_time": "2022-08-27T11:15:36.253Z"
   },
   {
    "duration": 6,
    "start_time": "2022-08-27T11:15:41.309Z"
   },
   {
    "duration": 19,
    "start_time": "2022-08-27T11:15:56.285Z"
   },
   {
    "duration": 2483,
    "start_time": "2022-08-27T11:16:40.603Z"
   },
   {
    "duration": 73,
    "start_time": "2022-08-27T11:16:45.493Z"
   },
   {
    "duration": 2797,
    "start_time": "2022-08-27T11:17:38.896Z"
   },
   {
    "duration": 83,
    "start_time": "2022-08-27T11:17:42.898Z"
   },
   {
    "duration": 2843,
    "start_time": "2022-08-27T11:18:01.632Z"
   },
   {
    "duration": 86,
    "start_time": "2022-08-27T11:18:20.836Z"
   },
   {
    "duration": 131,
    "start_time": "2022-08-27T11:18:49.436Z"
   },
   {
    "duration": 79,
    "start_time": "2022-08-27T11:19:06.059Z"
   },
   {
    "duration": 2681,
    "start_time": "2022-08-27T11:19:15.216Z"
   },
   {
    "duration": 89,
    "start_time": "2022-08-27T11:19:20.415Z"
   },
   {
    "duration": 2816,
    "start_time": "2022-08-27T11:19:30.996Z"
   },
   {
    "duration": 95,
    "start_time": "2022-08-27T11:19:36.017Z"
   },
   {
    "duration": 1384,
    "start_time": "2022-08-27T11:22:52.309Z"
   },
   {
    "duration": 832,
    "start_time": "2022-08-27T11:22:53.696Z"
   },
   {
    "duration": 133,
    "start_time": "2022-08-27T11:22:54.529Z"
   },
   {
    "duration": 40,
    "start_time": "2022-08-27T11:22:54.665Z"
   },
   {
    "duration": 314,
    "start_time": "2022-08-27T11:22:54.708Z"
   },
   {
    "duration": 5,
    "start_time": "2022-08-27T11:22:55.023Z"
   },
   {
    "duration": 3267,
    "start_time": "2022-08-27T11:22:55.030Z"
   },
   {
    "duration": 27,
    "start_time": "2022-08-27T11:22:58.298Z"
   },
   {
    "duration": 4541,
    "start_time": "2022-08-27T11:22:58.327Z"
   },
   {
    "duration": 37,
    "start_time": "2022-08-27T11:23:02.870Z"
   },
   {
    "duration": 11,
    "start_time": "2022-08-27T11:23:02.909Z"
   },
   {
    "duration": 86,
    "start_time": "2022-08-27T11:23:02.922Z"
   },
   {
    "duration": 871,
    "start_time": "2022-08-27T11:23:03.009Z"
   },
   {
    "duration": 2252,
    "start_time": "2022-08-27T11:23:03.882Z"
   },
   {
    "duration": 23,
    "start_time": "2022-08-27T11:23:06.136Z"
   },
   {
    "duration": 20,
    "start_time": "2022-08-27T11:23:06.162Z"
   },
   {
    "duration": 53,
    "start_time": "2022-08-27T11:23:06.184Z"
   },
   {
    "duration": 39,
    "start_time": "2022-08-27T11:23:06.239Z"
   },
   {
    "duration": 19,
    "start_time": "2022-08-27T11:23:06.280Z"
   },
   {
    "duration": 26,
    "start_time": "2022-08-27T11:23:06.306Z"
   },
   {
    "duration": 46,
    "start_time": "2022-08-27T11:23:06.333Z"
   },
   {
    "duration": 211,
    "start_time": "2022-08-27T11:23:06.381Z"
   },
   {
    "duration": 2,
    "start_time": "2022-08-27T11:23:06.593Z"
   },
   {
    "duration": 19,
    "start_time": "2022-08-27T11:23:06.606Z"
   },
   {
    "duration": 25,
    "start_time": "2022-08-27T11:23:06.627Z"
   },
   {
    "duration": 1229,
    "start_time": "2022-08-27T11:29:30.925Z"
   },
   {
    "duration": 857,
    "start_time": "2022-08-27T11:29:32.156Z"
   },
   {
    "duration": 135,
    "start_time": "2022-08-27T11:29:33.015Z"
   },
   {
    "duration": 25,
    "start_time": "2022-08-27T11:29:33.152Z"
   },
   {
    "duration": 417,
    "start_time": "2022-08-27T11:29:33.180Z"
   },
   {
    "duration": 7,
    "start_time": "2022-08-27T11:29:33.605Z"
   },
   {
    "duration": 3929,
    "start_time": "2022-08-27T11:29:33.614Z"
   },
   {
    "duration": 27,
    "start_time": "2022-08-27T11:29:37.548Z"
   },
   {
    "duration": 5392,
    "start_time": "2022-08-27T11:29:37.577Z"
   },
   {
    "duration": 39,
    "start_time": "2022-08-27T11:29:42.971Z"
   },
   {
    "duration": 29,
    "start_time": "2022-08-27T11:29:43.012Z"
   },
   {
    "duration": 67,
    "start_time": "2022-08-27T11:29:43.043Z"
   },
   {
    "duration": 902,
    "start_time": "2022-08-27T11:29:43.112Z"
   },
   {
    "duration": 2796,
    "start_time": "2022-08-27T11:29:44.018Z"
   },
   {
    "duration": 27,
    "start_time": "2022-08-27T11:29:46.816Z"
   },
   {
    "duration": 6,
    "start_time": "2022-08-27T11:29:46.846Z"
   },
   {
    "duration": 64,
    "start_time": "2022-08-27T11:29:46.854Z"
   },
   {
    "duration": 35,
    "start_time": "2022-08-27T11:29:46.920Z"
   },
   {
    "duration": 23,
    "start_time": "2022-08-27T11:29:46.957Z"
   },
   {
    "duration": 37,
    "start_time": "2022-08-27T11:29:46.982Z"
   },
   {
    "duration": 28,
    "start_time": "2022-08-27T11:29:47.021Z"
   },
   {
    "duration": 216,
    "start_time": "2022-08-27T11:29:47.051Z"
   },
   {
    "duration": 3,
    "start_time": "2022-08-27T11:29:47.268Z"
   },
   {
    "duration": 34,
    "start_time": "2022-08-27T11:29:47.272Z"
   },
   {
    "duration": 37,
    "start_time": "2022-08-27T11:29:47.312Z"
   },
   {
    "duration": 83,
    "start_time": "2022-08-27T11:29:47.351Z"
   },
   {
    "duration": 0,
    "start_time": "2022-08-27T11:29:47.436Z"
   },
   {
    "duration": 0,
    "start_time": "2022-08-27T11:29:47.437Z"
   },
   {
    "duration": 0,
    "start_time": "2022-08-27T11:29:47.438Z"
   },
   {
    "duration": 0,
    "start_time": "2022-08-27T11:29:47.439Z"
   },
   {
    "duration": 0,
    "start_time": "2022-08-27T11:29:47.441Z"
   },
   {
    "duration": 0,
    "start_time": "2022-08-27T11:29:47.442Z"
   },
   {
    "duration": 0,
    "start_time": "2022-08-27T11:29:47.444Z"
   },
   {
    "duration": 0,
    "start_time": "2022-08-27T11:29:47.445Z"
   },
   {
    "duration": 0,
    "start_time": "2022-08-27T11:29:47.447Z"
   },
   {
    "duration": 4304,
    "start_time": "2022-08-27T11:30:02.822Z"
   },
   {
    "duration": 82478,
    "start_time": "2022-08-27T11:31:24.704Z"
   },
   {
    "duration": 94,
    "start_time": "2022-08-27T11:32:50.162Z"
   },
   {
    "duration": 1091,
    "start_time": "2022-08-27T11:39:23.582Z"
   },
   {
    "duration": 758,
    "start_time": "2022-08-27T11:39:24.675Z"
   },
   {
    "duration": 102,
    "start_time": "2022-08-27T11:39:25.435Z"
   },
   {
    "duration": 15,
    "start_time": "2022-08-27T11:39:25.540Z"
   },
   {
    "duration": 252,
    "start_time": "2022-08-27T11:39:25.557Z"
   },
   {
    "duration": 4,
    "start_time": "2022-08-27T11:39:25.811Z"
   },
   {
    "duration": 3182,
    "start_time": "2022-08-27T11:39:25.817Z"
   },
   {
    "duration": 24,
    "start_time": "2022-08-27T11:39:29.001Z"
   },
   {
    "duration": 4814,
    "start_time": "2022-08-27T11:39:29.027Z"
   },
   {
    "duration": 23,
    "start_time": "2022-08-27T11:39:33.844Z"
   },
   {
    "duration": 11,
    "start_time": "2022-08-27T11:39:33.869Z"
   },
   {
    "duration": 86,
    "start_time": "2022-08-27T11:39:33.882Z"
   },
   {
    "duration": 797,
    "start_time": "2022-08-27T11:39:33.970Z"
   },
   {
    "duration": 2593,
    "start_time": "2022-08-27T11:39:34.769Z"
   },
   {
    "duration": 17,
    "start_time": "2022-08-27T11:39:37.364Z"
   },
   {
    "duration": 4,
    "start_time": "2022-08-27T11:39:37.383Z"
   },
   {
    "duration": 25,
    "start_time": "2022-08-27T11:39:37.407Z"
   },
   {
    "duration": 34,
    "start_time": "2022-08-27T11:39:37.434Z"
   },
   {
    "duration": 14,
    "start_time": "2022-08-27T11:39:37.470Z"
   },
   {
    "duration": 33,
    "start_time": "2022-08-27T11:39:37.486Z"
   },
   {
    "duration": 24,
    "start_time": "2022-08-27T11:39:37.520Z"
   },
   {
    "duration": 228,
    "start_time": "2022-08-27T11:39:37.546Z"
   },
   {
    "duration": 2,
    "start_time": "2022-08-27T11:39:37.776Z"
   },
   {
    "duration": 33,
    "start_time": "2022-08-27T11:39:37.779Z"
   },
   {
    "duration": 33,
    "start_time": "2022-08-27T11:39:37.814Z"
   },
   {
    "duration": 4035,
    "start_time": "2022-08-27T11:39:37.849Z"
   },
   {
    "duration": 84,
    "start_time": "2022-08-27T11:39:41.885Z"
   },
   {
    "duration": 0,
    "start_time": "2022-08-27T11:39:41.971Z"
   },
   {
    "duration": 1,
    "start_time": "2022-08-27T11:39:41.972Z"
   },
   {
    "duration": 0,
    "start_time": "2022-08-27T11:39:41.975Z"
   },
   {
    "duration": 0,
    "start_time": "2022-08-27T11:39:41.976Z"
   },
   {
    "duration": 0,
    "start_time": "2022-08-27T11:39:41.977Z"
   },
   {
    "duration": 0,
    "start_time": "2022-08-27T11:39:41.978Z"
   },
   {
    "duration": 0,
    "start_time": "2022-08-27T11:39:41.979Z"
   },
   {
    "duration": 0,
    "start_time": "2022-08-27T11:39:41.980Z"
   },
   {
    "duration": 1124,
    "start_time": "2022-08-27T11:41:21.488Z"
   },
   {
    "duration": 770,
    "start_time": "2022-08-27T11:41:22.614Z"
   },
   {
    "duration": 112,
    "start_time": "2022-08-27T11:41:23.386Z"
   },
   {
    "duration": 18,
    "start_time": "2022-08-27T11:41:23.506Z"
   },
   {
    "duration": 235,
    "start_time": "2022-08-27T11:41:23.527Z"
   },
   {
    "duration": 4,
    "start_time": "2022-08-27T11:41:23.764Z"
   },
   {
    "duration": 3398,
    "start_time": "2022-08-27T11:41:23.769Z"
   },
   {
    "duration": 25,
    "start_time": "2022-08-27T11:41:27.168Z"
   },
   {
    "duration": 5053,
    "start_time": "2022-08-27T11:41:27.195Z"
   },
   {
    "duration": 23,
    "start_time": "2022-08-27T11:41:32.250Z"
   },
   {
    "duration": 9,
    "start_time": "2022-08-27T11:41:32.275Z"
   },
   {
    "duration": 82,
    "start_time": "2022-08-27T11:41:32.286Z"
   },
   {
    "duration": 781,
    "start_time": "2022-08-27T11:41:32.369Z"
   },
   {
    "duration": 2515,
    "start_time": "2022-08-27T11:41:33.153Z"
   },
   {
    "duration": 20,
    "start_time": "2022-08-27T11:41:35.671Z"
   },
   {
    "duration": 15,
    "start_time": "2022-08-27T11:41:35.692Z"
   },
   {
    "duration": 38,
    "start_time": "2022-08-27T11:41:35.709Z"
   },
   {
    "duration": 31,
    "start_time": "2022-08-27T11:41:35.749Z"
   },
   {
    "duration": 24,
    "start_time": "2022-08-27T11:41:35.782Z"
   },
   {
    "duration": 32,
    "start_time": "2022-08-27T11:41:35.808Z"
   },
   {
    "duration": 15,
    "start_time": "2022-08-27T11:41:35.842Z"
   },
   {
    "duration": 208,
    "start_time": "2022-08-27T11:41:35.858Z"
   },
   {
    "duration": 7,
    "start_time": "2022-08-27T11:41:36.068Z"
   },
   {
    "duration": 41,
    "start_time": "2022-08-27T11:41:36.076Z"
   },
   {
    "duration": 54,
    "start_time": "2022-08-27T11:41:36.118Z"
   },
   {
    "duration": 4183,
    "start_time": "2022-08-27T11:41:36.174Z"
   },
   {
    "duration": 82,
    "start_time": "2022-08-27T11:41:40.359Z"
   },
   {
    "duration": 0,
    "start_time": "2022-08-27T11:41:40.442Z"
   },
   {
    "duration": 0,
    "start_time": "2022-08-27T11:41:40.443Z"
   },
   {
    "duration": 0,
    "start_time": "2022-08-27T11:41:40.444Z"
   },
   {
    "duration": 0,
    "start_time": "2022-08-27T11:41:40.445Z"
   },
   {
    "duration": 0,
    "start_time": "2022-08-27T11:41:40.447Z"
   },
   {
    "duration": 0,
    "start_time": "2022-08-27T11:41:40.448Z"
   },
   {
    "duration": 0,
    "start_time": "2022-08-27T11:41:40.449Z"
   },
   {
    "duration": 0,
    "start_time": "2022-08-27T11:41:40.450Z"
   },
   {
    "duration": 6639,
    "start_time": "2022-08-27T11:42:29.979Z"
   },
   {
    "duration": 88,
    "start_time": "2022-08-27T11:42:42.305Z"
   },
   {
    "duration": 6118,
    "start_time": "2022-08-27T11:43:13.596Z"
   },
   {
    "duration": 86,
    "start_time": "2022-08-27T11:43:21.663Z"
   },
   {
    "duration": 76,
    "start_time": "2022-08-27T11:43:56.638Z"
   },
   {
    "duration": 1031,
    "start_time": "2022-08-27T11:52:59.855Z"
   },
   {
    "duration": 766,
    "start_time": "2022-08-27T11:53:00.889Z"
   },
   {
    "duration": 110,
    "start_time": "2022-08-27T11:53:01.657Z"
   },
   {
    "duration": 21,
    "start_time": "2022-08-27T11:53:01.768Z"
   },
   {
    "duration": 226,
    "start_time": "2022-08-27T11:53:01.805Z"
   },
   {
    "duration": 5,
    "start_time": "2022-08-27T11:53:02.032Z"
   },
   {
    "duration": 3129,
    "start_time": "2022-08-27T11:53:02.039Z"
   },
   {
    "duration": 24,
    "start_time": "2022-08-27T11:53:05.170Z"
   },
   {
    "duration": 4617,
    "start_time": "2022-08-27T11:53:05.196Z"
   },
   {
    "duration": 26,
    "start_time": "2022-08-27T11:53:09.815Z"
   },
   {
    "duration": 9,
    "start_time": "2022-08-27T11:53:09.843Z"
   },
   {
    "duration": 91,
    "start_time": "2022-08-27T11:53:09.854Z"
   },
   {
    "duration": 727,
    "start_time": "2022-08-27T11:53:09.947Z"
   },
   {
    "duration": 2285,
    "start_time": "2022-08-27T11:53:10.677Z"
   },
   {
    "duration": 17,
    "start_time": "2022-08-27T11:53:12.963Z"
   },
   {
    "duration": 4,
    "start_time": "2022-08-27T11:53:12.982Z"
   },
   {
    "duration": 70,
    "start_time": "2022-08-27T11:53:12.987Z"
   },
   {
    "duration": 50,
    "start_time": "2022-08-27T11:53:13.059Z"
   },
   {
    "duration": 49,
    "start_time": "2022-08-27T11:53:13.111Z"
   },
   {
    "duration": 76,
    "start_time": "2022-08-27T11:53:13.163Z"
   },
   {
    "duration": 0,
    "start_time": "2022-08-27T11:53:13.241Z"
   },
   {
    "duration": 0,
    "start_time": "2022-08-27T11:53:13.242Z"
   },
   {
    "duration": 0,
    "start_time": "2022-08-27T11:53:13.244Z"
   },
   {
    "duration": 0,
    "start_time": "2022-08-27T11:53:13.245Z"
   },
   {
    "duration": 0,
    "start_time": "2022-08-27T11:53:13.246Z"
   },
   {
    "duration": 0,
    "start_time": "2022-08-27T11:53:13.248Z"
   },
   {
    "duration": 0,
    "start_time": "2022-08-27T11:53:13.249Z"
   },
   {
    "duration": 0,
    "start_time": "2022-08-27T11:53:13.251Z"
   },
   {
    "duration": 0,
    "start_time": "2022-08-27T11:53:13.252Z"
   },
   {
    "duration": 0,
    "start_time": "2022-08-27T11:53:13.254Z"
   },
   {
    "duration": 0,
    "start_time": "2022-08-27T11:53:13.255Z"
   },
   {
    "duration": 0,
    "start_time": "2022-08-27T11:53:13.256Z"
   },
   {
    "duration": 0,
    "start_time": "2022-08-27T11:53:13.258Z"
   },
   {
    "duration": 0,
    "start_time": "2022-08-27T11:53:13.361Z"
   },
   {
    "duration": 0,
    "start_time": "2022-08-27T11:53:13.363Z"
   },
   {
    "duration": 0,
    "start_time": "2022-08-27T11:53:13.364Z"
   },
   {
    "duration": 14,
    "start_time": "2022-08-27T11:53:40.757Z"
   },
   {
    "duration": 1187,
    "start_time": "2022-08-27T11:54:16.277Z"
   },
   {
    "duration": 819,
    "start_time": "2022-08-27T11:54:17.466Z"
   },
   {
    "duration": 124,
    "start_time": "2022-08-27T11:54:18.287Z"
   },
   {
    "duration": 19,
    "start_time": "2022-08-27T11:54:18.413Z"
   },
   {
    "duration": 343,
    "start_time": "2022-08-27T11:54:18.434Z"
   },
   {
    "duration": 5,
    "start_time": "2022-08-27T11:54:18.780Z"
   },
   {
    "duration": 3438,
    "start_time": "2022-08-27T11:54:18.786Z"
   },
   {
    "duration": 23,
    "start_time": "2022-08-27T11:54:22.226Z"
   },
   {
    "duration": 4732,
    "start_time": "2022-08-27T11:54:22.250Z"
   },
   {
    "duration": 26,
    "start_time": "2022-08-27T11:54:26.985Z"
   },
   {
    "duration": 8,
    "start_time": "2022-08-27T11:54:27.013Z"
   },
   {
    "duration": 64,
    "start_time": "2022-08-27T11:54:27.022Z"
   },
   {
    "duration": 855,
    "start_time": "2022-08-27T11:54:27.088Z"
   },
   {
    "duration": 2630,
    "start_time": "2022-08-27T11:54:27.945Z"
   },
   {
    "duration": 32,
    "start_time": "2022-08-27T11:54:30.577Z"
   },
   {
    "duration": 5,
    "start_time": "2022-08-27T11:54:30.611Z"
   },
   {
    "duration": 43,
    "start_time": "2022-08-27T11:54:30.618Z"
   },
   {
    "duration": 48,
    "start_time": "2022-08-27T11:54:30.662Z"
   },
   {
    "duration": 79,
    "start_time": "2022-08-27T11:54:30.712Z"
   },
   {
    "duration": 72,
    "start_time": "2022-08-27T11:54:30.792Z"
   },
   {
    "duration": 0,
    "start_time": "2022-08-27T11:54:30.867Z"
   },
   {
    "duration": 0,
    "start_time": "2022-08-27T11:54:30.869Z"
   },
   {
    "duration": 0,
    "start_time": "2022-08-27T11:54:30.871Z"
   },
   {
    "duration": 0,
    "start_time": "2022-08-27T11:54:30.873Z"
   },
   {
    "duration": 0,
    "start_time": "2022-08-27T11:54:30.874Z"
   },
   {
    "duration": 0,
    "start_time": "2022-08-27T11:54:30.877Z"
   },
   {
    "duration": 0,
    "start_time": "2022-08-27T11:54:30.997Z"
   },
   {
    "duration": 0,
    "start_time": "2022-08-27T11:54:30.998Z"
   },
   {
    "duration": 0,
    "start_time": "2022-08-27T11:54:30.999Z"
   },
   {
    "duration": 0,
    "start_time": "2022-08-27T11:54:31.000Z"
   },
   {
    "duration": 0,
    "start_time": "2022-08-27T11:54:31.001Z"
   },
   {
    "duration": 0,
    "start_time": "2022-08-27T11:54:31.002Z"
   },
   {
    "duration": 0,
    "start_time": "2022-08-27T11:54:31.005Z"
   },
   {
    "duration": 0,
    "start_time": "2022-08-27T11:54:31.007Z"
   },
   {
    "duration": 0,
    "start_time": "2022-08-27T11:54:31.008Z"
   },
   {
    "duration": 0,
    "start_time": "2022-08-27T11:54:31.009Z"
   },
   {
    "duration": 1326,
    "start_time": "2022-08-27T13:05:40.738Z"
   },
   {
    "duration": 1042,
    "start_time": "2022-08-27T13:05:42.065Z"
   },
   {
    "duration": 122,
    "start_time": "2022-08-27T13:05:43.112Z"
   },
   {
    "duration": 17,
    "start_time": "2022-08-27T13:05:43.236Z"
   },
   {
    "duration": 288,
    "start_time": "2022-08-27T13:05:43.255Z"
   },
   {
    "duration": 5,
    "start_time": "2022-08-27T13:05:43.545Z"
   },
   {
    "duration": 3625,
    "start_time": "2022-08-27T13:05:43.552Z"
   },
   {
    "duration": 31,
    "start_time": "2022-08-27T13:05:47.181Z"
   },
   {
    "duration": 5111,
    "start_time": "2022-08-27T13:05:47.222Z"
   },
   {
    "duration": 24,
    "start_time": "2022-08-27T13:05:52.335Z"
   },
   {
    "duration": 10,
    "start_time": "2022-08-27T13:05:52.361Z"
   },
   {
    "duration": 96,
    "start_time": "2022-08-27T13:05:52.372Z"
   },
   {
    "duration": 763,
    "start_time": "2022-08-27T13:05:52.470Z"
   },
   {
    "duration": 2630,
    "start_time": "2022-08-27T13:05:53.235Z"
   },
   {
    "duration": 19,
    "start_time": "2022-08-27T13:05:55.866Z"
   },
   {
    "duration": 45,
    "start_time": "2022-08-27T13:05:55.887Z"
   },
   {
    "duration": 32,
    "start_time": "2022-08-27T13:05:55.934Z"
   },
   {
    "duration": 48,
    "start_time": "2022-08-27T13:05:55.968Z"
   },
   {
    "duration": 143,
    "start_time": "2022-08-27T13:05:56.021Z"
   },
   {
    "duration": 0,
    "start_time": "2022-08-27T13:05:56.168Z"
   },
   {
    "duration": 0,
    "start_time": "2022-08-27T13:05:56.170Z"
   },
   {
    "duration": 0,
    "start_time": "2022-08-27T13:05:56.172Z"
   },
   {
    "duration": 0,
    "start_time": "2022-08-27T13:05:56.173Z"
   },
   {
    "duration": 0,
    "start_time": "2022-08-27T13:05:56.175Z"
   },
   {
    "duration": 0,
    "start_time": "2022-08-27T13:05:56.177Z"
   },
   {
    "duration": 0,
    "start_time": "2022-08-27T13:05:56.178Z"
   },
   {
    "duration": 0,
    "start_time": "2022-08-27T13:05:56.331Z"
   },
   {
    "duration": 0,
    "start_time": "2022-08-27T13:05:56.332Z"
   },
   {
    "duration": 1,
    "start_time": "2022-08-27T13:05:56.336Z"
   },
   {
    "duration": 21,
    "start_time": "2022-08-27T13:06:15.568Z"
   },
   {
    "duration": 133,
    "start_time": "2022-08-27T13:06:46.163Z"
   },
   {
    "duration": 278,
    "start_time": "2022-08-27T13:07:10.819Z"
   },
   {
    "duration": 220,
    "start_time": "2022-08-27T13:07:19.929Z"
   },
   {
    "duration": 15,
    "start_time": "2022-08-27T13:11:29.557Z"
   },
   {
    "duration": 314,
    "start_time": "2022-08-27T13:17:35.940Z"
   },
   {
    "duration": 912,
    "start_time": "2022-08-27T13:18:20.738Z"
   },
   {
    "duration": 282,
    "start_time": "2022-08-27T13:18:26.196Z"
   },
   {
    "duration": 127,
    "start_time": "2022-08-27T13:18:28.142Z"
   },
   {
    "duration": 15,
    "start_time": "2022-08-27T13:18:43.350Z"
   },
   {
    "duration": 7,
    "start_time": "2022-08-27T13:18:46.103Z"
   },
   {
    "duration": 4,
    "start_time": "2022-08-27T13:18:52.549Z"
   },
   {
    "duration": 342,
    "start_time": "2022-08-27T13:21:08.691Z"
   },
   {
    "duration": 534,
    "start_time": "2022-08-27T13:22:20.401Z"
   },
   {
    "duration": 4,
    "start_time": "2022-08-27T13:22:37.180Z"
   },
   {
    "duration": 6,
    "start_time": "2022-08-27T13:23:06.093Z"
   },
   {
    "duration": 663,
    "start_time": "2022-08-27T13:23:45.626Z"
   },
   {
    "duration": 304,
    "start_time": "2022-08-27T13:23:47.132Z"
   },
   {
    "duration": 5,
    "start_time": "2022-08-27T13:23:48.155Z"
   },
   {
    "duration": 79,
    "start_time": "2022-08-27T13:38:29.982Z"
   },
   {
    "duration": 73,
    "start_time": "2022-08-27T13:38:37.630Z"
   },
   {
    "duration": 37,
    "start_time": "2022-08-27T13:38:42.770Z"
   },
   {
    "duration": 4,
    "start_time": "2022-08-27T13:39:16.460Z"
   },
   {
    "duration": 318,
    "start_time": "2022-08-27T13:39:19.182Z"
   },
   {
    "duration": 4,
    "start_time": "2022-08-27T13:39:20.831Z"
   },
   {
    "duration": 61,
    "start_time": "2022-08-27T13:41:20.412Z"
   },
   {
    "duration": 1361,
    "start_time": "2022-08-27T14:03:10.700Z"
   },
   {
    "duration": 896,
    "start_time": "2022-08-27T14:03:12.063Z"
   },
   {
    "duration": 111,
    "start_time": "2022-08-27T14:03:12.960Z"
   },
   {
    "duration": 15,
    "start_time": "2022-08-27T14:03:13.073Z"
   },
   {
    "duration": 224,
    "start_time": "2022-08-27T14:03:13.090Z"
   },
   {
    "duration": 5,
    "start_time": "2022-08-27T14:03:13.315Z"
   },
   {
    "duration": 3117,
    "start_time": "2022-08-27T14:03:13.322Z"
   },
   {
    "duration": 26,
    "start_time": "2022-08-27T14:03:16.441Z"
   },
   {
    "duration": 4291,
    "start_time": "2022-08-27T14:03:16.469Z"
   },
   {
    "duration": 24,
    "start_time": "2022-08-27T14:03:20.762Z"
   },
   {
    "duration": 19,
    "start_time": "2022-08-27T14:03:20.788Z"
   },
   {
    "duration": 69,
    "start_time": "2022-08-27T14:03:20.809Z"
   },
   {
    "duration": 772,
    "start_time": "2022-08-27T14:03:20.879Z"
   },
   {
    "duration": 2094,
    "start_time": "2022-08-27T14:03:21.654Z"
   },
   {
    "duration": 27,
    "start_time": "2022-08-27T14:03:23.750Z"
   },
   {
    "duration": 5,
    "start_time": "2022-08-27T14:03:23.779Z"
   },
   {
    "duration": 56,
    "start_time": "2022-08-27T14:03:23.786Z"
   },
   {
    "duration": 43,
    "start_time": "2022-08-27T14:03:23.844Z"
   },
   {
    "duration": 77,
    "start_time": "2022-08-27T14:03:23.888Z"
   },
   {
    "duration": 142,
    "start_time": "2022-08-27T14:03:23.967Z"
   },
   {
    "duration": 3,
    "start_time": "2022-08-27T14:03:24.110Z"
   },
   {
    "duration": 5,
    "start_time": "2022-08-27T14:03:24.114Z"
   },
   {
    "duration": 4,
    "start_time": "2022-08-27T14:03:24.120Z"
   },
   {
    "duration": 4,
    "start_time": "2022-08-27T14:03:24.126Z"
   },
   {
    "duration": 4,
    "start_time": "2022-08-27T14:03:24.131Z"
   },
   {
    "duration": 6,
    "start_time": "2022-08-27T14:03:24.136Z"
   },
   {
    "duration": 5,
    "start_time": "2022-08-27T14:03:24.143Z"
   },
   {
    "duration": 5,
    "start_time": "2022-08-27T14:03:24.149Z"
   },
   {
    "duration": 8,
    "start_time": "2022-08-27T14:03:24.155Z"
   },
   {
    "duration": 5,
    "start_time": "2022-08-27T14:03:24.165Z"
   },
   {
    "duration": 658,
    "start_time": "2022-08-27T14:03:24.171Z"
   },
   {
    "duration": 197,
    "start_time": "2022-08-27T14:03:24.830Z"
   },
   {
    "duration": 292,
    "start_time": "2022-08-27T14:03:25.028Z"
   },
   {
    "duration": 4,
    "start_time": "2022-08-27T14:03:25.321Z"
   },
   {
    "duration": 98,
    "start_time": "2022-08-27T14:03:25.327Z"
   },
   {
    "duration": 103,
    "start_time": "2022-08-27T14:03:56.922Z"
   },
   {
    "duration": 354060,
    "start_time": "2022-08-27T14:04:32.130Z"
   },
   {
    "duration": 5467,
    "start_time": "2022-08-27T14:12:10.625Z"
   },
   {
    "duration": 5752,
    "start_time": "2022-08-27T14:12:31.172Z"
   },
   {
    "duration": 4934,
    "start_time": "2022-08-27T14:14:19.712Z"
   },
   {
    "duration": 5233,
    "start_time": "2022-08-27T14:16:55.219Z"
   },
   {
    "duration": 5349,
    "start_time": "2022-08-27T14:17:06.244Z"
   },
   {
    "duration": 0,
    "start_time": "2022-08-27T14:23:13.235Z"
   },
   {
    "duration": 86,
    "start_time": "2022-08-27T14:26:47.297Z"
   },
   {
    "duration": 86,
    "start_time": "2022-08-27T14:26:52.615Z"
   },
   {
    "duration": 350519,
    "start_time": "2022-08-27T14:26:57.801Z"
   },
   {
    "duration": 336810,
    "start_time": "2022-08-27T14:44:02.920Z"
   },
   {
    "duration": 332850,
    "start_time": "2022-08-27T14:51:54.236Z"
   },
   {
    "duration": 10,
    "start_time": "2022-08-27T14:58:09.444Z"
   },
   {
    "duration": 132,
    "start_time": "2022-08-27T14:58:20.540Z"
   },
   {
    "duration": 439110,
    "start_time": "2022-08-27T14:58:26.027Z"
   },
   {
    "duration": 443520,
    "start_time": "2022-08-27T15:09:41.345Z"
   },
   {
    "duration": 83,
    "start_time": "2022-08-27T15:24:37.860Z"
   },
   {
    "duration": 827,
    "start_time": "2022-08-27T15:24:49.739Z"
   },
   {
    "duration": 4284,
    "start_time": "2022-08-27T15:25:03.831Z"
   },
   {
    "duration": 4106,
    "start_time": "2022-08-27T15:25:32.479Z"
   },
   {
    "duration": 9,
    "start_time": "2022-08-27T15:38:22.481Z"
   },
   {
    "duration": 30,
    "start_time": "2022-08-27T15:38:31.085Z"
   },
   {
    "duration": 15,
    "start_time": "2022-08-27T15:38:37.665Z"
   },
   {
    "duration": 3,
    "start_time": "2022-08-27T15:38:43.855Z"
   },
   {
    "duration": 371110,
    "start_time": "2022-08-27T15:39:02.425Z"
   },
   {
    "duration": 71591,
    "start_time": "2022-08-27T17:42:04.642Z"
   },
   {
    "duration": 13195,
    "start_time": "2022-08-27T17:43:49.620Z"
   },
   {
    "duration": 1903,
    "start_time": "2022-08-28T13:25:20.957Z"
   },
   {
    "duration": 3473,
    "start_time": "2022-08-28T13:25:23.204Z"
   },
   {
    "duration": 145,
    "start_time": "2022-08-28T13:25:27.440Z"
   },
   {
    "duration": 17,
    "start_time": "2022-08-28T13:25:30.940Z"
   },
   {
    "duration": 111,
    "start_time": "2022-08-28T13:27:59.690Z"
   },
   {
    "duration": 22,
    "start_time": "2022-08-28T13:28:33.911Z"
   },
   {
    "duration": 25,
    "start_time": "2022-08-28T13:28:43.200Z"
   },
   {
    "duration": 113,
    "start_time": "2022-08-28T13:28:47.760Z"
   },
   {
    "duration": 139,
    "start_time": "2022-08-28T13:28:51.938Z"
   },
   {
    "duration": 26,
    "start_time": "2022-08-28T13:29:10.859Z"
   },
   {
    "duration": 101,
    "start_time": "2022-08-28T13:30:16.198Z"
   },
   {
    "duration": 23,
    "start_time": "2022-08-28T13:30:26.210Z"
   },
   {
    "duration": 224,
    "start_time": "2022-08-28T13:32:41.284Z"
   },
   {
    "duration": 200,
    "start_time": "2022-08-28T13:32:48.732Z"
   },
   {
    "duration": 233,
    "start_time": "2022-08-28T13:32:52.710Z"
   },
   {
    "duration": 78,
    "start_time": "2022-08-28T13:33:12.790Z"
   },
   {
    "duration": 138,
    "start_time": "2022-08-28T13:33:22.222Z"
   },
   {
    "duration": 396,
    "start_time": "2022-08-28T13:33:28.739Z"
   },
   {
    "duration": 367,
    "start_time": "2022-08-28T13:34:15.780Z"
   },
   {
    "duration": 3305,
    "start_time": "2022-08-28T13:34:55.270Z"
   },
   {
    "duration": 3433,
    "start_time": "2022-08-28T13:36:28.216Z"
   },
   {
    "duration": 9,
    "start_time": "2022-08-28T13:37:02.481Z"
   },
   {
    "duration": 33,
    "start_time": "2022-08-28T13:53:38.828Z"
   },
   {
    "duration": 16,
    "start_time": "2022-08-28T14:01:02.514Z"
   },
   {
    "duration": 20,
    "start_time": "2022-08-28T14:01:52.724Z"
   },
   {
    "duration": 87,
    "start_time": "2022-08-28T14:03:21.273Z"
   },
   {
    "duration": 79,
    "start_time": "2022-08-28T14:03:25.232Z"
   },
   {
    "duration": 71,
    "start_time": "2022-08-28T14:03:52.532Z"
   },
   {
    "duration": 151,
    "start_time": "2022-08-28T14:05:01.761Z"
   },
   {
    "duration": 136,
    "start_time": "2022-08-28T14:05:06.280Z"
   },
   {
    "duration": 163,
    "start_time": "2022-08-28T14:05:31.325Z"
   },
   {
    "duration": 149,
    "start_time": "2022-08-28T14:06:05.243Z"
   },
   {
    "duration": 160,
    "start_time": "2022-08-28T14:06:19.417Z"
   },
   {
    "duration": 167,
    "start_time": "2022-08-28T14:06:32.417Z"
   },
   {
    "duration": 199,
    "start_time": "2022-08-28T14:06:46.641Z"
   },
   {
    "duration": 10,
    "start_time": "2022-08-28T14:09:04.369Z"
   },
   {
    "duration": 4,
    "start_time": "2022-08-28T14:09:13.293Z"
   },
   {
    "duration": 183,
    "start_time": "2022-08-28T14:09:15.922Z"
   },
   {
    "duration": 79,
    "start_time": "2022-08-28T14:09:27.720Z"
   },
   {
    "duration": 165,
    "start_time": "2022-08-28T14:09:33.971Z"
   },
   {
    "duration": 65,
    "start_time": "2022-08-28T14:09:35.514Z"
   },
   {
    "duration": 1525,
    "start_time": "2022-08-28T14:18:00.428Z"
   },
   {
    "duration": 868,
    "start_time": "2022-08-28T14:18:01.955Z"
   },
   {
    "duration": 126,
    "start_time": "2022-08-28T14:18:02.825Z"
   },
   {
    "duration": 25,
    "start_time": "2022-08-28T14:18:02.953Z"
   },
   {
    "duration": 369,
    "start_time": "2022-08-28T14:18:02.980Z"
   },
   {
    "duration": 3335,
    "start_time": "2022-08-28T14:18:03.350Z"
   },
   {
    "duration": 4941,
    "start_time": "2022-08-28T14:18:06.687Z"
   },
   {
    "duration": 895,
    "start_time": "2022-08-28T14:18:11.630Z"
   },
   {
    "duration": 8,
    "start_time": "2022-08-28T14:18:12.527Z"
   },
   {
    "duration": 473,
    "start_time": "2022-08-28T14:18:12.537Z"
   },
   {
    "duration": 33,
    "start_time": "2022-08-28T14:18:13.013Z"
   },
   {
    "duration": 32,
    "start_time": "2022-08-28T14:18:13.048Z"
   },
   {
    "duration": 24,
    "start_time": "2022-08-28T14:18:13.083Z"
   },
   {
    "duration": 103,
    "start_time": "2022-08-28T14:18:13.110Z"
   },
   {
    "duration": 185,
    "start_time": "2022-08-28T14:18:13.214Z"
   },
   {
    "duration": 38,
    "start_time": "2022-08-28T14:18:13.401Z"
   },
   {
    "duration": 74,
    "start_time": "2022-08-28T14:18:13.440Z"
   },
   {
    "duration": 0,
    "start_time": "2022-08-28T14:18:13.516Z"
   },
   {
    "duration": 0,
    "start_time": "2022-08-28T14:18:13.517Z"
   },
   {
    "duration": 0,
    "start_time": "2022-08-28T14:18:13.519Z"
   },
   {
    "duration": 0,
    "start_time": "2022-08-28T14:18:13.520Z"
   },
   {
    "duration": 0,
    "start_time": "2022-08-28T14:18:13.521Z"
   },
   {
    "duration": 0,
    "start_time": "2022-08-28T14:18:13.523Z"
   },
   {
    "duration": 0,
    "start_time": "2022-08-28T14:18:13.524Z"
   },
   {
    "duration": 0,
    "start_time": "2022-08-28T14:18:13.526Z"
   },
   {
    "duration": 0,
    "start_time": "2022-08-28T14:18:13.527Z"
   },
   {
    "duration": 2126,
    "start_time": "2022-08-28T14:18:30.443Z"
   },
   {
    "duration": 5,
    "start_time": "2022-08-28T14:19:32.321Z"
   },
   {
    "duration": 5,
    "start_time": "2022-08-28T14:19:36.881Z"
   },
   {
    "duration": 4,
    "start_time": "2022-08-28T14:19:39.411Z"
   },
   {
    "duration": 4,
    "start_time": "2022-08-28T14:19:47.293Z"
   },
   {
    "duration": 4,
    "start_time": "2022-08-28T14:20:10.082Z"
   },
   {
    "duration": 5,
    "start_time": "2022-08-28T14:20:15.081Z"
   },
   {
    "duration": 4,
    "start_time": "2022-08-28T14:20:34.113Z"
   },
   {
    "duration": 5,
    "start_time": "2022-08-28T14:20:48.991Z"
   },
   {
    "duration": 68,
    "start_time": "2022-08-28T14:21:22.923Z"
   },
   {
    "duration": 3,
    "start_time": "2022-08-28T14:21:34.151Z"
   },
   {
    "duration": 4,
    "start_time": "2022-08-28T14:21:44.831Z"
   },
   {
    "duration": 5,
    "start_time": "2022-08-28T14:24:32.390Z"
   },
   {
    "duration": 951,
    "start_time": "2022-08-28T14:24:40.619Z"
   },
   {
    "duration": 79,
    "start_time": "2022-08-28T14:24:46.471Z"
   },
   {
    "duration": 5,
    "start_time": "2022-08-28T14:24:54.262Z"
   },
   {
    "duration": 4,
    "start_time": "2022-08-28T14:25:08.826Z"
   },
   {
    "duration": 5,
    "start_time": "2022-08-28T14:25:14.282Z"
   },
   {
    "duration": 577,
    "start_time": "2022-08-28T14:26:16.071Z"
   },
   {
    "duration": 211,
    "start_time": "2022-08-28T14:28:07.352Z"
   },
   {
    "duration": 97,
    "start_time": "2022-08-28T14:28:08.421Z"
   },
   {
    "duration": 460,
    "start_time": "2022-08-28T14:28:09.331Z"
   },
   {
    "duration": 5,
    "start_time": "2022-08-28T14:28:10.920Z"
   },
   {
    "duration": 3,
    "start_time": "2022-08-28T14:33:39.982Z"
   },
   {
    "duration": 3,
    "start_time": "2022-08-28T14:37:35.041Z"
   },
   {
    "duration": 196,
    "start_time": "2022-08-28T14:41:34.993Z"
   },
   {
    "duration": 3,
    "start_time": "2022-08-28T14:42:35.351Z"
   },
   {
    "duration": 80,
    "start_time": "2022-08-28T14:42:41.912Z"
   },
   {
    "duration": 5,
    "start_time": "2022-08-28T14:42:56.764Z"
   },
   {
    "duration": 894787,
    "start_time": "2022-08-28T14:43:02.783Z"
   },
   {
    "duration": 4433,
    "start_time": "2022-08-28T15:01:18.279Z"
   },
   {
    "duration": 4378,
    "start_time": "2022-08-28T15:01:32.879Z"
   },
   {
    "duration": 5061,
    "start_time": "2022-08-28T15:01:52.679Z"
   },
   {
    "duration": 234019,
    "start_time": "2022-08-28T15:02:08.330Z"
   },
   {
    "duration": 4385,
    "start_time": "2022-08-28T15:09:40.613Z"
   },
   {
    "duration": 3,
    "start_time": "2022-08-28T15:10:40.283Z"
   },
   {
    "duration": 235670,
    "start_time": "2022-08-28T15:10:42.499Z"
   },
   {
    "duration": 235620,
    "start_time": "2022-08-28T15:17:10.803Z"
   },
   {
    "duration": 286212,
    "start_time": "2022-08-28T15:22:59.289Z"
   },
   {
    "duration": 333284,
    "start_time": "2022-08-28T15:33:06.409Z"
   },
   {
    "duration": 2817,
    "start_time": "2022-08-28T15:39:45.678Z"
   },
   {
    "duration": 5126,
    "start_time": "2022-08-28T15:39:51.757Z"
   },
   {
    "duration": 202,
    "start_time": "2022-08-28T15:40:03.467Z"
   },
   {
    "duration": 1162,
    "start_time": "2022-08-28T15:40:13.326Z"
   },
   {
    "duration": 99,
    "start_time": "2022-08-28T15:40:26.677Z"
   },
   {
    "duration": 191,
    "start_time": "2022-08-28T15:40:30.684Z"
   },
   {
    "duration": 15,
    "start_time": "2022-08-28T15:40:37.523Z"
   },
   {
    "duration": 13,
    "start_time": "2022-08-28T15:40:58.097Z"
   },
   {
    "duration": 11,
    "start_time": "2022-08-28T15:41:04.867Z"
   },
   {
    "duration": 6,
    "start_time": "2022-08-28T15:41:10.127Z"
   },
   {
    "duration": 11,
    "start_time": "2022-08-28T15:41:23.518Z"
   },
   {
    "duration": 9,
    "start_time": "2022-08-28T15:41:29.559Z"
   },
   {
    "duration": 96,
    "start_time": "2022-08-28T15:41:51.487Z"
   },
   {
    "duration": 10,
    "start_time": "2022-08-28T15:43:11.683Z"
   },
   {
    "duration": 11,
    "start_time": "2022-08-28T15:43:21.884Z"
   },
   {
    "duration": 3,
    "start_time": "2022-08-28T15:43:34.016Z"
   },
   {
    "duration": 10,
    "start_time": "2022-08-28T15:43:38.048Z"
   },
   {
    "duration": 2769,
    "start_time": "2022-08-28T15:44:16.897Z"
   },
   {
    "duration": 2508,
    "start_time": "2022-08-28T15:45:15.679Z"
   },
   {
    "duration": 2587,
    "start_time": "2022-08-28T15:46:45.726Z"
   },
   {
    "duration": 2734,
    "start_time": "2022-08-28T15:46:59.638Z"
   },
   {
    "duration": 2607,
    "start_time": "2022-08-28T15:47:30.507Z"
   },
   {
    "duration": 10,
    "start_time": "2022-08-28T15:47:39.447Z"
   },
   {
    "duration": 2568,
    "start_time": "2022-08-28T15:50:30.347Z"
   },
   {
    "duration": 1519,
    "start_time": "2022-08-28T15:59:28.368Z"
   },
   {
    "duration": 807,
    "start_time": "2022-08-28T15:59:29.890Z"
   },
   {
    "duration": 125,
    "start_time": "2022-08-28T15:59:30.698Z"
   },
   {
    "duration": 16,
    "start_time": "2022-08-28T15:59:30.825Z"
   },
   {
    "duration": 392,
    "start_time": "2022-08-28T15:59:30.844Z"
   },
   {
    "duration": 3140,
    "start_time": "2022-08-28T15:59:31.238Z"
   },
   {
    "duration": 4766,
    "start_time": "2022-08-28T15:59:34.381Z"
   },
   {
    "duration": 904,
    "start_time": "2022-08-28T15:59:39.149Z"
   },
   {
    "duration": 16,
    "start_time": "2022-08-28T15:59:40.055Z"
   },
   {
    "duration": 512,
    "start_time": "2022-08-28T15:59:40.073Z"
   },
   {
    "duration": 35,
    "start_time": "2022-08-28T15:59:40.587Z"
   },
   {
    "duration": 20,
    "start_time": "2022-08-28T15:59:40.624Z"
   },
   {
    "duration": 38,
    "start_time": "2022-08-28T15:59:40.645Z"
   },
   {
    "duration": 100,
    "start_time": "2022-08-28T15:59:40.686Z"
   },
   {
    "duration": 181,
    "start_time": "2022-08-28T15:59:40.788Z"
   },
   {
    "duration": 40,
    "start_time": "2022-08-28T15:59:40.970Z"
   },
   {
    "duration": 1969,
    "start_time": "2022-08-28T15:59:41.012Z"
   },
   {
    "duration": 5,
    "start_time": "2022-08-28T15:59:42.983Z"
   },
   {
    "duration": 635,
    "start_time": "2022-08-28T15:59:42.990Z"
   },
   {
    "duration": 173,
    "start_time": "2022-08-28T15:59:43.627Z"
   },
   {
    "duration": 465,
    "start_time": "2022-08-28T15:59:43.802Z"
   },
   {
    "duration": 4,
    "start_time": "2022-08-28T15:59:44.269Z"
   },
   {
    "duration": 6,
    "start_time": "2022-08-28T15:59:44.275Z"
   },
   {
    "duration": 168787,
    "start_time": "2022-08-28T15:59:44.283Z"
   },
   {
    "duration": 302196,
    "start_time": "2022-08-28T16:02:33.072Z"
   },
   {
    "duration": 2947,
    "start_time": "2022-08-28T16:07:35.270Z"
   },
   {
    "duration": 7166,
    "start_time": "2022-08-28T16:07:38.219Z"
   },
   {
    "duration": 10,
    "start_time": "2022-08-28T16:07:45.388Z"
   },
   {
    "duration": 2720,
    "start_time": "2022-08-28T16:07:45.399Z"
   },
   {
    "duration": 1606,
    "start_time": "2022-08-29T18:40:45.362Z"
   },
   {
    "duration": 1100,
    "start_time": "2022-08-29T18:40:46.970Z"
   },
   {
    "duration": 128,
    "start_time": "2022-08-29T18:40:48.072Z"
   },
   {
    "duration": 19,
    "start_time": "2022-08-29T18:40:48.202Z"
   },
   {
    "duration": 379,
    "start_time": "2022-08-29T18:40:48.222Z"
   },
   {
    "duration": 3183,
    "start_time": "2022-08-29T18:40:48.602Z"
   },
   {
    "duration": 4742,
    "start_time": "2022-08-29T18:40:51.787Z"
   },
   {
    "duration": 845,
    "start_time": "2022-08-29T18:40:56.531Z"
   },
   {
    "duration": 10,
    "start_time": "2022-08-29T18:40:57.378Z"
   },
   {
    "duration": 450,
    "start_time": "2022-08-29T18:40:57.408Z"
   },
   {
    "duration": 28,
    "start_time": "2022-08-29T18:40:57.860Z"
   },
   {
    "duration": 32,
    "start_time": "2022-08-29T18:40:57.890Z"
   },
   {
    "duration": 30,
    "start_time": "2022-08-29T18:40:57.924Z"
   },
   {
    "duration": 105,
    "start_time": "2022-08-29T18:40:57.956Z"
   },
   {
    "duration": 162,
    "start_time": "2022-08-29T18:40:58.063Z"
   },
   {
    "duration": 4,
    "start_time": "2022-08-29T18:40:58.227Z"
   },
   {
    "duration": 42,
    "start_time": "2022-08-29T18:40:58.233Z"
   },
   {
    "duration": 1990,
    "start_time": "2022-08-29T18:40:58.277Z"
   },
   {
    "duration": 4,
    "start_time": "2022-08-29T18:41:00.269Z"
   },
   {
    "duration": 549,
    "start_time": "2022-08-29T18:41:00.275Z"
   },
   {
    "duration": 171,
    "start_time": "2022-08-29T18:41:00.826Z"
   },
   {
    "duration": 433,
    "start_time": "2022-08-29T18:41:00.999Z"
   },
   {
    "duration": 5,
    "start_time": "2022-08-29T18:41:01.433Z"
   },
   {
    "duration": 128,
    "start_time": "2022-08-29T18:41:01.439Z"
   },
   {
    "duration": 155417,
    "start_time": "2022-08-29T18:41:01.569Z"
   },
   {
    "duration": 282461,
    "start_time": "2022-08-29T18:43:36.988Z"
   },
   {
    "duration": 2449,
    "start_time": "2022-08-29T18:48:19.508Z"
   },
   {
    "duration": 4457,
    "start_time": "2022-08-29T18:48:21.960Z"
   },
   {
    "duration": 9,
    "start_time": "2022-08-29T18:48:26.418Z"
   },
   {
    "duration": 2437,
    "start_time": "2022-08-29T18:48:26.429Z"
   },
   {
    "duration": 15,
    "start_time": "2022-08-29T18:48:28.868Z"
   },
   {
    "duration": 3,
    "start_time": "2022-08-29T18:48:51.658Z"
   },
   {
    "duration": 110,
    "start_time": "2022-08-29T18:50:09.042Z"
   },
   {
    "duration": 63,
    "start_time": "2022-08-29T18:53:58.136Z"
   },
   {
    "duration": 11,
    "start_time": "2022-08-29T18:54:16.725Z"
   },
   {
    "duration": 3,
    "start_time": "2022-08-29T18:54:19.752Z"
   },
   {
    "duration": 4,
    "start_time": "2022-08-29T18:55:17.759Z"
   },
   {
    "duration": 13643,
    "start_time": "2022-08-29T18:55:25.072Z"
   },
   {
    "duration": 10,
    "start_time": "2022-08-29T18:56:28.583Z"
   },
   {
    "duration": 10,
    "start_time": "2022-08-29T19:00:19.057Z"
   },
   {
    "duration": 5,
    "start_time": "2022-08-29T19:00:21.558Z"
   },
   {
    "duration": 4,
    "start_time": "2022-08-29T19:00:52.583Z"
   },
   {
    "duration": 9,
    "start_time": "2022-08-29T19:02:14.614Z"
   },
   {
    "duration": 3,
    "start_time": "2022-08-29T19:02:52.011Z"
   },
   {
    "duration": 20,
    "start_time": "2022-08-29T19:03:10.686Z"
   },
   {
    "duration": 18,
    "start_time": "2022-08-29T19:03:16.126Z"
   },
   {
    "duration": 36,
    "start_time": "2022-08-29T19:07:07.086Z"
   },
   {
    "duration": 5,
    "start_time": "2022-08-29T19:07:19.278Z"
   },
   {
    "duration": 682,
    "start_time": "2022-08-29T19:08:41.454Z"
   },
   {
    "duration": 1412,
    "start_time": "2022-08-29T19:10:21.821Z"
   },
   {
    "duration": 749,
    "start_time": "2022-08-29T19:10:23.235Z"
   },
   {
    "duration": 139,
    "start_time": "2022-08-29T19:10:23.986Z"
   },
   {
    "duration": 15,
    "start_time": "2022-08-29T19:10:24.128Z"
   },
   {
    "duration": 365,
    "start_time": "2022-08-29T19:10:24.144Z"
   },
   {
    "duration": 3220,
    "start_time": "2022-08-29T19:10:24.511Z"
   },
   {
    "duration": 4797,
    "start_time": "2022-08-29T19:10:27.732Z"
   },
   {
    "duration": 768,
    "start_time": "2022-08-29T19:10:32.531Z"
   },
   {
    "duration": 11,
    "start_time": "2022-08-29T19:10:33.300Z"
   },
   {
    "duration": 413,
    "start_time": "2022-08-29T19:10:33.314Z"
   },
   {
    "duration": 29,
    "start_time": "2022-08-29T19:10:33.729Z"
   },
   {
    "duration": 19,
    "start_time": "2022-08-29T19:10:33.759Z"
   },
   {
    "duration": 41,
    "start_time": "2022-08-29T19:10:33.780Z"
   },
   {
    "duration": 93,
    "start_time": "2022-08-29T19:10:33.823Z"
   },
   {
    "duration": 166,
    "start_time": "2022-08-29T19:10:33.917Z"
   },
   {
    "duration": 41,
    "start_time": "2022-08-29T19:10:34.085Z"
   },
   {
    "duration": 1865,
    "start_time": "2022-08-29T19:10:34.128Z"
   },
   {
    "duration": 15,
    "start_time": "2022-08-29T19:10:35.995Z"
   },
   {
    "duration": 8,
    "start_time": "2022-08-29T19:10:36.011Z"
   },
   {
    "duration": 725,
    "start_time": "2022-08-29T19:10:36.021Z"
   },
   {
    "duration": 12,
    "start_time": "2022-08-29T19:10:36.748Z"
   },
   {
    "duration": 67,
    "start_time": "2022-08-29T19:10:36.762Z"
   },
   {
    "duration": 4,
    "start_time": "2022-08-29T19:10:36.831Z"
   },
   {
    "duration": 5,
    "start_time": "2022-08-29T19:10:36.837Z"
   },
   {
    "duration": 14428,
    "start_time": "2022-08-29T19:10:36.844Z"
   },
   {
    "duration": 27955,
    "start_time": "2022-08-29T19:10:51.274Z"
   },
   {
    "duration": 1531,
    "start_time": "2022-08-29T19:11:19.230Z"
   },
   {
    "duration": 2051,
    "start_time": "2022-08-29T19:11:20.764Z"
   },
   {
    "duration": 99,
    "start_time": "2022-08-29T19:11:22.817Z"
   },
   {
    "duration": 101,
    "start_time": "2022-08-29T19:11:22.918Z"
   },
   {
    "duration": 1542,
    "start_time": "2022-08-29T19:11:23.021Z"
   },
   {
    "duration": 31242,
    "start_time": "2022-08-29T19:18:13.269Z"
   },
   {
    "duration": 28704,
    "start_time": "2022-08-29T19:19:45.615Z"
   },
   {
    "duration": 118,
    "start_time": "2022-08-29T19:22:15.893Z"
   },
   {
    "duration": 11,
    "start_time": "2022-08-29T19:22:21.574Z"
   },
   {
    "duration": 1568,
    "start_time": "2022-08-29T19:23:02.190Z"
   },
   {
    "duration": 781,
    "start_time": "2022-08-29T19:23:03.760Z"
   },
   {
    "duration": 141,
    "start_time": "2022-08-29T19:23:04.543Z"
   },
   {
    "duration": 24,
    "start_time": "2022-08-29T19:23:04.687Z"
   },
   {
    "duration": 403,
    "start_time": "2022-08-29T19:23:04.713Z"
   },
   {
    "duration": 3358,
    "start_time": "2022-08-29T19:23:05.118Z"
   },
   {
    "duration": 4788,
    "start_time": "2022-08-29T19:23:08.479Z"
   },
   {
    "duration": 811,
    "start_time": "2022-08-29T19:23:13.269Z"
   },
   {
    "duration": 7,
    "start_time": "2022-08-29T19:23:14.082Z"
   },
   {
    "duration": 433,
    "start_time": "2022-08-29T19:23:14.092Z"
   },
   {
    "duration": 32,
    "start_time": "2022-08-29T19:23:14.526Z"
   },
   {
    "duration": 24,
    "start_time": "2022-08-29T19:23:14.560Z"
   },
   {
    "duration": 47,
    "start_time": "2022-08-29T19:23:14.586Z"
   },
   {
    "duration": 100,
    "start_time": "2022-08-29T19:23:14.634Z"
   },
   {
    "duration": 169,
    "start_time": "2022-08-29T19:23:14.736Z"
   },
   {
    "duration": 36,
    "start_time": "2022-08-29T19:23:14.906Z"
   },
   {
    "duration": 1915,
    "start_time": "2022-08-29T19:23:14.944Z"
   },
   {
    "duration": 5,
    "start_time": "2022-08-29T19:23:16.861Z"
   },
   {
    "duration": 7,
    "start_time": "2022-08-29T19:23:16.868Z"
   },
   {
    "duration": 794,
    "start_time": "2022-08-29T19:23:16.877Z"
   },
   {
    "duration": 13,
    "start_time": "2022-08-29T19:23:17.673Z"
   },
   {
    "duration": 76,
    "start_time": "2022-08-29T19:23:17.688Z"
   },
   {
    "duration": 4,
    "start_time": "2022-08-29T19:23:17.766Z"
   },
   {
    "duration": 6,
    "start_time": "2022-08-29T19:23:17.771Z"
   },
   {
    "duration": 14435,
    "start_time": "2022-08-29T19:23:17.779Z"
   },
   {
    "duration": 30301,
    "start_time": "2022-08-29T19:23:32.216Z"
   },
   {
    "duration": 1835,
    "start_time": "2022-08-29T19:24:02.519Z"
   },
   {
    "duration": 2354,
    "start_time": "2022-08-29T19:24:04.357Z"
   },
   {
    "duration": 100,
    "start_time": "2022-08-29T19:24:06.713Z"
   },
   {
    "duration": 96,
    "start_time": "2022-08-29T19:24:06.815Z"
   },
   {
    "duration": 36811,
    "start_time": "2022-08-29T19:24:06.913Z"
   }
  ],
  "kernelspec": {
   "display_name": "Python 3 (ipykernel)",
   "language": "python",
   "name": "python3"
  },
  "language_info": {
   "codemirror_mode": {
    "name": "ipython",
    "version": 3
   },
   "file_extension": ".py",
   "mimetype": "text/x-python",
   "name": "python",
   "nbconvert_exporter": "python",
   "pygments_lexer": "ipython3",
   "version": "3.9.7"
  },
  "toc": {
   "base_numbering": 1,
   "nav_menu": {},
   "number_sections": true,
   "sideBar": true,
   "skip_h1_title": true,
   "title_cell": "Table of Contents",
   "title_sidebar": "Contents",
   "toc_cell": false,
   "toc_position": {
    "height": "calc(100% - 180px)",
    "left": "10px",
    "top": "150px",
    "width": "289.433px"
   },
   "toc_section_display": true,
   "toc_window_display": false
  }
 },
 "nbformat": 4,
 "nbformat_minor": 2
}
